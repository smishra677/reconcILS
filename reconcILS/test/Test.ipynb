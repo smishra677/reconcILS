{
 "cells": [
  {
   "cell_type": "code",
   "execution_count": 1,
   "id": "c64fb931",
   "metadata": {},
   "outputs": [],
   "source": [
    "import pandas as pd\n",
    "import seaborn as sns\n",
    "import matplotlib.pyplot as plt\n",
    "plt.style.use('ggplot')\n",
    "import numpy as np"
   ]
  },
  {
   "cell_type": "code",
   "execution_count": 2,
   "id": "4567ea5e",
   "metadata": {},
   "outputs": [],
   "source": [
    "from collections import Counter"
   ]
  },
  {
   "cell_type": "code",
   "execution_count": 3,
   "id": "bc9c6276",
   "metadata": {},
   "outputs": [],
   "source": [
    "df_time = pd.read_csv('./bin/10_30_large_time_result.csv')"
   ]
  },
  {
   "cell_type": "code",
   "execution_count": 4,
   "id": "5ab4fc9b",
   "metadata": {},
   "outputs": [
    {
     "data": {
      "image/png": "[encoded data removed]",
      "text/plain": [
       "<Figure size 432x288 with 1 Axes>"
      ]
     },
     "metadata": {},
     "output_type": "display_data"
    }
   ],
   "source": [
    "df_time[['reconcILSTime_recurssive','dlcparTime']].plot()\n",
    "plt.savefig('large_time.png')"
   ]
  },
  {
   "cell_type": "code",
   "execution_count": 5,
   "id": "361840fe",
   "metadata": {},
   "outputs": [
    {
     "data": {
      "text/plain": [
       "reconcILSTime_recurssive    1.666009\n",
       "dlcparTime                  0.612490\n",
       "dtype: float64"
      ]
     },
     "execution_count": 5,
     "metadata": {},
     "output_type": "execute_result"
    }
   ],
   "source": [
    "df_time[['reconcILSTime_recurssive','dlcparTime']].mean()\n"
   ]
  },
  {
   "cell_type": "code",
   "execution_count": 6,
   "id": "213783ef",
   "metadata": {},
   "outputs": [
    {
     "data": {
      "text/plain": [
       "reconcILSTime_recurssive    9.658635\n",
       "dlcparTime                  0.510195\n",
       "dtype: float64"
      ]
     },
     "execution_count": 6,
     "metadata": {},
     "output_type": "execute_result"
    }
   ],
   "source": [
    "df_time[['reconcILSTime_recurssive','dlcparTime']].std()"
   ]
  },
  {
   "cell_type": "code",
   "execution_count": 208,
   "id": "7ec526b7",
   "metadata": {},
   "outputs": [],
   "source": [
    "df = pd.read_csv('./bin/10_30_result.csv')"
   ]
  },
  {
   "cell_type": "code",
   "execution_count": null,
   "id": "8b285ae5",
   "metadata": {},
   "outputs": [],
   "source": []
  },
  {
   "cell_type": "code",
   "execution_count": 209,
   "id": "b60d94c4",
   "metadata": {},
   "outputs": [],
   "source": [
    "True_Duplication = pd.DataFrame(list(df[(df.Process == \"True Process\")]['Duplication']),columns=['Duplication'])\n",
    "TRUE_NNI = pd.DataFrame(list(df[(df.Process == \"True Process\")]['NNI']),columns=['NNI'])\n",
    "TRUE_Loss = pd.DataFrame(list(df[(df.Process == \"True Process\")]['Loss']),columns=['Loss'])\n",
    "True_DLCILS= pd.DataFrame(list(df[(df.Process == \"True Process\")]['DLCILS']),columns=['DLCILS'])\n",
    "concat_true = pd.concat([True_Duplication,TRUE_Loss],axis=1)"
   ]
  },
  {
   "cell_type": "code",
   "execution_count": 210,
   "id": "7c676a58",
   "metadata": {},
   "outputs": [],
   "source": [
    "O_Duplication = pd.DataFrame(list(df[(df.Process == \"Our_algorithm_recu\")]['Duplication']),columns=['Duplication'])\n",
    "O_NNI = pd.DataFrame(list(df[(df.Process == \"Our_algorithm_recu\")]['NNI']),columns=['NNI'])\n",
    "O_Loss = pd.DataFrame(list(df[(df.Process == \"Our_algorithm_recu\")]['Loss']),columns=['Loss'])\n",
    "concat_O = pd.concat([O_Duplication,O_Loss],axis=1)"
   ]
  },
  {
   "cell_type": "code",
   "execution_count": 211,
   "id": "1aa70e79",
   "metadata": {},
   "outputs": [],
   "source": [
    "dlc_Duplication = pd.DataFrame(list(df[(df.Process == \"DLCpar\")]['Duplication']),columns=['Duplication'])\n",
    "dlc_NNI = pd.DataFrame(list(df[(df.Process == \"DLCpar\")]['NNI']),columns=['NNI'])\n",
    "dlc_Loss = pd.DataFrame(list(df[(df.Process == \"DLCpar\")]['Loss']),columns=['Loss'])\n",
    "dlc_DLCILS = pd.DataFrame(list(df[(df.Process == \"DLCpar\")]['DLCILS']),columns=['DLCILS'])\n",
    "concat_dlc = pd.concat([dlc_Duplication,dlc_Loss],axis=1)"
   ]
  },
  {
   "cell_type": "code",
   "execution_count": 212,
   "id": "498815f3",
   "metadata": {},
   "outputs": [],
   "source": [
    "ete_Duplication = pd.DataFrame(list(df[(df.Process == \"ETE3\")]['Duplication']),columns=['Duplication'])\n",
    "#ete_NNI = pd.DataFrame(list(df[(df.Process == \"ETE3\")]['NNI']),columns=['NNI'])\n",
    "ete_Loss = pd.DataFrame(list(df[(df.Process == \"ETE3\")]['Loss']),columns=['Loss'])\n",
    "#True_ete= pd.DataFrame(list(df[(df.Process == \"ETE3\")]['DLCILS']),columns=['DLCILS'])\n",
    "concat_e = pd.concat([ete_Duplication,ete_Loss],axis=1)"
   ]
  },
  {
   "cell_type": "markdown",
   "id": "d64ce1c2",
   "metadata": {},
   "source": [
    "#### concat_true_e"
   ]
  },
  {
   "cell_type": "code",
   "execution_count": 202,
   "id": "51ce7791",
   "metadata": {},
   "outputs": [],
   "source": [
    "True_Duplication['Replicate']=[i for i in range(len(True_Duplication))]\n",
    "O_Duplication['Replicate']=[i for i in range(len(True_Duplication))]\n",
    "dlc_Duplication['Replicate']=[i for i in range(len(True_Duplication))]\n",
    "ete_Duplication['Replicate']=[i for i in range(len(True_Duplication))]\n"
   ]
  },
  {
   "cell_type": "code",
   "execution_count": 203,
   "id": "600ac7e7",
   "metadata": {},
   "outputs": [],
   "source": [
    "true_reconils_dups= pd.DataFrame(concat_O-concat_true)\n",
    "val =['reconcILS' for i in range(len(True_Duplication))]\n",
    "true_reconils_dups['Algorithm']=val\n",
    "#true_reconils_dups['Replicate']=[i for i in range(99)]"
   ]
  },
  {
   "cell_type": "code",
   "execution_count": 204,
   "id": "ab1f7e5c",
   "metadata": {},
   "outputs": [],
   "source": [
    "true_dlc_dups= pd.DataFrame((concat_dlc-concat_true))\n",
    "val =['DLCpar' for i in range(len(True_Duplication))]\n",
    "true_dlc_dups['Algorithm']=val\n",
    "\n",
    "#true_ete3_dups['Replicate']=[i for i in range(99)]"
   ]
  },
  {
   "cell_type": "code",
   "execution_count": 205,
   "id": "956a5718",
   "metadata": {},
   "outputs": [],
   "source": [
    "true_ete_dups= pd.DataFrame((concat_e-concat_true))\n",
    "val =['ete3' for i in range(len(True_Duplication))]\n",
    "true_ete_dups['Algorithm']=val\n",
    "\n",
    "#true_ete3_dups['Replicate']=[i for i in range(99)]"
   ]
  },
  {
   "cell_type": "code",
   "execution_count": 206,
   "id": "e9e08490",
   "metadata": {},
   "outputs": [
    {
     "data": {
      "text/html": [
       "<div>\n",
       "<style scoped>\n",
       "    .dataframe tbody tr th:only-of-type {\n",
       "        vertical-align: middle;\n",
       "    }\n",
       "\n",
       "    .dataframe tbody tr th {\n",
       "        vertical-align: top;\n",
       "    }\n",
       "\n",
       "    .dataframe thead th {\n",
       "        text-align: right;\n",
       "    }\n",
       "</style>\n",
       "<table border=\"1\" class=\"dataframe\">\n",
       "  <thead>\n",
       "    <tr style=\"text-align: right;\">\n",
       "      <th></th>\n",
       "      <th>Duplication</th>\n",
       "      <th>Loss</th>\n",
       "      <th>Algorithm</th>\n",
       "    </tr>\n",
       "  </thead>\n",
       "  <tbody>\n",
       "    <tr>\n",
       "      <th>0</th>\n",
       "      <td>0</td>\n",
       "      <td>0</td>\n",
       "      <td>reconcILS</td>\n",
       "    </tr>\n",
       "    <tr>\n",
       "      <th>1</th>\n",
       "      <td>-1</td>\n",
       "      <td>-2</td>\n",
       "      <td>reconcILS</td>\n",
       "    </tr>\n",
       "    <tr>\n",
       "      <th>2</th>\n",
       "      <td>0</td>\n",
       "      <td>0</td>\n",
       "      <td>reconcILS</td>\n",
       "    </tr>\n",
       "    <tr>\n",
       "      <th>3</th>\n",
       "      <td>0</td>\n",
       "      <td>0</td>\n",
       "      <td>reconcILS</td>\n",
       "    </tr>\n",
       "    <tr>\n",
       "      <th>4</th>\n",
       "      <td>0</td>\n",
       "      <td>2</td>\n",
       "      <td>reconcILS</td>\n",
       "    </tr>\n",
       "    <tr>\n",
       "      <th>...</th>\n",
       "      <td>...</td>\n",
       "      <td>...</td>\n",
       "      <td>...</td>\n",
       "    </tr>\n",
       "    <tr>\n",
       "      <th>931</th>\n",
       "      <td>1</td>\n",
       "      <td>4</td>\n",
       "      <td>ete3</td>\n",
       "    </tr>\n",
       "    <tr>\n",
       "      <th>932</th>\n",
       "      <td>1</td>\n",
       "      <td>3</td>\n",
       "      <td>ete3</td>\n",
       "    </tr>\n",
       "    <tr>\n",
       "      <th>933</th>\n",
       "      <td>-1</td>\n",
       "      <td>11</td>\n",
       "      <td>ete3</td>\n",
       "    </tr>\n",
       "    <tr>\n",
       "      <th>934</th>\n",
       "      <td>0</td>\n",
       "      <td>-1</td>\n",
       "      <td>ete3</td>\n",
       "    </tr>\n",
       "    <tr>\n",
       "      <th>935</th>\n",
       "      <td>-1</td>\n",
       "      <td>-3</td>\n",
       "      <td>ete3</td>\n",
       "    </tr>\n",
       "  </tbody>\n",
       "</table>\n",
       "<p>2808 rows × 3 columns</p>\n",
       "</div>"
      ],
      "text/plain": [
       "     Duplication  Loss  Algorithm\n",
       "0              0     0  reconcILS\n",
       "1             -1    -2  reconcILS\n",
       "2              0     0  reconcILS\n",
       "3              0     0  reconcILS\n",
       "4              0     2  reconcILS\n",
       "..           ...   ...        ...\n",
       "931            1     4       ete3\n",
       "932            1     3       ete3\n",
       "933           -1    11       ete3\n",
       "934            0    -1       ete3\n",
       "935           -1    -3       ete3\n",
       "\n",
       "[2808 rows x 3 columns]"
      ]
     },
     "execution_count": 206,
     "metadata": {},
     "output_type": "execute_result"
    }
   ],
   "source": [
    "new =pd.concat([true_reconils_dups,true_dlc_dups,true_ete_dups],axis=0)\n",
    "new"
   ]
  },
  {
   "cell_type": "code",
   "execution_count": 17,
   "id": "00406bb1",
   "metadata": {},
   "outputs": [
    {
     "data": {
      "image/png": "[encoded data removed]",
      "text/plain": [
       "<Figure size 432x288 with 1 Axes>"
      ]
     },
     "metadata": {},
     "output_type": "display_data"
    }
   ],
   "source": [
    "#ax =sns.boxplot(x=\"variable\", y=\"value\",hue=\"Algorithm\", data=pd.melt(new, id_vars =['Algorithm']))\n",
    "sns.violinplot(x=\"variable\", y=\"value\",hue=\"Algorithm\", data=pd.melt(new, id_vars =['Algorithm']))\n",
    "\n",
    "plt.xlabel(\"Events\")\n",
    "plt.legend(bbox_to_anchor=(0.3,1))\n",
    "plt.ylabel(\"Infered - True\")\n",
    "plt.savefig('box_plot.jpg', dpi=500)\n",
    "plt.savefig('large_vio.png')\n"
   ]
  },
  {
   "cell_type": "code",
   "execution_count": 39,
   "id": "3722cbc4",
   "metadata": {},
   "outputs": [
    {
     "data": {
      "text/plain": [
       "(     0     1\n",
       " 0    0  0.05\n",
       " 1    2  1.05\n",
       " 2    1  1.05\n",
       " 3    1  1.05\n",
       " 4    5  5.05\n",
       " ..  ..   ...\n",
       " 931  1  2.05\n",
       " 932  0  0.05\n",
       " 933  7  5.05\n",
       " 934  0  0.05\n",
       " 935  2  1.05\n",
       " \n",
       " [936 rows x 2 columns],\n",
       "      0     1\n",
       " 0    0 -0.05\n",
       " 1    2  0.95\n",
       " 2    1  0.95\n",
       " 3    1  0.95\n",
       " 4    5  3.95\n",
       " ..  ..   ...\n",
       " 931  1  0.95\n",
       " 932  0 -0.05\n",
       " 933  7  3.95\n",
       " 934  0 -0.05\n",
       " 935  2  0.95\n",
       " \n",
       " [936 rows x 2 columns])"
      ]
     },
     "execution_count": 39,
     "metadata": {},
     "output_type": "execute_result"
    }
   ],
   "source": [
    "result1,result12"
   ]
  },
  {
   "cell_type": "code",
   "execution_count": 108,
   "id": "32f85e07",
   "metadata": {},
   "outputs": [],
   "source": [
    "True_value =df[(df.Process == \"True Process\")][['Replicate','Duplication','NNI','DLCILS','Loss']]\n",
    "dlcpar_value =df[(df.Process == \"DLCpar\")][['Process','Replicate','Duplication','NNI','DLCILS','Loss']]\n",
    "reconcILS_value =df[(df.Process == \"Our_algorithm_recu\")][['Process','Replicate','Duplication','NNI','DLCILS','Loss']]\n",
    "True_value_1= True_value.merge(dlcpar_value, how='inner', on='Replicate')\n",
    "True_value_2 =True_value_1.merge(reconcILS_value, how='left', on='Replicate')\n",
    "\n",
    "#df_e = pd.concat([True_value, dlcpar_value,reconcILS_value], axis=0)\n",
    "True_value_3 = pd.melt(True_value_2, id_vars=['Replicate','Process_x','Process_y'])\n",
    "#print(df)"
   ]
  },
  {
   "cell_type": "code",
   "execution_count": 147,
   "id": "4868ebf8",
   "metadata": {},
   "outputs": [
    {
     "data": {
      "text/html": [
       "<div>\n",
       "<style scoped>\n",
       "    .dataframe tbody tr th:only-of-type {\n",
       "        vertical-align: middle;\n",
       "    }\n",
       "\n",
       "    .dataframe tbody tr th {\n",
       "        vertical-align: top;\n",
       "    }\n",
       "\n",
       "    .dataframe thead th {\n",
       "        text-align: right;\n",
       "    }\n",
       "</style>\n",
       "<table border=\"1\" class=\"dataframe\">\n",
       "  <thead>\n",
       "    <tr style=\"text-align: right;\">\n",
       "      <th></th>\n",
       "      <th>0</th>\n",
       "      <th>1</th>\n",
       "    </tr>\n",
       "  </thead>\n",
       "  <tbody>\n",
       "    <tr>\n",
       "      <th>0</th>\n",
       "      <td>0</td>\n",
       "      <td>0.05</td>\n",
       "    </tr>\n",
       "    <tr>\n",
       "      <th>1</th>\n",
       "      <td>2</td>\n",
       "      <td>1.05</td>\n",
       "    </tr>\n",
       "    <tr>\n",
       "      <th>2</th>\n",
       "      <td>1</td>\n",
       "      <td>1.05</td>\n",
       "    </tr>\n",
       "    <tr>\n",
       "      <th>3</th>\n",
       "      <td>1</td>\n",
       "      <td>1.05</td>\n",
       "    </tr>\n",
       "    <tr>\n",
       "      <th>4</th>\n",
       "      <td>5</td>\n",
       "      <td>5.05</td>\n",
       "    </tr>\n",
       "    <tr>\n",
       "      <th>...</th>\n",
       "      <td>...</td>\n",
       "      <td>...</td>\n",
       "    </tr>\n",
       "    <tr>\n",
       "      <th>931</th>\n",
       "      <td>1</td>\n",
       "      <td>2.05</td>\n",
       "    </tr>\n",
       "    <tr>\n",
       "      <th>932</th>\n",
       "      <td>0</td>\n",
       "      <td>0.05</td>\n",
       "    </tr>\n",
       "    <tr>\n",
       "      <th>933</th>\n",
       "      <td>7</td>\n",
       "      <td>5.05</td>\n",
       "    </tr>\n",
       "    <tr>\n",
       "      <th>934</th>\n",
       "      <td>0</td>\n",
       "      <td>0.05</td>\n",
       "    </tr>\n",
       "    <tr>\n",
       "      <th>935</th>\n",
       "      <td>2</td>\n",
       "      <td>1.05</td>\n",
       "    </tr>\n",
       "  </tbody>\n",
       "</table>\n",
       "<p>936 rows × 2 columns</p>\n",
       "</div>"
      ],
      "text/plain": [
       "     0     1\n",
       "0    0  0.05\n",
       "1    2  1.05\n",
       "2    1  1.05\n",
       "3    1  1.05\n",
       "4    5  5.05\n",
       "..  ..   ...\n",
       "931  1  2.05\n",
       "932  0  0.05\n",
       "933  7  5.05\n",
       "934  0  0.05\n",
       "935  2  1.05\n",
       "\n",
       "[936 rows x 2 columns]"
      ]
     },
     "execution_count": 147,
     "metadata": {},
     "output_type": "execute_result"
    }
   ],
   "source": [
    "result1"
   ]
  },
  {
   "cell_type": "code",
   "execution_count": 214,
   "id": "2655ab03",
   "metadata": {},
   "outputs": [
    {
     "data": {
      "image/png": "[encoded data removed]",
      "text/plain": [
       "<Figure size 432x288 with 1 Axes>"
      ]
     },
     "metadata": {},
     "output_type": "display_data"
    },
    {
     "data": {
      "text/plain": [
       "<Figure size 432x288 with 0 Axes>"
      ]
     },
     "metadata": {},
     "output_type": "display_data"
    }
   ],
   "source": [
    "import seaborn as sns\n",
    "import numpy as np\n",
    "import matplotlib.pyplot as plt\n",
    "plt.style.use('ggplot')\n",
    "\n",
    "# Concatenate and group the data\n",
    "result1 = pd.concat([True_Duplication['Duplication'], O_Duplication['Duplication']], ignore_index=True, axis=1)\n",
    "result11 = result1.groupby([0, 1]).size().reset_index(name='Count')\n",
    "\n",
    "result12 = pd.concat([True_Duplication['Duplication'], dlc_Duplication['Duplication']], ignore_index=True, axis=1)\n",
    "result22 = result12.groupby([0, 1]).size().reset_index(name='Count')\n",
    "\n",
    "# Sort the data frames by \"Count\"\n",
    "result11 = result11.sort_values(by='Count', ascending=True)\n",
    "result22 = result22.sort_values(by='Count', ascending=True)\n",
    "\n",
    "# Add jitter to the x and y values\n",
    "jitter = 0.2\n",
    "#result11[0] = result11[0] + np.random.uniform(-jitter, jitter, len(result11))\n",
    "result11[1] = result11[1] + jitter\n",
    "result1[1] = result1[1] + jitter\n",
    "\n",
    "#result22[0] = result22[0] + np.random.uniform(-jitter, jitter, len(result22))\n",
    "result22[1] = result22[1] - jitter\n",
    "result12[1] = result12[1] - jitter\n",
    "\n",
    "# Create the line\n",
    "x = [0,1, 2, 3, 4, 5,6,7,8,9,10,11,12,13,14,15]\n",
    "y = [0,1, 2, 3, 4, 5,6,7,8,9,10,11,12,13,14,15]\n",
    "ax = plt.plot(x, y, '--', color='g')\n",
    "\n",
    "# Plot the scatter plots\n",
    "sns.scatterplot(data=result11, x=0, y=1, size=\"Count\", legend=False, sizes=(20, 2000), alpha=0.8)\n",
    "sns.scatterplot(data=result22, x=0, y=1, size=\"Count\", legend=False, sizes=(20, 2000), alpha=0.8)\n",
    "\n",
    "# Show the regression plots\n",
    "ax = sns.regplot(x=result1[0], y=result1[1], data=result1, marker=\"\", truncate=False,fit_reg=True,   label='reconcILS')\n",
    "ax = sns.regplot(x=result12[0], y=result12[1], data=result12, marker=\"\", truncate=False,fit_reg=True, label='DLCpar')\n",
    "\n",
    "\n",
    "plt.xlabel(\"True Duplication\")\n",
    "plt.ylabel(\"Inferred Duplication\")\n",
    "\n",
    "# Set the axis limits\n",
    "ax.set_xlim(-0.2, 6)\n",
    "ax.set_ylim(-0.2, 6)\n",
    "\n",
    "plt.legend(bbox_to_anchor=(0.28, 1))\n",
    "\n",
    "# Save the plot to a file\n",
    "plt.savefig('regex_dups_small.png', dpi=500)\n",
    "\n",
    "# Show the plot\n",
    "plt.show()\n",
    "plt.clf()\n"
   ]
  },
  {
   "cell_type": "code",
   "execution_count": 228,
   "id": "3c918623",
   "metadata": {},
   "outputs": [
    {
     "data": {
      "image/png": "[encoded data removed]",
      "text/plain": [
       "<Figure size 432x288 with 1 Axes>"
      ]
     },
     "metadata": {},
     "output_type": "display_data"
    },
    {
     "data": {
      "text/plain": [
       "<Figure size 432x288 with 0 Axes>"
      ]
     },
     "metadata": {},
     "output_type": "display_data"
    }
   ],
   "source": [
    "import seaborn as sns\n",
    "import numpy as np\n",
    "import matplotlib.pyplot as plt\n",
    "\n",
    "\n",
    "result1 =pd.concat([TRUE_Loss['Loss'],O_Loss['Loss']], ignore_index=True,axis=1)\n",
    "result11=result1.groupby([0,1]).size().reset_index(name='Count')\n",
    "\n",
    "result12 =pd.concat([TRUE_Loss['Loss'],dlc_Loss['Loss']], ignore_index=True,axis=1)\n",
    "#sns.lmplot(x=result1[0], y=result1[1], data=result1);\n",
    "result22=result12.groupby([0,1]).size().reset_index(name='Count')\n",
    "\n",
    "x = [0,1, 2, 3, 4, 5,6,7,8,9,10]\n",
    "y = [0,1, 2, 3, 4, 5,6,7,8,9,10]\n",
    "\n",
    "\n",
    "\n",
    "# Create the line\n",
    "line = plt.plot(x, y, '--',color='g')\n",
    "\n",
    "\n",
    "# Sort the data frames by \"Count\"\n",
    "result11 = result11.sort_values(by='Count', ascending=True)\n",
    "result22 = result22.sort_values(by='Count', ascending=True)\n",
    "\n",
    "# Add jitter to the x and y values\n",
    "jitter = 0.1\n",
    "#result11[0] = result11[0] + np.random.uniform(-jitter, jitter, len(result11))\n",
    "result11[1] = result11[1] + jitter\n",
    "result1[1] = result1[1] + jitter\n",
    "\n",
    "#result22[0] = result22[0] + np.random.uniform(-jitter, jitter, len(result22))\n",
    "result22[1] = result22[1] - jitter\n",
    "result12[1] = result12[1] - jitter\n",
    "\n",
    "sns.scatterplot(data=result11, x=0, y=1, size=\"Count\", legend=False, sizes=(20, 2000), alpha=0.8)\n",
    "sns.scatterplot(data=result22, x=0, y=1, size=\"Count\", legend=False, sizes=(20, 2000), alpha=0.8)\n",
    "ax=sns.regplot(x=result1[0], y=result1[1], data=result1,marker=\"\", truncate=False,fit_reg=True, scatter_kws={'alpha':1}, label='reconcILS')\n",
    "ax=sns.regplot(x=result12[0], y=result12[1], data=result12, marker=\"\",truncate=False,fit_reg=True,scatter_kws={'alpha':1}, label='DLCpar')\n",
    "\n",
    "\n",
    "\n",
    "plt.xlabel(\"True Loss\")\n",
    "plt.ylabel(\"Infered Loss\")\n",
    "# Show the plot\n",
    "ax.set_xlim(-0.5, 5)\n",
    "ax.set_ylim(-0.5, 5)\n",
    "plt.legend(bbox_to_anchor=(0.28,1))\n",
    "\n",
    "plt.savefig('regex_loss_small.png', dpi=500)\n",
    "\n",
    "plt.show()\n",
    "plt.clf()"
   ]
  },
  {
   "cell_type": "code",
   "execution_count": 229,
   "id": "5ce33453",
   "metadata": {},
   "outputs": [
    {
     "data": {
      "image/png": "[encoded data removed]",
      "text/plain": [
       "<Figure size 432x288 with 1 Axes>"
      ]
     },
     "metadata": {},
     "output_type": "display_data"
    },
    {
     "data": {
      "text/plain": [
       "<Figure size 432x288 with 0 Axes>"
      ]
     },
     "metadata": {},
     "output_type": "display_data"
    }
   ],
   "source": [
    "import seaborn as sns\n",
    "import numpy as np\n",
    "import matplotlib.pyplot as plt\n",
    "\n",
    "\n",
    "\n",
    "\n",
    "\n",
    "\n",
    "result1 =pd.concat([TRUE_NNI['NNI'],O_NNI['NNI']], ignore_index=True,axis=1)\n",
    "result11=result1.groupby([0,1]).size().reset_index(name='Count')\n",
    "result12 =pd.concat([True_DLCILS['DLCILS'],dlc_DLCILS['DLCILS']], ignore_index=True,axis=1)\n",
    "#sns.lmplot(x=result1[0], y=result1[1], data=result1);\n",
    "result22=result12.groupby([0,1]).size().reset_index(name='Count')\n",
    "x = [0,1, 2, 3, 4, 5,6,7,8,9,10,11,12,13,14,15,16]\n",
    "y = [0,1, 2, 3, 4, 5,6,7,8,9,10,11,12,13,14,15,16]\n",
    "\n",
    "# Create the line\n",
    "line = plt.plot(x, y, '--',color='g')\n",
    "#sns.lmplot(x=result1[0], y=result1[1], data=result1);\n",
    "\n",
    "\n",
    "# Sort the data frames by \"Count\"\n",
    "result11 = result11.sort_values(by='Count', ascending=True)\n",
    "result22 = result22.sort_values(by='Count', ascending=True)\n",
    "\n",
    "# Add jitter to the x and y values\n",
    "jitter = 0.1\n",
    "#result11[0] = result11[0] + np.random.uniform(-jitter, jitter, len(result11))\n",
    "result11[1] = result11[1] + jitter\n",
    "result1[1] = result1[1] + jitter\n",
    "\n",
    "#result22[0] = result22[0] + np.random.uniform(-jitter, jitter, len(result22))\n",
    "result22[1] = result22[1] - jitter\n",
    "result12[1] = result12[1] - jitter\n",
    "\n",
    "\n",
    "sns.scatterplot(data=result11, x=0, y=1, size=\"Count\", legend=False, sizes=(20, 2000), alpha=0.8)\n",
    "sns.scatterplot(data=result22, x=0, y=1, size=\"Count\", legend=False, sizes=(20, 2000), alpha=0.8)\n",
    "\n",
    "ax=sns.regplot(x=result1[0], y=result1[1], data=result1,marker=\".\",truncate=False, fit_reg=True, label='reconcILS')\n",
    "ax=sns.regplot(x=result12[0], y=result12[1], data=result12, marker=\".\",truncate=False,fit_reg=True, label='DLCpar')\n",
    "\n",
    "\n",
    "\n",
    "plt.xlabel(\"True ILS\")\n",
    "plt.ylabel(\"Infered ILS\")\n",
    "# Show the plot\n",
    "ax.set_xlim(-0.7, 7)\n",
    "ax.set_ylim(-0.7, 7)\n",
    "\n",
    "plt.legend(bbox_to_anchor=(0.28,1))\n",
    "\n",
    "plt.savefig('regex_NNI_small.png', dpi=500)\n",
    "\n",
    "plt.show()\n",
    "plt.clf()"
   ]
  },
  {
   "cell_type": "code",
   "execution_count": 225,
   "id": "c8e5c2cd",
   "metadata": {},
   "outputs": [],
   "source": [
    "from scipy.stats import spearmanr\n",
    "rho_dlcpar_loss, p = spearmanr(pd.DataFrame(list(df[(df.Process == \"True Process\")]['Loss']),columns=['Loss']),pd.DataFrame(list(df[(df.Process == \"DLCpar\")]['Loss']),columns=['Loss']))\n",
    "rho_reconcils_loss, p = spearmanr(pd.DataFrame(list(df[(df.Process == \"True Process\")]['Loss']),columns=['Loss']),pd.DataFrame(list(df[(df.Process == \"Our_algorithm_recu\")]['Loss']),columns=['Loss']))\n",
    "rho_dlcpar_dups, p = spearmanr(pd.DataFrame(list(df[(df.Process == \"True Process\")]['Duplication']),columns=['dups']),pd.DataFrame(list(df[(df.Process == \"DLCpar\")]['Duplication']),columns=['dups']))\n",
    "rho_reconcILS_dups, p = spearmanr(pd.DataFrame(list(df[(df.Process == \"True Process\")]['Duplication']),columns=['dups']),pd.DataFrame(list(df[(df.Process == \"Our_algorithm_recu\")]['Duplication']),columns=['dups']))\n",
    "rho_dlcpar_NNI, p = spearmanr(pd.DataFrame(list(df[(df.Process == \"True Process\")]['DLCILS']),columns=['NNI']),pd.DataFrame(list(df[(df.Process == \"DLCpar\")]['DLCILS']),columns=['NNI']))\n",
    "rho_reconcILS_NNI, p = spearmanr(pd.DataFrame(list(df[(df.Process == \"True Process\")]['NNI']),columns=['NNI']),pd.DataFrame(list(df[(df.Process == \"Our_algorithm_recu\")]['NNI']),columns=['NNI']))"
   ]
  },
  {
   "cell_type": "code",
   "execution_count": 226,
   "id": "f1b3a738",
   "metadata": {},
   "outputs": [
    {
     "name": "stdout",
     "output_type": "stream",
     "text": [
      "Spearman R\n",
      "DLpar_Duplication: 0.8922915004587135\n",
      "reconcILS_Duplication: 0.8937367181077217\n",
      "DLpar_Loss: 0.3339226894411792\n",
      "reconcILS_Loss: 0.7293111646862281\n",
      "DLpar_ILS: 0.5902757755756649\n",
      "reconcILS_NNI: 0.7187883603729363\n"
     ]
    }
   ],
   "source": [
    "print('Spearman R')\n",
    "print('DLpar_Duplication:',rho_dlcpar_dups)\n",
    "print('reconcILS_Duplication:',rho_reconcILS_dups)\n",
    "print('DLpar_Loss:',rho_dlcpar_loss)\n",
    "print('reconcILS_Loss:',rho_reconcils_loss)\n",
    "print('DLpar_ILS:',rho_dlcpar_NNI)\n",
    "print('reconcILS_NNI:',rho_reconcILS_NNI)\n",
    "\n"
   ]
  },
  {
   "cell_type": "code",
   "execution_count": null,
   "id": "382a2058",
   "metadata": {},
   "outputs": [],
   "source": []
  },
  {
   "cell_type": "code",
   "execution_count": null,
   "id": "25ebc1bc",
   "metadata": {},
   "outputs": [],
   "source": []
  },
  {
   "cell_type": "code",
   "execution_count": null,
   "id": "7f5d4a7a",
   "metadata": {},
   "outputs": [],
   "source": []
  }
 ],
 "metadata": {
  "kernelspec": {
   "display_name": "Python 3 (ipykernel)",
   "language": "python",
   "name": "python3"
  },
  "language_info": {
   "codemirror_mode": {
    "name": "ipython",
    "version": 3
   },
   "file_extension": ".py",
   "mimetype": "text/x-python",
   "name": "python",
   "nbconvert_exporter": "python",
   "pygments_lexer": "ipython3",
   "version": "3.9.12"
  }
 },
 "nbformat": 4,
 "nbformat_minor": 5
}
