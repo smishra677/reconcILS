{
 "cells": [
  {
   "cell_type": "code",
   "execution_count": 2,
   "id": "c64fb931",
   "metadata": {},
   "outputs": [],
   "source": [
    "import pandas as pd\n",
    "import seaborn as sns\n",
    "import matplotlib.pyplot as plt"
   ]
  },
  {
   "cell_type": "code",
   "execution_count": 3,
   "id": "4567ea5e",
   "metadata": {},
   "outputs": [],
   "source": [
    "from collections import Counter"
   ]
  },
  {
   "cell_type": "code",
   "execution_count": 345,
   "id": "4ade3847",
   "metadata": {},
   "outputs": [],
   "source": [
    "df = pd.read_csv('result.csv')"
   ]
  },
  {
   "cell_type": "code",
   "execution_count": 347,
   "id": "b60d94c4",
   "metadata": {},
   "outputs": [],
   "source": [
    "True_Duplication = pd.DataFrame(list(df[(df.Process == \"True Process\")]['Duplication']),columns=['Duplication'])\n",
    "TRUE_NNI = pd.DataFrame(list(df[(df.Process == \"True Process\")]['NNI']),columns=['NNI'])\n",
    "TRUE_Loss = pd.DataFrame(list(df[(df.Process == \"True Process\")]['Loss']),columns=['Loss'])\n",
    "concat_true = pd.concat([True_Duplication,TRUE_Loss],axis=1)"
   ]
  },
  {
   "cell_type": "code",
   "execution_count": 348,
   "id": "7c676a58",
   "metadata": {},
   "outputs": [],
   "source": [
    "O_Duplication = pd.DataFrame(list(df[(df.Process == \"Our_algorithm\")]['Duplication']),columns=['Duplication'])\n",
    "O_NNI = pd.DataFrame(list(df[(df.Process == \"Our_algorithm\")]['NNI']),columns=['NNI'])\n",
    "O_Loss = pd.DataFrame(list(df[(df.Process == \"Our_algorithm\")]['Loss']),columns=['Loss'])\n",
    "concat_O = pd.concat([O_Duplication,O_Loss],axis=1)"
   ]
  },
  {
   "cell_type": "code",
   "execution_count": 349,
   "id": "1aa70e79",
   "metadata": {},
   "outputs": [],
   "source": [
    "ETE3_Duplication = pd.DataFrame(list(df[(df.Process == \"ETE3\")]['Duplication']),columns=['Duplication'])\n",
    "ETE3_NNI = pd.DataFrame(list(df[(df.Process == \"ETE3\")]['NNI']),columns=['NNI'])\n",
    "ETE3_Loss = pd.DataFrame(list(df[(df.Process == \"ETE3\")]['Loss']),columns=['Loss'])\n",
    "concat_ETE3 = pd.concat([ETE3_Duplication,ETE3_Loss],axis=1)"
   ]
  },
  {
   "cell_type": "code",
   "execution_count": 350,
   "id": "51ce7791",
   "metadata": {},
   "outputs": [],
   "source": [
    "True_Duplication['Replicate']=[i for i in range(97)]\n",
    "O_Duplication['Replicate']=[i for i in range(97)]\n",
    "ETE3_Duplication['Replicate']=[i for i in range(97)]\n"
   ]
  },
  {
   "cell_type": "code",
   "execution_count": null,
   "id": "616fd1a2",
   "metadata": {},
   "outputs": [],
   "source": []
  },
  {
   "cell_type": "code",
   "execution_count": 351,
   "id": "c1b324df",
   "metadata": {},
   "outputs": [],
   "source": [
    "true_reconils_dups= pd.DataFrame(concat_true-concat_O)\n",
    "val =['reconcILS' for i in range(97)]\n",
    "true_reconils_dups['Algorithm']=val\n",
    "#true_reconils_dups['Replicate']=[i for i in range(99)]"
   ]
  },
  {
   "cell_type": "code",
   "execution_count": 352,
   "id": "ab1f7e5c",
   "metadata": {},
   "outputs": [],
   "source": [
    "true_ete3_dups= pd.DataFrame((concat_true-concat_ETE3))\n",
    "val =['ETE3' for i in range(97)]\n",
    "true_ete3_dups['Algorithm']=val\n",
    "\n",
    "#true_ete3_dups['Replicate']=[i for i in range(99)]"
   ]
  },
  {
   "cell_type": "code",
   "execution_count": 353,
   "id": "0027b5ab",
   "metadata": {},
   "outputs": [
    {
     "data": {
      "text/html": [
       "<div>\n",
       "<style scoped>\n",
       "    .dataframe tbody tr th:only-of-type {\n",
       "        vertical-align: middle;\n",
       "    }\n",
       "\n",
       "    .dataframe tbody tr th {\n",
       "        vertical-align: top;\n",
       "    }\n",
       "\n",
       "    .dataframe thead th {\n",
       "        text-align: right;\n",
       "    }\n",
       "</style>\n",
       "<table border=\"1\" class=\"dataframe\">\n",
       "  <thead>\n",
       "    <tr style=\"text-align: right;\">\n",
       "      <th></th>\n",
       "      <th>Duplication</th>\n",
       "      <th>Loss</th>\n",
       "      <th>Algorithm</th>\n",
       "    </tr>\n",
       "  </thead>\n",
       "  <tbody>\n",
       "    <tr>\n",
       "      <th>0</th>\n",
       "      <td>0</td>\n",
       "      <td>0</td>\n",
       "      <td>reconcILS</td>\n",
       "    </tr>\n",
       "    <tr>\n",
       "      <th>1</th>\n",
       "      <td>2</td>\n",
       "      <td>2</td>\n",
       "      <td>reconcILS</td>\n",
       "    </tr>\n",
       "    <tr>\n",
       "      <th>2</th>\n",
       "      <td>0</td>\n",
       "      <td>0</td>\n",
       "      <td>reconcILS</td>\n",
       "    </tr>\n",
       "    <tr>\n",
       "      <th>3</th>\n",
       "      <td>0</td>\n",
       "      <td>0</td>\n",
       "      <td>reconcILS</td>\n",
       "    </tr>\n",
       "    <tr>\n",
       "      <th>4</th>\n",
       "      <td>0</td>\n",
       "      <td>0</td>\n",
       "      <td>reconcILS</td>\n",
       "    </tr>\n",
       "    <tr>\n",
       "      <th>...</th>\n",
       "      <td>...</td>\n",
       "      <td>...</td>\n",
       "      <td>...</td>\n",
       "    </tr>\n",
       "    <tr>\n",
       "      <th>92</th>\n",
       "      <td>0</td>\n",
       "      <td>0</td>\n",
       "      <td>reconcILS</td>\n",
       "    </tr>\n",
       "    <tr>\n",
       "      <th>93</th>\n",
       "      <td>1</td>\n",
       "      <td>1</td>\n",
       "      <td>reconcILS</td>\n",
       "    </tr>\n",
       "    <tr>\n",
       "      <th>94</th>\n",
       "      <td>1</td>\n",
       "      <td>1</td>\n",
       "      <td>reconcILS</td>\n",
       "    </tr>\n",
       "    <tr>\n",
       "      <th>95</th>\n",
       "      <td>0</td>\n",
       "      <td>0</td>\n",
       "      <td>reconcILS</td>\n",
       "    </tr>\n",
       "    <tr>\n",
       "      <th>96</th>\n",
       "      <td>0</td>\n",
       "      <td>0</td>\n",
       "      <td>reconcILS</td>\n",
       "    </tr>\n",
       "  </tbody>\n",
       "</table>\n",
       "<p>97 rows × 3 columns</p>\n",
       "</div>"
      ],
      "text/plain": [
       "    Duplication  Loss  Algorithm\n",
       "0             0     0  reconcILS\n",
       "1             2     2  reconcILS\n",
       "2             0     0  reconcILS\n",
       "3             0     0  reconcILS\n",
       "4             0     0  reconcILS\n",
       "..          ...   ...        ...\n",
       "92            0     0  reconcILS\n",
       "93            1     1  reconcILS\n",
       "94            1     1  reconcILS\n",
       "95            0     0  reconcILS\n",
       "96            0     0  reconcILS\n",
       "\n",
       "[97 rows x 3 columns]"
      ]
     },
     "execution_count": 353,
     "metadata": {},
     "output_type": "execute_result"
    }
   ],
   "source": [
    "true_reconils_dups"
   ]
  },
  {
   "cell_type": "code",
   "execution_count": 354,
   "id": "bc923384",
   "metadata": {},
   "outputs": [
    {
     "data": {
      "text/html": [
       "<div>\n",
       "<style scoped>\n",
       "    .dataframe tbody tr th:only-of-type {\n",
       "        vertical-align: middle;\n",
       "    }\n",
       "\n",
       "    .dataframe tbody tr th {\n",
       "        vertical-align: top;\n",
       "    }\n",
       "\n",
       "    .dataframe thead th {\n",
       "        text-align: right;\n",
       "    }\n",
       "</style>\n",
       "<table border=\"1\" class=\"dataframe\">\n",
       "  <thead>\n",
       "    <tr style=\"text-align: right;\">\n",
       "      <th></th>\n",
       "      <th>Duplication</th>\n",
       "      <th>Loss</th>\n",
       "      <th>Algorithm</th>\n",
       "    </tr>\n",
       "  </thead>\n",
       "  <tbody>\n",
       "    <tr>\n",
       "      <th>0</th>\n",
       "      <td>0</td>\n",
       "      <td>0</td>\n",
       "      <td>ETE3</td>\n",
       "    </tr>\n",
       "    <tr>\n",
       "      <th>1</th>\n",
       "      <td>2</td>\n",
       "      <td>2</td>\n",
       "      <td>ETE3</td>\n",
       "    </tr>\n",
       "    <tr>\n",
       "      <th>2</th>\n",
       "      <td>-1</td>\n",
       "      <td>-5</td>\n",
       "      <td>ETE3</td>\n",
       "    </tr>\n",
       "    <tr>\n",
       "      <th>3</th>\n",
       "      <td>0</td>\n",
       "      <td>0</td>\n",
       "      <td>ETE3</td>\n",
       "    </tr>\n",
       "    <tr>\n",
       "      <th>4</th>\n",
       "      <td>0</td>\n",
       "      <td>0</td>\n",
       "      <td>ETE3</td>\n",
       "    </tr>\n",
       "    <tr>\n",
       "      <th>...</th>\n",
       "      <td>...</td>\n",
       "      <td>...</td>\n",
       "      <td>...</td>\n",
       "    </tr>\n",
       "    <tr>\n",
       "      <th>92</th>\n",
       "      <td>-1</td>\n",
       "      <td>-3</td>\n",
       "      <td>ETE3</td>\n",
       "    </tr>\n",
       "    <tr>\n",
       "      <th>93</th>\n",
       "      <td>1</td>\n",
       "      <td>1</td>\n",
       "      <td>ETE3</td>\n",
       "    </tr>\n",
       "    <tr>\n",
       "      <th>94</th>\n",
       "      <td>1</td>\n",
       "      <td>1</td>\n",
       "      <td>ETE3</td>\n",
       "    </tr>\n",
       "    <tr>\n",
       "      <th>95</th>\n",
       "      <td>0</td>\n",
       "      <td>0</td>\n",
       "      <td>ETE3</td>\n",
       "    </tr>\n",
       "    <tr>\n",
       "      <th>96</th>\n",
       "      <td>0</td>\n",
       "      <td>0</td>\n",
       "      <td>ETE3</td>\n",
       "    </tr>\n",
       "  </tbody>\n",
       "</table>\n",
       "<p>97 rows × 3 columns</p>\n",
       "</div>"
      ],
      "text/plain": [
       "    Duplication  Loss Algorithm\n",
       "0             0     0      ETE3\n",
       "1             2     2      ETE3\n",
       "2            -1    -5      ETE3\n",
       "3             0     0      ETE3\n",
       "4             0     0      ETE3\n",
       "..          ...   ...       ...\n",
       "92           -1    -3      ETE3\n",
       "93            1     1      ETE3\n",
       "94            1     1      ETE3\n",
       "95            0     0      ETE3\n",
       "96            0     0      ETE3\n",
       "\n",
       "[97 rows x 3 columns]"
      ]
     },
     "execution_count": 354,
     "metadata": {},
     "output_type": "execute_result"
    }
   ],
   "source": [
    "true_ete3_dups"
   ]
  },
  {
   "cell_type": "code",
   "execution_count": 380,
   "id": "e5e55926",
   "metadata": {},
   "outputs": [
    {
     "name": "stdout",
     "output_type": "stream",
     "text": [
      "8\n",
      "83\n",
      "85\n"
     ]
    }
   ],
   "source": [
    "val=0\n",
    "for i in range(len(list(true_reconils_dups['Duplication']))):\n",
    "    if list(true_reconils_dups['Duplication'])[i]<0:\n",
    "        print(i)\n",
    "        val=val+1"
   ]
  },
  {
   "cell_type": "code",
   "execution_count": 379,
   "id": "6d570d71",
   "metadata": {},
   "outputs": [
    {
     "data": {
      "text/plain": [
       "3"
      ]
     },
     "execution_count": 379,
     "metadata": {},
     "output_type": "execute_result"
    }
   ],
   "source": [
    "val"
   ]
  },
  {
   "cell_type": "code",
   "execution_count": 357,
   "id": "e9e08490",
   "metadata": {},
   "outputs": [
    {
     "data": {
      "text/html": [
       "<div>\n",
       "<style scoped>\n",
       "    .dataframe tbody tr th:only-of-type {\n",
       "        vertical-align: middle;\n",
       "    }\n",
       "\n",
       "    .dataframe tbody tr th {\n",
       "        vertical-align: top;\n",
       "    }\n",
       "\n",
       "    .dataframe thead th {\n",
       "        text-align: right;\n",
       "    }\n",
       "</style>\n",
       "<table border=\"1\" class=\"dataframe\">\n",
       "  <thead>\n",
       "    <tr style=\"text-align: right;\">\n",
       "      <th></th>\n",
       "      <th>Algorithm</th>\n",
       "      <th>variable</th>\n",
       "      <th>value</th>\n",
       "    </tr>\n",
       "  </thead>\n",
       "  <tbody>\n",
       "    <tr>\n",
       "      <th>0</th>\n",
       "      <td>reconcILS</td>\n",
       "      <td>Duplication</td>\n",
       "      <td>0</td>\n",
       "    </tr>\n",
       "    <tr>\n",
       "      <th>1</th>\n",
       "      <td>reconcILS</td>\n",
       "      <td>Duplication</td>\n",
       "      <td>2</td>\n",
       "    </tr>\n",
       "    <tr>\n",
       "      <th>2</th>\n",
       "      <td>reconcILS</td>\n",
       "      <td>Duplication</td>\n",
       "      <td>0</td>\n",
       "    </tr>\n",
       "    <tr>\n",
       "      <th>3</th>\n",
       "      <td>reconcILS</td>\n",
       "      <td>Duplication</td>\n",
       "      <td>0</td>\n",
       "    </tr>\n",
       "    <tr>\n",
       "      <th>4</th>\n",
       "      <td>reconcILS</td>\n",
       "      <td>Duplication</td>\n",
       "      <td>0</td>\n",
       "    </tr>\n",
       "    <tr>\n",
       "      <th>...</th>\n",
       "      <td>...</td>\n",
       "      <td>...</td>\n",
       "      <td>...</td>\n",
       "    </tr>\n",
       "    <tr>\n",
       "      <th>383</th>\n",
       "      <td>ETE3</td>\n",
       "      <td>Loss</td>\n",
       "      <td>-3</td>\n",
       "    </tr>\n",
       "    <tr>\n",
       "      <th>384</th>\n",
       "      <td>ETE3</td>\n",
       "      <td>Loss</td>\n",
       "      <td>1</td>\n",
       "    </tr>\n",
       "    <tr>\n",
       "      <th>385</th>\n",
       "      <td>ETE3</td>\n",
       "      <td>Loss</td>\n",
       "      <td>1</td>\n",
       "    </tr>\n",
       "    <tr>\n",
       "      <th>386</th>\n",
       "      <td>ETE3</td>\n",
       "      <td>Loss</td>\n",
       "      <td>0</td>\n",
       "    </tr>\n",
       "    <tr>\n",
       "      <th>387</th>\n",
       "      <td>ETE3</td>\n",
       "      <td>Loss</td>\n",
       "      <td>0</td>\n",
       "    </tr>\n",
       "  </tbody>\n",
       "</table>\n",
       "<p>388 rows × 3 columns</p>\n",
       "</div>"
      ],
      "text/plain": [
       "     Algorithm     variable  value\n",
       "0    reconcILS  Duplication      0\n",
       "1    reconcILS  Duplication      2\n",
       "2    reconcILS  Duplication      0\n",
       "3    reconcILS  Duplication      0\n",
       "4    reconcILS  Duplication      0\n",
       "..         ...          ...    ...\n",
       "383       ETE3         Loss     -3\n",
       "384       ETE3         Loss      1\n",
       "385       ETE3         Loss      1\n",
       "386       ETE3         Loss      0\n",
       "387       ETE3         Loss      0\n",
       "\n",
       "[388 rows x 3 columns]"
      ]
     },
     "execution_count": 357,
     "metadata": {},
     "output_type": "execute_result"
    }
   ],
   "source": [
    "new =pd.concat([true_reconils_dups,true_ete3_dups],axis=0)\n",
    "pd.melt(new, id_vars =['Algorithm'])"
   ]
  },
  {
   "cell_type": "code",
   "execution_count": 358,
   "id": "00406bb1",
   "metadata": {},
   "outputs": [
    {
     "data": {
      "image/png": "[encoded data removed]",
      "text/plain": [
       "<Figure size 432x288 with 1 Axes>"
      ]
     },
     "metadata": {
      "needs_background": "light"
     },
     "output_type": "display_data"
    }
   ],
   "source": [
    "ax =sns.boxplot(x=\"variable\", y=\"value\",hue=\"Algorithm\", data=pd.melt(new, id_vars =['Algorithm']))\n",
    "plt.xlabel(\"Events\")\n",
    "plt.legend(bbox_to_anchor=(0.3,0.3))\n",
    "plt.ylabel(\"True - Infered\")\n",
    "plt.savefig('box_plot.png', dpi=500)\n"
   ]
  },
  {
   "cell_type": "code",
   "execution_count": 359,
   "id": "2bf817b6",
   "metadata": {},
   "outputs": [
    {
     "data": {
      "text/html": [
       "<div>\n",
       "<style scoped>\n",
       "    .dataframe tbody tr th:only-of-type {\n",
       "        vertical-align: middle;\n",
       "    }\n",
       "\n",
       "    .dataframe tbody tr th {\n",
       "        vertical-align: top;\n",
       "    }\n",
       "\n",
       "    .dataframe thead th {\n",
       "        text-align: right;\n",
       "    }\n",
       "</style>\n",
       "<table border=\"1\" class=\"dataframe\">\n",
       "  <thead>\n",
       "    <tr style=\"text-align: right;\">\n",
       "      <th></th>\n",
       "      <th>Duplication</th>\n",
       "      <th>Loss</th>\n",
       "      <th>Algorithm</th>\n",
       "    </tr>\n",
       "  </thead>\n",
       "  <tbody>\n",
       "    <tr>\n",
       "      <th>0</th>\n",
       "      <td>0</td>\n",
       "      <td>0</td>\n",
       "      <td>ETE3</td>\n",
       "    </tr>\n",
       "    <tr>\n",
       "      <th>1</th>\n",
       "      <td>2</td>\n",
       "      <td>2</td>\n",
       "      <td>ETE3</td>\n",
       "    </tr>\n",
       "    <tr>\n",
       "      <th>2</th>\n",
       "      <td>-1</td>\n",
       "      <td>-5</td>\n",
       "      <td>ETE3</td>\n",
       "    </tr>\n",
       "    <tr>\n",
       "      <th>3</th>\n",
       "      <td>0</td>\n",
       "      <td>0</td>\n",
       "      <td>ETE3</td>\n",
       "    </tr>\n",
       "    <tr>\n",
       "      <th>4</th>\n",
       "      <td>0</td>\n",
       "      <td>0</td>\n",
       "      <td>ETE3</td>\n",
       "    </tr>\n",
       "    <tr>\n",
       "      <th>...</th>\n",
       "      <td>...</td>\n",
       "      <td>...</td>\n",
       "      <td>...</td>\n",
       "    </tr>\n",
       "    <tr>\n",
       "      <th>92</th>\n",
       "      <td>-1</td>\n",
       "      <td>-3</td>\n",
       "      <td>ETE3</td>\n",
       "    </tr>\n",
       "    <tr>\n",
       "      <th>93</th>\n",
       "      <td>1</td>\n",
       "      <td>1</td>\n",
       "      <td>ETE3</td>\n",
       "    </tr>\n",
       "    <tr>\n",
       "      <th>94</th>\n",
       "      <td>1</td>\n",
       "      <td>1</td>\n",
       "      <td>ETE3</td>\n",
       "    </tr>\n",
       "    <tr>\n",
       "      <th>95</th>\n",
       "      <td>0</td>\n",
       "      <td>0</td>\n",
       "      <td>ETE3</td>\n",
       "    </tr>\n",
       "    <tr>\n",
       "      <th>96</th>\n",
       "      <td>0</td>\n",
       "      <td>0</td>\n",
       "      <td>ETE3</td>\n",
       "    </tr>\n",
       "  </tbody>\n",
       "</table>\n",
       "<p>97 rows × 3 columns</p>\n",
       "</div>"
      ],
      "text/plain": [
       "    Duplication  Loss Algorithm\n",
       "0             0     0      ETE3\n",
       "1             2     2      ETE3\n",
       "2            -1    -5      ETE3\n",
       "3             0     0      ETE3\n",
       "4             0     0      ETE3\n",
       "..          ...   ...       ...\n",
       "92           -1    -3      ETE3\n",
       "93            1     1      ETE3\n",
       "94            1     1      ETE3\n",
       "95            0     0      ETE3\n",
       "96            0     0      ETE3\n",
       "\n",
       "[97 rows x 3 columns]"
      ]
     },
     "execution_count": 359,
     "metadata": {},
     "output_type": "execute_result"
    }
   ],
   "source": [
    "true_ete3_dups"
   ]
  },
  {
   "cell_type": "code",
   "execution_count": 361,
   "id": "c9888666",
   "metadata": {},
   "outputs": [
    {
     "data": {
      "text/html": [
       "<div>\n",
       "<style scoped>\n",
       "    .dataframe tbody tr th:only-of-type {\n",
       "        vertical-align: middle;\n",
       "    }\n",
       "\n",
       "    .dataframe tbody tr th {\n",
       "        vertical-align: top;\n",
       "    }\n",
       "\n",
       "    .dataframe thead th {\n",
       "        text-align: right;\n",
       "    }\n",
       "</style>\n",
       "<table border=\"1\" class=\"dataframe\">\n",
       "  <thead>\n",
       "    <tr style=\"text-align: right;\">\n",
       "      <th></th>\n",
       "      <th>0</th>\n",
       "      <th>1</th>\n",
       "    </tr>\n",
       "  </thead>\n",
       "  <tbody>\n",
       "    <tr>\n",
       "      <th>0</th>\n",
       "      <td>0</td>\n",
       "      <td>0</td>\n",
       "    </tr>\n",
       "    <tr>\n",
       "      <th>1</th>\n",
       "      <td>2</td>\n",
       "      <td>0</td>\n",
       "    </tr>\n",
       "    <tr>\n",
       "      <th>2</th>\n",
       "      <td>3</td>\n",
       "      <td>3</td>\n",
       "    </tr>\n",
       "    <tr>\n",
       "      <th>3</th>\n",
       "      <td>0</td>\n",
       "      <td>0</td>\n",
       "    </tr>\n",
       "    <tr>\n",
       "      <th>4</th>\n",
       "      <td>4</td>\n",
       "      <td>4</td>\n",
       "    </tr>\n",
       "    <tr>\n",
       "      <th>...</th>\n",
       "      <td>...</td>\n",
       "      <td>...</td>\n",
       "    </tr>\n",
       "    <tr>\n",
       "      <th>92</th>\n",
       "      <td>1</td>\n",
       "      <td>1</td>\n",
       "    </tr>\n",
       "    <tr>\n",
       "      <th>93</th>\n",
       "      <td>1</td>\n",
       "      <td>0</td>\n",
       "    </tr>\n",
       "    <tr>\n",
       "      <th>94</th>\n",
       "      <td>2</td>\n",
       "      <td>1</td>\n",
       "    </tr>\n",
       "    <tr>\n",
       "      <th>95</th>\n",
       "      <td>0</td>\n",
       "      <td>0</td>\n",
       "    </tr>\n",
       "    <tr>\n",
       "      <th>96</th>\n",
       "      <td>1</td>\n",
       "      <td>1</td>\n",
       "    </tr>\n",
       "  </tbody>\n",
       "</table>\n",
       "<p>97 rows × 2 columns</p>\n",
       "</div>"
      ],
      "text/plain": [
       "    0  1\n",
       "0   0  0\n",
       "1   2  0\n",
       "2   3  3\n",
       "3   0  0\n",
       "4   4  4\n",
       ".. .. ..\n",
       "92  1  1\n",
       "93  1  0\n",
       "94  2  1\n",
       "95  0  0\n",
       "96  1  1\n",
       "\n",
       "[97 rows x 2 columns]"
      ]
     },
     "execution_count": 361,
     "metadata": {},
     "output_type": "execute_result"
    }
   ],
   "source": [
    "result1"
   ]
  },
  {
   "cell_type": "code",
   "execution_count": 362,
   "id": "a1790248",
   "metadata": {},
   "outputs": [
    {
     "data": {
      "text/plain": [
       "<AxesSubplot:xlabel='0', ylabel='1'>"
      ]
     },
     "execution_count": 362,
     "metadata": {},
     "output_type": "execute_result"
    },
    {
     "data": {
      "image/png": "[encoded data removed]",
      "text/plain": [
       "<Figure size 432x288 with 1 Axes>"
      ]
     },
     "metadata": {
      "needs_background": "light"
     },
     "output_type": "display_data"
    }
   ],
   "source": [
    "sns.stripplot(data=result1, x=result1[0], y=result1[1])"
   ]
  },
  {
   "cell_type": "code",
   "execution_count": 369,
   "id": "da1bddce",
   "metadata": {},
   "outputs": [],
   "source": [
    "df = pd.DataFrame({'x': list(range(0,6)),\n",
    "                   'y':list(range(0,6))})"
   ]
  },
  {
   "cell_type": "code",
   "execution_count": 372,
   "id": "f44eed83",
   "metadata": {},
   "outputs": [
    {
     "data": {
      "image/png": "[encoded data removed]",
      "text/plain": [
       "<Figure size 432x288 with 1 Axes>"
      ]
     },
     "metadata": {
      "needs_background": "light"
     },
     "output_type": "display_data"
    },
    {
     "data": {
      "text/plain": [
       "<Figure size 432x288 with 0 Axes>"
      ]
     },
     "metadata": {},
     "output_type": "display_data"
    }
   ],
   "source": [
    "import seaborn as sns\n",
    "import numpy as np\n",
    "import matplotlib.pyplot as plt\n",
    "\n",
    "\n",
    "result1 =pd.concat([True_Duplication['Duplication'],O_Duplication['Duplication']], ignore_index=True,axis=1)\n",
    "\n",
    "result12 =pd.concat([True_Duplication['Duplication'],ETE3_Duplication['Duplication']], ignore_index=True,axis=1)\n",
    "#sns.lmplot(x=result1[0], y=result1[1], data=result1);\n",
    "\n",
    "ax=sns.regplot(x=result1[0], y=result1[1], data=result1,marker=\"D\", fit_reg=True, scatter_kws={'alpha':1}, ci=None, label='reconcILS')\n",
    "ax=sns.regplot(x=result12[0], y=result12[1], data=result12, marker=\"1\",fit_reg=True,scatter_kws={'alpha':1}, ci=None, label='ETE3')\n",
    "\n",
    "ax= sns.regplot(x=df['x'], y=df['y'], data=df, marker=\"x\",fit_reg=True,scatter_kws={'alpha':1}, ci=None, label='y=x')\n",
    "\n",
    "\n",
    "\n",
    "plt.xlabel(\"True Duplication\")\n",
    "plt.ylabel(\"Infered Duplication\")\n",
    "# Show the plot\n",
    "ax.set_xlim(-0.2, 5.2)\n",
    "ax.set_ylim(-0.2, 5.2)\n",
    "\n",
    "plt.legend(bbox_to_anchor=(0.28,1))\n",
    "\n",
    "plt.savefig('regex_dups.png', dpi=500)\n",
    "\n",
    "plt.show()\n",
    "plt.clf()"
   ]
  },
  {
   "cell_type": "code",
   "execution_count": 373,
   "id": "fa7e1706",
   "metadata": {},
   "outputs": [
    {
     "data": {
      "image/png": "[encoded data removed]",
      "text/plain": [
       "<Figure size 432x288 with 1 Axes>"
      ]
     },
     "metadata": {
      "needs_background": "light"
     },
     "output_type": "display_data"
    },
    {
     "data": {
      "text/plain": [
       "<Figure size 432x288 with 0 Axes>"
      ]
     },
     "metadata": {},
     "output_type": "display_data"
    }
   ],
   "source": [
    "import seaborn as sns\n",
    "import numpy as np\n",
    "import matplotlib.pyplot as plt\n",
    "\n",
    "\n",
    "result1 =pd.concat([TRUE_Loss['Loss'],O_Loss['Loss']], ignore_index=True,axis=1)\n",
    "\n",
    "result12 =pd.concat([TRUE_Loss['Loss'],ETE3_Loss['Loss']], ignore_index=True,axis=1)\n",
    "#sns.lmplot(x=result1[0], y=result1[1], data=result1);\n",
    "\n",
    "ax=sns.regplot(x=result1[0], y=result1[1], data=result1,marker=\"D\", fit_reg=True, scatter_kws={'alpha':1}, ci=None, label='reconcILS')\n",
    "ax=sns.regplot(x=result12[0], y=result12[1], data=result12, marker=\"1\",fit_reg=True,scatter_kws={'alpha':1}, ci=None, label='ETE3')\n",
    "ax= sns.regplot(x=df['x'], y=df['y'], data=df, marker=\"x\",fit_reg=True,scatter_kws={'alpha':1}, ci=None, label='y=x')\n",
    "\n",
    "\n",
    "\n",
    "\n",
    "plt.xlabel(\"True Loss\")\n",
    "plt.ylabel(\"Infered Loss\")\n",
    "# Show the plot\n",
    "ax.set_xlim(-0.2, 5.2)\n",
    "ax.set_ylim(-0.2, 5.2)\n",
    "\n",
    "plt.legend(bbox_to_anchor=(0.28,1))\n",
    "\n",
    "plt.savefig('regex_loss.png', dpi=500)\n",
    "\n",
    "plt.show()\n",
    "plt.clf()"
   ]
  },
  {
   "cell_type": "code",
   "execution_count": 248,
   "id": "c8e5c2cd",
   "metadata": {},
   "outputs": [],
   "source": [
    "from scipy.stats import spearmanr\n",
    "rho, p = spearmanr(pd.DataFrame(list(df[(df.Process == \"True Process\")]['Loss']),columns=['NNI']),pd.DataFrame(list(df[(df.Process == \"ETE3\")]['Loss']),columns=['NNI']))"
   ]
  },
  {
   "cell_type": "code",
   "execution_count": 249,
   "id": "f1b3a738",
   "metadata": {},
   "outputs": [
    {
     "data": {
      "text/plain": [
       "-0.4286909260670426"
      ]
     },
     "execution_count": 249,
     "metadata": {},
     "output_type": "execute_result"
    }
   ],
   "source": [
    "rho"
   ]
  },
  {
   "cell_type": "code",
   "execution_count": 343,
   "id": "b833987e",
   "metadata": {},
   "outputs": [],
   "source": [
    "from scipy.stats import spearmanr\n",
    "rho, p = spearmanr(pd.DataFrame(list(df[(df.Process == \"True Process\")]['Duplication']),columns=['NNI']),pd.DataFrame(list(df[(df.Process == \"ETE3\")]['Duplication']),columns=['NNI']))"
   ]
  },
  {
   "cell_type": "code",
   "execution_count": 344,
   "id": "1b33334f",
   "metadata": {},
   "outputs": [
    {
     "data": {
      "text/plain": [
       "0.7726070544786026"
      ]
     },
     "execution_count": 344,
     "metadata": {},
     "output_type": "execute_result"
    }
   ],
   "source": [
    "rho"
   ]
  },
  {
   "cell_type": "code",
   "execution_count": 205,
   "id": "b8ef8812",
   "metadata": {},
   "outputs": [
    {
     "ename": "NameError",
     "evalue": "name 'concat_NNI' is not defined",
     "output_type": "error",
     "traceback": [
      "\u001b[0;31m---------------------------------------------------------------------------\u001b[0m",
      "\u001b[0;31mNameError\u001b[0m                                 Traceback (most recent call last)",
      "Input \u001b[0;32mIn [205]\u001b[0m, in \u001b[0;36m<cell line: 1>\u001b[0;34m()\u001b[0m\n\u001b[0;32m----> 1\u001b[0m sns\u001b[38;5;241m.\u001b[39mscatterplot(x\u001b[38;5;241m=\u001b[39m\u001b[38;5;124m'\u001b[39m\u001b[38;5;124m0\u001b[39m\u001b[38;5;124m'\u001b[39m,y\u001b[38;5;241m=\u001b[39m\u001b[38;5;124m'\u001b[39m\u001b[38;5;124m1\u001b[39m\u001b[38;5;124m'\u001b[39m,data\u001b[38;5;241m=\u001b[39m\u001b[43mconcat_NNI\u001b[49m)\n",
      "\u001b[0;31mNameError\u001b[0m: name 'concat_NNI' is not defined"
     ]
    }
   ],
   "source": [
    "sns.scatterplot(x='0',y='1',data=concat_NNI)"
   ]
  },
  {
   "cell_type": "code",
   "execution_count": 367,
   "id": "8d55dc7e",
   "metadata": {},
   "outputs": [
    {
     "data": {
      "text/plain": [
       "<AxesSubplot:xlabel='0', ylabel='1'>"
      ]
     },
     "execution_count": 367,
     "metadata": {},
     "output_type": "execute_result"
    },
    {
     "data": {
      "image/png": "[encoded data removed]",
      "text/plain": [
       "<Figure size 432x288 with 1 Axes>"
      ]
     },
     "metadata": {},
     "output_type": "display_data"
    }
   ],
   "source": [
    "sns.scatterplot(x='0',y='1',data=concat_NNI)"
   ]
  },
  {
   "cell_type": "code",
   "execution_count": null,
   "id": "c2d2b9a7",
   "metadata": {},
   "outputs": [],
   "source": []
  },
  {
   "cell_type": "code",
   "execution_count": null,
   "id": "5405facf",
   "metadata": {},
   "outputs": [],
   "source": []
  }
 ],
 "metadata": {
  "kernelspec": {
   "display_name": "Python 3 (ipykernel)",
   "language": "python",
   "name": "python3"
  },
  "language_info": {
   "codemirror_mode": {
    "name": "ipython",
    "version": 3
   },
   "file_extension": ".py",
   "mimetype": "text/x-python",
   "name": "python",
   "nbconvert_exporter": "python",
   "pygments_lexer": "ipython3",
   "version": "3.9.12"
  }
 },
 "nbformat": 4,
 "nbformat_minor": 5
}
