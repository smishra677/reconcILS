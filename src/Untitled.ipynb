{
 "cells": [
  {
   "cell_type": "code",
   "execution_count": 3,
   "id": "7ab209ce",
   "metadata": {},
   "outputs": [],
   "source": [
    "import pandas as pd\n",
    "import seaborn as sns\n",
    "import matplotlib.pyplot as plt"
   ]
  },
  {
   "cell_type": "code",
   "execution_count": 232,
   "id": "3efdb411",
   "metadata": {},
   "outputs": [
    {
     "data": {
      "image/png": "[encoded data removed]",
      "text/plain": [
       "<Figure size 432x288 with 1 Axes>"
      ]
     },
     "metadata": {},
     "output_type": "display_data"
    }
   ],
   "source": []
  },
  {
   "cell_type": "code",
   "execution_count": 302,
   "id": "3010718e",
   "metadata": {},
   "outputs": [],
   "source": [
    "df = pd.read_csv('result.csv')  "
   ]
  },
  {
   "cell_type": "code",
   "execution_count": 303,
   "id": "1d12b938",
   "metadata": {},
   "outputs": [
    {
     "data": {
      "text/html": [
       "<div>\n",
       "<style scoped>\n",
       "    .dataframe tbody tr th:only-of-type {\n",
       "        vertical-align: middle;\n",
       "    }\n",
       "\n",
       "    .dataframe tbody tr th {\n",
       "        vertical-align: top;\n",
       "    }\n",
       "\n",
       "    .dataframe thead th {\n",
       "        text-align: right;\n",
       "    }\n",
       "</style>\n",
       "<table border=\"1\" class=\"dataframe\">\n",
       "  <thead>\n",
       "    <tr style=\"text-align: right;\">\n",
       "      <th></th>\n",
       "      <th>Process</th>\n",
       "      <th>Replicate</th>\n",
       "      <th>Gene_tree</th>\n",
       "      <th>Species_Tree</th>\n",
       "      <th>Duplication</th>\n",
       "      <th>NNI</th>\n",
       "      <th>Loss</th>\n",
       "    </tr>\n",
       "  </thead>\n",
       "  <tbody>\n",
       "    <tr>\n",
       "      <th>0</th>\n",
       "      <td>True Process</td>\n",
       "      <td>0</td>\n",
       "      <td>((((C,C),A),A),(B,C));</td>\n",
       "      <td>((C,B),A);</td>\n",
       "      <td>5</td>\n",
       "      <td>0</td>\n",
       "      <td>2</td>\n",
       "    </tr>\n",
       "    <tr>\n",
       "      <th>1</th>\n",
       "      <td>Our_algorithm</td>\n",
       "      <td>0</td>\n",
       "      <td>((((C,C),A),A),(B,C));</td>\n",
       "      <td>((C,B),A);</td>\n",
       "      <td>3</td>\n",
       "      <td>1</td>\n",
       "      <td>0</td>\n",
       "    </tr>\n",
       "    <tr>\n",
       "      <th>2</th>\n",
       "      <td>ETE3</td>\n",
       "      <td>0</td>\n",
       "      <td>((((C,C),A),A),(B,C));</td>\n",
       "      <td>(A,(B,C));</td>\n",
       "      <td>3</td>\n",
       "      <td>0</td>\n",
       "      <td>4</td>\n",
       "    </tr>\n",
       "    <tr>\n",
       "      <th>3</th>\n",
       "      <td>True Process</td>\n",
       "      <td>1</td>\n",
       "      <td>((((A,A),B),C),A);</td>\n",
       "      <td>((C,B),A);</td>\n",
       "      <td>2</td>\n",
       "      <td>1</td>\n",
       "      <td>0</td>\n",
       "    </tr>\n",
       "    <tr>\n",
       "      <th>4</th>\n",
       "      <td>Our_algorithm</td>\n",
       "      <td>1</td>\n",
       "      <td>((((A,A),B),C),A);</td>\n",
       "      <td>((C,B),A);</td>\n",
       "      <td>2</td>\n",
       "      <td>1</td>\n",
       "      <td>0</td>\n",
       "    </tr>\n",
       "    <tr>\n",
       "      <th>...</th>\n",
       "      <td>...</td>\n",
       "      <td>...</td>\n",
       "      <td>...</td>\n",
       "      <td>...</td>\n",
       "      <td>...</td>\n",
       "      <td>...</td>\n",
       "      <td>...</td>\n",
       "    </tr>\n",
       "    <tr>\n",
       "      <th>295</th>\n",
       "      <td>Our_algorithm</td>\n",
       "      <td>98</td>\n",
       "      <td>(B,C);</td>\n",
       "      <td>((C,B),A);</td>\n",
       "      <td>0</td>\n",
       "      <td>0</td>\n",
       "      <td>1</td>\n",
       "    </tr>\n",
       "    <tr>\n",
       "      <th>296</th>\n",
       "      <td>ETE3</td>\n",
       "      <td>98</td>\n",
       "      <td>(B,C);</td>\n",
       "      <td>(A,(B,C));</td>\n",
       "      <td>0</td>\n",
       "      <td>0</td>\n",
       "      <td>0</td>\n",
       "    </tr>\n",
       "    <tr>\n",
       "      <th>297</th>\n",
       "      <td>True Process</td>\n",
       "      <td>99</td>\n",
       "      <td>(C,(((B,B),((B,C),C)),A));</td>\n",
       "      <td>((C,B),A);</td>\n",
       "      <td>4</td>\n",
       "      <td>1</td>\n",
       "      <td>0</td>\n",
       "    </tr>\n",
       "    <tr>\n",
       "      <th>298</th>\n",
       "      <td>Our_algorithm</td>\n",
       "      <td>99</td>\n",
       "      <td>(C,(((B,B),((B,C),C)),A));</td>\n",
       "      <td>((C,B),A);</td>\n",
       "      <td>5</td>\n",
       "      <td>2</td>\n",
       "      <td>4</td>\n",
       "    </tr>\n",
       "    <tr>\n",
       "      <th>299</th>\n",
       "      <td>ETE3</td>\n",
       "      <td>99</td>\n",
       "      <td>(C,(((B,B),((B,C),C)),A));</td>\n",
       "      <td>(A,(B,C));</td>\n",
       "      <td>4</td>\n",
       "      <td>0</td>\n",
       "      <td>4</td>\n",
       "    </tr>\n",
       "  </tbody>\n",
       "</table>\n",
       "<p>300 rows × 7 columns</p>\n",
       "</div>"
      ],
      "text/plain": [
       "           Process  Replicate                   Gene_tree Species_Tree  \\\n",
       "0     True Process          0      ((((C,C),A),A),(B,C));   ((C,B),A);   \n",
       "1    Our_algorithm          0      ((((C,C),A),A),(B,C));   ((C,B),A);   \n",
       "2             ETE3          0      ((((C,C),A),A),(B,C));   (A,(B,C));   \n",
       "3     True Process          1          ((((A,A),B),C),A);   ((C,B),A);   \n",
       "4    Our_algorithm          1          ((((A,A),B),C),A);   ((C,B),A);   \n",
       "..             ...        ...                         ...          ...   \n",
       "295  Our_algorithm         98                      (B,C);   ((C,B),A);   \n",
       "296           ETE3         98                      (B,C);   (A,(B,C));   \n",
       "297   True Process         99  (C,(((B,B),((B,C),C)),A));   ((C,B),A);   \n",
       "298  Our_algorithm         99  (C,(((B,B),((B,C),C)),A));   ((C,B),A);   \n",
       "299           ETE3         99  (C,(((B,B),((B,C),C)),A));   (A,(B,C));   \n",
       "\n",
       "     Duplication  NNI  Loss  \n",
       "0              5    0     2  \n",
       "1              3    1     0  \n",
       "2              3    0     4  \n",
       "3              2    1     0  \n",
       "4              2    1     0  \n",
       "..           ...  ...   ...  \n",
       "295            0    0     1  \n",
       "296            0    0     0  \n",
       "297            4    1     0  \n",
       "298            5    2     4  \n",
       "299            4    0     4  \n",
       "\n",
       "[300 rows x 7 columns]"
      ]
     },
     "execution_count": 303,
     "metadata": {},
     "output_type": "execute_result"
    }
   ],
   "source": [
    "df"
   ]
  },
  {
   "cell_type": "code",
   "execution_count": 340,
   "id": "c72833db",
   "metadata": {},
   "outputs": [],
   "source": [
    "True_Duplication = pd.DataFrame(list(df[(df.Process == \"True Process\")]['Duplication']),columns=['Duplication'])\n",
    "TRUE_NNI = pd.DataFrame(list(df[(df.Process == \"True Process\")]['NNI']),columns=['NNI'])\n",
    "TRUE_Loss = pd.DataFrame(list(df[(df.Process == \"True Process\")]['Loss']),columns=['Loss'])\n",
    "concat_true = pd.concat([True_Duplication,TRUE_NNI,TRUE_Loss],axis=1)"
   ]
  },
  {
   "cell_type": "code",
   "execution_count": 342,
   "id": "81b2082b",
   "metadata": {},
   "outputs": [],
   "source": [
    "O_Duplication = pd.DataFrame(list(df[(df.Process == \"Our_algorithm\")]['Duplication']),columns=['Duplication'])\n",
    "O_NNI = pd.DataFrame(list(df[(df.Process == \"Our_algorithm\")]['NNI']),columns=['NNI'])\n",
    "O_Loss = pd.DataFrame(list(df[(df.Process == \"Our_algorithm\")]['Loss']),columns=['Loss'])\n",
    "concat_O = pd.concat([True_Duplication,TRUE_NNI,TRUE_Loss],axis=1)"
   ]
  },
  {
   "cell_type": "code",
   "execution_count": 343,
   "id": "3d1dab76",
   "metadata": {},
   "outputs": [],
   "source": [
    "ETE3_Duplication = pd.DataFrame(list(df[(df.Process == \"ETE3\")]['Duplication']),columns=['Duplication'])\n",
    "ETE3_NNI = pd.DataFrame(list(df[(df.Process == \"ETE3\")]['NNI']),columns=['NNI'])\n",
    "ETE3_Loss = pd.DataFrame(list(df[(df.Process == \"ETE3\")]['Loss']),columns=['Loss'])\n",
    "concat_ETE3 = pd.concat([True_Duplication,TRUE_NNI,TRUE_Loss],axis=1)"
   ]
  },
  {
   "cell_type": "code",
   "execution_count": 347,
   "id": "d6a50ae6",
   "metadata": {},
   "outputs": [
    {
     "data": {
      "image/png": "[encoded data removed]",
      "text/plain": [
       "<Figure size 432x288 with 1 Axes>"
      ]
     },
     "metadata": {},
     "output_type": "display_data"
    }
   ],
   "source": [
    "import seaborn as sns\n",
    "\n",
    "\n",
    "\n",
    "result =pd.concat([True_Duplication,O_Duplication.rename(columns={'b':'a'})], ignore_index=True,axis=1)\n",
    "sns.scatterplot(data=result,x=1,y=0)\n",
    " \n",
    "# Show the plot\n",
    "plt.show()"
   ]
  },
  {
   "cell_type": "code",
   "execution_count": 348,
   "id": "222caac7",
   "metadata": {},
   "outputs": [
    {
     "data": {
      "image/png": "[encoded data removed]",
      "text/plain": [
       "<Figure size 432x288 with 1 Axes>"
      ]
     },
     "metadata": {},
     "output_type": "display_data"
    }
   ],
   "source": [
    "import seaborn as sns\n",
    "\n",
    "\n",
    "\n",
    "result =pd.concat([TRUE_Loss,O_Loss.rename(columns={'b':'a'})], ignore_index=True,axis=1)\n",
    "sns.scatterplot(data=result,x=1,y=0)\n",
    " \n",
    "# Show the plot\n",
    "plt.show()"
   ]
  },
  {
   "cell_type": "code",
   "execution_count": null,
   "id": "be5308f7",
   "metadata": {},
   "outputs": [],
   "source": []
  },
  {
   "cell_type": "code",
   "execution_count": 355,
   "id": "6695de63",
   "metadata": {},
   "outputs": [],
   "source": [
    "from scipy.stats import spearmanr\n",
    "rho, p = spearmanr(pd.DataFrame(list(df[(df.Process == \"True Process\")]['NNI']),columns=['NNI']),pd.DataFrame(list(df[(df.Process == \"Our_algorithm\")]['NNI']),columns=['NNI']))"
   ]
  },
  {
   "cell_type": "code",
   "execution_count": 356,
   "id": "acbafb2b",
   "metadata": {},
   "outputs": [
    {
     "data": {
      "text/plain": [
       "0.14912359521836294"
      ]
     },
     "execution_count": 356,
     "metadata": {},
     "output_type": "execute_result"
    }
   ],
   "source": [
    "rho"
   ]
  },
  {
   "cell_type": "code",
   "execution_count": 313,
   "id": "a9c942c7",
   "metadata": {},
   "outputs": [
    {
     "data": {
      "text/plain": [
       "<AxesSubplot:xlabel='0', ylabel='1'>"
      ]
     },
     "execution_count": 313,
     "metadata": {},
     "output_type": "execute_result"
    },
    {
     "data": {
      "image/png": "[encoded data removed]",
      "text/plain": [
       "<Figure size 432x288 with 1 Axes>"
      ]
     },
     "metadata": {},
     "output_type": "display_data"
    }
   ],
   "source": [
    "sns.scatterplot(x='0',y='1',data=concat_NNI)"
   ]
  },
  {
   "cell_type": "code",
   "execution_count": 163,
   "id": "0a4b68d6",
   "metadata": {},
   "outputs": [
    {
     "data": {
      "text/plain": [
       "<AxesSubplot:xlabel='0', ylabel='1'>"
      ]
     },
     "execution_count": 163,
     "metadata": {},
     "output_type": "execute_result"
    },
    {
     "data": {
      "image/png": "[encoded data removed]",
      "text/plain": [
       "<Figure size 432x288 with 1 Axes>"
      ]
     },
     "metadata": {
      "needs_background": "light"
     },
     "output_type": "display_data"
    }
   ],
   "source": [
    "sns.scatterplot(x='0',y='1',data=concat_NNI)"
   ]
  },
  {
   "cell_type": "code",
   "execution_count": null,
   "id": "186ecbef",
   "metadata": {},
   "outputs": [],
   "source": []
  }
 ],
 "metadata": {
  "kernelspec": {
   "display_name": "Python 3 (ipykernel)",
   "language": "python",
   "name": "python3"
  },
  "language_info": {
   "codemirror_mode": {
    "name": "ipython",
    "version": 3
   },
   "file_extension": ".py",
   "mimetype": "text/x-python",
   "name": "python",
   "nbconvert_exporter": "python",
   "pygments_lexer": "ipython3",
   "version": "3.9.12"
  }
 },
 "nbformat": 4,
 "nbformat_minor": 5
}
