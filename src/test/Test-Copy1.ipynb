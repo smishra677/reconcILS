{
 "cells": [
  {
   "cell_type": "code",
   "execution_count": 2,
   "id": "c64fb931",
   "metadata": {},
   "outputs": [],
   "source": [
    "import pandas as pd\n",
    "import seaborn as sns\n",
    "import matplotlib.pyplot as plt"
   ]
  },
  {
   "cell_type": "code",
   "execution_count": 3,
   "id": "4567ea5e",
   "metadata": {},
   "outputs": [],
   "source": [
    "from collections import Counter"
   ]
  },
  {
   "cell_type": "code",
   "execution_count": 4,
   "id": "bc9c6276",
   "metadata": {},
   "outputs": [],
   "source": [
    "df = pd.read_csv('./bin/9_28_large_result.csv')"
   ]
  },
  {
   "cell_type": "code",
   "execution_count": null,
   "id": "8b285ae5",
   "metadata": {},
   "outputs": [],
   "source": []
  },
  {
   "cell_type": "code",
   "execution_count": 5,
   "id": "4ade3847",
   "metadata": {},
   "outputs": [],
   "source": [
    "replicates =pd.DataFrame(list(df[(df.Process == \"True Process\")]['Replicate']),columns=['Replicate'])"
   ]
  },
  {
   "cell_type": "code",
   "execution_count": null,
   "id": "8d5b2d6d",
   "metadata": {},
   "outputs": [],
   "source": []
  },
  {
   "cell_type": "code",
   "execution_count": null,
   "id": "a09988ab",
   "metadata": {},
   "outputs": [],
   "source": []
  },
  {
   "cell_type": "code",
   "execution_count": 6,
   "id": "b60d94c4",
   "metadata": {},
   "outputs": [],
   "source": [
    "True_Duplication = pd.DataFrame(list(df[(df.Process == \"True Process\")]['Duplication']),columns=['Duplication'])\n",
    "TRUE_NNI = pd.DataFrame(list(df[(df.Process == \"True Process\")]['NNI']),columns=['NNI'])\n",
    "TRUE_Loss = pd.DataFrame(list(df[(df.Process == \"True Process\")]['Loss']),columns=['Loss'])\n",
    "True_DLCILS= pd.DataFrame(list(df[(df.Process == \"True Process\")]['DLCILS']),columns=['DLCILS'])\n",
    "concat_true = pd.concat([True_Duplication,TRUE_Loss],axis=1)"
   ]
  },
  {
   "cell_type": "code",
   "execution_count": 7,
   "id": "7c676a58",
   "metadata": {},
   "outputs": [],
   "source": [
    "O_Duplication = pd.DataFrame(list(df[(df.Process == \"Our_algorithm\")]['Duplication']),columns=['Duplication_reconcILS'])\n",
    "O_NNI = pd.DataFrame(list(df[(df.Process == \"Our_algorithm\")]['NNI']),columns=['NNI'])\n",
    "O_Loss = pd.DataFrame(list(df[(df.Process == \"Our_algorithm\")]['Loss']),columns=['Loss_reconcILS'])\n",
    "concat_O = pd.concat([O_Duplication,O_Loss],axis=1)"
   ]
  },
  {
   "cell_type": "code",
   "execution_count": 8,
   "id": "1aa70e79",
   "metadata": {},
   "outputs": [],
   "source": [
    "ETE3_Duplication = pd.DataFrame(list(df[(df.Process == \"DLCpar\")]['Duplication']),columns=['Duplication_DLC'])\n",
    "ETE3_NNI = pd.DataFrame(list(df[(df.Process == \"DLCpar\")]['NNI']),columns=['NNI'])\n",
    "ETE3_Loss = pd.DataFrame(list(df[(df.Process == \"DLCpar\")]['Loss']),columns=['Loss_DLC'])\n",
    "ETE3_DLCILS = pd.DataFrame(list(df[(df.Process == \"DLCpar\")]['DLCILS']),columns=['DLCILS'])\n",
    "concat_ETE3 = pd.concat([ETE3_Duplication,ETE3_Loss],axis=1)"
   ]
  },
  {
   "cell_type": "code",
   "execution_count": 9,
   "id": "91bc8ed0",
   "metadata": {},
   "outputs": [
    {
     "name": "stdout",
     "output_type": "stream",
     "text": [
      "928\n"
     ]
    }
   ],
   "source": [
    "print(len(True_Duplication))"
   ]
  },
  {
   "cell_type": "code",
   "execution_count": 10,
   "id": "17533a43",
   "metadata": {},
   "outputs": [
    {
     "name": "stdout",
     "output_type": "stream",
     "text": [
      "928\n"
     ]
    }
   ],
   "source": [
    "print(len(O_Duplication))"
   ]
  },
  {
   "cell_type": "code",
   "execution_count": 147,
   "id": "27ebb900",
   "metadata": {},
   "outputs": [
    {
     "name": "stdout",
     "output_type": "stream",
     "text": [
      "836\n"
     ]
    }
   ],
   "source": [
    "print(len(ETE3_Duplication))"
   ]
  },
  {
   "cell_type": "code",
   "execution_count": 148,
   "id": "51ce7791",
   "metadata": {},
   "outputs": [],
   "source": [
    "True_Duplication['Replicate']=replicates\n",
    "TRUE_Loss['Replicate']=replicates\n",
    "#ETE3_Duplication['Replicate']=replicates\n"
   ]
  },
  {
   "cell_type": "code",
   "execution_count": 11,
   "id": "616fd1a2",
   "metadata": {},
   "outputs": [],
   "source": [
    "C_D = pd.concat([True_Duplication,O_Duplication,ETE3_Duplication],axis=1)\n",
    "C_L = pd.concat([TRUE_Loss,O_Loss,ETE3_Loss],axis=1)\n",
    "#C_D = pd.concat([True_Duplication,O_Duplication,ETE3_Duplication],axis=1)\n"
   ]
  },
  {
   "cell_type": "code",
   "execution_count": 12,
   "id": "6872656f",
   "metadata": {},
   "outputs": [],
   "source": [
    "df_diff_D = C_D[C_D['Duplication']<C_D['Duplication_reconcILS']].fillna('')\n",
    "df_diff_L = C_L[C_L['Loss']<C_L['Loss_reconcILS']].fillna('')\n"
   ]
  },
  {
   "cell_type": "code",
   "execution_count": 13,
   "id": "83b73b37",
   "metadata": {},
   "outputs": [],
   "source": [
    "df_diff1_D = C_D[(C_D['Duplication_DLC']==C_D['Duplication'])].fillna('')\n",
    "df_diff2_D =df_diff1_D[(df_diff1_D['Duplication_reconcILS']!=df_diff1_D['Duplication'])].fillna('')\n",
    "\n",
    "df_diff1_L = C_L[(C_L['Loss_DLC']==C_L['Loss'])].fillna('')\n",
    "df_diff2_L =df_diff1_L[(df_diff1_L['Loss_reconcILS']!=df_diff1_L['Loss'])].fillna('')\n"
   ]
  },
  {
   "cell_type": "code",
   "execution_count": 14,
   "id": "23310f22",
   "metadata": {},
   "outputs": [],
   "source": [
    "df_diff3 =C_D[(C_D['Duplication_reconcILS']==C_D['Duplication'])].fillna('')\n",
    "df_diff4 = df_diff3[(df_diff3['Duplication_DLC']!=df_diff3['Duplication'])].fillna('')\n",
    "\n",
    "\n",
    "df_diff3_L = C_L[(C_L['Loss_reconcILS']==C_L['Loss'])].fillna('')\n",
    "df_diff4_L =df_diff3_L[(df_diff3_L['Loss_DLC']!=df_diff3_L['Loss'])].fillna('')\n"
   ]
  },
  {
   "cell_type": "code",
   "execution_count": 15,
   "id": "d9fc5815",
   "metadata": {},
   "outputs": [
    {
     "data": {
      "text/html": [
       "<div>\n",
       "<style scoped>\n",
       "    .dataframe tbody tr th:only-of-type {\n",
       "        vertical-align: middle;\n",
       "    }\n",
       "\n",
       "    .dataframe tbody tr th {\n",
       "        vertical-align: top;\n",
       "    }\n",
       "\n",
       "    .dataframe thead th {\n",
       "        text-align: right;\n",
       "    }\n",
       "</style>\n",
       "<table border=\"1\" class=\"dataframe\">\n",
       "  <thead>\n",
       "    <tr style=\"text-align: right;\">\n",
       "      <th></th>\n",
       "      <th>Loss</th>\n",
       "      <th>Loss_reconcILS</th>\n",
       "      <th>Loss_DLC</th>\n",
       "    </tr>\n",
       "  </thead>\n",
       "  <tbody>\n",
       "    <tr>\n",
       "      <th>4</th>\n",
       "      <td>6</td>\n",
       "      <td>5</td>\n",
       "      <td>6</td>\n",
       "    </tr>\n",
       "    <tr>\n",
       "      <th>6</th>\n",
       "      <td>2</td>\n",
       "      <td>1</td>\n",
       "      <td>2</td>\n",
       "    </tr>\n",
       "    <tr>\n",
       "      <th>12</th>\n",
       "      <td>1</td>\n",
       "      <td>4</td>\n",
       "      <td>1</td>\n",
       "    </tr>\n",
       "    <tr>\n",
       "      <th>30</th>\n",
       "      <td>2</td>\n",
       "      <td>1</td>\n",
       "      <td>2</td>\n",
       "    </tr>\n",
       "    <tr>\n",
       "      <th>46</th>\n",
       "      <td>2</td>\n",
       "      <td>1</td>\n",
       "      <td>2</td>\n",
       "    </tr>\n",
       "    <tr>\n",
       "      <th>...</th>\n",
       "      <td>...</td>\n",
       "      <td>...</td>\n",
       "      <td>...</td>\n",
       "    </tr>\n",
       "    <tr>\n",
       "      <th>905</th>\n",
       "      <td>5</td>\n",
       "      <td>7</td>\n",
       "      <td>5</td>\n",
       "    </tr>\n",
       "    <tr>\n",
       "      <th>909</th>\n",
       "      <td>2</td>\n",
       "      <td>6</td>\n",
       "      <td>2</td>\n",
       "    </tr>\n",
       "    <tr>\n",
       "      <th>910</th>\n",
       "      <td>3</td>\n",
       "      <td>4</td>\n",
       "      <td>3</td>\n",
       "    </tr>\n",
       "    <tr>\n",
       "      <th>917</th>\n",
       "      <td>1</td>\n",
       "      <td>4</td>\n",
       "      <td>1</td>\n",
       "    </tr>\n",
       "    <tr>\n",
       "      <th>923</th>\n",
       "      <td>2</td>\n",
       "      <td>1</td>\n",
       "      <td>2</td>\n",
       "    </tr>\n",
       "  </tbody>\n",
       "</table>\n",
       "<p>83 rows × 3 columns</p>\n",
       "</div>"
      ],
      "text/plain": [
       "     Loss  Loss_reconcILS  Loss_DLC\n",
       "4       6               5         6\n",
       "6       2               1         2\n",
       "12      1               4         1\n",
       "30      2               1         2\n",
       "46      2               1         2\n",
       "..    ...             ...       ...\n",
       "905     5               7         5\n",
       "909     2               6         2\n",
       "910     3               4         3\n",
       "917     1               4         1\n",
       "923     2               1         2\n",
       "\n",
       "[83 rows x 3 columns]"
      ]
     },
     "execution_count": 15,
     "metadata": {},
     "output_type": "execute_result"
    }
   ],
   "source": [
    "df_diff2_L"
   ]
  },
  {
   "cell_type": "code",
   "execution_count": 16,
   "id": "e026a27f",
   "metadata": {},
   "outputs": [
    {
     "data": {
      "text/html": [
       "<div>\n",
       "<style scoped>\n",
       "    .dataframe tbody tr th:only-of-type {\n",
       "        vertical-align: middle;\n",
       "    }\n",
       "\n",
       "    .dataframe tbody tr th {\n",
       "        vertical-align: top;\n",
       "    }\n",
       "\n",
       "    .dataframe thead th {\n",
       "        text-align: right;\n",
       "    }\n",
       "</style>\n",
       "<table border=\"1\" class=\"dataframe\">\n",
       "  <thead>\n",
       "    <tr style=\"text-align: right;\">\n",
       "      <th></th>\n",
       "      <th>Loss</th>\n",
       "      <th>Loss_reconcILS</th>\n",
       "      <th>Loss_DLC</th>\n",
       "    </tr>\n",
       "  </thead>\n",
       "  <tbody>\n",
       "    <tr>\n",
       "      <th>8</th>\n",
       "      <td>1</td>\n",
       "      <td>2</td>\n",
       "      <td>3</td>\n",
       "    </tr>\n",
       "    <tr>\n",
       "      <th>9</th>\n",
       "      <td>1</td>\n",
       "      <td>6</td>\n",
       "      <td>4</td>\n",
       "    </tr>\n",
       "    <tr>\n",
       "      <th>12</th>\n",
       "      <td>1</td>\n",
       "      <td>4</td>\n",
       "      <td>1</td>\n",
       "    </tr>\n",
       "    <tr>\n",
       "      <th>14</th>\n",
       "      <td>1</td>\n",
       "      <td>5</td>\n",
       "      <td>2</td>\n",
       "    </tr>\n",
       "    <tr>\n",
       "      <th>18</th>\n",
       "      <td>2</td>\n",
       "      <td>3</td>\n",
       "      <td>1</td>\n",
       "    </tr>\n",
       "    <tr>\n",
       "      <th>...</th>\n",
       "      <td>...</td>\n",
       "      <td>...</td>\n",
       "      <td>...</td>\n",
       "    </tr>\n",
       "    <tr>\n",
       "      <th>910</th>\n",
       "      <td>3</td>\n",
       "      <td>4</td>\n",
       "      <td>3</td>\n",
       "    </tr>\n",
       "    <tr>\n",
       "      <th>911</th>\n",
       "      <td>2</td>\n",
       "      <td>3</td>\n",
       "      <td>4</td>\n",
       "    </tr>\n",
       "    <tr>\n",
       "      <th>916</th>\n",
       "      <td>1</td>\n",
       "      <td>4</td>\n",
       "      <td>0</td>\n",
       "    </tr>\n",
       "    <tr>\n",
       "      <th>917</th>\n",
       "      <td>1</td>\n",
       "      <td>4</td>\n",
       "      <td>1</td>\n",
       "    </tr>\n",
       "    <tr>\n",
       "      <th>925</th>\n",
       "      <td>2</td>\n",
       "      <td>3</td>\n",
       "      <td>4</td>\n",
       "    </tr>\n",
       "  </tbody>\n",
       "</table>\n",
       "<p>236 rows × 3 columns</p>\n",
       "</div>"
      ],
      "text/plain": [
       "     Loss  Loss_reconcILS  Loss_DLC\n",
       "8       1               2         3\n",
       "9       1               6         4\n",
       "12      1               4         1\n",
       "14      1               5         2\n",
       "18      2               3         1\n",
       "..    ...             ...       ...\n",
       "910     3               4         3\n",
       "911     2               3         4\n",
       "916     1               4         0\n",
       "917     1               4         1\n",
       "925     2               3         4\n",
       "\n",
       "[236 rows x 3 columns]"
      ]
     },
     "execution_count": 16,
     "metadata": {},
     "output_type": "execute_result"
    }
   ],
   "source": [
    "df_diff_L"
   ]
  },
  {
   "cell_type": "code",
   "execution_count": 18,
   "id": "14414cdf",
   "metadata": {},
   "outputs": [
    {
     "data": {
      "text/html": [
       "<div>\n",
       "<style scoped>\n",
       "    .dataframe tbody tr th:only-of-type {\n",
       "        vertical-align: middle;\n",
       "    }\n",
       "\n",
       "    .dataframe tbody tr th {\n",
       "        vertical-align: top;\n",
       "    }\n",
       "\n",
       "    .dataframe thead th {\n",
       "        text-align: right;\n",
       "    }\n",
       "</style>\n",
       "<table border=\"1\" class=\"dataframe\">\n",
       "  <thead>\n",
       "    <tr style=\"text-align: right;\">\n",
       "      <th></th>\n",
       "      <th>Duplication</th>\n",
       "      <th>Duplication_reconcILS</th>\n",
       "      <th>Duplication_DLC</th>\n",
       "    </tr>\n",
       "  </thead>\n",
       "  <tbody>\n",
       "    <tr>\n",
       "      <th>8</th>\n",
       "      <td>3</td>\n",
       "      <td>4</td>\n",
       "      <td>3</td>\n",
       "    </tr>\n",
       "    <tr>\n",
       "      <th>12</th>\n",
       "      <td>0</td>\n",
       "      <td>1</td>\n",
       "      <td>0</td>\n",
       "    </tr>\n",
       "    <tr>\n",
       "      <th>18</th>\n",
       "      <td>2</td>\n",
       "      <td>3</td>\n",
       "      <td>2</td>\n",
       "    </tr>\n",
       "    <tr>\n",
       "      <th>27</th>\n",
       "      <td>5</td>\n",
       "      <td>6</td>\n",
       "      <td>5</td>\n",
       "    </tr>\n",
       "    <tr>\n",
       "      <th>35</th>\n",
       "      <td>3</td>\n",
       "      <td>4</td>\n",
       "      <td>3</td>\n",
       "    </tr>\n",
       "    <tr>\n",
       "      <th>...</th>\n",
       "      <td>...</td>\n",
       "      <td>...</td>\n",
       "      <td>...</td>\n",
       "    </tr>\n",
       "    <tr>\n",
       "      <th>868</th>\n",
       "      <td>8</td>\n",
       "      <td>9</td>\n",
       "      <td>8</td>\n",
       "    </tr>\n",
       "    <tr>\n",
       "      <th>901</th>\n",
       "      <td>3</td>\n",
       "      <td>4</td>\n",
       "      <td>3</td>\n",
       "    </tr>\n",
       "    <tr>\n",
       "      <th>905</th>\n",
       "      <td>7</td>\n",
       "      <td>8</td>\n",
       "      <td>7</td>\n",
       "    </tr>\n",
       "    <tr>\n",
       "      <th>907</th>\n",
       "      <td>4</td>\n",
       "      <td>5</td>\n",
       "      <td>4</td>\n",
       "    </tr>\n",
       "    <tr>\n",
       "      <th>909</th>\n",
       "      <td>2</td>\n",
       "      <td>3</td>\n",
       "      <td>2</td>\n",
       "    </tr>\n",
       "  </tbody>\n",
       "</table>\n",
       "<p>61 rows × 3 columns</p>\n",
       "</div>"
      ],
      "text/plain": [
       "     Duplication  Duplication_reconcILS  Duplication_DLC\n",
       "8              3                      4                3\n",
       "12             0                      1                0\n",
       "18             2                      3                2\n",
       "27             5                      6                5\n",
       "35             3                      4                3\n",
       "..           ...                    ...              ...\n",
       "868            8                      9                8\n",
       "901            3                      4                3\n",
       "905            7                      8                7\n",
       "907            4                      5                4\n",
       "909            2                      3                2\n",
       "\n",
       "[61 rows x 3 columns]"
      ]
     },
     "execution_count": 18,
     "metadata": {},
     "output_type": "execute_result"
    }
   ],
   "source": [
    "df_diff_D"
   ]
  },
  {
   "cell_type": "code",
   "execution_count": null,
   "id": "50fb3cb3",
   "metadata": {},
   "outputs": [],
   "source": []
  },
  {
   "cell_type": "code",
   "execution_count": 27,
   "id": "c1b324df",
   "metadata": {},
   "outputs": [],
   "source": [
    "true_reconils_dups= pd.DataFrame(concat_true-concat_O)\n",
    "val =['reconcILS' for i in range(836)]\n",
    "true_reconils_dups['Algorithm']=val\n",
    "#true_reconils_dups['Replicate']=[i for i in range(99)]"
   ]
  },
  {
   "cell_type": "code",
   "execution_count": 28,
   "id": "ab1f7e5c",
   "metadata": {},
   "outputs": [],
   "source": [
    "true_ete3_dups= pd.DataFrame((concat_true-concat_ETE3))\n",
    "val =['DLCpar' for i in range(836)]\n",
    "true_ete3_dups['Algorithm']=val\n",
    "\n",
    "#true_ete3_dups['Replicate']=[i for i in range(99)]"
   ]
  },
  {
   "cell_type": "code",
   "execution_count": null,
   "id": "956a5718",
   "metadata": {},
   "outputs": [],
   "source": []
  },
  {
   "cell_type": "code",
   "execution_count": 172,
   "id": "0027b5ab",
   "metadata": {},
   "outputs": [],
   "source": [
    "df_diff1_L_ = C_L[(C_L['Loss']==C_L['Loss_reconcILS'])].fillna('')\n"
   ]
  },
  {
   "cell_type": "code",
   "execution_count": 170,
   "id": "bc923384",
   "metadata": {},
   "outputs": [],
   "source": [
    "df_diff1_L = C_L[(C_L['Loss_DLC']==C_L['Loss_reconcILS'])].fillna('')\n"
   ]
  },
  {
   "cell_type": "code",
   "execution_count": 173,
   "id": "456356ea",
   "metadata": {},
   "outputs": [
    {
     "data": {
      "text/html": [
       "<div>\n",
       "<style scoped>\n",
       "    .dataframe tbody tr th:only-of-type {\n",
       "        vertical-align: middle;\n",
       "    }\n",
       "\n",
       "    .dataframe tbody tr th {\n",
       "        vertical-align: top;\n",
       "    }\n",
       "\n",
       "    .dataframe thead th {\n",
       "        text-align: right;\n",
       "    }\n",
       "</style>\n",
       "<table border=\"1\" class=\"dataframe\">\n",
       "  <thead>\n",
       "    <tr style=\"text-align: right;\">\n",
       "      <th></th>\n",
       "      <th>Loss</th>\n",
       "      <th>Replicate</th>\n",
       "      <th>Loss_reconcILS</th>\n",
       "      <th>Loss_DLC</th>\n",
       "    </tr>\n",
       "  </thead>\n",
       "  <tbody>\n",
       "    <tr>\n",
       "      <th>0</th>\n",
       "      <td>1</td>\n",
       "      <td>0</td>\n",
       "      <td>1</td>\n",
       "      <td>1</td>\n",
       "    </tr>\n",
       "    <tr>\n",
       "      <th>1</th>\n",
       "      <td>1</td>\n",
       "      <td>1</td>\n",
       "      <td>1</td>\n",
       "      <td>0</td>\n",
       "    </tr>\n",
       "    <tr>\n",
       "      <th>3</th>\n",
       "      <td>0</td>\n",
       "      <td>3</td>\n",
       "      <td>0</td>\n",
       "      <td>0</td>\n",
       "    </tr>\n",
       "    <tr>\n",
       "      <th>4</th>\n",
       "      <td>1</td>\n",
       "      <td>4</td>\n",
       "      <td>1</td>\n",
       "      <td>1</td>\n",
       "    </tr>\n",
       "    <tr>\n",
       "      <th>7</th>\n",
       "      <td>1</td>\n",
       "      <td>7</td>\n",
       "      <td>1</td>\n",
       "      <td>1</td>\n",
       "    </tr>\n",
       "    <tr>\n",
       "      <th>...</th>\n",
       "      <td>...</td>\n",
       "      <td>...</td>\n",
       "      <td>...</td>\n",
       "      <td>...</td>\n",
       "    </tr>\n",
       "    <tr>\n",
       "      <th>824</th>\n",
       "      <td>0</td>\n",
       "      <td>988</td>\n",
       "      <td>0</td>\n",
       "      <td>0</td>\n",
       "    </tr>\n",
       "    <tr>\n",
       "      <th>825</th>\n",
       "      <td>1</td>\n",
       "      <td>989</td>\n",
       "      <td>1</td>\n",
       "      <td>1</td>\n",
       "    </tr>\n",
       "    <tr>\n",
       "      <th>829</th>\n",
       "      <td>1</td>\n",
       "      <td>993</td>\n",
       "      <td>1</td>\n",
       "      <td>2</td>\n",
       "    </tr>\n",
       "    <tr>\n",
       "      <th>833</th>\n",
       "      <td>0</td>\n",
       "      <td>997</td>\n",
       "      <td>0</td>\n",
       "      <td>0</td>\n",
       "    </tr>\n",
       "    <tr>\n",
       "      <th>835</th>\n",
       "      <td>1</td>\n",
       "      <td>999</td>\n",
       "      <td>1</td>\n",
       "      <td>1</td>\n",
       "    </tr>\n",
       "  </tbody>\n",
       "</table>\n",
       "<p>586 rows × 4 columns</p>\n",
       "</div>"
      ],
      "text/plain": [
       "     Loss  Replicate  Loss_reconcILS  Loss_DLC\n",
       "0       1          0               1         1\n",
       "1       1          1               1         0\n",
       "3       0          3               0         0\n",
       "4       1          4               1         1\n",
       "7       1          7               1         1\n",
       "..    ...        ...             ...       ...\n",
       "824     0        988               0         0\n",
       "825     1        989               1         1\n",
       "829     1        993               1         2\n",
       "833     0        997               0         0\n",
       "835     1        999               1         1\n",
       "\n",
       "[586 rows x 4 columns]"
      ]
     },
     "execution_count": 173,
     "metadata": {},
     "output_type": "execute_result"
    }
   ],
   "source": [
    "df_diff1_L_"
   ]
  },
  {
   "cell_type": "code",
   "execution_count": null,
   "id": "2da1eb7e",
   "metadata": {},
   "outputs": [],
   "source": []
  },
  {
   "cell_type": "code",
   "execution_count": null,
   "id": "4df462f1",
   "metadata": {},
   "outputs": [],
   "source": []
  },
  {
   "cell_type": "code",
   "execution_count": 31,
   "id": "e5e55926",
   "metadata": {},
   "outputs": [],
   "source": [
    "val=0\n",
    "for i in list(true_reconils_dups['Duplication']):\n",
    "    if i!=0:\n",
    "        val=val+1"
   ]
  },
  {
   "cell_type": "code",
   "execution_count": 32,
   "id": "6d570d71",
   "metadata": {},
   "outputs": [
    {
     "data": {
      "text/plain": [
       "221"
      ]
     },
     "execution_count": 32,
     "metadata": {},
     "output_type": "execute_result"
    }
   ],
   "source": [
    "val"
   ]
  },
  {
   "cell_type": "code",
   "execution_count": 33,
   "id": "e9e08490",
   "metadata": {},
   "outputs": [
    {
     "data": {
      "text/html": [
       "<div>\n",
       "<style scoped>\n",
       "    .dataframe tbody tr th:only-of-type {\n",
       "        vertical-align: middle;\n",
       "    }\n",
       "\n",
       "    .dataframe tbody tr th {\n",
       "        vertical-align: top;\n",
       "    }\n",
       "\n",
       "    .dataframe thead th {\n",
       "        text-align: right;\n",
       "    }\n",
       "</style>\n",
       "<table border=\"1\" class=\"dataframe\">\n",
       "  <thead>\n",
       "    <tr style=\"text-align: right;\">\n",
       "      <th></th>\n",
       "      <th>Algorithm</th>\n",
       "      <th>variable</th>\n",
       "      <th>value</th>\n",
       "    </tr>\n",
       "  </thead>\n",
       "  <tbody>\n",
       "    <tr>\n",
       "      <th>0</th>\n",
       "      <td>reconcILS</td>\n",
       "      <td>Duplication</td>\n",
       "      <td>0</td>\n",
       "    </tr>\n",
       "    <tr>\n",
       "      <th>1</th>\n",
       "      <td>reconcILS</td>\n",
       "      <td>Duplication</td>\n",
       "      <td>0</td>\n",
       "    </tr>\n",
       "    <tr>\n",
       "      <th>2</th>\n",
       "      <td>reconcILS</td>\n",
       "      <td>Duplication</td>\n",
       "      <td>1</td>\n",
       "    </tr>\n",
       "    <tr>\n",
       "      <th>3</th>\n",
       "      <td>reconcILS</td>\n",
       "      <td>Duplication</td>\n",
       "      <td>0</td>\n",
       "    </tr>\n",
       "    <tr>\n",
       "      <th>4</th>\n",
       "      <td>reconcILS</td>\n",
       "      <td>Duplication</td>\n",
       "      <td>0</td>\n",
       "    </tr>\n",
       "    <tr>\n",
       "      <th>...</th>\n",
       "      <td>...</td>\n",
       "      <td>...</td>\n",
       "      <td>...</td>\n",
       "    </tr>\n",
       "    <tr>\n",
       "      <th>3339</th>\n",
       "      <td>DLCpar</td>\n",
       "      <td>Loss</td>\n",
       "      <td>0</td>\n",
       "    </tr>\n",
       "    <tr>\n",
       "      <th>3340</th>\n",
       "      <td>DLCpar</td>\n",
       "      <td>Loss</td>\n",
       "      <td>2</td>\n",
       "    </tr>\n",
       "    <tr>\n",
       "      <th>3341</th>\n",
       "      <td>DLCpar</td>\n",
       "      <td>Loss</td>\n",
       "      <td>0</td>\n",
       "    </tr>\n",
       "    <tr>\n",
       "      <th>3342</th>\n",
       "      <td>DLCpar</td>\n",
       "      <td>Loss</td>\n",
       "      <td>0</td>\n",
       "    </tr>\n",
       "    <tr>\n",
       "      <th>3343</th>\n",
       "      <td>DLCpar</td>\n",
       "      <td>Loss</td>\n",
       "      <td>0</td>\n",
       "    </tr>\n",
       "  </tbody>\n",
       "</table>\n",
       "<p>3344 rows × 3 columns</p>\n",
       "</div>"
      ],
      "text/plain": [
       "      Algorithm     variable  value\n",
       "0     reconcILS  Duplication      0\n",
       "1     reconcILS  Duplication      0\n",
       "2     reconcILS  Duplication      1\n",
       "3     reconcILS  Duplication      0\n",
       "4     reconcILS  Duplication      0\n",
       "...         ...          ...    ...\n",
       "3339     DLCpar         Loss      0\n",
       "3340     DLCpar         Loss      2\n",
       "3341     DLCpar         Loss      0\n",
       "3342     DLCpar         Loss      0\n",
       "3343     DLCpar         Loss      0\n",
       "\n",
       "[3344 rows x 3 columns]"
      ]
     },
     "execution_count": 33,
     "metadata": {},
     "output_type": "execute_result"
    }
   ],
   "source": [
    "new =pd.concat([true_reconils_dups,true_ete3_dups],axis=0)\n",
    "pd.melt(new, id_vars =['Algorithm'])"
   ]
  },
  {
   "cell_type": "code",
   "execution_count": 34,
   "id": "00406bb1",
   "metadata": {},
   "outputs": [
    {
     "data": {
      "image/png": "[encoded data removed]",
      "text/plain": [
       "<Figure size 432x288 with 1 Axes>"
      ]
     },
     "metadata": {
      "needs_background": "light"
     },
     "output_type": "display_data"
    }
   ],
   "source": [
    "ax =sns.boxplot(x=\"variable\", y=\"value\",hue=\"Algorithm\", data=pd.melt(new, id_vars =['Algorithm']))\n",
    "plt.xlabel(\"Events\")\n",
    "plt.legend(bbox_to_anchor=(0.3,0.3))\n",
    "plt.ylabel(\"True - Infered\")\n",
    "plt.savefig('box_plot.jpg', dpi=500)\n"
   ]
  },
  {
   "cell_type": "code",
   "execution_count": null,
   "id": "eac161f1",
   "metadata": {},
   "outputs": [],
   "source": []
  },
  {
   "cell_type": "code",
   "execution_count": null,
   "id": "2bf817b6",
   "metadata": {},
   "outputs": [],
   "source": []
  },
  {
   "cell_type": "code",
   "execution_count": 35,
   "id": "6667b12d",
   "metadata": {},
   "outputs": [
    {
     "ename": "NameError",
     "evalue": "name 'result1' is not defined",
     "output_type": "error",
     "traceback": [
      "\u001b[0;31m---------------------------------------------------------------------------\u001b[0m",
      "\u001b[0;31mNameError\u001b[0m                                 Traceback (most recent call last)",
      "Input \u001b[0;32mIn [35]\u001b[0m, in \u001b[0;36m<cell line: 1>\u001b[0;34m()\u001b[0m\n\u001b[0;32m----> 1\u001b[0m \u001b[43mresult1\u001b[49m\n",
      "\u001b[0;31mNameError\u001b[0m: name 'result1' is not defined"
     ]
    }
   ],
   "source": [
    "result1"
   ]
  },
  {
   "cell_type": "code",
   "execution_count": null,
   "id": "2655ab03",
   "metadata": {},
   "outputs": [],
   "source": []
  },
  {
   "cell_type": "code",
   "execution_count": 36,
   "id": "f44eed83",
   "metadata": {},
   "outputs": [
    {
     "data": {
      "image/png": "[encoded data removed]",
      "text/plain": [
       "<Figure size 432x288 with 1 Axes>"
      ]
     },
     "metadata": {
      "needs_background": "light"
     },
     "output_type": "display_data"
    },
    {
     "data": {
      "text/plain": [
       "<Figure size 432x288 with 0 Axes>"
      ]
     },
     "metadata": {},
     "output_type": "display_data"
    }
   ],
   "source": [
    "import seaborn as sns\n",
    "import numpy as np\n",
    "import matplotlib.pyplot as plt\n",
    "\n",
    "\n",
    "result1 =pd.concat([True_Duplication['Duplication'],O_Duplication['Duplication']], ignore_index=True,axis=1)\n",
    "result11=result1.groupby([0,1]).size().reset_index(name='Count')\n",
    "result12 =pd.concat([True_Duplication['Duplication'],ETE3_Duplication['Duplication']], ignore_index=True,axis=1)\n",
    "result22=result12.groupby([0,1]).size().reset_index(name='Count')\n",
    "#sns.lmplot(x=result1[0], y=result1[1], data=result1);\n",
    "sns.scatterplot(data=result11, x=0, y=1, size=\"Count\", legend=False, sizes=(20, 2000), alpha=0.8)\n",
    "sns.scatterplot(data=result22, x=0, y=1, size=\"Count\", legend=False, sizes=(10, 1000), alpha=0.8)\n",
    "\n",
    "# show the graph\n",
    "\n",
    "ax=sns.regplot(x=result1[0], y=result1[1], data=result1,marker=\".\", fit_reg=True, scatter_kws={'alpha':1}, ci=None, label='reconcILS')\n",
    "ax=sns.regplot(x=result12[0], y=result12[1], data=result12, marker=\".\",fit_reg=True,scatter_kws={'alpha':1}, ci=None, label='DLCpar')\n",
    "\n",
    "\n",
    "\n",
    "\n",
    "plt.xlabel(\"True Duplication\")\n",
    "plt.ylabel(\"Infered Duplication\")\n",
    "# Show the plot\n",
    "ax.set_xlim(-0.2, 5.2)\n",
    "ax.set_ylim(-0.2, 5.2)\n",
    "\n",
    "plt.legend(bbox_to_anchor=(0.28,1))\n",
    "\n",
    "plt.savefig('regex_dups.png', dpi=500)\n",
    "\n",
    "plt.show()\n",
    "plt.clf()"
   ]
  },
  {
   "cell_type": "code",
   "execution_count": 37,
   "id": "3c918623",
   "metadata": {},
   "outputs": [
    {
     "data": {
      "image/png": "[encoded data removed]",
      "text/plain": [
       "<Figure size 432x288 with 1 Axes>"
      ]
     },
     "metadata": {
      "needs_background": "light"
     },
     "output_type": "display_data"
    },
    {
     "data": {
      "text/plain": [
       "<Figure size 432x288 with 0 Axes>"
      ]
     },
     "metadata": {},
     "output_type": "display_data"
    }
   ],
   "source": [
    "import seaborn as sns\n",
    "import numpy as np\n",
    "import matplotlib.pyplot as plt\n",
    "\n",
    "\n",
    "result1 =pd.concat([TRUE_Loss['Loss'],O_Loss['Loss']], ignore_index=True,axis=1)\n",
    "result11=result1.groupby([0,1]).size().reset_index(name='Count')\n",
    "\n",
    "result12 =pd.concat([TRUE_Loss['Loss'],ETE3_Loss['Loss']], ignore_index=True,axis=1)\n",
    "#sns.lmplot(x=result1[0], y=result1[1], data=result1);\n",
    "result22=result12.groupby([0,1]).size().reset_index(name='Count')\n",
    "sns.scatterplot(data=result11, x=0, y=1, size=\"Count\", legend=False, sizes=(20, 2000), alpha=0.8)\n",
    "sns.scatterplot(data=result22, x=0, y=1, size=\"Count\", legend=False, sizes=(10, 1000), alpha=0.8)\n",
    "\n",
    "ax=sns.regplot(x=result1[0], y=result1[1], data=result1,marker=\".\", fit_reg=True, scatter_kws={'alpha':1}, ci=None, label='reconcILS')\n",
    "ax=sns.regplot(x=result12[0], y=result12[1], data=result12, marker=\".\",fit_reg=True,scatter_kws={'alpha':1}, ci=None, label='DLCpar')\n",
    "\n",
    "\n",
    "\n",
    "plt.xlabel(\"True Loss\")\n",
    "plt.ylabel(\"Infered Loss\")\n",
    "# Show the plot\n",
    "ax.set_xlim(-0.2, 5.2)\n",
    "ax.set_ylim(-0.2, 5.2)\n",
    "\n",
    "plt.legend(bbox_to_anchor=(0.28,1))\n",
    "\n",
    "plt.savefig('regex_loss.png', dpi=500)\n",
    "\n",
    "plt.show()\n",
    "plt.clf()"
   ]
  },
  {
   "cell_type": "code",
   "execution_count": 107,
   "id": "50727417",
   "metadata": {},
   "outputs": [],
   "source": [
    "r =result1.astype('category')"
   ]
  },
  {
   "cell_type": "code",
   "execution_count": 108,
   "id": "8425dc5c",
   "metadata": {},
   "outputs": [
    {
     "data": {
      "text/html": [
       "<div>\n",
       "<style scoped>\n",
       "    .dataframe tbody tr th:only-of-type {\n",
       "        vertical-align: middle;\n",
       "    }\n",
       "\n",
       "    .dataframe tbody tr th {\n",
       "        vertical-align: top;\n",
       "    }\n",
       "\n",
       "    .dataframe thead th {\n",
       "        text-align: right;\n",
       "    }\n",
       "</style>\n",
       "<table border=\"1\" class=\"dataframe\">\n",
       "  <thead>\n",
       "    <tr style=\"text-align: right;\">\n",
       "      <th></th>\n",
       "      <th>0</th>\n",
       "      <th>1</th>\n",
       "    </tr>\n",
       "  </thead>\n",
       "  <tbody>\n",
       "    <tr>\n",
       "      <th>0</th>\n",
       "      <td>1</td>\n",
       "      <td>1</td>\n",
       "    </tr>\n",
       "    <tr>\n",
       "      <th>1</th>\n",
       "      <td>1</td>\n",
       "      <td>1</td>\n",
       "    </tr>\n",
       "    <tr>\n",
       "      <th>2</th>\n",
       "      <td>2</td>\n",
       "      <td>1</td>\n",
       "    </tr>\n",
       "    <tr>\n",
       "      <th>3</th>\n",
       "      <td>0</td>\n",
       "      <td>0</td>\n",
       "    </tr>\n",
       "    <tr>\n",
       "      <th>4</th>\n",
       "      <td>1</td>\n",
       "      <td>1</td>\n",
       "    </tr>\n",
       "    <tr>\n",
       "      <th>...</th>\n",
       "      <td>...</td>\n",
       "      <td>...</td>\n",
       "    </tr>\n",
       "    <tr>\n",
       "      <th>831</th>\n",
       "      <td>1</td>\n",
       "      <td>0</td>\n",
       "    </tr>\n",
       "    <tr>\n",
       "      <th>832</th>\n",
       "      <td>2</td>\n",
       "      <td>1</td>\n",
       "    </tr>\n",
       "    <tr>\n",
       "      <th>833</th>\n",
       "      <td>0</td>\n",
       "      <td>0</td>\n",
       "    </tr>\n",
       "    <tr>\n",
       "      <th>834</th>\n",
       "      <td>2</td>\n",
       "      <td>1</td>\n",
       "    </tr>\n",
       "    <tr>\n",
       "      <th>835</th>\n",
       "      <td>1</td>\n",
       "      <td>1</td>\n",
       "    </tr>\n",
       "  </tbody>\n",
       "</table>\n",
       "<p>836 rows × 2 columns</p>\n",
       "</div>"
      ],
      "text/plain": [
       "     0  1\n",
       "0    1  1\n",
       "1    1  1\n",
       "2    2  1\n",
       "3    0  0\n",
       "4    1  1\n",
       "..  .. ..\n",
       "831  1  0\n",
       "832  2  1\n",
       "833  0  0\n",
       "834  2  1\n",
       "835  1  1\n",
       "\n",
       "[836 rows x 2 columns]"
      ]
     },
     "execution_count": 108,
     "metadata": {},
     "output_type": "execute_result"
    }
   ],
   "source": [
    "r"
   ]
  },
  {
   "cell_type": "code",
   "execution_count": 109,
   "id": "3ebb3e45",
   "metadata": {},
   "outputs": [
    {
     "data": {
      "image/png": "[encoded data removed]",
      "text/plain": [
       "<Figure size 432x288 with 1 Axes>"
      ]
     },
     "metadata": {
      "needs_background": "light"
     },
     "output_type": "display_data"
    }
   ],
   "source": [
    "import pandas as pd\n",
    "import numpy as np\n",
    "import seaborn as sns\n",
    "import matplotlib.pyplot as plt\n",
    "\n",
    "df = pd.DataFrame(np.random.randn(50).reshape(10,5))\n",
    "corr = df.corr()\n",
    "\n",
    "ax1 = sns.heatmap(corr, cbar=0, linewidths=2,vmax=1, vmin=0, square=True, cmap='Blues')\n",
    "plt.show()"
   ]
  },
  {
   "cell_type": "code",
   "execution_count": null,
   "id": "5d69079d",
   "metadata": {},
   "outputs": [],
   "source": []
  },
  {
   "cell_type": "code",
   "execution_count": 67,
   "id": "878338d4",
   "metadata": {},
   "outputs": [
    {
     "data": {
      "text/plain": [
       "array([[1, 1, 2, ..., 0, 2, 1],\n",
       "       [1, 1, 1, ..., 0, 1, 1]])"
      ]
     },
     "execution_count": 67,
     "metadata": {},
     "output_type": "execute_result"
    }
   ],
   "source": [
    "np.array([list(result1[0]), list(result1[1])])"
   ]
  },
  {
   "cell_type": "code",
   "execution_count": null,
   "id": "f72d744b",
   "metadata": {},
   "outputs": [],
   "source": []
  },
  {
   "cell_type": "code",
   "execution_count": 141,
   "id": "5ce33453",
   "metadata": {},
   "outputs": [
    {
     "data": {
      "image/png": "[encoded data removed]",
      "text/plain": [
       "<Figure size 432x288 with 1 Axes>"
      ]
     },
     "metadata": {
      "needs_background": "light"
     },
     "output_type": "display_data"
    },
    {
     "data": {
      "text/plain": [
       "<Figure size 432x288 with 0 Axes>"
      ]
     },
     "metadata": {},
     "output_type": "display_data"
    }
   ],
   "source": [
    "import seaborn as sns\n",
    "import numpy as np\n",
    "import matplotlib.pyplot as plt\n",
    "\n",
    "\n",
    "\n",
    "\n",
    "\n",
    "\n",
    "result1 =pd.concat([TRUE_NNI['NNI'],O_NNI['NNI']], ignore_index=True,axis=1)\n",
    "result11=result1.groupby([0,1]).size().reset_index(name='Count')\n",
    "result12 =pd.concat([True_DLCILS['DLCILS'],ETE3_DLCILS['DLCILS']], ignore_index=True,axis=1)\n",
    "#sns.lmplot(x=result1[0], y=result1[1], data=result1);\n",
    "result22=result12.groupby([0,1]).size().reset_index(name='Count')\n",
    "\n",
    "#sns.lmplot(x=result1[0], y=result1[1], data=result1);\n",
    "sns.scatterplot(data=result11, x=0, y=1, size=\"Count\", legend=False, sizes=(20, 2000), alpha=0.8)\n",
    "sns.scatterplot(data=result22, x=0, y=1, size=\"Count\", legend=False, sizes=(10, 1000), alpha=0.8)\n",
    "\n",
    "ax=sns.regplot(x=result1[0], y=result1[1], data=result1,marker=\".\", fit_reg=True, scatter_kws={'alpha':1}, ci=None, label='reconcILS')\n",
    "ax=sns.regplot(x=result12[0], y=result12[1], data=result12, marker=\".\",fit_reg=True,scatter_kws={'alpha':1}, ci=None, label='DLCpar')\n",
    "\n",
    "\n",
    "\n",
    "plt.xlabel(\"True NNI\")\n",
    "plt.ylabel(\"Infered NNI\")\n",
    "# Show the plot\n",
    "ax.set_xlim(-0.2, 5.2)\n",
    "ax.set_ylim(-0.2, 5.2)\n",
    "\n",
    "plt.legend(bbox_to_anchor=(0.28,1))\n",
    "\n",
    "plt.savefig('regex_NNI.png', dpi=500)\n",
    "\n",
    "plt.show()\n",
    "plt.clf()"
   ]
  },
  {
   "cell_type": "code",
   "execution_count": 69,
   "id": "f11c9c9b",
   "metadata": {},
   "outputs": [
    {
     "data": {
      "image/png": "[encoded data removed]",
      "text/plain": [
       "<Figure size 432x288 with 1 Axes>"
      ]
     },
     "metadata": {
      "needs_background": "light"
     },
     "output_type": "display_data"
    },
    {
     "data": {
      "image/png": "[encoded data removed]",
      "text/plain": [
       "<Figure size 432x288 with 1 Axes>"
      ]
     },
     "metadata": {
      "needs_background": "light"
     },
     "output_type": "display_data"
    }
   ],
   "source": [
    "import seaborn as sns\n",
    "\n",
    "\n",
    "\n",
    "result1 =pd.concat([TRUE_Loss,O_Loss.rename(columns={'b':'a'})], ignore_index=True,axis=1)\n",
    "result2 =pd.concat([TRUE_Loss,ETE3_Loss.rename(columns={'b':'a'})], ignore_index=True,axis=1)\n",
    "sns.scatterplot(data=result1,x=1,y=0)\n",
    "plt.xlabel(\"True Duplications\")\n",
    "plt.ylabel(\"Infered Duplications reconcILS\")\n",
    "# Show the plot\n",
    "plt.show()\n",
    "plt.clf()\n",
    "\n",
    "sns.scatterplot(data=result2,x=1,y=0)\n",
    "plt.xlabel(\"True Duplications\")\n",
    "plt.ylabel(\"Infered Duplications LCA\")\n",
    "plt.show()"
   ]
  },
  {
   "cell_type": "code",
   "execution_count": 70,
   "id": "dffb763a",
   "metadata": {},
   "outputs": [
    {
     "data": {
      "image/png": "[encoded data removed]",
      "text/plain": [
       "<Figure size 432x288 with 1 Axes>"
      ]
     },
     "metadata": {
      "needs_background": "light"
     },
     "output_type": "display_data"
    }
   ],
   "source": [
    "import seaborn as sns\n",
    "\n",
    "\n",
    "\n",
    "result =pd.concat([TRUE_Loss,O_Loss.rename(columns={'b':'a'})], ignore_index=True,axis=1)\n",
    "sns.scatterplot(data=result,x=1,y=0)\n",
    " \n",
    "# Show the plot\n",
    "plt.show()"
   ]
  },
  {
   "cell_type": "code",
   "execution_count": 142,
   "id": "c8e5c2cd",
   "metadata": {},
   "outputs": [],
   "source": [
    "from scipy.stats import spearmanr\n",
    "rho, p = spearmanr(pd.DataFrame(list(df[(df.Process == \"True Process\")]['Loss']),columns=['NNI']),pd.DataFrame(list(df[(df.Process == \"DLCpar\")]['Loss']),columns=['NNI']))"
   ]
  },
  {
   "cell_type": "code",
   "execution_count": 143,
   "id": "f1b3a738",
   "metadata": {},
   "outputs": [
    {
     "data": {
      "text/plain": [
       "0.22715492065611584"
      ]
     },
     "execution_count": 143,
     "metadata": {},
     "output_type": "execute_result"
    }
   ],
   "source": [
    "rho"
   ]
  },
  {
   "cell_type": "code",
   "execution_count": 144,
   "id": "8c59b23b",
   "metadata": {},
   "outputs": [],
   "source": [
    "from scipy.stats import spearmanr\n",
    "rho, p = spearmanr(pd.DataFrame(list(df[(df.Process == \"True Process\")]['Loss']),columns=['NNI']),pd.DataFrame(list(df[(df.Process == \"Our_algorithm\")]['Loss']),columns=['NNI']))"
   ]
  },
  {
   "cell_type": "code",
   "execution_count": 145,
   "id": "5405facf",
   "metadata": {},
   "outputs": [
    {
     "data": {
      "text/plain": [
       "0.5857584796166706"
      ]
     },
     "execution_count": 145,
     "metadata": {},
     "output_type": "execute_result"
    }
   ],
   "source": [
    "rho"
   ]
  },
  {
   "cell_type": "code",
   "execution_count": 146,
   "id": "b833987e",
   "metadata": {},
   "outputs": [],
   "source": [
    "from scipy.stats import spearmanr\n",
    "rho, p = spearmanr(pd.DataFrame(list(df[(df.Process == \"True Process\")]['Duplication']),columns=['NNI']),pd.DataFrame(list(df[(df.Process == \"DLCpar\")]['Duplication']),columns=['NNI']))"
   ]
  },
  {
   "cell_type": "code",
   "execution_count": 147,
   "id": "1b33334f",
   "metadata": {},
   "outputs": [
    {
     "data": {
      "text/plain": [
       "0.8706893376025674"
      ]
     },
     "execution_count": 147,
     "metadata": {},
     "output_type": "execute_result"
    }
   ],
   "source": [
    "rho"
   ]
  },
  {
   "cell_type": "code",
   "execution_count": 148,
   "id": "c2d2b9a7",
   "metadata": {},
   "outputs": [],
   "source": [
    "from scipy.stats import spearmanr\n",
    "rho, p = spearmanr(pd.DataFrame(list(df[(df.Process == \"True Process\")]['Duplication']),columns=['NNI']),pd.DataFrame(list(df[(df.Process == \"Our_algorithm\")]['Duplication']),columns=['NNI']))"
   ]
  },
  {
   "cell_type": "code",
   "execution_count": 149,
   "id": "d4f578f7",
   "metadata": {},
   "outputs": [
    {
     "data": {
      "text/plain": [
       "0.8715649781662739"
      ]
     },
     "execution_count": 149,
     "metadata": {},
     "output_type": "execute_result"
    }
   ],
   "source": [
    "rho"
   ]
  },
  {
   "cell_type": "code",
   "execution_count": 150,
   "id": "4edf35dd",
   "metadata": {},
   "outputs": [],
   "source": [
    "from scipy.stats import spearmanr\n",
    "rho, p = spearmanr(pd.DataFrame(list(df[(df.Process == \"True Process\")]['DLCILS']),columns=['NNI']),pd.DataFrame(list(df[(df.Process == \"DLCpar\")]['DLCILS']),columns=['NNI']))"
   ]
  },
  {
   "cell_type": "code",
   "execution_count": 151,
   "id": "e29bff96",
   "metadata": {},
   "outputs": [
    {
     "data": {
      "text/plain": [
       "0.6074316905964681"
      ]
     },
     "execution_count": 151,
     "metadata": {},
     "output_type": "execute_result"
    }
   ],
   "source": [
    "rho"
   ]
  },
  {
   "cell_type": "code",
   "execution_count": 152,
   "id": "72f97d0b",
   "metadata": {},
   "outputs": [],
   "source": [
    "from scipy.stats import spearmanr\n",
    "rho, p = spearmanr(pd.DataFrame(list(df[(df.Process == \"True Process\")]['NNI']),columns=['NNI']),pd.DataFrame(list(df[(df.Process == \"Our_algorithm\")]['NNI']),columns=['NNI']))"
   ]
  },
  {
   "cell_type": "code",
   "execution_count": 153,
   "id": "ee6268e7",
   "metadata": {},
   "outputs": [
    {
     "data": {
      "text/plain": [
       "0.7477744445481845"
      ]
     },
     "execution_count": 153,
     "metadata": {},
     "output_type": "execute_result"
    }
   ],
   "source": [
    "rho"
   ]
  },
  {
   "cell_type": "code",
   "execution_count": null,
   "id": "382a2058",
   "metadata": {},
   "outputs": [],
   "source": []
  },
  {
   "cell_type": "code",
   "execution_count": null,
   "id": "25ebc1bc",
   "metadata": {},
   "outputs": [],
   "source": []
  },
  {
   "cell_type": "code",
   "execution_count": null,
   "id": "7f5d4a7a",
   "metadata": {},
   "outputs": [],
   "source": []
  }
 ],
 "metadata": {
  "kernelspec": {
   "display_name": "Python 3 (ipykernel)",
   "language": "python",
   "name": "python3"
  },
  "language_info": {
   "codemirror_mode": {
    "name": "ipython",
    "version": 3
   },
   "file_extension": ".py",
   "mimetype": "text/x-python",
   "name": "python",
   "nbconvert_exporter": "python",
   "pygments_lexer": "ipython3",
   "version": "3.9.12"
  }
 },
 "nbformat": 4,
 "nbformat_minor": 5
}
