{
 "cells": [
  {
   "cell_type": "code",
   "execution_count": 278,
   "id": "c64fb931",
   "metadata": {},
   "outputs": [],
   "source": [
    "import pandas as pd\n",
    "import seaborn as sns\n",
    "import matplotlib.pyplot as plt"
   ]
  },
  {
   "cell_type": "code",
   "execution_count": 279,
   "id": "4567ea5e",
   "metadata": {},
   "outputs": [],
   "source": [
    "from collections import Counter"
   ]
  },
  {
   "cell_type": "code",
   "execution_count": 321,
   "id": "bc9c6276",
   "metadata": {},
   "outputs": [],
   "source": [
    "df_time = pd.read_csv('./bin/9_19_1000_time_result.csv')"
   ]
  },
  {
   "cell_type": "code",
   "execution_count": 281,
   "id": "ab63f92e",
   "metadata": {},
   "outputs": [
    {
     "data": {
      "text/plain": [
       "0.9625570599891944"
      ]
     },
     "execution_count": 281,
     "metadata": {},
     "output_type": "execute_result"
    }
   ],
   "source": [
    "df_time['reconcILSTime'][33]"
   ]
  },
  {
   "cell_type": "code",
   "execution_count": 282,
   "id": "4a12f60a",
   "metadata": {},
   "outputs": [
    {
     "data": {
      "text/plain": [
       "0.5474172579997685"
      ]
     },
     "execution_count": 282,
     "metadata": {},
     "output_type": "execute_result"
    }
   ],
   "source": [
    "df_time['dlcparTime'][31]"
   ]
  },
  {
   "cell_type": "code",
   "execution_count": 283,
   "id": "5ab4fc9b",
   "metadata": {},
   "outputs": [
    {
     "data": {
      "text/plain": [
       "<AxesSubplot:>"
      ]
     },
     "execution_count": 283,
     "metadata": {},
     "output_type": "execute_result"
    },
    {
     "data": {
      "image/png": "[encoded data removed]",
      "text/plain": [
       "<Figure size 432x288 with 1 Axes>"
      ]
     },
     "metadata": {
      "needs_background": "light"
     },
     "output_type": "display_data"
    }
   ],
   "source": [
    "df_time[['reconcILSTime','dlcparTime']].plot()"
   ]
  },
  {
   "cell_type": "code",
   "execution_count": 284,
   "id": "4086be22",
   "metadata": {},
   "outputs": [
    {
     "data": {
      "text/plain": [
       "reconcILSTime    0.069832\n",
       "dlcparTime       0.554922\n",
       "dtype: float64"
      ]
     },
     "execution_count": 284,
     "metadata": {},
     "output_type": "execute_result"
    }
   ],
   "source": [
    "df_time[['reconcILSTime','dlcparTime']].mean()"
   ]
  },
  {
   "cell_type": "code",
   "execution_count": 285,
   "id": "61d89dc2",
   "metadata": {},
   "outputs": [
    {
     "data": {
      "text/plain": [
       "[]"
      ]
     },
     "execution_count": 285,
     "metadata": {},
     "output_type": "execute_result"
    }
   ],
   "source": [
    "list(df_time[df_time.reconcILSTime>50]['Gene_tree'])"
   ]
  },
  {
   "cell_type": "code",
   "execution_count": 286,
   "id": "19efb4ec",
   "metadata": {},
   "outputs": [
    {
     "data": {
      "text/html": [
       "<div>\n",
       "<style scoped>\n",
       "    .dataframe tbody tr th:only-of-type {\n",
       "        vertical-align: middle;\n",
       "    }\n",
       "\n",
       "    .dataframe tbody tr th {\n",
       "        vertical-align: top;\n",
       "    }\n",
       "\n",
       "    .dataframe thead th {\n",
       "        text-align: right;\n",
       "    }\n",
       "</style>\n",
       "<table border=\"1\" class=\"dataframe\">\n",
       "  <thead>\n",
       "    <tr style=\"text-align: right;\">\n",
       "      <th></th>\n",
       "      <th>Replicate</th>\n",
       "      <th>Gene_tree</th>\n",
       "      <th>reconcILSTime</th>\n",
       "      <th>dlcparTime</th>\n",
       "    </tr>\n",
       "  </thead>\n",
       "  <tbody>\n",
       "    <tr>\n",
       "      <th>33</th>\n",
       "      <td>40</td>\n",
       "      <td>((((((A,A),A),(A,A)),A),(A,A)),(B,C));</td>\n",
       "      <td>0.962557</td>\n",
       "      <td>0.755544</td>\n",
       "    </tr>\n",
       "    <tr>\n",
       "      <th>88</th>\n",
       "      <td>102</td>\n",
       "      <td>((((((B,C),B),B),(C,B)),(A,B)),C);</td>\n",
       "      <td>1.030542</td>\n",
       "      <td>0.928811</td>\n",
       "    </tr>\n",
       "    <tr>\n",
       "      <th>214</th>\n",
       "      <td>253</td>\n",
       "      <td>((((C,C),((B,B),C)),B),A);</td>\n",
       "      <td>0.658344</td>\n",
       "      <td>0.553096</td>\n",
       "    </tr>\n",
       "    <tr>\n",
       "      <th>298</th>\n",
       "      <td>351</td>\n",
       "      <td>(((A,A),(((C,C),B),(B,C))),A);</td>\n",
       "      <td>1.141082</td>\n",
       "      <td>0.587176</td>\n",
       "    </tr>\n",
       "    <tr>\n",
       "      <th>317</th>\n",
       "      <td>377</td>\n",
       "      <td>(((A,A),A),((((C,B),B),B),A));</td>\n",
       "      <td>1.168662</td>\n",
       "      <td>0.595688</td>\n",
       "    </tr>\n",
       "    <tr>\n",
       "      <th>322</th>\n",
       "      <td>383</td>\n",
       "      <td>(A,(((C,((B,C),C)),A),B));</td>\n",
       "      <td>0.655082</td>\n",
       "      <td>0.623220</td>\n",
       "    </tr>\n",
       "    <tr>\n",
       "      <th>468</th>\n",
       "      <td>549</td>\n",
       "      <td>(((A,A),A),(((C,B),(B,C)),((C,C),B)));</td>\n",
       "      <td>3.764758</td>\n",
       "      <td>0.543630</td>\n",
       "    </tr>\n",
       "    <tr>\n",
       "      <th>487</th>\n",
       "      <td>571</td>\n",
       "      <td>((B,C),(((C,C),C),((A,A),A)));</td>\n",
       "      <td>0.897446</td>\n",
       "      <td>0.551892</td>\n",
       "    </tr>\n",
       "    <tr>\n",
       "      <th>505</th>\n",
       "      <td>590</td>\n",
       "      <td>(((((C,B),(C,B)),A),((C,C),((C,C),B))),(C,B));</td>\n",
       "      <td>1.250543</td>\n",
       "      <td>0.965528</td>\n",
       "    </tr>\n",
       "    <tr>\n",
       "      <th>553</th>\n",
       "      <td>649</td>\n",
       "      <td>(((A,A),((C,(C,B)),B)),A);</td>\n",
       "      <td>0.656495</td>\n",
       "      <td>0.594439</td>\n",
       "    </tr>\n",
       "    <tr>\n",
       "      <th>614</th>\n",
       "      <td>727</td>\n",
       "      <td>((((B,C),B),((A,A),A)),A);</td>\n",
       "      <td>0.633637</td>\n",
       "      <td>0.550808</td>\n",
       "    </tr>\n",
       "    <tr>\n",
       "      <th>790</th>\n",
       "      <td>948</td>\n",
       "      <td>(((A,A),((B,C),C)),(((B,C),(B,C)),(B,C)));</td>\n",
       "      <td>3.905396</td>\n",
       "      <td>0.667052</td>\n",
       "    </tr>\n",
       "    <tr>\n",
       "      <th>827</th>\n",
       "      <td>991</td>\n",
       "      <td>((((B,B),C),(((C,C),C),((C,B),(C,C)))),A);</td>\n",
       "      <td>1.148571</td>\n",
       "      <td>0.709980</td>\n",
       "    </tr>\n",
       "  </tbody>\n",
       "</table>\n",
       "</div>"
      ],
      "text/plain": [
       "     Replicate                                       Gene_tree  reconcILSTime  \\\n",
       "33          40          ((((((A,A),A),(A,A)),A),(A,A)),(B,C));       0.962557   \n",
       "88         102              ((((((B,C),B),B),(C,B)),(A,B)),C);       1.030542   \n",
       "214        253                      ((((C,C),((B,B),C)),B),A);       0.658344   \n",
       "298        351                  (((A,A),(((C,C),B),(B,C))),A);       1.141082   \n",
       "317        377                  (((A,A),A),((((C,B),B),B),A));       1.168662   \n",
       "322        383                      (A,(((C,((B,C),C)),A),B));       0.655082   \n",
       "468        549          (((A,A),A),(((C,B),(B,C)),((C,C),B)));       3.764758   \n",
       "487        571                  ((B,C),(((C,C),C),((A,A),A)));       0.897446   \n",
       "505        590  (((((C,B),(C,B)),A),((C,C),((C,C),B))),(C,B));       1.250543   \n",
       "553        649                      (((A,A),((C,(C,B)),B)),A);       0.656495   \n",
       "614        727                      ((((B,C),B),((A,A),A)),A);       0.633637   \n",
       "790        948      (((A,A),((B,C),C)),(((B,C),(B,C)),(B,C)));       3.905396   \n",
       "827        991      ((((B,B),C),(((C,C),C),((C,B),(C,C)))),A);       1.148571   \n",
       "\n",
       "     dlcparTime  \n",
       "33     0.755544  \n",
       "88     0.928811  \n",
       "214    0.553096  \n",
       "298    0.587176  \n",
       "317    0.595688  \n",
       "322    0.623220  \n",
       "468    0.543630  \n",
       "487    0.551892  \n",
       "505    0.965528  \n",
       "553    0.594439  \n",
       "614    0.550808  \n",
       "790    0.667052  \n",
       "827    0.709980  "
      ]
     },
     "execution_count": 286,
     "metadata": {},
     "output_type": "execute_result"
    }
   ],
   "source": [
    "df_diff_D = df_time[df_time['dlcparTime']<df_time['reconcILSTime']].fillna('')\n",
    "df_diff_D"
   ]
  },
  {
   "cell_type": "code",
   "execution_count": 287,
   "id": "fbb004a8",
   "metadata": {},
   "outputs": [
    {
     "data": {
      "text/html": [
       "<div>\n",
       "<style scoped>\n",
       "    .dataframe tbody tr th:only-of-type {\n",
       "        vertical-align: middle;\n",
       "    }\n",
       "\n",
       "    .dataframe tbody tr th {\n",
       "        vertical-align: top;\n",
       "    }\n",
       "\n",
       "    .dataframe thead th {\n",
       "        text-align: right;\n",
       "    }\n",
       "</style>\n",
       "<table border=\"1\" class=\"dataframe\">\n",
       "  <thead>\n",
       "    <tr style=\"text-align: right;\">\n",
       "      <th></th>\n",
       "      <th>Replicate</th>\n",
       "      <th>Gene_tree</th>\n",
       "      <th>reconcILSTime</th>\n",
       "      <th>dlcparTime</th>\n",
       "    </tr>\n",
       "  </thead>\n",
       "  <tbody>\n",
       "  </tbody>\n",
       "</table>\n",
       "</div>"
      ],
      "text/plain": [
       "Empty DataFrame\n",
       "Columns: [Replicate, Gene_tree, reconcILSTime, dlcparTime]\n",
       "Index: []"
      ]
     },
     "execution_count": 287,
     "metadata": {},
     "output_type": "execute_result"
    }
   ],
   "source": [
    "df_diff_D[(df_diff_D.reconcILSTime >100)]"
   ]
  },
  {
   "cell_type": "code",
   "execution_count": null,
   "id": "f6609726",
   "metadata": {},
   "outputs": [],
   "source": []
  },
  {
   "cell_type": "code",
   "execution_count": null,
   "id": "ccd6f128",
   "metadata": {},
   "outputs": [],
   "source": []
  },
  {
   "cell_type": "code",
   "execution_count": 322,
   "id": "ad7aaf78",
   "metadata": {},
   "outputs": [],
   "source": [
    "df = pd.read_csv('./bin/9_19_1000_result.csv')"
   ]
  },
  {
   "cell_type": "code",
   "execution_count": 323,
   "id": "7ec526b7",
   "metadata": {},
   "outputs": [
    {
     "data": {
      "text/html": [
       "<div>\n",
       "<style scoped>\n",
       "    .dataframe tbody tr th:only-of-type {\n",
       "        vertical-align: middle;\n",
       "    }\n",
       "\n",
       "    .dataframe tbody tr th {\n",
       "        vertical-align: top;\n",
       "    }\n",
       "\n",
       "    .dataframe thead th {\n",
       "        text-align: right;\n",
       "    }\n",
       "</style>\n",
       "<table border=\"1\" class=\"dataframe\">\n",
       "  <thead>\n",
       "    <tr style=\"text-align: right;\">\n",
       "      <th></th>\n",
       "      <th>Process</th>\n",
       "      <th>Replicate</th>\n",
       "      <th>Gene_tree</th>\n",
       "      <th>Species_Tree</th>\n",
       "      <th>Duplication</th>\n",
       "      <th>NNI</th>\n",
       "      <th>DLCILS</th>\n",
       "      <th>Loss</th>\n",
       "      <th>Hemiplasy</th>\n",
       "      <th>RHemiplasy</th>\n",
       "    </tr>\n",
       "  </thead>\n",
       "  <tbody>\n",
       "    <tr>\n",
       "      <th>0</th>\n",
       "      <td>True Process</td>\n",
       "      <td>0</td>\n",
       "      <td>(A,B);</td>\n",
       "      <td>((A,(B,C));</td>\n",
       "      <td>0</td>\n",
       "      <td>0</td>\n",
       "      <td>0</td>\n",
       "      <td>1</td>\n",
       "      <td>0</td>\n",
       "      <td>1</td>\n",
       "    </tr>\n",
       "    <tr>\n",
       "      <th>1</th>\n",
       "      <td>DLCpar</td>\n",
       "      <td>0</td>\n",
       "      <td>(A,B);</td>\n",
       "      <td>((A,(B,C));</td>\n",
       "      <td>0</td>\n",
       "      <td>0</td>\n",
       "      <td>0</td>\n",
       "      <td>1</td>\n",
       "      <td>0</td>\n",
       "      <td>0</td>\n",
       "    </tr>\n",
       "    <tr>\n",
       "      <th>2</th>\n",
       "      <td>Our_algorithm</td>\n",
       "      <td>0</td>\n",
       "      <td>(A,B);</td>\n",
       "      <td>((A,(B,C));</td>\n",
       "      <td>0</td>\n",
       "      <td>0</td>\n",
       "      <td>0</td>\n",
       "      <td>1</td>\n",
       "      <td>0</td>\n",
       "      <td>0</td>\n",
       "    </tr>\n",
       "    <tr>\n",
       "      <th>3</th>\n",
       "      <td>True Process</td>\n",
       "      <td>1</td>\n",
       "      <td>((C,B),B);</td>\n",
       "      <td>((A,(B,C));</td>\n",
       "      <td>1</td>\n",
       "      <td>1</td>\n",
       "      <td>1</td>\n",
       "      <td>1</td>\n",
       "      <td>0</td>\n",
       "      <td>1</td>\n",
       "    </tr>\n",
       "    <tr>\n",
       "      <th>4</th>\n",
       "      <td>DLCpar</td>\n",
       "      <td>1</td>\n",
       "      <td>((C,B),B);</td>\n",
       "      <td>((A,(B,C));</td>\n",
       "      <td>1</td>\n",
       "      <td>0</td>\n",
       "      <td>1</td>\n",
       "      <td>0</td>\n",
       "      <td>0</td>\n",
       "      <td>0</td>\n",
       "    </tr>\n",
       "    <tr>\n",
       "      <th>...</th>\n",
       "      <td>...</td>\n",
       "      <td>...</td>\n",
       "      <td>...</td>\n",
       "      <td>...</td>\n",
       "      <td>...</td>\n",
       "      <td>...</td>\n",
       "      <td>...</td>\n",
       "      <td>...</td>\n",
       "      <td>...</td>\n",
       "      <td>...</td>\n",
       "    </tr>\n",
       "    <tr>\n",
       "      <th>2503</th>\n",
       "      <td>DLCpar</td>\n",
       "      <td>998</td>\n",
       "      <td>((A,C),A);</td>\n",
       "      <td>((A,(B,C));</td>\n",
       "      <td>1</td>\n",
       "      <td>0</td>\n",
       "      <td>0</td>\n",
       "      <td>2</td>\n",
       "      <td>0</td>\n",
       "      <td>0</td>\n",
       "    </tr>\n",
       "    <tr>\n",
       "      <th>2504</th>\n",
       "      <td>Our_algorithm</td>\n",
       "      <td>998</td>\n",
       "      <td>((A,C),A);</td>\n",
       "      <td>((A,(B,C));</td>\n",
       "      <td>1</td>\n",
       "      <td>1</td>\n",
       "      <td>0</td>\n",
       "      <td>1</td>\n",
       "      <td>0</td>\n",
       "      <td>0</td>\n",
       "    </tr>\n",
       "    <tr>\n",
       "      <th>2505</th>\n",
       "      <td>True Process</td>\n",
       "      <td>999</td>\n",
       "      <td>(A,C);</td>\n",
       "      <td>((A,(B,C));</td>\n",
       "      <td>0</td>\n",
       "      <td>0</td>\n",
       "      <td>0</td>\n",
       "      <td>1</td>\n",
       "      <td>0</td>\n",
       "      <td>1</td>\n",
       "    </tr>\n",
       "    <tr>\n",
       "      <th>2506</th>\n",
       "      <td>DLCpar</td>\n",
       "      <td>999</td>\n",
       "      <td>(A,C);</td>\n",
       "      <td>((A,(B,C));</td>\n",
       "      <td>0</td>\n",
       "      <td>0</td>\n",
       "      <td>0</td>\n",
       "      <td>1</td>\n",
       "      <td>0</td>\n",
       "      <td>0</td>\n",
       "    </tr>\n",
       "    <tr>\n",
       "      <th>2507</th>\n",
       "      <td>Our_algorithm</td>\n",
       "      <td>999</td>\n",
       "      <td>(A,C);</td>\n",
       "      <td>((A,(B,C));</td>\n",
       "      <td>0</td>\n",
       "      <td>0</td>\n",
       "      <td>0</td>\n",
       "      <td>1</td>\n",
       "      <td>0</td>\n",
       "      <td>0</td>\n",
       "    </tr>\n",
       "  </tbody>\n",
       "</table>\n",
       "<p>2508 rows × 10 columns</p>\n",
       "</div>"
      ],
      "text/plain": [
       "            Process  Replicate   Gene_tree Species_Tree  Duplication  NNI  \\\n",
       "0      True Process          0      (A,B);  ((A,(B,C));            0    0   \n",
       "1            DLCpar          0      (A,B);  ((A,(B,C));            0    0   \n",
       "2     Our_algorithm          0      (A,B);  ((A,(B,C));            0    0   \n",
       "3      True Process          1  ((C,B),B);  ((A,(B,C));            1    1   \n",
       "4            DLCpar          1  ((C,B),B);  ((A,(B,C));            1    0   \n",
       "...             ...        ...         ...          ...          ...  ...   \n",
       "2503         DLCpar        998  ((A,C),A);  ((A,(B,C));            1    0   \n",
       "2504  Our_algorithm        998  ((A,C),A);  ((A,(B,C));            1    1   \n",
       "2505   True Process        999      (A,C);  ((A,(B,C));            0    0   \n",
       "2506         DLCpar        999      (A,C);  ((A,(B,C));            0    0   \n",
       "2507  Our_algorithm        999      (A,C);  ((A,(B,C));            0    0   \n",
       "\n",
       "      DLCILS  Loss  Hemiplasy  RHemiplasy  \n",
       "0          0     1          0           1  \n",
       "1          0     1          0           0  \n",
       "2          0     1          0           0  \n",
       "3          1     1          0           1  \n",
       "4          1     0          0           0  \n",
       "...      ...   ...        ...         ...  \n",
       "2503       0     2          0           0  \n",
       "2504       0     1          0           0  \n",
       "2505       0     1          0           1  \n",
       "2506       0     1          0           0  \n",
       "2507       0     1          0           0  \n",
       "\n",
       "[2508 rows x 10 columns]"
      ]
     },
     "execution_count": 323,
     "metadata": {},
     "output_type": "execute_result"
    }
   ],
   "source": [
    "df"
   ]
  },
  {
   "cell_type": "code",
   "execution_count": null,
   "id": "84d8a706",
   "metadata": {},
   "outputs": [],
   "source": []
  },
  {
   "cell_type": "code",
   "execution_count": null,
   "id": "20111efe",
   "metadata": {},
   "outputs": [],
   "source": []
  },
  {
   "cell_type": "code",
   "execution_count": null,
   "id": "8b55a327",
   "metadata": {},
   "outputs": [],
   "source": []
  },
  {
   "cell_type": "code",
   "execution_count": 290,
   "id": "84d2a60d",
   "metadata": {},
   "outputs": [
    {
     "data": {
      "text/html": [
       "<div>\n",
       "<style scoped>\n",
       "    .dataframe tbody tr th:only-of-type {\n",
       "        vertical-align: middle;\n",
       "    }\n",
       "\n",
       "    .dataframe tbody tr th {\n",
       "        vertical-align: top;\n",
       "    }\n",
       "\n",
       "    .dataframe thead th {\n",
       "        text-align: right;\n",
       "    }\n",
       "</style>\n",
       "<table border=\"1\" class=\"dataframe\">\n",
       "  <thead>\n",
       "    <tr style=\"text-align: right;\">\n",
       "      <th></th>\n",
       "      <th>Process</th>\n",
       "      <th>Replicate</th>\n",
       "      <th>Gene_tree</th>\n",
       "      <th>Species_Tree</th>\n",
       "      <th>Duplication</th>\n",
       "      <th>NNI</th>\n",
       "      <th>DLCILS</th>\n",
       "      <th>Loss</th>\n",
       "      <th>Hemiplasy</th>\n",
       "      <th>RHemiplasy</th>\n",
       "    </tr>\n",
       "  </thead>\n",
       "  <tbody>\n",
       "    <tr>\n",
       "      <th>2334</th>\n",
       "      <td>True Process</td>\n",
       "      <td>933</td>\n",
       "      <td>(((B,B),C),A);</td>\n",
       "      <td>((A,(B,C));</td>\n",
       "      <td>1</td>\n",
       "      <td>0</td>\n",
       "      <td>0</td>\n",
       "      <td>0</td>\n",
       "      <td>0</td>\n",
       "      <td>0</td>\n",
       "    </tr>\n",
       "    <tr>\n",
       "      <th>2335</th>\n",
       "      <td>DLCpar</td>\n",
       "      <td>933</td>\n",
       "      <td>(((B,B),C),A);</td>\n",
       "      <td>((A,(B,C));</td>\n",
       "      <td>1</td>\n",
       "      <td>0</td>\n",
       "      <td>0</td>\n",
       "      <td>0</td>\n",
       "      <td>0</td>\n",
       "      <td>0</td>\n",
       "    </tr>\n",
       "    <tr>\n",
       "      <th>2336</th>\n",
       "      <td>Our_algorithm</td>\n",
       "      <td>933</td>\n",
       "      <td>(((B,B),C),A);</td>\n",
       "      <td>((A,(B,C));</td>\n",
       "      <td>1</td>\n",
       "      <td>0</td>\n",
       "      <td>0</td>\n",
       "      <td>0</td>\n",
       "      <td>0</td>\n",
       "      <td>0</td>\n",
       "    </tr>\n",
       "  </tbody>\n",
       "</table>\n",
       "</div>"
      ],
      "text/plain": [
       "            Process  Replicate       Gene_tree Species_Tree  Duplication  NNI  \\\n",
       "2334   True Process        933  (((B,B),C),A);  ((A,(B,C));            1    0   \n",
       "2335         DLCpar        933  (((B,B),C),A);  ((A,(B,C));            1    0   \n",
       "2336  Our_algorithm        933  (((B,B),C),A);  ((A,(B,C));            1    0   \n",
       "\n",
       "      DLCILS  Loss  Hemiplasy  RHemiplasy  \n",
       "2334       0     0          0           0  \n",
       "2335       0     0          0           0  \n",
       "2336       0     0          0           0  "
      ]
     },
     "execution_count": 290,
     "metadata": {},
     "output_type": "execute_result"
    }
   ],
   "source": [
    "df[(df.Replicate == 933)]"
   ]
  },
  {
   "cell_type": "code",
   "execution_count": null,
   "id": "3ac8e083",
   "metadata": {},
   "outputs": [],
   "source": []
  },
  {
   "cell_type": "code",
   "execution_count": null,
   "id": "8b285ae5",
   "metadata": {},
   "outputs": [],
   "source": []
  },
  {
   "cell_type": "code",
   "execution_count": 324,
   "id": "b60d94c4",
   "metadata": {},
   "outputs": [],
   "source": [
    "True_Duplication = pd.DataFrame(list(df[(df.Process == \"True Process\")]['Duplication']),columns=['Duplication'])\n",
    "TRUE_NNI = pd.DataFrame(list(df[(df.Process == \"True Process\")]['NNI']),columns=['NNI'])\n",
    "TRUE_Loss = pd.DataFrame(list(df[(df.Process == \"True Process\")]['Loss']),columns=['Loss'])\n",
    "True_DLCILS= pd.DataFrame(list(df[(df.Process == \"True Process\")]['DLCILS']),columns=['DLCILS'])\n",
    "concat_true = pd.concat([True_Duplication,TRUE_Loss],axis=1)"
   ]
  },
  {
   "cell_type": "code",
   "execution_count": 325,
   "id": "7c676a58",
   "metadata": {},
   "outputs": [],
   "source": [
    "O_Duplication = pd.DataFrame(list(df[(df.Process == \"Our_algorithm\")]['Duplication']),columns=['Duplication'])\n",
    "O_NNI = pd.DataFrame(list(df[(df.Process == \"Our_algorithm\")]['NNI']),columns=['NNI'])\n",
    "O_Loss = pd.DataFrame(list(df[(df.Process == \"Our_algorithm\")]['Loss']),columns=['Loss'])\n",
    "concat_O = pd.concat([O_Duplication,O_Loss],axis=1)"
   ]
  },
  {
   "cell_type": "code",
   "execution_count": 326,
   "id": "1aa70e79",
   "metadata": {},
   "outputs": [],
   "source": [
    "ETE3_Duplication = pd.DataFrame(list(df[(df.Process == \"DLCpar\")]['Duplication']),columns=['Duplication'])\n",
    "ETE3_NNI = pd.DataFrame(list(df[(df.Process == \"DLCpar\")]['NNI']),columns=['NNI'])\n",
    "ETE3_Loss = pd.DataFrame(list(df[(df.Process == \"DLCpar\")]['Loss']),columns=['Loss'])\n",
    "ETE3_DLCILS = pd.DataFrame(list(df[(df.Process == \"DLCpar\")]['DLCILS']),columns=['DLCILS'])\n",
    "concat_ETE3 = pd.concat([ETE3_Duplication,ETE3_Loss],axis=1)"
   ]
  },
  {
   "cell_type": "code",
   "execution_count": 327,
   "id": "91bc8ed0",
   "metadata": {},
   "outputs": [
    {
     "name": "stdout",
     "output_type": "stream",
     "text": [
      "836\n"
     ]
    }
   ],
   "source": [
    "print(len(True_Duplication))"
   ]
  },
  {
   "cell_type": "code",
   "execution_count": 328,
   "id": "17533a43",
   "metadata": {},
   "outputs": [
    {
     "name": "stdout",
     "output_type": "stream",
     "text": [
      "836\n"
     ]
    }
   ],
   "source": [
    "print(len(O_Duplication))"
   ]
  },
  {
   "cell_type": "code",
   "execution_count": 329,
   "id": "27ebb900",
   "metadata": {},
   "outputs": [
    {
     "name": "stdout",
     "output_type": "stream",
     "text": [
      "836\n"
     ]
    }
   ],
   "source": [
    "print(len(ETE3_Duplication))"
   ]
  },
  {
   "cell_type": "code",
   "execution_count": 330,
   "id": "51ce7791",
   "metadata": {},
   "outputs": [],
   "source": [
    "True_Duplication['Replicate']=[i for i in range(836)]\n",
    "O_Duplication['Replicate']=[i for i in range(836)]\n",
    "ETE3_Duplication['Replicate']=[i for i in range(836)]\n"
   ]
  },
  {
   "cell_type": "code",
   "execution_count": null,
   "id": "616fd1a2",
   "metadata": {},
   "outputs": [],
   "source": []
  },
  {
   "cell_type": "code",
   "execution_count": 331,
   "id": "c1b324df",
   "metadata": {},
   "outputs": [],
   "source": [
    "true_reconils_dups= pd.DataFrame(concat_O-concat_true)\n",
    "val =['reconcILS' for i in range(836)]\n",
    "true_reconils_dups['Algorithm']=val\n",
    "#true_reconils_dups['Replicate']=[i for i in range(99)]"
   ]
  },
  {
   "cell_type": "code",
   "execution_count": 332,
   "id": "ab1f7e5c",
   "metadata": {},
   "outputs": [],
   "source": [
    "true_ete3_dups= pd.DataFrame((concat_ETE3-concat_true))\n",
    "val =['DLCpar' for i in range(836)]\n",
    "true_ete3_dups['Algorithm']=val\n",
    "\n",
    "#true_ete3_dups['Replicate']=[i for i in range(99)]"
   ]
  },
  {
   "cell_type": "code",
   "execution_count": null,
   "id": "956a5718",
   "metadata": {},
   "outputs": [],
   "source": []
  },
  {
   "cell_type": "code",
   "execution_count": 333,
   "id": "0027b5ab",
   "metadata": {},
   "outputs": [
    {
     "data": {
      "text/html": [
       "<div>\n",
       "<style scoped>\n",
       "    .dataframe tbody tr th:only-of-type {\n",
       "        vertical-align: middle;\n",
       "    }\n",
       "\n",
       "    .dataframe tbody tr th {\n",
       "        vertical-align: top;\n",
       "    }\n",
       "\n",
       "    .dataframe thead th {\n",
       "        text-align: right;\n",
       "    }\n",
       "</style>\n",
       "<table border=\"1\" class=\"dataframe\">\n",
       "  <thead>\n",
       "    <tr style=\"text-align: right;\">\n",
       "      <th></th>\n",
       "      <th>Duplication</th>\n",
       "      <th>Loss</th>\n",
       "      <th>Algorithm</th>\n",
       "    </tr>\n",
       "  </thead>\n",
       "  <tbody>\n",
       "    <tr>\n",
       "      <th>0</th>\n",
       "      <td>0</td>\n",
       "      <td>0</td>\n",
       "      <td>reconcILS</td>\n",
       "    </tr>\n",
       "    <tr>\n",
       "      <th>1</th>\n",
       "      <td>0</td>\n",
       "      <td>0</td>\n",
       "      <td>reconcILS</td>\n",
       "    </tr>\n",
       "    <tr>\n",
       "      <th>2</th>\n",
       "      <td>-1</td>\n",
       "      <td>-1</td>\n",
       "      <td>reconcILS</td>\n",
       "    </tr>\n",
       "    <tr>\n",
       "      <th>3</th>\n",
       "      <td>0</td>\n",
       "      <td>0</td>\n",
       "      <td>reconcILS</td>\n",
       "    </tr>\n",
       "    <tr>\n",
       "      <th>4</th>\n",
       "      <td>0</td>\n",
       "      <td>0</td>\n",
       "      <td>reconcILS</td>\n",
       "    </tr>\n",
       "    <tr>\n",
       "      <th>...</th>\n",
       "      <td>...</td>\n",
       "      <td>...</td>\n",
       "      <td>...</td>\n",
       "    </tr>\n",
       "    <tr>\n",
       "      <th>831</th>\n",
       "      <td>0</td>\n",
       "      <td>-1</td>\n",
       "      <td>reconcILS</td>\n",
       "    </tr>\n",
       "    <tr>\n",
       "      <th>832</th>\n",
       "      <td>0</td>\n",
       "      <td>-1</td>\n",
       "      <td>reconcILS</td>\n",
       "    </tr>\n",
       "    <tr>\n",
       "      <th>833</th>\n",
       "      <td>0</td>\n",
       "      <td>0</td>\n",
       "      <td>reconcILS</td>\n",
       "    </tr>\n",
       "    <tr>\n",
       "      <th>834</th>\n",
       "      <td>-1</td>\n",
       "      <td>-1</td>\n",
       "      <td>reconcILS</td>\n",
       "    </tr>\n",
       "    <tr>\n",
       "      <th>835</th>\n",
       "      <td>0</td>\n",
       "      <td>0</td>\n",
       "      <td>reconcILS</td>\n",
       "    </tr>\n",
       "  </tbody>\n",
       "</table>\n",
       "<p>836 rows × 3 columns</p>\n",
       "</div>"
      ],
      "text/plain": [
       "     Duplication  Loss  Algorithm\n",
       "0              0     0  reconcILS\n",
       "1              0     0  reconcILS\n",
       "2             -1    -1  reconcILS\n",
       "3              0     0  reconcILS\n",
       "4              0     0  reconcILS\n",
       "..           ...   ...        ...\n",
       "831            0    -1  reconcILS\n",
       "832            0    -1  reconcILS\n",
       "833            0     0  reconcILS\n",
       "834           -1    -1  reconcILS\n",
       "835            0     0  reconcILS\n",
       "\n",
       "[836 rows x 3 columns]"
      ]
     },
     "execution_count": 333,
     "metadata": {},
     "output_type": "execute_result"
    }
   ],
   "source": [
    "true_reconils_dups"
   ]
  },
  {
   "cell_type": "code",
   "execution_count": 334,
   "id": "bc923384",
   "metadata": {},
   "outputs": [
    {
     "data": {
      "text/html": [
       "<div>\n",
       "<style scoped>\n",
       "    .dataframe tbody tr th:only-of-type {\n",
       "        vertical-align: middle;\n",
       "    }\n",
       "\n",
       "    .dataframe tbody tr th {\n",
       "        vertical-align: top;\n",
       "    }\n",
       "\n",
       "    .dataframe thead th {\n",
       "        text-align: right;\n",
       "    }\n",
       "</style>\n",
       "<table border=\"1\" class=\"dataframe\">\n",
       "  <thead>\n",
       "    <tr style=\"text-align: right;\">\n",
       "      <th></th>\n",
       "      <th>Duplication</th>\n",
       "      <th>Loss</th>\n",
       "      <th>Algorithm</th>\n",
       "    </tr>\n",
       "  </thead>\n",
       "  <tbody>\n",
       "    <tr>\n",
       "      <th>0</th>\n",
       "      <td>0</td>\n",
       "      <td>0</td>\n",
       "      <td>DLCpar</td>\n",
       "    </tr>\n",
       "    <tr>\n",
       "      <th>1</th>\n",
       "      <td>0</td>\n",
       "      <td>-1</td>\n",
       "      <td>DLCpar</td>\n",
       "    </tr>\n",
       "    <tr>\n",
       "      <th>2</th>\n",
       "      <td>-1</td>\n",
       "      <td>-1</td>\n",
       "      <td>DLCpar</td>\n",
       "    </tr>\n",
       "    <tr>\n",
       "      <th>3</th>\n",
       "      <td>0</td>\n",
       "      <td>0</td>\n",
       "      <td>DLCpar</td>\n",
       "    </tr>\n",
       "    <tr>\n",
       "      <th>4</th>\n",
       "      <td>0</td>\n",
       "      <td>0</td>\n",
       "      <td>DLCpar</td>\n",
       "    </tr>\n",
       "    <tr>\n",
       "      <th>...</th>\n",
       "      <td>...</td>\n",
       "      <td>...</td>\n",
       "      <td>...</td>\n",
       "    </tr>\n",
       "    <tr>\n",
       "      <th>831</th>\n",
       "      <td>0</td>\n",
       "      <td>1</td>\n",
       "      <td>DLCpar</td>\n",
       "    </tr>\n",
       "    <tr>\n",
       "      <th>832</th>\n",
       "      <td>0</td>\n",
       "      <td>-2</td>\n",
       "      <td>DLCpar</td>\n",
       "    </tr>\n",
       "    <tr>\n",
       "      <th>833</th>\n",
       "      <td>0</td>\n",
       "      <td>0</td>\n",
       "      <td>DLCpar</td>\n",
       "    </tr>\n",
       "    <tr>\n",
       "      <th>834</th>\n",
       "      <td>-1</td>\n",
       "      <td>0</td>\n",
       "      <td>DLCpar</td>\n",
       "    </tr>\n",
       "    <tr>\n",
       "      <th>835</th>\n",
       "      <td>0</td>\n",
       "      <td>0</td>\n",
       "      <td>DLCpar</td>\n",
       "    </tr>\n",
       "  </tbody>\n",
       "</table>\n",
       "<p>836 rows × 3 columns</p>\n",
       "</div>"
      ],
      "text/plain": [
       "     Duplication  Loss Algorithm\n",
       "0              0     0    DLCpar\n",
       "1              0    -1    DLCpar\n",
       "2             -1    -1    DLCpar\n",
       "3              0     0    DLCpar\n",
       "4              0     0    DLCpar\n",
       "..           ...   ...       ...\n",
       "831            0     1    DLCpar\n",
       "832            0    -2    DLCpar\n",
       "833            0     0    DLCpar\n",
       "834           -1     0    DLCpar\n",
       "835            0     0    DLCpar\n",
       "\n",
       "[836 rows x 3 columns]"
      ]
     },
     "execution_count": 334,
     "metadata": {},
     "output_type": "execute_result"
    }
   ],
   "source": [
    "true_ete3_dups"
   ]
  },
  {
   "cell_type": "code",
   "execution_count": 335,
   "id": "e5e55926",
   "metadata": {},
   "outputs": [],
   "source": [
    "val=0\n",
    "for i in list(true_reconils_dups['Duplication']):\n",
    "    if i!=0:\n",
    "        val=val+1"
   ]
  },
  {
   "cell_type": "code",
   "execution_count": 336,
   "id": "6d570d71",
   "metadata": {},
   "outputs": [
    {
     "data": {
      "text/plain": [
       "224"
      ]
     },
     "execution_count": 336,
     "metadata": {},
     "output_type": "execute_result"
    }
   ],
   "source": [
    "val"
   ]
  },
  {
   "cell_type": "code",
   "execution_count": 337,
   "id": "e9e08490",
   "metadata": {},
   "outputs": [
    {
     "data": {
      "text/html": [
       "<div>\n",
       "<style scoped>\n",
       "    .dataframe tbody tr th:only-of-type {\n",
       "        vertical-align: middle;\n",
       "    }\n",
       "\n",
       "    .dataframe tbody tr th {\n",
       "        vertical-align: top;\n",
       "    }\n",
       "\n",
       "    .dataframe thead th {\n",
       "        text-align: right;\n",
       "    }\n",
       "</style>\n",
       "<table border=\"1\" class=\"dataframe\">\n",
       "  <thead>\n",
       "    <tr style=\"text-align: right;\">\n",
       "      <th></th>\n",
       "      <th>Algorithm</th>\n",
       "      <th>variable</th>\n",
       "      <th>value</th>\n",
       "    </tr>\n",
       "  </thead>\n",
       "  <tbody>\n",
       "    <tr>\n",
       "      <th>0</th>\n",
       "      <td>reconcILS</td>\n",
       "      <td>Duplication</td>\n",
       "      <td>0</td>\n",
       "    </tr>\n",
       "    <tr>\n",
       "      <th>1</th>\n",
       "      <td>reconcILS</td>\n",
       "      <td>Duplication</td>\n",
       "      <td>0</td>\n",
       "    </tr>\n",
       "    <tr>\n",
       "      <th>2</th>\n",
       "      <td>reconcILS</td>\n",
       "      <td>Duplication</td>\n",
       "      <td>-1</td>\n",
       "    </tr>\n",
       "    <tr>\n",
       "      <th>3</th>\n",
       "      <td>reconcILS</td>\n",
       "      <td>Duplication</td>\n",
       "      <td>0</td>\n",
       "    </tr>\n",
       "    <tr>\n",
       "      <th>4</th>\n",
       "      <td>reconcILS</td>\n",
       "      <td>Duplication</td>\n",
       "      <td>0</td>\n",
       "    </tr>\n",
       "    <tr>\n",
       "      <th>...</th>\n",
       "      <td>...</td>\n",
       "      <td>...</td>\n",
       "      <td>...</td>\n",
       "    </tr>\n",
       "    <tr>\n",
       "      <th>3339</th>\n",
       "      <td>DLCpar</td>\n",
       "      <td>Loss</td>\n",
       "      <td>1</td>\n",
       "    </tr>\n",
       "    <tr>\n",
       "      <th>3340</th>\n",
       "      <td>DLCpar</td>\n",
       "      <td>Loss</td>\n",
       "      <td>-2</td>\n",
       "    </tr>\n",
       "    <tr>\n",
       "      <th>3341</th>\n",
       "      <td>DLCpar</td>\n",
       "      <td>Loss</td>\n",
       "      <td>0</td>\n",
       "    </tr>\n",
       "    <tr>\n",
       "      <th>3342</th>\n",
       "      <td>DLCpar</td>\n",
       "      <td>Loss</td>\n",
       "      <td>0</td>\n",
       "    </tr>\n",
       "    <tr>\n",
       "      <th>3343</th>\n",
       "      <td>DLCpar</td>\n",
       "      <td>Loss</td>\n",
       "      <td>0</td>\n",
       "    </tr>\n",
       "  </tbody>\n",
       "</table>\n",
       "<p>3344 rows × 3 columns</p>\n",
       "</div>"
      ],
      "text/plain": [
       "      Algorithm     variable  value\n",
       "0     reconcILS  Duplication      0\n",
       "1     reconcILS  Duplication      0\n",
       "2     reconcILS  Duplication     -1\n",
       "3     reconcILS  Duplication      0\n",
       "4     reconcILS  Duplication      0\n",
       "...         ...          ...    ...\n",
       "3339     DLCpar         Loss      1\n",
       "3340     DLCpar         Loss     -2\n",
       "3341     DLCpar         Loss      0\n",
       "3342     DLCpar         Loss      0\n",
       "3343     DLCpar         Loss      0\n",
       "\n",
       "[3344 rows x 3 columns]"
      ]
     },
     "execution_count": 337,
     "metadata": {},
     "output_type": "execute_result"
    }
   ],
   "source": [
    "new =pd.concat([true_reconils_dups,true_ete3_dups],axis=0)\n",
    "pd.melt(new, id_vars =['Algorithm'])"
   ]
  },
  {
   "cell_type": "code",
   "execution_count": 338,
   "id": "00406bb1",
   "metadata": {},
   "outputs": [
    {
     "data": {
      "image/png": "[encoded data removed]",
      "text/plain": [
       "<Figure size 432x288 with 1 Axes>"
      ]
     },
     "metadata": {
      "needs_background": "light"
     },
     "output_type": "display_data"
    }
   ],
   "source": [
    "ax =sns.boxplot(x=\"variable\", y=\"value\",hue=\"Algorithm\", data=pd.melt(new, id_vars =['Algorithm']))\n",
    "plt.xlabel(\"Events\")\n",
    "plt.legend(bbox_to_anchor=(0.3,0.3))\n",
    "plt.ylabel(\"True - Infered\")\n",
    "plt.savefig('box_plot.jpg', dpi=500)\n"
   ]
  },
  {
   "cell_type": "code",
   "execution_count": null,
   "id": "eac161f1",
   "metadata": {},
   "outputs": [],
   "source": []
  },
  {
   "cell_type": "code",
   "execution_count": null,
   "id": "2bf817b6",
   "metadata": {},
   "outputs": [],
   "source": []
  },
  {
   "cell_type": "code",
   "execution_count": null,
   "id": "6667b12d",
   "metadata": {},
   "outputs": [],
   "source": []
  },
  {
   "cell_type": "code",
   "execution_count": null,
   "id": "2655ab03",
   "metadata": {},
   "outputs": [],
   "source": []
  },
  {
   "cell_type": "code",
   "execution_count": 339,
   "id": "f44eed83",
   "metadata": {},
   "outputs": [
    {
     "data": {
      "image/png": "[encoded data removed]",
      "text/plain": [
       "<Figure size 432x288 with 1 Axes>"
      ]
     },
     "metadata": {
      "needs_background": "light"
     },
     "output_type": "display_data"
    },
    {
     "data": {
      "text/plain": [
       "<Figure size 432x288 with 0 Axes>"
      ]
     },
     "metadata": {},
     "output_type": "display_data"
    }
   ],
   "source": [
    "import seaborn as sns\n",
    "import numpy as np\n",
    "import matplotlib.pyplot as plt\n",
    "\n",
    "\n",
    "result1 =pd.concat([True_Duplication['Duplication'],O_Duplication['Duplication']], ignore_index=True,axis=1)\n",
    "result11=result1.groupby([0,1]).size().reset_index(name='Count')\n",
    "result12 =pd.concat([True_Duplication['Duplication'],ETE3_Duplication['Duplication']], ignore_index=True,axis=1)\n",
    "result22=result12.groupby([0,1]).size().reset_index(name='Count')\n",
    "#sns.lmplot(x=result1[0], y=result1[1], data=result1);\n",
    "sns.scatterplot(data=result11, x=0, y=1, size=\"Count\", legend=False, sizes=(20, 2000), alpha=0.8)\n",
    "sns.scatterplot(data=result22, x=0, y=1, size=\"Count\", legend=False, sizes=(10, 1000), alpha=0.8)\n",
    "\n",
    "# show the graph\n",
    "\n",
    "ax=sns.regplot(x=result1[0], y=result1[1], data=result1,marker=\".\", fit_reg=True, scatter_kws={'alpha':1}, ci=None, label='reconcILS')\n",
    "ax=sns.regplot(x=result12[0], y=result12[1], data=result12, marker=\".\",fit_reg=True,scatter_kws={'alpha':1}, ci=None, label='DLCpar')\n",
    "\n",
    "\n",
    "\n",
    "\n",
    "plt.xlabel(\"True Duplication\")\n",
    "plt.ylabel(\"Infered Duplication\")\n",
    "# Show the plot\n",
    "ax.set_xlim(-0.2, 5.2)\n",
    "ax.set_ylim(-0.2, 5.2)\n",
    "\n",
    "plt.legend(bbox_to_anchor=(0.28,1))\n",
    "\n",
    "plt.savefig('regex_dups.png', dpi=500)\n",
    "\n",
    "plt.show()\n",
    "plt.clf()"
   ]
  },
  {
   "cell_type": "code",
   "execution_count": 340,
   "id": "3c918623",
   "metadata": {},
   "outputs": [
    {
     "data": {
      "image/png": "[encoded data removed]",
      "text/plain": [
       "<Figure size 432x288 with 1 Axes>"
      ]
     },
     "metadata": {
      "needs_background": "light"
     },
     "output_type": "display_data"
    },
    {
     "data": {
      "text/plain": [
       "<Figure size 432x288 with 0 Axes>"
      ]
     },
     "metadata": {},
     "output_type": "display_data"
    }
   ],
   "source": [
    "import seaborn as sns\n",
    "import numpy as np\n",
    "import matplotlib.pyplot as plt\n",
    "\n",
    "\n",
    "result1 =pd.concat([TRUE_Loss['Loss'],O_Loss['Loss']], ignore_index=True,axis=1)\n",
    "result11=result1.groupby([0,1]).size().reset_index(name='Count')\n",
    "\n",
    "result12 =pd.concat([TRUE_Loss['Loss'],ETE3_Loss['Loss']], ignore_index=True,axis=1)\n",
    "#sns.lmplot(x=result1[0], y=result1[1], data=result1);\n",
    "result22=result12.groupby([0,1]).size().reset_index(name='Count')\n",
    "sns.scatterplot(data=result11, x=0, y=1, size=\"Count\", legend=False, sizes=(20, 2000), alpha=0.8)\n",
    "sns.scatterplot(data=result22, x=0, y=1, size=\"Count\", legend=False, sizes=(10, 1000), alpha=0.8)\n",
    "\n",
    "ax=sns.regplot(x=result1[0], y=result1[1], data=result1,marker=\".\", fit_reg=True, scatter_kws={'alpha':1}, ci=None, label='reconcILS')\n",
    "ax=sns.regplot(x=result12[0], y=result12[1], data=result12, marker=\".\",fit_reg=True,scatter_kws={'alpha':1}, ci=None, label='DLCpar')\n",
    "\n",
    "\n",
    "\n",
    "plt.xlabel(\"True Loss\")\n",
    "plt.ylabel(\"Infered Loss\")\n",
    "# Show the plot\n",
    "ax.set_xlim(-0.2, 5.2)\n",
    "ax.set_ylim(-0.2, 5.2)\n",
    "\n",
    "plt.legend(bbox_to_anchor=(0.28,1))\n",
    "\n",
    "plt.savefig('regex_loss.png', dpi=500)\n",
    "\n",
    "plt.show()\n",
    "plt.clf()"
   ]
  },
  {
   "cell_type": "code",
   "execution_count": 219,
   "id": "50727417",
   "metadata": {},
   "outputs": [],
   "source": [
    "r =result1.astype('category')"
   ]
  },
  {
   "cell_type": "code",
   "execution_count": 220,
   "id": "8425dc5c",
   "metadata": {},
   "outputs": [
    {
     "data": {
      "text/html": [
       "<div>\n",
       "<style scoped>\n",
       "    .dataframe tbody tr th:only-of-type {\n",
       "        vertical-align: middle;\n",
       "    }\n",
       "\n",
       "    .dataframe tbody tr th {\n",
       "        vertical-align: top;\n",
       "    }\n",
       "\n",
       "    .dataframe thead th {\n",
       "        text-align: right;\n",
       "    }\n",
       "</style>\n",
       "<table border=\"1\" class=\"dataframe\">\n",
       "  <thead>\n",
       "    <tr style=\"text-align: right;\">\n",
       "      <th></th>\n",
       "      <th>0</th>\n",
       "      <th>1</th>\n",
       "    </tr>\n",
       "  </thead>\n",
       "  <tbody>\n",
       "    <tr>\n",
       "      <th>0</th>\n",
       "      <td>5</td>\n",
       "      <td>4</td>\n",
       "    </tr>\n",
       "    <tr>\n",
       "      <th>1</th>\n",
       "      <td>1</td>\n",
       "      <td>0</td>\n",
       "    </tr>\n",
       "    <tr>\n",
       "      <th>2</th>\n",
       "      <td>2</td>\n",
       "      <td>0</td>\n",
       "    </tr>\n",
       "    <tr>\n",
       "      <th>3</th>\n",
       "      <td>1</td>\n",
       "      <td>0</td>\n",
       "    </tr>\n",
       "    <tr>\n",
       "      <th>4</th>\n",
       "      <td>6</td>\n",
       "      <td>5</td>\n",
       "    </tr>\n",
       "    <tr>\n",
       "      <th>...</th>\n",
       "      <td>...</td>\n",
       "      <td>...</td>\n",
       "    </tr>\n",
       "    <tr>\n",
       "      <th>923</th>\n",
       "      <td>2</td>\n",
       "      <td>1</td>\n",
       "    </tr>\n",
       "    <tr>\n",
       "      <th>924</th>\n",
       "      <td>0</td>\n",
       "      <td>0</td>\n",
       "    </tr>\n",
       "    <tr>\n",
       "      <th>925</th>\n",
       "      <td>2</td>\n",
       "      <td>3</td>\n",
       "    </tr>\n",
       "    <tr>\n",
       "      <th>926</th>\n",
       "      <td>1</td>\n",
       "      <td>0</td>\n",
       "    </tr>\n",
       "    <tr>\n",
       "      <th>927</th>\n",
       "      <td>1</td>\n",
       "      <td>1</td>\n",
       "    </tr>\n",
       "  </tbody>\n",
       "</table>\n",
       "<p>928 rows × 2 columns</p>\n",
       "</div>"
      ],
      "text/plain": [
       "     0  1\n",
       "0    5  4\n",
       "1    1  0\n",
       "2    2  0\n",
       "3    1  0\n",
       "4    6  5\n",
       "..  .. ..\n",
       "923  2  1\n",
       "924  0  0\n",
       "925  2  3\n",
       "926  1  0\n",
       "927  1  1\n",
       "\n",
       "[928 rows x 2 columns]"
      ]
     },
     "execution_count": 220,
     "metadata": {},
     "output_type": "execute_result"
    }
   ],
   "source": [
    "r"
   ]
  },
  {
   "cell_type": "code",
   "execution_count": 221,
   "id": "3ebb3e45",
   "metadata": {},
   "outputs": [
    {
     "data": {
      "image/png": "[encoded data removed]",
      "text/plain": [
       "<Figure size 432x288 with 1 Axes>"
      ]
     },
     "metadata": {
      "needs_background": "light"
     },
     "output_type": "display_data"
    }
   ],
   "source": [
    "import pandas as pd\n",
    "import numpy as np\n",
    "import seaborn as sns\n",
    "import matplotlib.pyplot as plt\n",
    "\n",
    "df = pd.DataFrame(np.random.randn(50).reshape(10,5))\n",
    "corr = df.corr()\n",
    "\n",
    "ax1 = sns.heatmap(corr, cbar=0, linewidths=2,vmax=1, vmin=0, square=True, cmap='Blues')\n",
    "plt.show()"
   ]
  },
  {
   "cell_type": "code",
   "execution_count": null,
   "id": "5d69079d",
   "metadata": {},
   "outputs": [],
   "source": []
  },
  {
   "cell_type": "code",
   "execution_count": 162,
   "id": "878338d4",
   "metadata": {},
   "outputs": [
    {
     "data": {
      "text/plain": [
       "array([[5, 1, 2, ..., 2, 1, 1],\n",
       "       [4, 0, 0, ..., 3, 0, 1]])"
      ]
     },
     "execution_count": 162,
     "metadata": {},
     "output_type": "execute_result"
    }
   ],
   "source": [
    "np.array([list(result1[0]), list(result1[1])])"
   ]
  },
  {
   "cell_type": "code",
   "execution_count": null,
   "id": "f72d744b",
   "metadata": {},
   "outputs": [],
   "source": []
  },
  {
   "cell_type": "code",
   "execution_count": 308,
   "id": "5ce33453",
   "metadata": {},
   "outputs": [
    {
     "data": {
      "image/png": "[encoded data removed]",
      "text/plain": [
       "<Figure size 432x288 with 1 Axes>"
      ]
     },
     "metadata": {
      "needs_background": "light"
     },
     "output_type": "display_data"
    },
    {
     "data": {
      "text/plain": [
       "<Figure size 432x288 with 0 Axes>"
      ]
     },
     "metadata": {},
     "output_type": "display_data"
    }
   ],
   "source": [
    "import seaborn as sns\n",
    "import numpy as np\n",
    "import matplotlib.pyplot as plt\n",
    "\n",
    "\n",
    "\n",
    "\n",
    "\n",
    "\n",
    "result1 =pd.concat([TRUE_NNI['NNI'],O_NNI['NNI']], ignore_index=True,axis=1)\n",
    "result11=result1.groupby([0,1]).size().reset_index(name='Count')\n",
    "result12 =pd.concat([True_DLCILS['DLCILS'],ETE3_DLCILS['DLCILS']], ignore_index=True,axis=1)\n",
    "#sns.lmplot(x=result1[0], y=result1[1], data=result1);\n",
    "result22=result12.groupby([0,1]).size().reset_index(name='Count')\n",
    "\n",
    "#sns.lmplot(x=result1[0], y=result1[1], data=result1);\n",
    "sns.scatterplot(data=result11, x=0, y=1, size=\"Count\", legend=False, sizes=(20, 2000), alpha=0.8)\n",
    "sns.scatterplot(data=result22, x=0, y=1, size=\"Count\", legend=False, sizes=(10, 1000), alpha=0.8)\n",
    "\n",
    "ax=sns.regplot(x=result1[0], y=result1[1], data=result1,marker=\".\", fit_reg=True, scatter_kws={'alpha':1}, ci=None, label='reconcILS')\n",
    "ax=sns.regplot(x=result12[0], y=result12[1], data=result12, marker=\".\",fit_reg=True,scatter_kws={'alpha':1}, ci=None, label='DLCpar')\n",
    "\n",
    "\n",
    "\n",
    "plt.xlabel(\"True NNI\")\n",
    "plt.ylabel(\"Infered NNI\")\n",
    "# Show the plot\n",
    "ax.set_xlim(-0.2, 5.2)\n",
    "ax.set_ylim(-0.2, 5.2)\n",
    "\n",
    "plt.legend(bbox_to_anchor=(0.28,1))\n",
    "\n",
    "plt.savefig('regex_NNI.png', dpi=500)\n",
    "\n",
    "plt.show()\n",
    "plt.clf()"
   ]
  },
  {
   "cell_type": "code",
   "execution_count": 223,
   "id": "f11c9c9b",
   "metadata": {},
   "outputs": [
    {
     "data": {
      "image/png": "[encoded data removed]",
      "text/plain": [
       "<Figure size 432x288 with 1 Axes>"
      ]
     },
     "metadata": {
      "needs_background": "light"
     },
     "output_type": "display_data"
    },
    {
     "data": {
      "image/png": "[encoded data removed]",
      "text/plain": [
       "<Figure size 432x288 with 1 Axes>"
      ]
     },
     "metadata": {
      "needs_background": "light"
     },
     "output_type": "display_data"
    }
   ],
   "source": [
    "import seaborn as sns\n",
    "\n",
    "\n",
    "\n",
    "result1 =pd.concat([TRUE_Loss,O_Loss.rename(columns={'b':'a'})], ignore_index=True,axis=1)\n",
    "result2 =pd.concat([TRUE_Loss,ETE3_Loss.rename(columns={'b':'a'})], ignore_index=True,axis=1)\n",
    "sns.scatterplot(data=result1,x=1,y=0)\n",
    "plt.xlabel(\"True Duplications\")\n",
    "plt.ylabel(\"Infered Duplications reconcILS\")\n",
    "# Show the plot\n",
    "plt.show()\n",
    "plt.clf()\n",
    "\n",
    "sns.scatterplot(data=result2,x=1,y=0)\n",
    "plt.xlabel(\"True Duplications\")\n",
    "plt.ylabel(\"Infered Duplications LCA\")\n",
    "plt.show()"
   ]
  },
  {
   "cell_type": "code",
   "execution_count": 224,
   "id": "dffb763a",
   "metadata": {},
   "outputs": [
    {
     "data": {
      "image/png": "[encoded data removed]",
      "text/plain": [
       "<Figure size 432x288 with 1 Axes>"
      ]
     },
     "metadata": {
      "needs_background": "light"
     },
     "output_type": "display_data"
    }
   ],
   "source": [
    "import seaborn as sns\n",
    "\n",
    "\n",
    "\n",
    "result =pd.concat([TRUE_Loss,O_Loss.rename(columns={'b':'a'})], ignore_index=True,axis=1)\n",
    "sns.scatterplot(data=result,x=1,y=0)\n",
    " \n",
    "# Show the plot\n",
    "plt.show()"
   ]
  },
  {
   "cell_type": "code",
   "execution_count": 309,
   "id": "c8e5c2cd",
   "metadata": {},
   "outputs": [],
   "source": [
    "from scipy.stats import spearmanr\n",
    "rho, p = spearmanr(pd.DataFrame(list(df[(df.Process == \"True Process\")]['Loss']),columns=['NNI']),pd.DataFrame(list(df[(df.Process == \"DLCpar\")]['Loss']),columns=['NNI']))"
   ]
  },
  {
   "cell_type": "code",
   "execution_count": 310,
   "id": "f1b3a738",
   "metadata": {},
   "outputs": [
    {
     "data": {
      "text/plain": [
       "0.20168212530880128"
      ]
     },
     "execution_count": 310,
     "metadata": {},
     "output_type": "execute_result"
    }
   ],
   "source": [
    "rho"
   ]
  },
  {
   "cell_type": "code",
   "execution_count": 311,
   "id": "8c59b23b",
   "metadata": {},
   "outputs": [],
   "source": [
    "from scipy.stats import spearmanr\n",
    "rho, p = spearmanr(pd.DataFrame(list(df[(df.Process == \"True Process\")]['Loss']),columns=['NNI']),pd.DataFrame(list(df[(df.Process == \"Our_algorithm\")]['Loss']),columns=['NNI']))"
   ]
  },
  {
   "cell_type": "code",
   "execution_count": 312,
   "id": "5405facf",
   "metadata": {},
   "outputs": [
    {
     "data": {
      "text/plain": [
       "0.5601248146023136"
      ]
     },
     "execution_count": 312,
     "metadata": {},
     "output_type": "execute_result"
    }
   ],
   "source": [
    "rho"
   ]
  },
  {
   "cell_type": "code",
   "execution_count": 313,
   "id": "b833987e",
   "metadata": {},
   "outputs": [],
   "source": [
    "from scipy.stats import spearmanr\n",
    "rho, p = spearmanr(pd.DataFrame(list(df[(df.Process == \"True Process\")]['Duplication']),columns=['NNI']),pd.DataFrame(list(df[(df.Process == \"DLCpar\")]['Duplication']),columns=['NNI']))"
   ]
  },
  {
   "cell_type": "code",
   "execution_count": 314,
   "id": "1b33334f",
   "metadata": {},
   "outputs": [
    {
     "data": {
      "text/plain": [
       "0.8706893376025674"
      ]
     },
     "execution_count": 314,
     "metadata": {},
     "output_type": "execute_result"
    }
   ],
   "source": [
    "rho"
   ]
  },
  {
   "cell_type": "code",
   "execution_count": 319,
   "id": "c2d2b9a7",
   "metadata": {},
   "outputs": [],
   "source": [
    "from scipy.stats import spearmanr\n",
    "rho, p = spearmanr(pd.DataFrame(list(df[(df.Process == \"True Process\")]['Duplication']),columns=['NNI']),pd.DataFrame(list(df[(df.Process == \"Our_algorithm\")]['Duplication']),columns=['NNI']))"
   ]
  },
  {
   "cell_type": "code",
   "execution_count": 320,
   "id": "d4f578f7",
   "metadata": {},
   "outputs": [
    {
     "data": {
      "text/plain": [
       "0.6939039172390007"
      ]
     },
     "execution_count": 320,
     "metadata": {},
     "output_type": "execute_result"
    }
   ],
   "source": [
    "rho"
   ]
  },
  {
   "cell_type": "code",
   "execution_count": 317,
   "id": "4edf35dd",
   "metadata": {},
   "outputs": [],
   "source": [
    "from scipy.stats import spearmanr\n",
    "rho, p = spearmanr(pd.DataFrame(list(df[(df.Process == \"True Process\")]['DLCILS']),columns=['NNI']),pd.DataFrame(list(df[(df.Process == \"DLCpar\")]['DLCILS']),columns=['NNI']))"
   ]
  },
  {
   "cell_type": "code",
   "execution_count": 318,
   "id": "e29bff96",
   "metadata": {},
   "outputs": [
    {
     "data": {
      "text/plain": [
       "0.602357727605902"
      ]
     },
     "execution_count": 318,
     "metadata": {},
     "output_type": "execute_result"
    }
   ],
   "source": [
    "rho"
   ]
  },
  {
   "cell_type": "code",
   "execution_count": 276,
   "id": "72f97d0b",
   "metadata": {},
   "outputs": [],
   "source": [
    "from scipy.stats import spearmanr\n",
    "rho, p = spearmanr(pd.DataFrame(list(df[(df.Process == \"True Process\")]['NNI']),columns=['NNI']),pd.DataFrame(list(df[(df.Process == \"Our_algorithm\")]['NNI']),columns=['NNI']))"
   ]
  },
  {
   "cell_type": "code",
   "execution_count": 277,
   "id": "ee6268e7",
   "metadata": {},
   "outputs": [
    {
     "data": {
      "text/plain": [
       "0.7458413676922011"
      ]
     },
     "execution_count": 277,
     "metadata": {},
     "output_type": "execute_result"
    }
   ],
   "source": [
    "rho"
   ]
  },
  {
   "cell_type": "code",
   "execution_count": null,
   "id": "382a2058",
   "metadata": {},
   "outputs": [],
   "source": []
  },
  {
   "cell_type": "code",
   "execution_count": null,
   "id": "25ebc1bc",
   "metadata": {},
   "outputs": [],
   "source": []
  },
  {
   "cell_type": "code",
   "execution_count": null,
   "id": "7f5d4a7a",
   "metadata": {},
   "outputs": [],
   "source": []
  }
 ],
 "metadata": {
  "kernelspec": {
   "display_name": "Python 3 (ipykernel)",
   "language": "python",
   "name": "python3"
  },
  "language_info": {
   "codemirror_mode": {
    "name": "ipython",
    "version": 3
   },
   "file_extension": ".py",
   "mimetype": "text/x-python",
   "name": "python",
   "nbconvert_exporter": "python",
   "pygments_lexer": "ipython3",
   "version": "3.9.12"
  }
 },
 "nbformat": 4,
 "nbformat_minor": 5
}
