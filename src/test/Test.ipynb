{
 "cells": [
  {
   "cell_type": "code",
   "execution_count": 1,
   "id": "c64fb931",
   "metadata": {},
   "outputs": [],
   "source": [
    "import pandas as pd\n",
    "import seaborn as sns\n",
    "import matplotlib.pyplot as plt\n",
    "plt.style.use('ggplot')"
   ]
  },
  {
   "cell_type": "code",
   "execution_count": 2,
   "id": "4567ea5e",
   "metadata": {},
   "outputs": [],
   "source": [
    "from collections import Counter"
   ]
  },
  {
   "cell_type": "code",
   "execution_count": 60,
   "id": "bc9c6276",
   "metadata": {},
   "outputs": [],
   "source": [
    "df_time_large = pd.read_csv('./bin/10_18_large_time_result.csv')"
   ]
  },
  {
   "cell_type": "code",
   "execution_count": 61,
   "id": "366e7d22",
   "metadata": {},
   "outputs": [
    {
     "data": {
      "text/html": [
       "<div>\n",
       "<style scoped>\n",
       "    .dataframe tbody tr th:only-of-type {\n",
       "        vertical-align: middle;\n",
       "    }\n",
       "\n",
       "    .dataframe tbody tr th {\n",
       "        vertical-align: top;\n",
       "    }\n",
       "\n",
       "    .dataframe thead th {\n",
       "        text-align: right;\n",
       "    }\n",
       "</style>\n",
       "<table border=\"1\" class=\"dataframe\">\n",
       "  <thead>\n",
       "    <tr style=\"text-align: right;\">\n",
       "      <th></th>\n",
       "      <th>Replicate</th>\n",
       "      <th>Gene_tree</th>\n",
       "      <th>reconcILSTime_iterative</th>\n",
       "      <th>reconcILSTime_recurssive</th>\n",
       "      <th>dlcparTime</th>\n",
       "      <th>ete_time</th>\n",
       "    </tr>\n",
       "  </thead>\n",
       "  <tbody>\n",
       "    <tr>\n",
       "      <th>0</th>\n",
       "      <td>0</td>\n",
       "      <td>((F,F),(((C,B),A),(C,(D,(B,A)))));</td>\n",
       "      <td>2.921342</td>\n",
       "      <td>1.499797</td>\n",
       "      <td>1.151041</td>\n",
       "      <td>0.053354</td>\n",
       "    </tr>\n",
       "    <tr>\n",
       "      <th>1</th>\n",
       "      <td>1</td>\n",
       "      <td>(((E,F),F),(((F,F),(E,F)),F));</td>\n",
       "      <td>1.425840</td>\n",
       "      <td>1.386425</td>\n",
       "      <td>1.436816</td>\n",
       "      <td>0.043458</td>\n",
       "    </tr>\n",
       "    <tr>\n",
       "      <th>2</th>\n",
       "      <td>2</td>\n",
       "      <td>((F,(E,F)),E);</td>\n",
       "      <td>0.285537</td>\n",
       "      <td>0.265892</td>\n",
       "      <td>1.018557</td>\n",
       "      <td>0.010004</td>\n",
       "    </tr>\n",
       "    <tr>\n",
       "      <th>3</th>\n",
       "      <td>3</td>\n",
       "      <td>(((D,B),(C,A)),F);</td>\n",
       "      <td>0.638820</td>\n",
       "      <td>0.398885</td>\n",
       "      <td>1.023687</td>\n",
       "      <td>0.032519</td>\n",
       "    </tr>\n",
       "    <tr>\n",
       "      <th>4</th>\n",
       "      <td>4</td>\n",
       "      <td>(E,(D,((A,A),(B,C))));</td>\n",
       "      <td>0.261758</td>\n",
       "      <td>0.450586</td>\n",
       "      <td>1.135300</td>\n",
       "      <td>0.033403</td>\n",
       "    </tr>\n",
       "    <tr>\n",
       "      <th>...</th>\n",
       "      <td>...</td>\n",
       "      <td>...</td>\n",
       "      <td>...</td>\n",
       "      <td>...</td>\n",
       "      <td>...</td>\n",
       "      <td>...</td>\n",
       "    </tr>\n",
       "    <tr>\n",
       "      <th>937</th>\n",
       "      <td>995</td>\n",
       "      <td>((F,E),(((D,D),C),((A,A),(C,B))));</td>\n",
       "      <td>1.633103</td>\n",
       "      <td>2.944866</td>\n",
       "      <td>0.573601</td>\n",
       "      <td>0.027031</td>\n",
       "    </tr>\n",
       "    <tr>\n",
       "      <th>938</th>\n",
       "      <td>996</td>\n",
       "      <td>(((B,A),D),(E,D));</td>\n",
       "      <td>0.398738</td>\n",
       "      <td>0.199098</td>\n",
       "      <td>0.519287</td>\n",
       "      <td>0.012100</td>\n",
       "    </tr>\n",
       "    <tr>\n",
       "      <th>939</th>\n",
       "      <td>997</td>\n",
       "      <td>((((B,(B,C)),D),(B,C)),(E,A));</td>\n",
       "      <td>0.773446</td>\n",
       "      <td>0.883667</td>\n",
       "      <td>0.526573</td>\n",
       "      <td>0.022013</td>\n",
       "    </tr>\n",
       "    <tr>\n",
       "      <th>940</th>\n",
       "      <td>998</td>\n",
       "      <td>((B,C),(F,E));</td>\n",
       "      <td>0.077634</td>\n",
       "      <td>0.146834</td>\n",
       "      <td>0.506526</td>\n",
       "      <td>0.007041</td>\n",
       "    </tr>\n",
       "    <tr>\n",
       "      <th>941</th>\n",
       "      <td>999</td>\n",
       "      <td>(((F,E),F),((B,C),(C,A)));</td>\n",
       "      <td>0.618490</td>\n",
       "      <td>0.576416</td>\n",
       "      <td>0.513992</td>\n",
       "      <td>0.016454</td>\n",
       "    </tr>\n",
       "  </tbody>\n",
       "</table>\n",
       "<p>942 rows × 6 columns</p>\n",
       "</div>"
      ],
      "text/plain": [
       "     Replicate                           Gene_tree  reconcILSTime_iterative  \\\n",
       "0            0  ((F,F),(((C,B),A),(C,(D,(B,A)))));                 2.921342   \n",
       "1            1      (((E,F),F),(((F,F),(E,F)),F));                 1.425840   \n",
       "2            2                      ((F,(E,F)),E);                 0.285537   \n",
       "3            3                  (((D,B),(C,A)),F);                 0.638820   \n",
       "4            4              (E,(D,((A,A),(B,C))));                 0.261758   \n",
       "..         ...                                 ...                      ...   \n",
       "937        995  ((F,E),(((D,D),C),((A,A),(C,B))));                 1.633103   \n",
       "938        996                  (((B,A),D),(E,D));                 0.398738   \n",
       "939        997      ((((B,(B,C)),D),(B,C)),(E,A));                 0.773446   \n",
       "940        998                      ((B,C),(F,E));                 0.077634   \n",
       "941        999          (((F,E),F),((B,C),(C,A)));                 0.618490   \n",
       "\n",
       "     reconcILSTime_recurssive  dlcparTime  ete_time  \n",
       "0                    1.499797    1.151041  0.053354  \n",
       "1                    1.386425    1.436816  0.043458  \n",
       "2                    0.265892    1.018557  0.010004  \n",
       "3                    0.398885    1.023687  0.032519  \n",
       "4                    0.450586    1.135300  0.033403  \n",
       "..                        ...         ...       ...  \n",
       "937                  2.944866    0.573601  0.027031  \n",
       "938                  0.199098    0.519287  0.012100  \n",
       "939                  0.883667    0.526573  0.022013  \n",
       "940                  0.146834    0.506526  0.007041  \n",
       "941                  0.576416    0.513992  0.016454  \n",
       "\n",
       "[942 rows x 6 columns]"
      ]
     },
     "execution_count": 61,
     "metadata": {},
     "output_type": "execute_result"
    }
   ],
   "source": [
    "df_time_large"
   ]
  },
  {
   "cell_type": "code",
   "execution_count": null,
   "id": "5e5292d2",
   "metadata": {},
   "outputs": [],
   "source": []
  },
  {
   "cell_type": "code",
   "execution_count": 273,
   "id": "ab63f92e",
   "metadata": {},
   "outputs": [],
   "source": [
    "pd.options.mode.chained_assignment = None\n",
    "df_time_it_large= pd.DataFrame(df_time_large['reconcILSTime_iterative']).rename(columns={\"reconcILSTime_iterative\": \"Time\"})\n",
    "\n",
    "val=['reconcILSTime_iterative' for i in range(934)]\n",
    "\n",
    "df_time_it_large.insert(1, \"Process\", val, True)\n",
    "df_time_it_large=pd.DataFrame(df_time_it_large)\n",
    "\n",
    "\n",
    "df_time_re_large= pd.DataFrame(df_time_large['reconcILSTime_recurssive']).rename(columns={\"reconcILSTime_recurssive\": \"Time\"})\n",
    "val=['reconcILSTime_recurssive' for i in range(934)]\n",
    "df_time_re_large['Process']=val\n",
    "\n",
    "df_time_dl_large= pd.DataFrame(df_time_large['dlcparTime']).rename(columns={\"dlcparTime\": \"Time\"})\n",
    "val=['dlcparTime' for i in range(934)]\n",
    "\n",
    "\n",
    "df_time_dl_large['Process']=val\n",
    "pd1_large =pd.concat([df_time_it_large,df_time_re_large,df_time_dl_large],axis=0)"
   ]
  },
  {
   "cell_type": "code",
   "execution_count": 274,
   "id": "098e919a",
   "metadata": {},
   "outputs": [],
   "source": [
    "df_time = pd.read_csv('./bin/10_2_time_result.csv')"
   ]
  },
  {
   "cell_type": "code",
   "execution_count": 275,
   "id": "f467652f",
   "metadata": {},
   "outputs": [
    {
     "ename": "ValueError",
     "evalue": "Length of values (820) does not match length of index (812)",
     "output_type": "error",
     "traceback": [
      "\u001b[0;31m---------------------------------------------------------------------------\u001b[0m",
      "\u001b[0;31mValueError\u001b[0m                                Traceback (most recent call last)",
      "Input \u001b[0;32mIn [275]\u001b[0m, in \u001b[0;36m<cell line: 6>\u001b[0;34m()\u001b[0m\n\u001b[1;32m      2\u001b[0m df_time_it\u001b[38;5;241m=\u001b[39m pd\u001b[38;5;241m.\u001b[39mDataFrame(df_time[\u001b[38;5;124m'\u001b[39m\u001b[38;5;124mreconcILSTime_iterative\u001b[39m\u001b[38;5;124m'\u001b[39m])\u001b[38;5;241m.\u001b[39mrename(columns\u001b[38;5;241m=\u001b[39m{\u001b[38;5;124m\"\u001b[39m\u001b[38;5;124mreconcILSTime_iterative\u001b[39m\u001b[38;5;124m\"\u001b[39m: \u001b[38;5;124m\"\u001b[39m\u001b[38;5;124mTime\u001b[39m\u001b[38;5;124m\"\u001b[39m})\n\u001b[1;32m      4\u001b[0m val\u001b[38;5;241m=\u001b[39m[\u001b[38;5;124m'\u001b[39m\u001b[38;5;124mreconcILSTime_iterative\u001b[39m\u001b[38;5;124m'\u001b[39m \u001b[38;5;28;01mfor\u001b[39;00m i \u001b[38;5;129;01min\u001b[39;00m \u001b[38;5;28mrange\u001b[39m(\u001b[38;5;241m820\u001b[39m)]\n\u001b[0;32m----> 6\u001b[0m \u001b[43mdf_time_it\u001b[49m\u001b[38;5;241;43m.\u001b[39;49m\u001b[43minsert\u001b[49m\u001b[43m(\u001b[49m\u001b[38;5;241;43m1\u001b[39;49m\u001b[43m,\u001b[49m\u001b[43m \u001b[49m\u001b[38;5;124;43m\"\u001b[39;49m\u001b[38;5;124;43mProcess\u001b[39;49m\u001b[38;5;124;43m\"\u001b[39;49m\u001b[43m,\u001b[49m\u001b[43m \u001b[49m\u001b[43mval\u001b[49m\u001b[43m,\u001b[49m\u001b[43m \u001b[49m\u001b[38;5;28;43;01mTrue\u001b[39;49;00m\u001b[43m)\u001b[49m\n\u001b[1;32m      7\u001b[0m df_time_it\u001b[38;5;241m=\u001b[39mpd\u001b[38;5;241m.\u001b[39mDataFrame(df_time_it)\n\u001b[1;32m     10\u001b[0m df_time_re\u001b[38;5;241m=\u001b[39m pd\u001b[38;5;241m.\u001b[39mDataFrame(df_time[\u001b[38;5;124m'\u001b[39m\u001b[38;5;124mreconcILSTime_recurssive\u001b[39m\u001b[38;5;124m'\u001b[39m])\u001b[38;5;241m.\u001b[39mrename(columns\u001b[38;5;241m=\u001b[39m{\u001b[38;5;124m\"\u001b[39m\u001b[38;5;124mreconcILSTime_recurssive\u001b[39m\u001b[38;5;124m\"\u001b[39m: \u001b[38;5;124m\"\u001b[39m\u001b[38;5;124mTime\u001b[39m\u001b[38;5;124m\"\u001b[39m})\n",
      "File \u001b[0;32m~/anaconda3/lib/python3.9/site-packages/pandas/core/frame.py:4444\u001b[0m, in \u001b[0;36mDataFrame.insert\u001b[0;34m(self, loc, column, value, allow_duplicates)\u001b[0m\n\u001b[1;32m   4441\u001b[0m \u001b[38;5;28;01mif\u001b[39;00m \u001b[38;5;129;01mnot\u001b[39;00m \u001b[38;5;28misinstance\u001b[39m(loc, \u001b[38;5;28mint\u001b[39m):\n\u001b[1;32m   4442\u001b[0m     \u001b[38;5;28;01mraise\u001b[39;00m \u001b[38;5;167;01mTypeError\u001b[39;00m(\u001b[38;5;124m\"\u001b[39m\u001b[38;5;124mloc must be int\u001b[39m\u001b[38;5;124m\"\u001b[39m)\n\u001b[0;32m-> 4444\u001b[0m value \u001b[38;5;241m=\u001b[39m \u001b[38;5;28;43mself\u001b[39;49m\u001b[38;5;241;43m.\u001b[39;49m\u001b[43m_sanitize_column\u001b[49m\u001b[43m(\u001b[49m\u001b[43mvalue\u001b[49m\u001b[43m)\u001b[49m\n\u001b[1;32m   4445\u001b[0m \u001b[38;5;28mself\u001b[39m\u001b[38;5;241m.\u001b[39m_mgr\u001b[38;5;241m.\u001b[39minsert(loc, column, value)\n",
      "File \u001b[0;32m~/anaconda3/lib/python3.9/site-packages/pandas/core/frame.py:4535\u001b[0m, in \u001b[0;36mDataFrame._sanitize_column\u001b[0;34m(self, value)\u001b[0m\n\u001b[1;32m   4532\u001b[0m     \u001b[38;5;28;01mreturn\u001b[39;00m _reindex_for_setitem(value, \u001b[38;5;28mself\u001b[39m\u001b[38;5;241m.\u001b[39mindex)\n\u001b[1;32m   4534\u001b[0m \u001b[38;5;28;01mif\u001b[39;00m is_list_like(value):\n\u001b[0;32m-> 4535\u001b[0m     \u001b[43mcom\u001b[49m\u001b[38;5;241;43m.\u001b[39;49m\u001b[43mrequire_length_match\u001b[49m\u001b[43m(\u001b[49m\u001b[43mvalue\u001b[49m\u001b[43m,\u001b[49m\u001b[43m \u001b[49m\u001b[38;5;28;43mself\u001b[39;49m\u001b[38;5;241;43m.\u001b[39;49m\u001b[43mindex\u001b[49m\u001b[43m)\u001b[49m\n\u001b[1;32m   4536\u001b[0m \u001b[38;5;28;01mreturn\u001b[39;00m sanitize_array(value, \u001b[38;5;28mself\u001b[39m\u001b[38;5;241m.\u001b[39mindex, copy\u001b[38;5;241m=\u001b[39m\u001b[38;5;28;01mTrue\u001b[39;00m, allow_2d\u001b[38;5;241m=\u001b[39m\u001b[38;5;28;01mTrue\u001b[39;00m)\n",
      "File \u001b[0;32m~/anaconda3/lib/python3.9/site-packages/pandas/core/common.py:557\u001b[0m, in \u001b[0;36mrequire_length_match\u001b[0;34m(data, index)\u001b[0m\n\u001b[1;32m    553\u001b[0m \u001b[38;5;250m\u001b[39m\u001b[38;5;124;03m\"\"\"\u001b[39;00m\n\u001b[1;32m    554\u001b[0m \u001b[38;5;124;03mCheck the length of data matches the length of the index.\u001b[39;00m\n\u001b[1;32m    555\u001b[0m \u001b[38;5;124;03m\"\"\"\u001b[39;00m\n\u001b[1;32m    556\u001b[0m \u001b[38;5;28;01mif\u001b[39;00m \u001b[38;5;28mlen\u001b[39m(data) \u001b[38;5;241m!=\u001b[39m \u001b[38;5;28mlen\u001b[39m(index):\n\u001b[0;32m--> 557\u001b[0m     \u001b[38;5;28;01mraise\u001b[39;00m \u001b[38;5;167;01mValueError\u001b[39;00m(\n\u001b[1;32m    558\u001b[0m         \u001b[38;5;124m\"\u001b[39m\u001b[38;5;124mLength of values \u001b[39m\u001b[38;5;124m\"\u001b[39m\n\u001b[1;32m    559\u001b[0m         \u001b[38;5;124mf\u001b[39m\u001b[38;5;124m\"\u001b[39m\u001b[38;5;124m(\u001b[39m\u001b[38;5;132;01m{\u001b[39;00m\u001b[38;5;28mlen\u001b[39m(data)\u001b[38;5;132;01m}\u001b[39;00m\u001b[38;5;124m) \u001b[39m\u001b[38;5;124m\"\u001b[39m\n\u001b[1;32m    560\u001b[0m         \u001b[38;5;124m\"\u001b[39m\u001b[38;5;124mdoes not match length of index \u001b[39m\u001b[38;5;124m\"\u001b[39m\n\u001b[1;32m    561\u001b[0m         \u001b[38;5;124mf\u001b[39m\u001b[38;5;124m\"\u001b[39m\u001b[38;5;124m(\u001b[39m\u001b[38;5;132;01m{\u001b[39;00m\u001b[38;5;28mlen\u001b[39m(index)\u001b[38;5;132;01m}\u001b[39;00m\u001b[38;5;124m)\u001b[39m\u001b[38;5;124m\"\u001b[39m\n\u001b[1;32m    562\u001b[0m     )\n",
      "\u001b[0;31mValueError\u001b[0m: Length of values (820) does not match length of index (812)"
     ]
    }
   ],
   "source": [
    "pd.options.mode.chained_assignment = None\n",
    "df_time_it= pd.DataFrame(df_time['reconcILSTime_iterative']).rename(columns={\"reconcILSTime_iterative\": \"Time\"})\n",
    "\n",
    "val=['reconcILSTime_iterative' for i in range(820)]\n",
    "\n",
    "df_time_it.insert(1, \"Process\", val, True)\n",
    "df_time_it=pd.DataFrame(df_time_it)\n",
    "\n",
    "\n",
    "df_time_re= pd.DataFrame(df_time['reconcILSTime_recurssive']).rename(columns={\"reconcILSTime_recurssive\": \"Time\"})\n",
    "val=['reconcILSTime_recurssive' for i in range(820)]\n",
    "df_time_re['Process']=val\n",
    "\n",
    "df_time_dl= pd.DataFrame(df_time['dlcparTime']).rename(columns={\"dlcparTime\": \"Time\"})\n",
    "val=['dlcparTime' for i in range(820)]\n",
    "\n",
    "\n",
    "df_time_dl['Process']=val\n",
    "pd1 =pd.concat([df_time_it,df_time_re,df_time_dl],axis=0)"
   ]
  },
  {
   "cell_type": "code",
   "execution_count": 176,
   "id": "ca88ee48",
   "metadata": {},
   "outputs": [
    {
     "data": {
      "text/html": [
       "<div>\n",
       "<style scoped>\n",
       "    .dataframe tbody tr th:only-of-type {\n",
       "        vertical-align: middle;\n",
       "    }\n",
       "\n",
       "    .dataframe tbody tr th {\n",
       "        vertical-align: top;\n",
       "    }\n",
       "\n",
       "    .dataframe thead th {\n",
       "        text-align: right;\n",
       "    }\n",
       "</style>\n",
       "<table border=\"1\" class=\"dataframe\">\n",
       "  <thead>\n",
       "    <tr style=\"text-align: right;\">\n",
       "      <th></th>\n",
       "      <th>Time</th>\n",
       "      <th>Process</th>\n",
       "    </tr>\n",
       "  </thead>\n",
       "  <tbody>\n",
       "    <tr>\n",
       "      <th>0</th>\n",
       "      <td>0.319124</td>\n",
       "      <td>reconcILSTime_iterative</td>\n",
       "    </tr>\n",
       "    <tr>\n",
       "      <th>1</th>\n",
       "      <td>4.429877</td>\n",
       "      <td>reconcILSTime_iterative</td>\n",
       "    </tr>\n",
       "    <tr>\n",
       "      <th>2</th>\n",
       "      <td>7.711681</td>\n",
       "      <td>reconcILSTime_iterative</td>\n",
       "    </tr>\n",
       "    <tr>\n",
       "      <th>3</th>\n",
       "      <td>0.163990</td>\n",
       "      <td>reconcILSTime_iterative</td>\n",
       "    </tr>\n",
       "    <tr>\n",
       "      <th>4</th>\n",
       "      <td>0.027822</td>\n",
       "      <td>reconcILSTime_iterative</td>\n",
       "    </tr>\n",
       "    <tr>\n",
       "      <th>...</th>\n",
       "      <td>...</td>\n",
       "      <td>...</td>\n",
       "    </tr>\n",
       "    <tr>\n",
       "      <th>929</th>\n",
       "      <td>1.330379</td>\n",
       "      <td>dlcparTime</td>\n",
       "    </tr>\n",
       "    <tr>\n",
       "      <th>930</th>\n",
       "      <td>0.939456</td>\n",
       "      <td>dlcparTime</td>\n",
       "    </tr>\n",
       "    <tr>\n",
       "      <th>931</th>\n",
       "      <td>0.967623</td>\n",
       "      <td>dlcparTime</td>\n",
       "    </tr>\n",
       "    <tr>\n",
       "      <th>932</th>\n",
       "      <td>1.298127</td>\n",
       "      <td>dlcparTime</td>\n",
       "    </tr>\n",
       "    <tr>\n",
       "      <th>933</th>\n",
       "      <td>1.141207</td>\n",
       "      <td>dlcparTime</td>\n",
       "    </tr>\n",
       "  </tbody>\n",
       "</table>\n",
       "<p>2802 rows × 2 columns</p>\n",
       "</div>"
      ],
      "text/plain": [
       "         Time                  Process\n",
       "0    0.319124  reconcILSTime_iterative\n",
       "1    4.429877  reconcILSTime_iterative\n",
       "2    7.711681  reconcILSTime_iterative\n",
       "3    0.163990  reconcILSTime_iterative\n",
       "4    0.027822  reconcILSTime_iterative\n",
       "..        ...                      ...\n",
       "929  1.330379               dlcparTime\n",
       "930  0.939456               dlcparTime\n",
       "931  0.967623               dlcparTime\n",
       "932  1.298127               dlcparTime\n",
       "933  1.141207               dlcparTime\n",
       "\n",
       "[2802 rows x 2 columns]"
      ]
     },
     "execution_count": 176,
     "metadata": {},
     "output_type": "execute_result"
    }
   ],
   "source": []
  },
  {
   "cell_type": "code",
   "execution_count": 241,
   "id": "c08e25c9",
   "metadata": {},
   "outputs": [
    {
     "data": {
      "image/png": "[encoded data removed]",
      "text/plain": [
       "<Figure size 432x288 with 2 Axes>"
      ]
     },
     "metadata": {},
     "output_type": "display_data"
    }
   ],
   "source": [
    "import matplotlib.pyplot as plt\n",
    "import matplotlib.transforms as mtransforms\n",
    "# Create some data\n",
    "data = {\n",
    "    \"Large\": pd1_large,\n",
    "    \"Small\": pd1,\n",
    "    \n",
    "}\n",
    "\n",
    "# Create a figure and axes\n",
    "fig, axis = plt.subplots(2)\n",
    "\n",
    "# Plot the box plots\n",
    "i=0\n",
    "for category, values in data.items():\n",
    "    sns.violinplot(x=\"variable\", y=\"value\",hue=\"Process\", data=pd.melt(values, id_vars =['Process']),ax=axis[i])\n",
    "    plt.rc('legend',fontsize='small')\n",
    "    axis[i].legend(bbox_to_anchor=(1.4, 1.05))\n",
    "\n",
    "    trans = mtransforms.ScaledTranslation(-20/72, 7/72, fig.dpi_scale_trans)\n",
    "    axis[i].text(0.0, 1.0, category+'Tree', transform=axis[i].transAxes + trans,\n",
    "            fontsize='medium', va='top')\n",
    "    i=i+1\n",
    "\n",
    "# Set the title and labels\n",
    "\n",
    "# Show the plot\n",
    "plt.show()"
   ]
  },
  {
   "cell_type": "code",
   "execution_count": 160,
   "id": "97bcf2c8",
   "metadata": {},
   "outputs": [
    {
     "data": {
      "text/plain": [
       "<AxesSubplot:xlabel='variable', ylabel='value'>"
      ]
     },
     "execution_count": 160,
     "metadata": {},
     "output_type": "execute_result"
    },
    {
     "data": {
      "image/png": "[encoded data removed]",
      "text/plain": [
       "<Figure size 432x288 with 1 Axes>"
      ]
     },
     "metadata": {},
     "output_type": "display_data"
    }
   ],
   "source": [
    "sns.violinplot(x=\"variable\", y=\"value\",hue=\"Process\", data=pd.melt(pd1, id_vars =['Process']))\n"
   ]
  },
  {
   "cell_type": "code",
   "execution_count": 116,
   "id": "36f029bf",
   "metadata": {},
   "outputs": [],
   "source": [
    "df_time_high_ILS = pd.read_csv('./bin/10_3_high_ILS_time_result.csv')\n"
   ]
  },
  {
   "cell_type": "code",
   "execution_count": 117,
   "id": "87044f51",
   "metadata": {},
   "outputs": [
    {
     "data": {
      "text/html": [
       "<div>\n",
       "<style scoped>\n",
       "    .dataframe tbody tr th:only-of-type {\n",
       "        vertical-align: middle;\n",
       "    }\n",
       "\n",
       "    .dataframe tbody tr th {\n",
       "        vertical-align: top;\n",
       "    }\n",
       "\n",
       "    .dataframe thead th {\n",
       "        text-align: right;\n",
       "    }\n",
       "</style>\n",
       "<table border=\"1\" class=\"dataframe\">\n",
       "  <thead>\n",
       "    <tr style=\"text-align: right;\">\n",
       "      <th></th>\n",
       "      <th>Replicate</th>\n",
       "      <th>Gene_tree</th>\n",
       "      <th>reconcILSTime_iterative</th>\n",
       "      <th>reconcILSTime_recurssive</th>\n",
       "      <th>dlcparTime</th>\n",
       "      <th>ete_time</th>\n",
       "    </tr>\n",
       "  </thead>\n",
       "  <tbody>\n",
       "    <tr>\n",
       "      <th>0</th>\n",
       "      <td>0</td>\n",
       "      <td>(((A,A),A),(B,C));</td>\n",
       "      <td>0.140754</td>\n",
       "      <td>0.106418</td>\n",
       "      <td>0.521295</td>\n",
       "      <td>0.013127</td>\n",
       "    </tr>\n",
       "    <tr>\n",
       "      <th>1</th>\n",
       "      <td>1</td>\n",
       "      <td>((B,B),B);</td>\n",
       "      <td>0.069557</td>\n",
       "      <td>0.048837</td>\n",
       "      <td>0.502652</td>\n",
       "      <td>0.003957</td>\n",
       "    </tr>\n",
       "    <tr>\n",
       "      <th>2</th>\n",
       "      <td>2</td>\n",
       "      <td>((A,B),C);</td>\n",
       "      <td>0.071418</td>\n",
       "      <td>0.024320</td>\n",
       "      <td>0.534093</td>\n",
       "      <td>0.001998</td>\n",
       "    </tr>\n",
       "    <tr>\n",
       "      <th>3</th>\n",
       "      <td>3</td>\n",
       "      <td>((((A,A),B),C),A);</td>\n",
       "      <td>0.131160</td>\n",
       "      <td>0.130910</td>\n",
       "      <td>0.519286</td>\n",
       "      <td>0.005942</td>\n",
       "    </tr>\n",
       "    <tr>\n",
       "      <th>4</th>\n",
       "      <td>4</td>\n",
       "      <td>((C,A),B);</td>\n",
       "      <td>0.020851</td>\n",
       "      <td>0.032352</td>\n",
       "      <td>0.597293</td>\n",
       "      <td>0.001949</td>\n",
       "    </tr>\n",
       "    <tr>\n",
       "      <th>...</th>\n",
       "      <td>...</td>\n",
       "      <td>...</td>\n",
       "      <td>...</td>\n",
       "      <td>...</td>\n",
       "      <td>...</td>\n",
       "      <td>...</td>\n",
       "    </tr>\n",
       "    <tr>\n",
       "      <th>815</th>\n",
       "      <td>994</td>\n",
       "      <td>((C,B),A);</td>\n",
       "      <td>0.010636</td>\n",
       "      <td>0.015708</td>\n",
       "      <td>0.551286</td>\n",
       "      <td>0.003711</td>\n",
       "    </tr>\n",
       "    <tr>\n",
       "      <th>816</th>\n",
       "      <td>995</td>\n",
       "      <td>((C,B),A);</td>\n",
       "      <td>0.010506</td>\n",
       "      <td>0.012197</td>\n",
       "      <td>0.539539</td>\n",
       "      <td>0.001597</td>\n",
       "    </tr>\n",
       "    <tr>\n",
       "      <th>817</th>\n",
       "      <td>996</td>\n",
       "      <td>((C,C),(((C,C),B),A));</td>\n",
       "      <td>0.355130</td>\n",
       "      <td>0.272713</td>\n",
       "      <td>0.542285</td>\n",
       "      <td>0.006927</td>\n",
       "    </tr>\n",
       "    <tr>\n",
       "      <th>818</th>\n",
       "      <td>997</td>\n",
       "      <td>(A,B);</td>\n",
       "      <td>0.006223</td>\n",
       "      <td>0.009146</td>\n",
       "      <td>0.595550</td>\n",
       "      <td>0.000792</td>\n",
       "    </tr>\n",
       "    <tr>\n",
       "      <th>819</th>\n",
       "      <td>999</td>\n",
       "      <td>((B,C),(A,C));</td>\n",
       "      <td>0.090878</td>\n",
       "      <td>0.136106</td>\n",
       "      <td>0.553692</td>\n",
       "      <td>0.008919</td>\n",
       "    </tr>\n",
       "  </tbody>\n",
       "</table>\n",
       "<p>820 rows × 6 columns</p>\n",
       "</div>"
      ],
      "text/plain": [
       "     Replicate               Gene_tree  reconcILSTime_iterative  \\\n",
       "0            0      (((A,A),A),(B,C));                 0.140754   \n",
       "1            1              ((B,B),B);                 0.069557   \n",
       "2            2              ((A,B),C);                 0.071418   \n",
       "3            3      ((((A,A),B),C),A);                 0.131160   \n",
       "4            4              ((C,A),B);                 0.020851   \n",
       "..         ...                     ...                      ...   \n",
       "815        994              ((C,B),A);                 0.010636   \n",
       "816        995              ((C,B),A);                 0.010506   \n",
       "817        996  ((C,C),(((C,C),B),A));                 0.355130   \n",
       "818        997                  (A,B);                 0.006223   \n",
       "819        999          ((B,C),(A,C));                 0.090878   \n",
       "\n",
       "     reconcILSTime_recurssive  dlcparTime  ete_time  \n",
       "0                    0.106418    0.521295  0.013127  \n",
       "1                    0.048837    0.502652  0.003957  \n",
       "2                    0.024320    0.534093  0.001998  \n",
       "3                    0.130910    0.519286  0.005942  \n",
       "4                    0.032352    0.597293  0.001949  \n",
       "..                        ...         ...       ...  \n",
       "815                  0.015708    0.551286  0.003711  \n",
       "816                  0.012197    0.539539  0.001597  \n",
       "817                  0.272713    0.542285  0.006927  \n",
       "818                  0.009146    0.595550  0.000792  \n",
       "819                  0.136106    0.553692  0.008919  \n",
       "\n",
       "[820 rows x 6 columns]"
      ]
     },
     "execution_count": 117,
     "metadata": {},
     "output_type": "execute_result"
    }
   ],
   "source": [
    "df_time_large"
   ]
  },
  {
   "cell_type": "code",
   "execution_count": 57,
   "id": "ba002c3c",
   "metadata": {},
   "outputs": [
    {
     "data": {
      "text/plain": [
       "reconcILSTime_recurssive    0.893910\n",
       "ete_time                    0.019256\n",
       "dlcparTime                  1.046893\n",
       "dtype: float64"
      ]
     },
     "execution_count": 57,
     "metadata": {},
     "output_type": "execute_result"
    }
   ],
   "source": [
    "df_time_large[['reconcILSTime_recurssive','ete_time','dlcparTime']].mean()"
   ]
  },
  {
   "cell_type": "code",
   "execution_count": 9,
   "id": "011d9b40",
   "metadata": {},
   "outputs": [
    {
     "data": {
      "text/plain": [
       "<matplotlib.legend.Legend at 0x7ff6f52a9280>"
      ]
     },
     "execution_count": 9,
     "metadata": {},
     "output_type": "execute_result"
    },
    {
     "data": {
      "image/png": "[encoded data removed]",
      "text/plain": [
       "<Figure size 432x288 with 1 Axes>"
      ]
     },
     "metadata": {},
     "output_type": "display_data"
    }
   ],
   "source": [
    "df_time_large[['reconcILSTime_recurssive','dlcparTime']].rename(columns={'reconcILSTime_recurssive': 'reconcILSTime'}).plot()\n",
    "plt.savefig('small_tree_time.png')\n",
    "plt.legend(bbox_to_anchor=(0.6,1))"
   ]
  },
  {
   "cell_type": "code",
   "execution_count": 459,
   "id": "4a12f60a",
   "metadata": {},
   "outputs": [
    {
     "data": {
      "text/plain": [
       "<seaborn.axisgrid.FacetGrid at 0x7fba821232b0>"
      ]
     },
     "execution_count": 459,
     "metadata": {},
     "output_type": "execute_result"
    },
    {
     "data": {
      "image/png": "[encoded data removed]",
      "text/plain": [
       "<Figure size 498.738x360 with 1 Axes>"
      ]
     },
     "metadata": {},
     "output_type": "display_data"
    }
   ],
   "source": [
    "pd1 = pd1.reset_index()\n",
    "\n",
    "sns.displot(pd1, x=\"Time\",hue='Process', bins=20)\n"
   ]
  },
  {
   "cell_type": "code",
   "execution_count": 244,
   "id": "2979b9ee",
   "metadata": {},
   "outputs": [
    {
     "ename": "NameError",
     "evalue": "name 'df_time' is not defined",
     "output_type": "error",
     "traceback": [
      "\u001b[0;31m---------------------------------------------------------------------------\u001b[0m",
      "\u001b[0;31mNameError\u001b[0m                                 Traceback (most recent call last)",
      "Input \u001b[0;32mIn [244]\u001b[0m, in \u001b[0;36m<cell line: 1>\u001b[0;34m()\u001b[0m\n\u001b[0;32m----> 1\u001b[0m \u001b[43mdf_time\u001b[49m[[\u001b[38;5;124m'\u001b[39m\u001b[38;5;124mreconcILSTime_iterative\u001b[39m\u001b[38;5;124m'\u001b[39m,\u001b[38;5;124m'\u001b[39m\u001b[38;5;124mreconcILSTime_recurssive\u001b[39m\u001b[38;5;124m'\u001b[39m,\u001b[38;5;124m'\u001b[39m\u001b[38;5;124mdlcparTime\u001b[39m\u001b[38;5;124m'\u001b[39m]]\u001b[38;5;241m.\u001b[39mmean()\n",
      "\u001b[0;31mNameError\u001b[0m: name 'df_time' is not defined"
     ]
    }
   ],
   "source": [
    "df_time[['reconcILSTime_iterative','reconcILSTime_recurssive','dlcparTime']].mean()"
   ]
  },
  {
   "cell_type": "code",
   "execution_count": 74,
   "id": "5ab4fc9b",
   "metadata": {},
   "outputs": [
    {
     "data": {
      "text/plain": [
       "<AxesSubplot:>"
      ]
     },
     "execution_count": 74,
     "metadata": {},
     "output_type": "execute_result"
    },
    {
     "data": {
      "image/png": "[encoded data removed]",
      "text/plain": [
       "<Figure size 432x288 with 1 Axes>"
      ]
     },
     "metadata": {},
     "output_type": "display_data"
    }
   ],
   "source": [
    "df_time[['reconcILSTime_iterative','reconcILSTime_recurssive','dlcparTime']].plot()"
   ]
  },
  {
   "cell_type": "code",
   "execution_count": null,
   "id": "213783ef",
   "metadata": {},
   "outputs": [],
   "source": []
  },
  {
   "cell_type": "code",
   "execution_count": 66,
   "id": "c0987af4",
   "metadata": {},
   "outputs": [],
   "source": [
    "df_time =df_time[df_time.reconcILSTime_iterative<100]"
   ]
  },
  {
   "cell_type": "code",
   "execution_count": null,
   "id": "19efb4ec",
   "metadata": {},
   "outputs": [],
   "source": [
    "df_diff_D = df_time[df_time['dlcparTime']<df_time['reconcILSTime']].fillna('')\n",
    "df_diff_D"
   ]
  },
  {
   "cell_type": "code",
   "execution_count": 99,
   "id": "5a35a611",
   "metadata": {},
   "outputs": [
    {
     "data": {
      "text/plain": [
       "Series([], Name: Gene_tree, dtype: object)"
      ]
     },
     "execution_count": 99,
     "metadata": {},
     "output_type": "execute_result"
    }
   ],
   "source": [
    "df_diff_D[(df_diff_D.reconcILSTime >100)]['Gene_tree']"
   ]
  },
  {
   "cell_type": "code",
   "execution_count": null,
   "id": "1bcd9c7b",
   "metadata": {},
   "outputs": [],
   "source": []
  },
  {
   "cell_type": "code",
   "execution_count": null,
   "id": "96e0c11b",
   "metadata": {},
   "outputs": [],
   "source": []
  },
  {
   "cell_type": "code",
   "execution_count": 126,
   "id": "ad7aaf78",
   "metadata": {},
   "outputs": [],
   "source": [
    "df = pd.read_csv('./bin/10_18_large_result.csv')"
   ]
  },
  {
   "cell_type": "code",
   "execution_count": 127,
   "id": "7ec526b7",
   "metadata": {},
   "outputs": [
    {
     "data": {
      "text/html": [
       "<div>\n",
       "<style scoped>\n",
       "    .dataframe tbody tr th:only-of-type {\n",
       "        vertical-align: middle;\n",
       "    }\n",
       "\n",
       "    .dataframe tbody tr th {\n",
       "        vertical-align: top;\n",
       "    }\n",
       "\n",
       "    .dataframe thead th {\n",
       "        text-align: right;\n",
       "    }\n",
       "</style>\n",
       "<table border=\"1\" class=\"dataframe\">\n",
       "  <thead>\n",
       "    <tr style=\"text-align: right;\">\n",
       "      <th></th>\n",
       "      <th>Process</th>\n",
       "      <th>Replicate</th>\n",
       "      <th>Gene_tree</th>\n",
       "      <th>Species_Tree</th>\n",
       "      <th>Duplication</th>\n",
       "      <th>NNI</th>\n",
       "      <th>DLCILS</th>\n",
       "      <th>Loss</th>\n",
       "      <th>Hemiplasy</th>\n",
       "      <th>RHemiplasy</th>\n",
       "    </tr>\n",
       "  </thead>\n",
       "  <tbody>\n",
       "    <tr>\n",
       "      <th>0</th>\n",
       "      <td>True Process</td>\n",
       "      <td>0</td>\n",
       "      <td>((F,F),(((C,B),A),(C,(D,(B,A)))));</td>\n",
       "      <td>(((A,(B,C)),D),(E,F));</td>\n",
       "      <td>3</td>\n",
       "      <td>3</td>\n",
       "      <td>2</td>\n",
       "      <td>3</td>\n",
       "      <td>0</td>\n",
       "      <td>4</td>\n",
       "    </tr>\n",
       "    <tr>\n",
       "      <th>1</th>\n",
       "      <td>DLCpar</td>\n",
       "      <td>0</td>\n",
       "      <td>((F,F),(((C,B),A),(C,(D,(B,A)))));</td>\n",
       "      <td>(((A,(B,C)),D),(E,F));</td>\n",
       "      <td>2</td>\n",
       "      <td>0</td>\n",
       "      <td>2</td>\n",
       "      <td>2</td>\n",
       "      <td>0</td>\n",
       "      <td>0</td>\n",
       "    </tr>\n",
       "    <tr>\n",
       "      <th>2</th>\n",
       "      <td>ETE3</td>\n",
       "      <td>0</td>\n",
       "      <td>((F,F),(((C,B),A),(C,(D,(B,A)))));</td>\n",
       "      <td>(((A,(B,C)),D),(E,F));</td>\n",
       "      <td>3</td>\n",
       "      <td>0</td>\n",
       "      <td>0</td>\n",
       "      <td>6</td>\n",
       "      <td>0</td>\n",
       "      <td>0</td>\n",
       "    </tr>\n",
       "    <tr>\n",
       "      <th>3</th>\n",
       "      <td>Our_algorithm_ite</td>\n",
       "      <td>0</td>\n",
       "      <td>((F,F),(((C,B),A),(C,(D,(B,A)))));</td>\n",
       "      <td>(((A,(B,C)),D),(E,F));</td>\n",
       "      <td>2</td>\n",
       "      <td>3</td>\n",
       "      <td>0</td>\n",
       "      <td>1</td>\n",
       "      <td>0</td>\n",
       "      <td>0</td>\n",
       "    </tr>\n",
       "    <tr>\n",
       "      <th>4</th>\n",
       "      <td>Our_algorithm_recu</td>\n",
       "      <td>0</td>\n",
       "      <td>((F,F),(((C,B),A),(C,(D,(B,A)))));</td>\n",
       "      <td>(((A,(B,C)),D),(E,F));</td>\n",
       "      <td>2</td>\n",
       "      <td>3</td>\n",
       "      <td>0</td>\n",
       "      <td>1</td>\n",
       "      <td>0</td>\n",
       "      <td>0</td>\n",
       "    </tr>\n",
       "    <tr>\n",
       "      <th>...</th>\n",
       "      <td>...</td>\n",
       "      <td>...</td>\n",
       "      <td>...</td>\n",
       "      <td>...</td>\n",
       "      <td>...</td>\n",
       "      <td>...</td>\n",
       "      <td>...</td>\n",
       "      <td>...</td>\n",
       "      <td>...</td>\n",
       "      <td>...</td>\n",
       "    </tr>\n",
       "    <tr>\n",
       "      <th>4705</th>\n",
       "      <td>True Process</td>\n",
       "      <td>999</td>\n",
       "      <td>(((F,E),F),((B,C),(C,A)));</td>\n",
       "      <td>(((A,(B,C)),D),(E,F));</td>\n",
       "      <td>3</td>\n",
       "      <td>4</td>\n",
       "      <td>3</td>\n",
       "      <td>3</td>\n",
       "      <td>0</td>\n",
       "      <td>4</td>\n",
       "    </tr>\n",
       "    <tr>\n",
       "      <th>4706</th>\n",
       "      <td>DLCpar</td>\n",
       "      <td>999</td>\n",
       "      <td>(((F,E),F),((B,C),(C,A)));</td>\n",
       "      <td>(((A,(B,C)),D),(E,F));</td>\n",
       "      <td>2</td>\n",
       "      <td>0</td>\n",
       "      <td>2</td>\n",
       "      <td>2</td>\n",
       "      <td>0</td>\n",
       "      <td>0</td>\n",
       "    </tr>\n",
       "    <tr>\n",
       "      <th>4707</th>\n",
       "      <td>ETE3</td>\n",
       "      <td>999</td>\n",
       "      <td>(((F,E),F),((B,C),(C,A)));</td>\n",
       "      <td>(((A,(B,C)),D),(E,F));</td>\n",
       "      <td>2</td>\n",
       "      <td>0</td>\n",
       "      <td>0</td>\n",
       "      <td>4</td>\n",
       "      <td>0</td>\n",
       "      <td>0</td>\n",
       "    </tr>\n",
       "    <tr>\n",
       "      <th>4708</th>\n",
       "      <td>Our_algorithm_ite</td>\n",
       "      <td>999</td>\n",
       "      <td>(((F,E),F),((B,C),(C,A)));</td>\n",
       "      <td>(((A,(B,C)),D),(E,F));</td>\n",
       "      <td>2</td>\n",
       "      <td>3</td>\n",
       "      <td>0</td>\n",
       "      <td>1</td>\n",
       "      <td>0</td>\n",
       "      <td>0</td>\n",
       "    </tr>\n",
       "    <tr>\n",
       "      <th>4709</th>\n",
       "      <td>Our_algorithm_recu</td>\n",
       "      <td>999</td>\n",
       "      <td>(((F,E),F),((B,C),(C,A)));</td>\n",
       "      <td>(((A,(B,C)),D),(E,F));</td>\n",
       "      <td>2</td>\n",
       "      <td>3</td>\n",
       "      <td>0</td>\n",
       "      <td>1</td>\n",
       "      <td>0</td>\n",
       "      <td>0</td>\n",
       "    </tr>\n",
       "  </tbody>\n",
       "</table>\n",
       "<p>4710 rows × 10 columns</p>\n",
       "</div>"
      ],
      "text/plain": [
       "                 Process  Replicate                           Gene_tree  \\\n",
       "0           True Process          0  ((F,F),(((C,B),A),(C,(D,(B,A)))));   \n",
       "1                 DLCpar          0  ((F,F),(((C,B),A),(C,(D,(B,A)))));   \n",
       "2                   ETE3          0  ((F,F),(((C,B),A),(C,(D,(B,A)))));   \n",
       "3      Our_algorithm_ite          0  ((F,F),(((C,B),A),(C,(D,(B,A)))));   \n",
       "4     Our_algorithm_recu          0  ((F,F),(((C,B),A),(C,(D,(B,A)))));   \n",
       "...                  ...        ...                                 ...   \n",
       "4705        True Process        999          (((F,E),F),((B,C),(C,A)));   \n",
       "4706              DLCpar        999          (((F,E),F),((B,C),(C,A)));   \n",
       "4707                ETE3        999          (((F,E),F),((B,C),(C,A)));   \n",
       "4708   Our_algorithm_ite        999          (((F,E),F),((B,C),(C,A)));   \n",
       "4709  Our_algorithm_recu        999          (((F,E),F),((B,C),(C,A)));   \n",
       "\n",
       "                Species_Tree  Duplication  NNI  DLCILS  Loss  Hemiplasy  \\\n",
       "0     (((A,(B,C)),D),(E,F));            3    3       2     3          0   \n",
       "1     (((A,(B,C)),D),(E,F));            2    0       2     2          0   \n",
       "2     (((A,(B,C)),D),(E,F));            3    0       0     6          0   \n",
       "3     (((A,(B,C)),D),(E,F));            2    3       0     1          0   \n",
       "4     (((A,(B,C)),D),(E,F));            2    3       0     1          0   \n",
       "...                      ...          ...  ...     ...   ...        ...   \n",
       "4705  (((A,(B,C)),D),(E,F));            3    4       3     3          0   \n",
       "4706  (((A,(B,C)),D),(E,F));            2    0       2     2          0   \n",
       "4707  (((A,(B,C)),D),(E,F));            2    0       0     4          0   \n",
       "4708  (((A,(B,C)),D),(E,F));            2    3       0     1          0   \n",
       "4709  (((A,(B,C)),D),(E,F));            2    3       0     1          0   \n",
       "\n",
       "      RHemiplasy  \n",
       "0              4  \n",
       "1              0  \n",
       "2              0  \n",
       "3              0  \n",
       "4              0  \n",
       "...          ...  \n",
       "4705           4  \n",
       "4706           0  \n",
       "4707           0  \n",
       "4708           0  \n",
       "4709           0  \n",
       "\n",
       "[4710 rows x 10 columns]"
      ]
     },
     "execution_count": 127,
     "metadata": {},
     "output_type": "execute_result"
    }
   ],
   "source": [
    "df"
   ]
  },
  {
   "cell_type": "code",
   "execution_count": 128,
   "id": "4b8c91a1",
   "metadata": {},
   "outputs": [],
   "source": [
    "df1= df[['Replicate','Gene_tree','Duplication','NNI','Loss']][(df.Process == 'Our_algorithm_ite')]\n",
    "df2=df[['Replicate','Gene_tree','Duplication','NNI','Loss']][(df.Process == 'Our_algorithm_recu')]\n",
    "\n",
    "df1.set_index('Replicate',inplace=True)\n",
    "df2.set_index('Replicate',inplace=True)\n",
    "\n",
    "df2= df1.compare(df2).astype('category')"
   ]
  },
  {
   "cell_type": "code",
   "execution_count": 129,
   "id": "d410347b",
   "metadata": {},
   "outputs": [
    {
     "data": {
      "text/html": [
       "<div>\n",
       "<style scoped>\n",
       "    .dataframe tbody tr th:only-of-type {\n",
       "        vertical-align: middle;\n",
       "    }\n",
       "\n",
       "    .dataframe tbody tr th {\n",
       "        vertical-align: top;\n",
       "    }\n",
       "\n",
       "    .dataframe thead tr th {\n",
       "        text-align: left;\n",
       "    }\n",
       "\n",
       "    .dataframe thead tr:last-of-type th {\n",
       "        text-align: right;\n",
       "    }\n",
       "</style>\n",
       "<table border=\"1\" class=\"dataframe\">\n",
       "  <thead>\n",
       "    <tr>\n",
       "      <th>Replicate</th>\n",
       "    </tr>\n",
       "  </thead>\n",
       "  <tbody>\n",
       "  </tbody>\n",
       "</table>\n",
       "</div>"
      ],
      "text/plain": [
       "Empty DataFrame\n",
       "Columns: []\n",
       "Index: []"
      ]
     },
     "execution_count": 129,
     "metadata": {},
     "output_type": "execute_result"
    }
   ],
   "source": [
    "df2"
   ]
  },
  {
   "cell_type": "code",
   "execution_count": null,
   "id": "33b4f15d",
   "metadata": {},
   "outputs": [],
   "source": []
  },
  {
   "cell_type": "code",
   "execution_count": 130,
   "id": "84d2a60d",
   "metadata": {},
   "outputs": [
    {
     "data": {
      "text/html": [
       "<div>\n",
       "<style scoped>\n",
       "    .dataframe tbody tr th:only-of-type {\n",
       "        vertical-align: middle;\n",
       "    }\n",
       "\n",
       "    .dataframe tbody tr th {\n",
       "        vertical-align: top;\n",
       "    }\n",
       "\n",
       "    .dataframe thead th {\n",
       "        text-align: right;\n",
       "    }\n",
       "</style>\n",
       "<table border=\"1\" class=\"dataframe\">\n",
       "  <thead>\n",
       "    <tr style=\"text-align: right;\">\n",
       "      <th></th>\n",
       "      <th>Process</th>\n",
       "      <th>Replicate</th>\n",
       "      <th>Gene_tree</th>\n",
       "      <th>Species_Tree</th>\n",
       "      <th>Duplication</th>\n",
       "      <th>NNI</th>\n",
       "      <th>DLCILS</th>\n",
       "      <th>Loss</th>\n",
       "      <th>Hemiplasy</th>\n",
       "      <th>RHemiplasy</th>\n",
       "    </tr>\n",
       "  </thead>\n",
       "  <tbody>\n",
       "    <tr>\n",
       "      <th>3665</th>\n",
       "      <td>True Process</td>\n",
       "      <td>773</td>\n",
       "      <td>(((D,(A,B)),C),D);</td>\n",
       "      <td>(((A,(B,C)),D),(E,F));</td>\n",
       "      <td>2</td>\n",
       "      <td>3</td>\n",
       "      <td>2</td>\n",
       "      <td>2</td>\n",
       "      <td>0</td>\n",
       "      <td>3</td>\n",
       "    </tr>\n",
       "    <tr>\n",
       "      <th>3666</th>\n",
       "      <td>DLCpar</td>\n",
       "      <td>773</td>\n",
       "      <td>(((D,(A,B)),C),D);</td>\n",
       "      <td>(((A,(B,C)),D),(E,F));</td>\n",
       "      <td>1</td>\n",
       "      <td>0</td>\n",
       "      <td>2</td>\n",
       "      <td>1</td>\n",
       "      <td>0</td>\n",
       "      <td>0</td>\n",
       "    </tr>\n",
       "    <tr>\n",
       "      <th>3667</th>\n",
       "      <td>ETE3</td>\n",
       "      <td>773</td>\n",
       "      <td>(((D,(A,B)),C),D);</td>\n",
       "      <td>(((A,(B,C)),D),(E,F));</td>\n",
       "      <td>2</td>\n",
       "      <td>0</td>\n",
       "      <td>0</td>\n",
       "      <td>7</td>\n",
       "      <td>0</td>\n",
       "      <td>0</td>\n",
       "    </tr>\n",
       "    <tr>\n",
       "      <th>3668</th>\n",
       "      <td>Our_algorithm_ite</td>\n",
       "      <td>773</td>\n",
       "      <td>(((D,(A,B)),C),D);</td>\n",
       "      <td>(((A,(B,C)),D),(E,F));</td>\n",
       "      <td>1</td>\n",
       "      <td>2</td>\n",
       "      <td>0</td>\n",
       "      <td>2</td>\n",
       "      <td>0</td>\n",
       "      <td>0</td>\n",
       "    </tr>\n",
       "    <tr>\n",
       "      <th>3669</th>\n",
       "      <td>Our_algorithm_recu</td>\n",
       "      <td>773</td>\n",
       "      <td>(((D,(A,B)),C),D);</td>\n",
       "      <td>(((A,(B,C)),D),(E,F));</td>\n",
       "      <td>1</td>\n",
       "      <td>2</td>\n",
       "      <td>0</td>\n",
       "      <td>2</td>\n",
       "      <td>0</td>\n",
       "      <td>0</td>\n",
       "    </tr>\n",
       "  </tbody>\n",
       "</table>\n",
       "</div>"
      ],
      "text/plain": [
       "                 Process  Replicate           Gene_tree  \\\n",
       "3665        True Process        773  (((D,(A,B)),C),D);   \n",
       "3666              DLCpar        773  (((D,(A,B)),C),D);   \n",
       "3667                ETE3        773  (((D,(A,B)),C),D);   \n",
       "3668   Our_algorithm_ite        773  (((D,(A,B)),C),D);   \n",
       "3669  Our_algorithm_recu        773  (((D,(A,B)),C),D);   \n",
       "\n",
       "                Species_Tree  Duplication  NNI  DLCILS  Loss  Hemiplasy  \\\n",
       "3665  (((A,(B,C)),D),(E,F));            2    3       2     2          0   \n",
       "3666  (((A,(B,C)),D),(E,F));            1    0       2     1          0   \n",
       "3667  (((A,(B,C)),D),(E,F));            2    0       0     7          0   \n",
       "3668  (((A,(B,C)),D),(E,F));            1    2       0     2          0   \n",
       "3669  (((A,(B,C)),D),(E,F));            1    2       0     2          0   \n",
       "\n",
       "      RHemiplasy  \n",
       "3665           3  \n",
       "3666           0  \n",
       "3667           0  \n",
       "3668           0  \n",
       "3669           0  "
      ]
     },
     "execution_count": 130,
     "metadata": {},
     "output_type": "execute_result"
    }
   ],
   "source": [
    "df[(df.Replicate == 773)]"
   ]
  },
  {
   "cell_type": "code",
   "execution_count": null,
   "id": "3ac8e083",
   "metadata": {},
   "outputs": [],
   "source": []
  },
  {
   "cell_type": "code",
   "execution_count": null,
   "id": "8b285ae5",
   "metadata": {},
   "outputs": [],
   "source": []
  },
  {
   "cell_type": "code",
   "execution_count": 147,
   "id": "b60d94c4",
   "metadata": {},
   "outputs": [],
   "source": [
    "True_Duplication = pd.DataFrame(list(df[(df.Process == \"True Process\")]['Duplication']),columns=['Duplication'])\n",
    "TRUE_NNI = pd.DataFrame(list(df[(df.Process == \"True Process\")]['NNI']),columns=['NNI'])\n",
    "TRUE_Loss = pd.DataFrame(list(df[(df.Process == \"True Process\")]['Loss']),columns=['Loss'])\n",
    "True_DLCILS= pd.DataFrame(list(df[(df.Process == \"True Process\")]['DLCILS']),columns=['DLCILS'])\n",
    "concat_true = pd.concat([True_Duplication,TRUE_Loss],axis=1)"
   ]
  },
  {
   "cell_type": "code",
   "execution_count": 148,
   "id": "7c676a58",
   "metadata": {},
   "outputs": [],
   "source": [
    "O_Duplication = pd.DataFrame(list(df[(df.Process == \"Our_algorithm_recu\")]['Duplication']),columns=['Duplication'])\n",
    "O_NNI = pd.DataFrame(list(df[(df.Process == \"Our_algorithm_recu\")]['NNI']),columns=['NNI'])\n",
    "O_Loss = pd.DataFrame(list(df[(df.Process == \"Our_algorithm_recu\")]['Loss']),columns=['Loss'])\n",
    "concat_O = pd.concat([O_Duplication,O_Loss],axis=1)"
   ]
  },
  {
   "cell_type": "code",
   "execution_count": 149,
   "id": "1aa70e79",
   "metadata": {},
   "outputs": [],
   "source": [
    "dlc_Duplication = pd.DataFrame(list(df[(df.Process == \"DLCpar\")]['Duplication']),columns=['Duplication'])\n",
    "dlc_NNI = pd.DataFrame(list(df[(df.Process == \"DLCpar\")]['NNI']),columns=['NNI'])\n",
    "dlc_Loss = pd.DataFrame(list(df[(df.Process == \"DLCpar\")]['Loss']),columns=['Loss'])\n",
    "dlc_DLCILS = pd.DataFrame(list(df[(df.Process == \"DLCpar\")]['DLCILS']),columns=['DLCILS'])\n",
    "concat_dlc = pd.concat([dlc_Duplication,dlc_Loss],axis=1)"
   ]
  },
  {
   "cell_type": "code",
   "execution_count": 150,
   "id": "498815f3",
   "metadata": {},
   "outputs": [],
   "source": [
    "ete_Duplication = pd.DataFrame(list(df[(df.Process == \"ETE3\")]['Duplication']),columns=['Duplication'])\n",
    "#ete_NNI = pd.DataFrame(list(df[(df.Process == \"ETE3\")]['NNI']),columns=['NNI'])\n",
    "ete_Loss = pd.DataFrame(list(df[(df.Process == \"ETE3\")]['Loss']),columns=['Loss'])\n",
    "#True_ete= pd.DataFrame(list(df[(df.Process == \"ETE3\")]['DLCILS']),columns=['DLCILS'])\n",
    "concat_e = pd.concat([ete_Duplication,ete_Loss],axis=1)"
   ]
  },
  {
   "cell_type": "markdown",
   "id": "d64ce1c2",
   "metadata": {},
   "source": [
    "#### concat_true_e"
   ]
  },
  {
   "cell_type": "code",
   "execution_count": 151,
   "id": "91bc8ed0",
   "metadata": {},
   "outputs": [
    {
     "name": "stdout",
     "output_type": "stream",
     "text": [
      "942\n"
     ]
    }
   ],
   "source": [
    "print(len(True_Duplication))"
   ]
  },
  {
   "cell_type": "code",
   "execution_count": 152,
   "id": "17533a43",
   "metadata": {},
   "outputs": [
    {
     "name": "stdout",
     "output_type": "stream",
     "text": [
      "942\n"
     ]
    }
   ],
   "source": [
    "print(len(O_Duplication))"
   ]
  },
  {
   "cell_type": "code",
   "execution_count": 153,
   "id": "27ebb900",
   "metadata": {},
   "outputs": [
    {
     "name": "stdout",
     "output_type": "stream",
     "text": [
      "942\n"
     ]
    }
   ],
   "source": [
    "print(len(concat_dlc))"
   ]
  },
  {
   "cell_type": "code",
   "execution_count": 154,
   "id": "51ce7791",
   "metadata": {},
   "outputs": [],
   "source": [
    "True_Duplication['Replicate']=[i for i in range(942)]\n",
    "O_Duplication['Replicate']=[i for i in range(942)]\n",
    "dlc_Duplication['Replicate']=[i for i in range(942)]\n",
    "ete_Duplication['Replicate']=[i for i in range(942)]\n"
   ]
  },
  {
   "cell_type": "code",
   "execution_count": 155,
   "id": "616fd1a2",
   "metadata": {},
   "outputs": [
    {
     "ename": "NameError",
     "evalue": "name 'concat_true_e' is not defined",
     "output_type": "error",
     "traceback": [
      "\u001b[0;31m---------------------------------------------------------------------------\u001b[0m",
      "\u001b[0;31mNameError\u001b[0m                                 Traceback (most recent call last)",
      "Input \u001b[0;32mIn [155]\u001b[0m, in \u001b[0;36m<cell line: 1>\u001b[0;34m()\u001b[0m\n\u001b[0;32m----> 1\u001b[0m pd\u001b[38;5;241m.\u001b[39mDataFrame((\u001b[43mconcat_true_e\u001b[49m\u001b[38;5;241m-\u001b[39mconcat_true))\n",
      "\u001b[0;31mNameError\u001b[0m: name 'concat_true_e' is not defined"
     ]
    }
   ],
   "source": [
    "pd.DataFrame((concat_true_e-concat_true))"
   ]
  },
  {
   "cell_type": "code",
   "execution_count": 156,
   "id": "600ac7e7",
   "metadata": {},
   "outputs": [],
   "source": [
    "true_reconils_dups= pd.DataFrame(concat_O-concat_true)\n",
    "val =['reconcILS' for i in range(942)]\n",
    "true_reconils_dups['Algorithm']=val\n",
    "#true_reconils_dups['Replicate']=[i for i in range(99)]"
   ]
  },
  {
   "cell_type": "code",
   "execution_count": 157,
   "id": "ab1f7e5c",
   "metadata": {},
   "outputs": [],
   "source": [
    "true_dlc_dups= pd.DataFrame((concat_dlc-concat_true))\n",
    "val =['DLCpar' for i in range(942)]\n",
    "true_dlc_dups['Algorithm']=val\n",
    "\n",
    "#true_ete3_dups['Replicate']=[i for i in range(99)]"
   ]
  },
  {
   "cell_type": "code",
   "execution_count": 158,
   "id": "956a5718",
   "metadata": {},
   "outputs": [],
   "source": [
    "true_ete_dups= pd.DataFrame((concat_e-concat_true))\n",
    "val =['ete3' for i in range(942)]\n",
    "true_ete_dups['Algorithm']=val\n",
    "\n",
    "#true_ete3_dups['Replicate']=[i for i in range(99)]"
   ]
  },
  {
   "cell_type": "code",
   "execution_count": 159,
   "id": "0027b5ab",
   "metadata": {},
   "outputs": [
    {
     "data": {
      "text/html": [
       "<div>\n",
       "<style scoped>\n",
       "    .dataframe tbody tr th:only-of-type {\n",
       "        vertical-align: middle;\n",
       "    }\n",
       "\n",
       "    .dataframe tbody tr th {\n",
       "        vertical-align: top;\n",
       "    }\n",
       "\n",
       "    .dataframe thead th {\n",
       "        text-align: right;\n",
       "    }\n",
       "</style>\n",
       "<table border=\"1\" class=\"dataframe\">\n",
       "  <thead>\n",
       "    <tr style=\"text-align: right;\">\n",
       "      <th></th>\n",
       "      <th>Duplication</th>\n",
       "      <th>Loss</th>\n",
       "      <th>Algorithm</th>\n",
       "    </tr>\n",
       "  </thead>\n",
       "  <tbody>\n",
       "    <tr>\n",
       "      <th>0</th>\n",
       "      <td>0</td>\n",
       "      <td>3</td>\n",
       "      <td>ete3</td>\n",
       "    </tr>\n",
       "    <tr>\n",
       "      <th>1</th>\n",
       "      <td>-1</td>\n",
       "      <td>0</td>\n",
       "      <td>ete3</td>\n",
       "    </tr>\n",
       "    <tr>\n",
       "      <th>2</th>\n",
       "      <td>0</td>\n",
       "      <td>0</td>\n",
       "      <td>ete3</td>\n",
       "    </tr>\n",
       "    <tr>\n",
       "      <th>3</th>\n",
       "      <td>1</td>\n",
       "      <td>4</td>\n",
       "      <td>ete3</td>\n",
       "    </tr>\n",
       "    <tr>\n",
       "      <th>4</th>\n",
       "      <td>0</td>\n",
       "      <td>0</td>\n",
       "      <td>ete3</td>\n",
       "    </tr>\n",
       "    <tr>\n",
       "      <th>...</th>\n",
       "      <td>...</td>\n",
       "      <td>...</td>\n",
       "      <td>...</td>\n",
       "    </tr>\n",
       "    <tr>\n",
       "      <th>937</th>\n",
       "      <td>0</td>\n",
       "      <td>3</td>\n",
       "      <td>ete3</td>\n",
       "    </tr>\n",
       "    <tr>\n",
       "      <th>938</th>\n",
       "      <td>0</td>\n",
       "      <td>5</td>\n",
       "      <td>ete3</td>\n",
       "    </tr>\n",
       "    <tr>\n",
       "      <th>939</th>\n",
       "      <td>0</td>\n",
       "      <td>6</td>\n",
       "      <td>ete3</td>\n",
       "    </tr>\n",
       "    <tr>\n",
       "      <th>940</th>\n",
       "      <td>0</td>\n",
       "      <td>1</td>\n",
       "      <td>ete3</td>\n",
       "    </tr>\n",
       "    <tr>\n",
       "      <th>941</th>\n",
       "      <td>-1</td>\n",
       "      <td>1</td>\n",
       "      <td>ete3</td>\n",
       "    </tr>\n",
       "  </tbody>\n",
       "</table>\n",
       "<p>942 rows × 3 columns</p>\n",
       "</div>"
      ],
      "text/plain": [
       "     Duplication  Loss Algorithm\n",
       "0              0     3      ete3\n",
       "1             -1     0      ete3\n",
       "2              0     0      ete3\n",
       "3              1     4      ete3\n",
       "4              0     0      ete3\n",
       "..           ...   ...       ...\n",
       "937            0     3      ete3\n",
       "938            0     5      ete3\n",
       "939            0     6      ete3\n",
       "940            0     1      ete3\n",
       "941           -1     1      ete3\n",
       "\n",
       "[942 rows x 3 columns]"
      ]
     },
     "execution_count": 159,
     "metadata": {},
     "output_type": "execute_result"
    }
   ],
   "source": [
    "true_ete_dups"
   ]
  },
  {
   "cell_type": "code",
   "execution_count": 118,
   "id": "bc923384",
   "metadata": {},
   "outputs": [
    {
     "ename": "NameError",
     "evalue": "name 'true_ete3_dups' is not defined",
     "output_type": "error",
     "traceback": [
      "\u001b[0;31m---------------------------------------------------------------------------\u001b[0m",
      "\u001b[0;31mNameError\u001b[0m                                 Traceback (most recent call last)",
      "Input \u001b[0;32mIn [118]\u001b[0m, in \u001b[0;36m<cell line: 1>\u001b[0;34m()\u001b[0m\n\u001b[0;32m----> 1\u001b[0m \u001b[43mtrue_ete3_dups\u001b[49m\n",
      "\u001b[0;31mNameError\u001b[0m: name 'true_ete3_dups' is not defined"
     ]
    }
   ],
   "source": [
    "true_ete3_dups"
   ]
  },
  {
   "cell_type": "code",
   "execution_count": 119,
   "id": "e5e55926",
   "metadata": {},
   "outputs": [],
   "source": [
    "val=0\n",
    "for i in list(true_reconils_dups['Duplication']):\n",
    "    if i!=0:\n",
    "        val=val+1"
   ]
  },
  {
   "cell_type": "code",
   "execution_count": 120,
   "id": "6d570d71",
   "metadata": {},
   "outputs": [
    {
     "data": {
      "text/plain": [
       "420"
      ]
     },
     "execution_count": 120,
     "metadata": {},
     "output_type": "execute_result"
    }
   ],
   "source": [
    "val"
   ]
  },
  {
   "cell_type": "code",
   "execution_count": 121,
   "id": "85254f39",
   "metadata": {},
   "outputs": [
    {
     "data": {
      "text/plain": [
       "[     Duplication Loss  Algorithm\n",
       " 0             -1  NaN  reconcILS\n",
       " 1             -1  NaN  reconcILS\n",
       " 2             -1  NaN  reconcILS\n",
       " 3              0  NaN  reconcILS\n",
       " 4              0  NaN  reconcILS\n",
       " ..           ...  ...        ...\n",
       " 937            0  NaN  reconcILS\n",
       " 938            0  NaN  reconcILS\n",
       " 939           -1  NaN  reconcILS\n",
       " 940            0  NaN  reconcILS\n",
       " 941           -1  NaN  reconcILS\n",
       " \n",
       " [942 rows x 3 columns],\n",
       "      Duplication  Loss Algorithm\n",
       " 0             -1    -1    DLCpar\n",
       " 1             -1    -2    DLCpar\n",
       " 2             -1    -2    DLCpar\n",
       " 3              0     0    DLCpar\n",
       " 4              0     0    DLCpar\n",
       " ..           ...   ...       ...\n",
       " 937            0     3    DLCpar\n",
       " 938            0     0    DLCpar\n",
       " 939           -1    -2    DLCpar\n",
       " 940            0     1    DLCpar\n",
       " 941           -1    -1    DLCpar\n",
       " \n",
       " [942 rows x 3 columns],\n",
       "      Duplication  Loss Algorithm\n",
       " 0             -1    -1    DLCpar\n",
       " 1             -1    -2    DLCpar\n",
       " 2             -1    -2    DLCpar\n",
       " 3              0     0    DLCpar\n",
       " 4              0     0    DLCpar\n",
       " ..           ...   ...       ...\n",
       " 937            0     3    DLCpar\n",
       " 938            0     0    DLCpar\n",
       " 939           -1    -2    DLCpar\n",
       " 940            0     1    DLCpar\n",
       " 941           -1    -1    DLCpar\n",
       " \n",
       " [942 rows x 3 columns]]"
      ]
     },
     "execution_count": 121,
     "metadata": {},
     "output_type": "execute_result"
    }
   ],
   "source": [
    "[true_reconils_dups,true_dlc_dups,true_dlc_dups]"
   ]
  },
  {
   "cell_type": "code",
   "execution_count": 161,
   "id": "e9e08490",
   "metadata": {},
   "outputs": [
    {
     "data": {
      "text/html": [
       "<div>\n",
       "<style scoped>\n",
       "    .dataframe tbody tr th:only-of-type {\n",
       "        vertical-align: middle;\n",
       "    }\n",
       "\n",
       "    .dataframe tbody tr th {\n",
       "        vertical-align: top;\n",
       "    }\n",
       "\n",
       "    .dataframe thead th {\n",
       "        text-align: right;\n",
       "    }\n",
       "</style>\n",
       "<table border=\"1\" class=\"dataframe\">\n",
       "  <thead>\n",
       "    <tr style=\"text-align: right;\">\n",
       "      <th></th>\n",
       "      <th>Duplication</th>\n",
       "      <th>Loss</th>\n",
       "      <th>Algorithm</th>\n",
       "    </tr>\n",
       "  </thead>\n",
       "  <tbody>\n",
       "    <tr>\n",
       "      <th>0</th>\n",
       "      <td>-1</td>\n",
       "      <td>-2</td>\n",
       "      <td>reconcILS</td>\n",
       "    </tr>\n",
       "    <tr>\n",
       "      <th>1</th>\n",
       "      <td>-1</td>\n",
       "      <td>-2</td>\n",
       "      <td>reconcILS</td>\n",
       "    </tr>\n",
       "    <tr>\n",
       "      <th>2</th>\n",
       "      <td>-1</td>\n",
       "      <td>-1</td>\n",
       "      <td>reconcILS</td>\n",
       "    </tr>\n",
       "    <tr>\n",
       "      <th>3</th>\n",
       "      <td>0</td>\n",
       "      <td>0</td>\n",
       "      <td>reconcILS</td>\n",
       "    </tr>\n",
       "    <tr>\n",
       "      <th>4</th>\n",
       "      <td>0</td>\n",
       "      <td>0</td>\n",
       "      <td>reconcILS</td>\n",
       "    </tr>\n",
       "    <tr>\n",
       "      <th>...</th>\n",
       "      <td>...</td>\n",
       "      <td>...</td>\n",
       "      <td>...</td>\n",
       "    </tr>\n",
       "    <tr>\n",
       "      <th>937</th>\n",
       "      <td>0</td>\n",
       "      <td>3</td>\n",
       "      <td>ete3</td>\n",
       "    </tr>\n",
       "    <tr>\n",
       "      <th>938</th>\n",
       "      <td>0</td>\n",
       "      <td>5</td>\n",
       "      <td>ete3</td>\n",
       "    </tr>\n",
       "    <tr>\n",
       "      <th>939</th>\n",
       "      <td>0</td>\n",
       "      <td>6</td>\n",
       "      <td>ete3</td>\n",
       "    </tr>\n",
       "    <tr>\n",
       "      <th>940</th>\n",
       "      <td>0</td>\n",
       "      <td>1</td>\n",
       "      <td>ete3</td>\n",
       "    </tr>\n",
       "    <tr>\n",
       "      <th>941</th>\n",
       "      <td>-1</td>\n",
       "      <td>1</td>\n",
       "      <td>ete3</td>\n",
       "    </tr>\n",
       "  </tbody>\n",
       "</table>\n",
       "<p>2826 rows × 3 columns</p>\n",
       "</div>"
      ],
      "text/plain": [
       "     Duplication  Loss  Algorithm\n",
       "0             -1    -2  reconcILS\n",
       "1             -1    -2  reconcILS\n",
       "2             -1    -1  reconcILS\n",
       "3              0     0  reconcILS\n",
       "4              0     0  reconcILS\n",
       "..           ...   ...        ...\n",
       "937            0     3       ete3\n",
       "938            0     5       ete3\n",
       "939            0     6       ete3\n",
       "940            0     1       ete3\n",
       "941           -1     1       ete3\n",
       "\n",
       "[2826 rows x 3 columns]"
      ]
     },
     "execution_count": 161,
     "metadata": {},
     "output_type": "execute_result"
    }
   ],
   "source": [
    "new =pd.concat([true_reconils_dups,true_dlc_dups,true_ete_dups],axis=0)\n",
    "new"
   ]
  },
  {
   "cell_type": "code",
   "execution_count": 162,
   "id": "00406bb1",
   "metadata": {},
   "outputs": [
    {
     "data": {
      "image/png": "[encoded data removed]",
      "text/plain": [
       "<Figure size 432x288 with 1 Axes>"
      ]
     },
     "metadata": {},
     "output_type": "display_data"
    }
   ],
   "source": [
    "#ax =sns.boxplot(x=\"variable\", y=\"value\",hue=\"Algorithm\", data=pd.melt(new, id_vars =['Algorithm']))\n",
    "sns.violinplot(x=\"variable\", y=\"value\",hue=\"Algorithm\", data=pd.melt(new, id_vars =['Algorithm']))\n",
    "\n",
    "plt.xlabel(\"Events\")\n",
    "plt.legend(bbox_to_anchor=(0.5,0.7))\n",
    "plt.ylabel(\"Infered - True\")\n",
    "plt.savefig('box_plot.jpg', dpi=500)\n",
    "plt.savefig('large_vio.png')\n"
   ]
  },
  {
   "cell_type": "code",
   "execution_count": 146,
   "id": "727456ad",
   "metadata": {},
   "outputs": [
    {
     "data": {
      "text/html": [
       "<div>\n",
       "<style scoped>\n",
       "    .dataframe tbody tr th:only-of-type {\n",
       "        vertical-align: middle;\n",
       "    }\n",
       "\n",
       "    .dataframe tbody tr th {\n",
       "        vertical-align: top;\n",
       "    }\n",
       "\n",
       "    .dataframe thead th {\n",
       "        text-align: right;\n",
       "    }\n",
       "</style>\n",
       "<table border=\"1\" class=\"dataframe\">\n",
       "  <thead>\n",
       "    <tr style=\"text-align: right;\">\n",
       "      <th></th>\n",
       "      <th>Gene_tree</th>\n",
       "      <th>Duplication</th>\n",
       "      <th>NNI</th>\n",
       "      <th>Loss</th>\n",
       "    </tr>\n",
       "    <tr>\n",
       "      <th>Replicate</th>\n",
       "      <th></th>\n",
       "      <th></th>\n",
       "      <th></th>\n",
       "      <th></th>\n",
       "    </tr>\n",
       "  </thead>\n",
       "  <tbody>\n",
       "    <tr>\n",
       "      <th>0</th>\n",
       "      <td>((F,F),(((C,B),A),(C,(D,(B,A)))));</td>\n",
       "      <td>2</td>\n",
       "      <td>3</td>\n",
       "      <td>1</td>\n",
       "    </tr>\n",
       "    <tr>\n",
       "      <th>1</th>\n",
       "      <td>(((E,F),F),(((F,F),(E,F)),F));</td>\n",
       "      <td>5</td>\n",
       "      <td>3</td>\n",
       "      <td>1</td>\n",
       "    </tr>\n",
       "    <tr>\n",
       "      <th>2</th>\n",
       "      <td>((F,(E,F)),E);</td>\n",
       "      <td>1</td>\n",
       "      <td>1</td>\n",
       "      <td>1</td>\n",
       "    </tr>\n",
       "    <tr>\n",
       "      <th>3</th>\n",
       "      <td>(((D,B),(C,A)),F);</td>\n",
       "      <td>0</td>\n",
       "      <td>2</td>\n",
       "      <td>1</td>\n",
       "    </tr>\n",
       "    <tr>\n",
       "      <th>4</th>\n",
       "      <td>(E,(D,((A,A),(B,C))));</td>\n",
       "      <td>1</td>\n",
       "      <td>0</td>\n",
       "      <td>1</td>\n",
       "    </tr>\n",
       "    <tr>\n",
       "      <th>...</th>\n",
       "      <td>...</td>\n",
       "      <td>...</td>\n",
       "      <td>...</td>\n",
       "      <td>...</td>\n",
       "    </tr>\n",
       "    <tr>\n",
       "      <th>995</th>\n",
       "      <td>((F,E),(((D,D),C),((A,A),(C,B))));</td>\n",
       "      <td>3</td>\n",
       "      <td>3</td>\n",
       "      <td>0</td>\n",
       "    </tr>\n",
       "    <tr>\n",
       "      <th>996</th>\n",
       "      <td>(((B,A),D),(E,D));</td>\n",
       "      <td>1</td>\n",
       "      <td>2</td>\n",
       "      <td>2</td>\n",
       "    </tr>\n",
       "    <tr>\n",
       "      <th>997</th>\n",
       "      <td>((((B,(B,C)),D),(B,C)),(E,A));</td>\n",
       "      <td>2</td>\n",
       "      <td>5</td>\n",
       "      <td>1</td>\n",
       "    </tr>\n",
       "    <tr>\n",
       "      <th>998</th>\n",
       "      <td>((B,C),(F,E));</td>\n",
       "      <td>0</td>\n",
       "      <td>0</td>\n",
       "      <td>2</td>\n",
       "    </tr>\n",
       "    <tr>\n",
       "      <th>999</th>\n",
       "      <td>(((F,E),F),((B,C),(C,A)));</td>\n",
       "      <td>2</td>\n",
       "      <td>3</td>\n",
       "      <td>1</td>\n",
       "    </tr>\n",
       "  </tbody>\n",
       "</table>\n",
       "<p>942 rows × 4 columns</p>\n",
       "</div>"
      ],
      "text/plain": [
       "                                    Gene_tree  Duplication  NNI  Loss\n",
       "Replicate                                                            \n",
       "0          ((F,F),(((C,B),A),(C,(D,(B,A)))));            2    3     1\n",
       "1              (((E,F),F),(((F,F),(E,F)),F));            5    3     1\n",
       "2                              ((F,(E,F)),E);            1    1     1\n",
       "3                          (((D,B),(C,A)),F);            0    2     1\n",
       "4                      (E,(D,((A,A),(B,C))));            1    0     1\n",
       "...                                       ...          ...  ...   ...\n",
       "995        ((F,E),(((D,D),C),((A,A),(C,B))));            3    3     0\n",
       "996                        (((B,A),D),(E,D));            1    2     2\n",
       "997            ((((B,(B,C)),D),(B,C)),(E,A));            2    5     1\n",
       "998                            ((B,C),(F,E));            0    0     2\n",
       "999                (((F,E),F),((B,C),(C,A)));            2    3     1\n",
       "\n",
       "[942 rows x 4 columns]"
      ]
     },
     "execution_count": 146,
     "metadata": {},
     "output_type": "execute_result"
    }
   ],
   "source": [
    "df1"
   ]
  },
  {
   "cell_type": "code",
   "execution_count": 125,
   "id": "2bf817b6",
   "metadata": {},
   "outputs": [
    {
     "data": {
      "text/html": [
       "<div>\n",
       "<style scoped>\n",
       "    .dataframe tbody tr th:only-of-type {\n",
       "        vertical-align: middle;\n",
       "    }\n",
       "\n",
       "    .dataframe tbody tr th {\n",
       "        vertical-align: top;\n",
       "    }\n",
       "\n",
       "    .dataframe thead th {\n",
       "        text-align: right;\n",
       "    }\n",
       "</style>\n",
       "<table border=\"1\" class=\"dataframe\">\n",
       "  <thead>\n",
       "    <tr style=\"text-align: right;\">\n",
       "      <th></th>\n",
       "      <th>Replicate</th>\n",
       "      <th>Process</th>\n",
       "      <th>Duplication</th>\n",
       "    </tr>\n",
       "  </thead>\n",
       "  <tbody>\n",
       "  </tbody>\n",
       "</table>\n",
       "</div>"
      ],
      "text/plain": [
       "Empty DataFrame\n",
       "Columns: [Replicate, Process, Duplication]\n",
       "Index: []"
      ]
     },
     "execution_count": 125,
     "metadata": {},
     "output_type": "execute_result"
    }
   ],
   "source": [
    "df[['Replicate','Process','Duplication']][(df.Process == 'Our_algorithm')]"
   ]
  },
  {
   "cell_type": "code",
   "execution_count": null,
   "id": "6667b12d",
   "metadata": {},
   "outputs": [],
   "source": []
  },
  {
   "cell_type": "code",
   "execution_count": null,
   "id": "2655ab03",
   "metadata": {},
   "outputs": [],
   "source": []
  },
  {
   "cell_type": "code",
   "execution_count": 165,
   "id": "f44eed83",
   "metadata": {},
   "outputs": [
    {
     "data": {
      "image/png": "[encoded data removed]",
      "text/plain": [
       "<Figure size 432x288 with 1 Axes>"
      ]
     },
     "metadata": {},
     "output_type": "display_data"
    },
    {
     "data": {
      "text/plain": [
       "<Figure size 432x288 with 0 Axes>"
      ]
     },
     "metadata": {},
     "output_type": "display_data"
    }
   ],
   "source": [
    "import seaborn as sns\n",
    "import numpy as np\n",
    "import matplotlib.pyplot as plt\n",
    "plt.style.use('ggplot')\n",
    "\n",
    "result1 =pd.concat([True_Duplication['Duplication'],O_Duplication['Duplication']], ignore_index=True,axis=1)\n",
    "result11=result1.groupby([0,1]).size().reset_index(name='Count')\n",
    "result12 =pd.concat([True_Duplication['Duplication'],dlc_Duplication['Duplication']], ignore_index=True,axis=1)\n",
    "result22=result12.groupby([0,1]).size().reset_index(name='Count')\n",
    "#sns.lmplot(x=result1[0], y=result1[1], data=result1);\n",
    "x = [0,1, 2, 3, 4, 5]\n",
    "y = [0,1, 2, 3, 4, 5]\n",
    "\n",
    "# Create the line\n",
    "line = plt.plot(x, y, '--',color='g')\n",
    "\n",
    "sns.scatterplot(data=result11, x=0, y=1, size=\"Count\", legend=False, sizes=(20, 2000), alpha=0.8)\n",
    "sns.scatterplot(data=result22, x=0, y=1, size=\"Count\", legend=False, sizes=(10, 1000), alpha=0.8)\n",
    "\n",
    "# show the graph\n",
    "\n",
    "ax=sns.regplot(x=result1[0], y=result1[1], data=result1,marker=\".\", fit_reg=True, scatter_kws={'alpha':1}, ci=None, label='reconcILS')\n",
    "ax=sns.regplot(x=result12[0], y=result12[1], data=result12, marker=\".\",fit_reg=True,scatter_kws={'alpha':1}, ci=None, label='DLCpar')\n",
    "\n",
    "\n",
    "\n",
    "\n",
    "plt.xlabel(\"True Duplication\")\n",
    "plt.ylabel(\"Infered Duplication\")\n",
    "# Show the plot\n",
    "ax.set_xlim(-0.2, 5.2)\n",
    "ax.set_ylim(-0.2, 5.2)\n",
    "\n",
    "plt.legend(bbox_to_anchor=(0.28,1))\n",
    "\n",
    "plt.savefig('regex_dups_large.png', dpi=500)\n",
    "\n",
    "plt.show()\n",
    "plt.clf()"
   ]
  },
  {
   "cell_type": "code",
   "execution_count": 166,
   "id": "3c918623",
   "metadata": {},
   "outputs": [
    {
     "data": {
      "image/png": "[encoded data removed]",
      "text/plain": [
       "<Figure size 432x288 with 1 Axes>"
      ]
     },
     "metadata": {},
     "output_type": "display_data"
    },
    {
     "data": {
      "text/plain": [
       "<Figure size 432x288 with 0 Axes>"
      ]
     },
     "metadata": {},
     "output_type": "display_data"
    }
   ],
   "source": [
    "import seaborn as sns\n",
    "import numpy as np\n",
    "import matplotlib.pyplot as plt\n",
    "\n",
    "\n",
    "result1 =pd.concat([TRUE_Loss['Loss'],O_Loss['Loss']], ignore_index=True,axis=1)\n",
    "result11=result1.groupby([0,1]).size().reset_index(name='Count')\n",
    "\n",
    "result12 =pd.concat([TRUE_Loss['Loss'],dlc_Loss['Loss']], ignore_index=True,axis=1)\n",
    "#sns.lmplot(x=result1[0], y=result1[1], data=result1);\n",
    "result22=result12.groupby([0,1]).size().reset_index(name='Count')\n",
    "sns.scatterplot(data=result11, x=0, y=1, size=\"Count\", legend=False, sizes=(20, 2000), alpha=0.8)\n",
    "sns.scatterplot(data=result22, x=0, y=1, size=\"Count\", legend=False, sizes=(10, 1000), alpha=0.8)\n",
    "x = [0,1, 2, 3, 4, 5]\n",
    "y = [0,1, 2, 3, 4, 5]\n",
    "\n",
    "# Create the line\n",
    "line = plt.plot(x, y, '--',color='g')\n",
    "ax=sns.regplot(x=result1[0], y=result1[1], data=result1,marker=\".\", fit_reg=True, scatter_kws={'alpha':1}, ci=None, label='reconcILS')\n",
    "ax=sns.regplot(x=result12[0], y=result12[1], data=result12, marker=\".\",fit_reg=True,scatter_kws={'alpha':1}, ci=None, label='DLCpar')\n",
    "\n",
    "\n",
    "\n",
    "plt.xlabel(\"True Loss\")\n",
    "plt.ylabel(\"Infered Loss\")\n",
    "# Show the plot\n",
    "ax.set_xlim(-0.2, 5.2)\n",
    "ax.set_ylim(-0.2, 5.2)\n",
    "\n",
    "plt.legend(bbox_to_anchor=(0.28,1))\n",
    "\n",
    "plt.savefig('regex_loss_large.png', dpi=500)\n",
    "\n",
    "plt.show()\n",
    "plt.clf()"
   ]
  },
  {
   "cell_type": "code",
   "execution_count": 167,
   "id": "50727417",
   "metadata": {},
   "outputs": [],
   "source": [
    "r =result1.astype('category')"
   ]
  },
  {
   "cell_type": "code",
   "execution_count": 102,
   "id": "8425dc5c",
   "metadata": {},
   "outputs": [
    {
     "data": {
      "text/html": [
       "<div>\n",
       "<style scoped>\n",
       "    .dataframe tbody tr th:only-of-type {\n",
       "        vertical-align: middle;\n",
       "    }\n",
       "\n",
       "    .dataframe tbody tr th {\n",
       "        vertical-align: top;\n",
       "    }\n",
       "\n",
       "    .dataframe thead th {\n",
       "        text-align: right;\n",
       "    }\n",
       "</style>\n",
       "<table border=\"1\" class=\"dataframe\">\n",
       "  <thead>\n",
       "    <tr style=\"text-align: right;\">\n",
       "      <th></th>\n",
       "      <th>0</th>\n",
       "      <th>1</th>\n",
       "    </tr>\n",
       "  </thead>\n",
       "  <tbody>\n",
       "    <tr>\n",
       "      <th>0</th>\n",
       "      <td>0</td>\n",
       "      <td>0</td>\n",
       "    </tr>\n",
       "    <tr>\n",
       "      <th>1</th>\n",
       "      <td>2</td>\n",
       "      <td>2</td>\n",
       "    </tr>\n",
       "    <tr>\n",
       "      <th>2</th>\n",
       "      <td>0</td>\n",
       "      <td>0</td>\n",
       "    </tr>\n",
       "    <tr>\n",
       "      <th>3</th>\n",
       "      <td>1</td>\n",
       "      <td>1</td>\n",
       "    </tr>\n",
       "    <tr>\n",
       "      <th>4</th>\n",
       "      <td>0</td>\n",
       "      <td>0</td>\n",
       "    </tr>\n",
       "    <tr>\n",
       "      <th>...</th>\n",
       "      <td>...</td>\n",
       "      <td>...</td>\n",
       "    </tr>\n",
       "    <tr>\n",
       "      <th>815</th>\n",
       "      <td>0</td>\n",
       "      <td>0</td>\n",
       "    </tr>\n",
       "    <tr>\n",
       "      <th>816</th>\n",
       "      <td>0</td>\n",
       "      <td>0</td>\n",
       "    </tr>\n",
       "    <tr>\n",
       "      <th>817</th>\n",
       "      <td>3</td>\n",
       "      <td>0</td>\n",
       "    </tr>\n",
       "    <tr>\n",
       "      <th>818</th>\n",
       "      <td>1</td>\n",
       "      <td>1</td>\n",
       "    </tr>\n",
       "    <tr>\n",
       "      <th>819</th>\n",
       "      <td>0</td>\n",
       "      <td>0</td>\n",
       "    </tr>\n",
       "  </tbody>\n",
       "</table>\n",
       "<p>820 rows × 2 columns</p>\n",
       "</div>"
      ],
      "text/plain": [
       "     0  1\n",
       "0    0  0\n",
       "1    2  2\n",
       "2    0  0\n",
       "3    1  1\n",
       "4    0  0\n",
       "..  .. ..\n",
       "815  0  0\n",
       "816  0  0\n",
       "817  3  0\n",
       "818  1  1\n",
       "819  0  0\n",
       "\n",
       "[820 rows x 2 columns]"
      ]
     },
     "execution_count": 102,
     "metadata": {},
     "output_type": "execute_result"
    }
   ],
   "source": [
    "r"
   ]
  },
  {
   "cell_type": "code",
   "execution_count": 103,
   "id": "3ebb3e45",
   "metadata": {},
   "outputs": [
    {
     "data": {
      "image/png": "[encoded data removed]",
      "text/plain": [
       "<Figure size 432x288 with 1 Axes>"
      ]
     },
     "metadata": {},
     "output_type": "display_data"
    }
   ],
   "source": [
    "import pandas as pd\n",
    "import numpy as np\n",
    "import seaborn as sns\n",
    "import matplotlib.pyplot as plt\n",
    "\n",
    "df = pd.DataFrame(np.random.randn(50).reshape(10,5))\n",
    "corr = df.corr()\n",
    "\n",
    "ax1 = sns.heatmap(corr, cbar=0, linewidths=2,vmax=1, vmin=0, square=True, cmap='Blues')\n",
    "plt.show()"
   ]
  },
  {
   "cell_type": "code",
   "execution_count": null,
   "id": "5d69079d",
   "metadata": {},
   "outputs": [],
   "source": []
  },
  {
   "cell_type": "code",
   "execution_count": 104,
   "id": "878338d4",
   "metadata": {},
   "outputs": [
    {
     "data": {
      "text/plain": [
       "array([[0, 2, 0, ..., 3, 1, 0],\n",
       "       [0, 2, 0, ..., 0, 1, 0]])"
      ]
     },
     "execution_count": 104,
     "metadata": {},
     "output_type": "execute_result"
    }
   ],
   "source": [
    "np.array([list(result1[0]), list(result1[1])])"
   ]
  },
  {
   "cell_type": "code",
   "execution_count": null,
   "id": "f72d744b",
   "metadata": {},
   "outputs": [],
   "source": []
  },
  {
   "cell_type": "code",
   "execution_count": 168,
   "id": "5ce33453",
   "metadata": {},
   "outputs": [
    {
     "data": {
      "image/png": "[encoded data removed]",
      "text/plain": [
       "<Figure size 432x288 with 1 Axes>"
      ]
     },
     "metadata": {},
     "output_type": "display_data"
    },
    {
     "data": {
      "text/plain": [
       "<Figure size 432x288 with 0 Axes>"
      ]
     },
     "metadata": {},
     "output_type": "display_data"
    }
   ],
   "source": [
    "import seaborn as sns\n",
    "import numpy as np\n",
    "import matplotlib.pyplot as plt\n",
    "\n",
    "\n",
    "\n",
    "\n",
    "\n",
    "\n",
    "result1 =pd.concat([TRUE_NNI['NNI'],O_NNI['NNI']], ignore_index=True,axis=1)\n",
    "result11=result1.groupby([0,1]).size().reset_index(name='Count')\n",
    "result12 =pd.concat([True_DLCILS['DLCILS'],dlc_DLCILS['DLCILS']], ignore_index=True,axis=1)\n",
    "#sns.lmplot(x=result1[0], y=result1[1], data=result1);\n",
    "result22=result12.groupby([0,1]).size().reset_index(name='Count')\n",
    "x = [0,1, 2, 3, 4, 5]\n",
    "y = [0,1, 2, 3, 4, 5]\n",
    "\n",
    "# Create the line\n",
    "line = plt.plot(x, y, '--',color='g')\n",
    "#sns.lmplot(x=result1[0], y=result1[1], data=result1);\n",
    "sns.scatterplot(data=result11, x=0, y=1, size=\"Count\", legend=False, sizes=(20, 2000), alpha=0.8)\n",
    "sns.scatterplot(data=result22, x=0, y=1, size=\"Count\", legend=False, sizes=(10, 1000), alpha=0.8)\n",
    "\n",
    "ax=sns.regplot(x=result1[0], y=result1[1], data=result1,marker=\".\", fit_reg=True, scatter_kws={'alpha':1}, ci=None, label='reconcILS')\n",
    "ax=sns.regplot(x=result12[0], y=result12[1], data=result12, marker=\".\",fit_reg=True,scatter_kws={'alpha':1}, ci=None, label='DLCpar')\n",
    "\n",
    "\n",
    "\n",
    "plt.xlabel(\"True ILS\")\n",
    "plt.ylabel(\"Infered ILS\")\n",
    "# Show the plot\n",
    "ax.set_xlim(-0.2, 5.2)\n",
    "ax.set_ylim(-0.2, 5.2)\n",
    "\n",
    "plt.legend(bbox_to_anchor=(0.28,1))\n",
    "\n",
    "plt.savefig('regex_NNI_large.png', dpi=500)\n",
    "\n",
    "plt.show()\n",
    "plt.clf()"
   ]
  },
  {
   "cell_type": "code",
   "execution_count": 169,
   "id": "f11c9c9b",
   "metadata": {},
   "outputs": [
    {
     "ename": "NameError",
     "evalue": "name 'ETE3_Loss' is not defined",
     "output_type": "error",
     "traceback": [
      "\u001b[0;31m---------------------------------------------------------------------------\u001b[0m",
      "\u001b[0;31mNameError\u001b[0m                                 Traceback (most recent call last)",
      "Input \u001b[0;32mIn [169]\u001b[0m, in \u001b[0;36m<cell line: 6>\u001b[0;34m()\u001b[0m\n\u001b[1;32m      1\u001b[0m \u001b[38;5;28;01mimport\u001b[39;00m \u001b[38;5;21;01mseaborn\u001b[39;00m \u001b[38;5;28;01mas\u001b[39;00m \u001b[38;5;21;01msns\u001b[39;00m\n\u001b[1;32m      5\u001b[0m result1 \u001b[38;5;241m=\u001b[39mpd\u001b[38;5;241m.\u001b[39mconcat([TRUE_Loss,O_Loss\u001b[38;5;241m.\u001b[39mrename(columns\u001b[38;5;241m=\u001b[39m{\u001b[38;5;124m'\u001b[39m\u001b[38;5;124mb\u001b[39m\u001b[38;5;124m'\u001b[39m:\u001b[38;5;124m'\u001b[39m\u001b[38;5;124ma\u001b[39m\u001b[38;5;124m'\u001b[39m})], ignore_index\u001b[38;5;241m=\u001b[39m\u001b[38;5;28;01mTrue\u001b[39;00m,axis\u001b[38;5;241m=\u001b[39m\u001b[38;5;241m1\u001b[39m)\n\u001b[0;32m----> 6\u001b[0m result2 \u001b[38;5;241m=\u001b[39mpd\u001b[38;5;241m.\u001b[39mconcat([TRUE_Loss,\u001b[43mETE3_Loss\u001b[49m\u001b[38;5;241m.\u001b[39mrename(columns\u001b[38;5;241m=\u001b[39m{\u001b[38;5;124m'\u001b[39m\u001b[38;5;124mb\u001b[39m\u001b[38;5;124m'\u001b[39m:\u001b[38;5;124m'\u001b[39m\u001b[38;5;124ma\u001b[39m\u001b[38;5;124m'\u001b[39m})], ignore_index\u001b[38;5;241m=\u001b[39m\u001b[38;5;28;01mTrue\u001b[39;00m,axis\u001b[38;5;241m=\u001b[39m\u001b[38;5;241m1\u001b[39m)\n\u001b[1;32m      7\u001b[0m sns\u001b[38;5;241m.\u001b[39mscatterplot(data\u001b[38;5;241m=\u001b[39mresult1,x\u001b[38;5;241m=\u001b[39m\u001b[38;5;241m1\u001b[39m,y\u001b[38;5;241m=\u001b[39m\u001b[38;5;241m0\u001b[39m)\n\u001b[1;32m      8\u001b[0m plt\u001b[38;5;241m.\u001b[39mxlabel(\u001b[38;5;124m\"\u001b[39m\u001b[38;5;124mTrue Duplications\u001b[39m\u001b[38;5;124m\"\u001b[39m)\n",
      "\u001b[0;31mNameError\u001b[0m: name 'ETE3_Loss' is not defined"
     ]
    }
   ],
   "source": [
    "import seaborn as sns\n",
    "\n",
    "\n",
    "\n",
    "result1 =pd.concat([TRUE_Loss,O_Loss.rename(columns={'b':'a'})], ignore_index=True,axis=1)\n",
    "result2 =pd.concat([TRUE_Loss,ETE3_Loss.rename(columns={'b':'a'})], ignore_index=True,axis=1)\n",
    "sns.scatterplot(data=result1,x=1,y=0)\n",
    "plt.xlabel(\"True Duplications\")\n",
    "plt.ylabel(\"Infered Duplications reconcILS\")\n",
    "# Show the plot\n",
    "plt.show()\n",
    "plt.clf()\n",
    "\n",
    "sns.scatterplot(data=result2,x=1,y=0)\n",
    "plt.xlabel(\"True Duplications\")\n",
    "plt.ylabel(\"Infered Duplications LCA\")\n",
    "plt.show()"
   ]
  },
  {
   "cell_type": "code",
   "execution_count": 224,
   "id": "dffb763a",
   "metadata": {},
   "outputs": [
    {
     "data": {
      "image/png": "[encoded data removed]",
      "text/plain": [
       "<Figure size 432x288 with 1 Axes>"
      ]
     },
     "metadata": {
      "needs_background": "light"
     },
     "output_type": "display_data"
    }
   ],
   "source": [
    "import seaborn as sns\n",
    "\n",
    "\n",
    "\n",
    "result =pd.concat([TRUE_Loss,O_Loss.rename(columns={'b':'a'})], ignore_index=True,axis=1)\n",
    "sns.scatterplot(data=result,x=1,y=0)\n",
    " \n",
    "# Show the plot\n",
    "plt.show()"
   ]
  },
  {
   "cell_type": "code",
   "execution_count": 170,
   "id": "c8e5c2cd",
   "metadata": {},
   "outputs": [],
   "source": [
    "from scipy.stats import spearmanr\n",
    "rho, p = spearmanr(pd.DataFrame(list(df[(df.Process == \"True Process\")]['Loss']),columns=['NNI']),pd.DataFrame(list(df[(df.Process == \"DLCpar\")]['Loss']),columns=['NNI']))"
   ]
  },
  {
   "cell_type": "code",
   "execution_count": 171,
   "id": "f1b3a738",
   "metadata": {},
   "outputs": [
    {
     "data": {
      "text/plain": [
       "0.3215530536434443"
      ]
     },
     "execution_count": 171,
     "metadata": {},
     "output_type": "execute_result"
    }
   ],
   "source": [
    "rho"
   ]
  },
  {
   "cell_type": "code",
   "execution_count": 185,
   "id": "8c59b23b",
   "metadata": {},
   "outputs": [],
   "source": [
    "from scipy.stats import spearmanr\n",
    "rho, p = spearmanr(pd.DataFrame(list(df[(df.Process == \"True Process\")]['Loss']),columns=['NNI']),pd.DataFrame(list(df[(df.Process == \"Our_algorithm_recu\")]['Loss']),columns=['NNI']))"
   ]
  },
  {
   "cell_type": "code",
   "execution_count": 186,
   "id": "5405facf",
   "metadata": {},
   "outputs": [
    {
     "data": {
      "text/plain": [
       "0.4647582505212778"
      ]
     },
     "execution_count": 186,
     "metadata": {},
     "output_type": "execute_result"
    }
   ],
   "source": [
    "rho"
   ]
  },
  {
   "cell_type": "code",
   "execution_count": 187,
   "id": "b833987e",
   "metadata": {},
   "outputs": [],
   "source": [
    "from scipy.stats import spearmanr\n",
    "rho, p = spearmanr(pd.DataFrame(list(df[(df.Process == \"True Process\")]['Duplication']),columns=['NNI']),pd.DataFrame(list(df[(df.Process == \"DLCpar\")]['Duplication']),columns=['NNI']))"
   ]
  },
  {
   "cell_type": "code",
   "execution_count": 188,
   "id": "1b33334f",
   "metadata": {},
   "outputs": [
    {
     "data": {
      "text/plain": [
       "0.8822064662996465"
      ]
     },
     "execution_count": 188,
     "metadata": {},
     "output_type": "execute_result"
    }
   ],
   "source": [
    "rho"
   ]
  },
  {
   "cell_type": "code",
   "execution_count": 189,
   "id": "c2d2b9a7",
   "metadata": {},
   "outputs": [],
   "source": [
    "from scipy.stats import spearmanr\n",
    "rho, p = spearmanr(pd.DataFrame(list(df[(df.Process == \"True Process\")]['Duplication']),columns=['NNI']),pd.DataFrame(list(df[(df.Process == \"Our_algorithm_ite\")]['Duplication']),columns=['NNI']))"
   ]
  },
  {
   "cell_type": "code",
   "execution_count": 190,
   "id": "8b03b490",
   "metadata": {},
   "outputs": [],
   "source": [
    "from scipy.stats import spearmanr\n",
    "rho, p = spearmanr(pd.DataFrame(list(df[(df.Process == \"True Process\")]['Duplication']),columns=['NNI']),pd.DataFrame(list(df[(df.Process == \"Our_algorithm_recu\")]['Duplication']),columns=['NNI']))"
   ]
  },
  {
   "cell_type": "code",
   "execution_count": 191,
   "id": "d4f578f7",
   "metadata": {},
   "outputs": [
    {
     "data": {
      "text/plain": [
       "0.8778433727467568"
      ]
     },
     "execution_count": 191,
     "metadata": {},
     "output_type": "execute_result"
    }
   ],
   "source": [
    "rho"
   ]
  },
  {
   "cell_type": "code",
   "execution_count": 179,
   "id": "4edf35dd",
   "metadata": {},
   "outputs": [],
   "source": [
    "from scipy.stats import spearmanr\n",
    "rho, p = spearmanr(pd.DataFrame(list(df[(df.Process == \"True Process\")]['DLCILS']),columns=['NNI']),pd.DataFrame(list(df[(df.Process == \"DLCpar\")]['DLCILS']),columns=['NNI']))"
   ]
  },
  {
   "cell_type": "code",
   "execution_count": 180,
   "id": "e29bff96",
   "metadata": {},
   "outputs": [
    {
     "data": {
      "text/plain": [
       "0.45604841087560005"
      ]
     },
     "execution_count": 180,
     "metadata": {},
     "output_type": "execute_result"
    }
   ],
   "source": [
    "rho"
   ]
  },
  {
   "cell_type": "code",
   "execution_count": 181,
   "id": "72f97d0b",
   "metadata": {},
   "outputs": [],
   "source": [
    "from scipy.stats import spearmanr\n",
    "rho, p = spearmanr(pd.DataFrame(list(df[(df.Process == \"True Process\")]['NNI']),columns=['NNI']),pd.DataFrame(list(df[(df.Process == \"Our_algorithm_recu\")]['NNI']),columns=['NNI']))"
   ]
  },
  {
   "cell_type": "code",
   "execution_count": 182,
   "id": "ee6268e7",
   "metadata": {},
   "outputs": [
    {
     "data": {
      "text/plain": [
       "0.616876943879634"
      ]
     },
     "execution_count": 182,
     "metadata": {},
     "output_type": "execute_result"
    }
   ],
   "source": [
    "rho"
   ]
  },
  {
   "cell_type": "code",
   "execution_count": null,
   "id": "382a2058",
   "metadata": {},
   "outputs": [],
   "source": []
  },
  {
   "cell_type": "code",
   "execution_count": null,
   "id": "25ebc1bc",
   "metadata": {},
   "outputs": [],
   "source": []
  },
  {
   "cell_type": "code",
   "execution_count": null,
   "id": "7f5d4a7a",
   "metadata": {},
   "outputs": [],
   "source": []
  }
 ],
 "metadata": {
  "kernelspec": {
   "display_name": "Python 3 (ipykernel)",
   "language": "python",
   "name": "python3"
  },
  "language_info": {
   "codemirror_mode": {
    "name": "ipython",
    "version": 3
   },
   "file_extension": ".py",
   "mimetype": "text/x-python",
   "name": "python",
   "nbconvert_exporter": "python",
   "pygments_lexer": "ipython3",
   "version": "3.9.12"
  }
 },
 "nbformat": 4,
 "nbformat_minor": 5
}
