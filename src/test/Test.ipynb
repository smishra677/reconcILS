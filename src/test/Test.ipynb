{
 "cells": [
  {
   "cell_type": "code",
   "execution_count": 1,
   "id": "c64fb931",
   "metadata": {},
   "outputs": [],
   "source": [
    "import pandas as pd\n",
    "import seaborn as sns\n",
    "import matplotlib.pyplot as plt\n",
    "plt.style.use('ggplot')"
   ]
  },
  {
   "cell_type": "code",
   "execution_count": 2,
   "id": "4567ea5e",
   "metadata": {},
   "outputs": [],
   "source": [
    "from collections import Counter"
   ]
  },
  {
   "cell_type": "code",
   "execution_count": 3,
   "id": "bc9c6276",
   "metadata": {},
   "outputs": [],
   "source": [
    "df_time = pd.read_csv('./bin/10_2_time_result.csv')"
   ]
  },
  {
   "cell_type": "code",
   "execution_count": 4,
   "id": "ab63f92e",
   "metadata": {},
   "outputs": [
    {
     "data": {
      "text/html": [
       "<div>\n",
       "<style scoped>\n",
       "    .dataframe tbody tr th:only-of-type {\n",
       "        vertical-align: middle;\n",
       "    }\n",
       "\n",
       "    .dataframe tbody tr th {\n",
       "        vertical-align: top;\n",
       "    }\n",
       "\n",
       "    .dataframe thead th {\n",
       "        text-align: right;\n",
       "    }\n",
       "</style>\n",
       "<table border=\"1\" class=\"dataframe\">\n",
       "  <thead>\n",
       "    <tr style=\"text-align: right;\">\n",
       "      <th></th>\n",
       "      <th>Replicate</th>\n",
       "      <th>Gene_tree</th>\n",
       "      <th>reconcILSTime_iterative</th>\n",
       "      <th>reconcILSTime_recurssive</th>\n",
       "      <th>dlcparTime</th>\n",
       "    </tr>\n",
       "  </thead>\n",
       "  <tbody>\n",
       "    <tr>\n",
       "      <th>0</th>\n",
       "      <td>0</td>\n",
       "      <td>(((A,A),A),(B,C));</td>\n",
       "      <td>0.141141</td>\n",
       "      <td>0.207391</td>\n",
       "      <td>1.282488</td>\n",
       "    </tr>\n",
       "    <tr>\n",
       "      <th>1</th>\n",
       "      <td>1</td>\n",
       "      <td>((B,B),B);</td>\n",
       "      <td>0.051518</td>\n",
       "      <td>0.117944</td>\n",
       "      <td>1.059296</td>\n",
       "    </tr>\n",
       "    <tr>\n",
       "      <th>2</th>\n",
       "      <td>2</td>\n",
       "      <td>((A,B),C);</td>\n",
       "      <td>0.040750</td>\n",
       "      <td>0.038840</td>\n",
       "      <td>1.091949</td>\n",
       "    </tr>\n",
       "    <tr>\n",
       "      <th>3</th>\n",
       "      <td>3</td>\n",
       "      <td>((((A,A),B),C),A);</td>\n",
       "      <td>0.236308</td>\n",
       "      <td>0.176561</td>\n",
       "      <td>1.031139</td>\n",
       "    </tr>\n",
       "    <tr>\n",
       "      <th>4</th>\n",
       "      <td>4</td>\n",
       "      <td>((C,A),B);</td>\n",
       "      <td>0.074284</td>\n",
       "      <td>0.058241</td>\n",
       "      <td>1.095146</td>\n",
       "    </tr>\n",
       "    <tr>\n",
       "      <th>...</th>\n",
       "      <td>...</td>\n",
       "      <td>...</td>\n",
       "      <td>...</td>\n",
       "      <td>...</td>\n",
       "      <td>...</td>\n",
       "    </tr>\n",
       "    <tr>\n",
       "      <th>815</th>\n",
       "      <td>994</td>\n",
       "      <td>((C,B),A);</td>\n",
       "      <td>0.019717</td>\n",
       "      <td>0.087366</td>\n",
       "      <td>0.997531</td>\n",
       "    </tr>\n",
       "    <tr>\n",
       "      <th>816</th>\n",
       "      <td>995</td>\n",
       "      <td>((C,B),A);</td>\n",
       "      <td>0.023510</td>\n",
       "      <td>0.020246</td>\n",
       "      <td>1.043520</td>\n",
       "    </tr>\n",
       "    <tr>\n",
       "      <th>817</th>\n",
       "      <td>996</td>\n",
       "      <td>((C,C),(((C,C),B),A));</td>\n",
       "      <td>0.583614</td>\n",
       "      <td>0.547788</td>\n",
       "      <td>1.008023</td>\n",
       "    </tr>\n",
       "    <tr>\n",
       "      <th>818</th>\n",
       "      <td>997</td>\n",
       "      <td>(A,B);</td>\n",
       "      <td>0.013993</td>\n",
       "      <td>0.016262</td>\n",
       "      <td>1.045870</td>\n",
       "    </tr>\n",
       "    <tr>\n",
       "      <th>819</th>\n",
       "      <td>999</td>\n",
       "      <td>((B,C),(A,C));</td>\n",
       "      <td>0.151654</td>\n",
       "      <td>0.133544</td>\n",
       "      <td>0.888074</td>\n",
       "    </tr>\n",
       "  </tbody>\n",
       "</table>\n",
       "<p>820 rows × 5 columns</p>\n",
       "</div>"
      ],
      "text/plain": [
       "     Replicate               Gene_tree  reconcILSTime_iterative  \\\n",
       "0            0      (((A,A),A),(B,C));                 0.141141   \n",
       "1            1              ((B,B),B);                 0.051518   \n",
       "2            2              ((A,B),C);                 0.040750   \n",
       "3            3      ((((A,A),B),C),A);                 0.236308   \n",
       "4            4              ((C,A),B);                 0.074284   \n",
       "..         ...                     ...                      ...   \n",
       "815        994              ((C,B),A);                 0.019717   \n",
       "816        995              ((C,B),A);                 0.023510   \n",
       "817        996  ((C,C),(((C,C),B),A));                 0.583614   \n",
       "818        997                  (A,B);                 0.013993   \n",
       "819        999          ((B,C),(A,C));                 0.151654   \n",
       "\n",
       "     reconcILSTime_recurssive  dlcparTime  \n",
       "0                    0.207391    1.282488  \n",
       "1                    0.117944    1.059296  \n",
       "2                    0.038840    1.091949  \n",
       "3                    0.176561    1.031139  \n",
       "4                    0.058241    1.095146  \n",
       "..                        ...         ...  \n",
       "815                  0.087366    0.997531  \n",
       "816                  0.020246    1.043520  \n",
       "817                  0.547788    1.008023  \n",
       "818                  0.016262    1.045870  \n",
       "819                  0.133544    0.888074  \n",
       "\n",
       "[820 rows x 5 columns]"
      ]
     },
     "execution_count": 4,
     "metadata": {},
     "output_type": "execute_result"
    }
   ],
   "source": [
    "df_time"
   ]
  },
  {
   "cell_type": "code",
   "execution_count": 5,
   "id": "36f029bf",
   "metadata": {},
   "outputs": [],
   "source": [
    "df_time_high_ILS = pd.read_csv('./bin/10_3_high_ILS_time_result.csv')\n"
   ]
  },
  {
   "cell_type": "code",
   "execution_count": 6,
   "id": "011d9b40",
   "metadata": {},
   "outputs": [
    {
     "data": {
      "text/plain": [
       "<AxesSubplot:>"
      ]
     },
     "execution_count": 6,
     "metadata": {},
     "output_type": "execute_result"
    },
    {
     "data": {
      "image/png": "[encoded data removed]",
      "text/plain": [
       "<Figure size 432x288 with 1 Axes>"
      ]
     },
     "metadata": {},
     "output_type": "display_data"
    }
   ],
   "source": [
    "df_time_high_ILS[['reconcILSTime','dlcparTime']].plot()"
   ]
  },
  {
   "cell_type": "code",
   "execution_count": null,
   "id": "4a12f60a",
   "metadata": {},
   "outputs": [],
   "source": []
  },
  {
   "cell_type": "code",
   "execution_count": 7,
   "id": "2979b9ee",
   "metadata": {},
   "outputs": [
    {
     "data": {
      "text/plain": [
       "reconcILSTime_iterative     0.283165\n",
       "reconcILSTime_recurssive    0.230383\n",
       "dlcparTime                  1.043651\n",
       "dtype: float64"
      ]
     },
     "execution_count": 7,
     "metadata": {},
     "output_type": "execute_result"
    }
   ],
   "source": [
    "df_time[['reconcILSTime_iterative','reconcILSTime_recurssive','dlcparTime']].mean()"
   ]
  },
  {
   "cell_type": "code",
   "execution_count": 70,
   "id": "5ab4fc9b",
   "metadata": {},
   "outputs": [
    {
     "data": {
      "text/plain": [
       "<AxesSubplot:>"
      ]
     },
     "execution_count": 70,
     "metadata": {},
     "output_type": "execute_result"
    },
    {
     "data": {
      "image/png": "[encoded data removed]",
      "text/plain": [
       "<Figure size 432x288 with 1 Axes>"
      ]
     },
     "metadata": {},
     "output_type": "display_data"
    }
   ],
   "source": [
    "df_time[['reconcILSTime_iterative','dlcparTime']].plot()"
   ]
  },
  {
   "cell_type": "code",
   "execution_count": null,
   "id": "213783ef",
   "metadata": {},
   "outputs": [],
   "source": []
  },
  {
   "cell_type": "code",
   "execution_count": null,
   "id": "c0987af4",
   "metadata": {},
   "outputs": [],
   "source": [
    "df_time =df_time[df_time.reconcILSTime<50]"
   ]
  },
  {
   "cell_type": "code",
   "execution_count": null,
   "id": "19efb4ec",
   "metadata": {},
   "outputs": [],
   "source": [
    "df_diff_D = df_time[df_time['dlcparTime']<df_time['reconcILSTime']].fillna('')\n",
    "df_diff_D"
   ]
  },
  {
   "cell_type": "code",
   "execution_count": 99,
   "id": "5a35a611",
   "metadata": {},
   "outputs": [
    {
     "data": {
      "text/plain": [
       "Series([], Name: Gene_tree, dtype: object)"
      ]
     },
     "execution_count": 99,
     "metadata": {},
     "output_type": "execute_result"
    }
   ],
   "source": [
    "df_diff_D[(df_diff_D.reconcILSTime >100)]['Gene_tree']"
   ]
  },
  {
   "cell_type": "code",
   "execution_count": null,
   "id": "1bcd9c7b",
   "metadata": {},
   "outputs": [],
   "source": []
  },
  {
   "cell_type": "code",
   "execution_count": null,
   "id": "96e0c11b",
   "metadata": {},
   "outputs": [],
   "source": []
  },
  {
   "cell_type": "code",
   "execution_count": 24,
   "id": "ad7aaf78",
   "metadata": {},
   "outputs": [],
   "source": [
    "df = pd.read_csv('./bin/10_2_result.csv')"
   ]
  },
  {
   "cell_type": "code",
   "execution_count": 25,
   "id": "7ec526b7",
   "metadata": {},
   "outputs": [
    {
     "data": {
      "text/html": [
       "<div>\n",
       "<style scoped>\n",
       "    .dataframe tbody tr th:only-of-type {\n",
       "        vertical-align: middle;\n",
       "    }\n",
       "\n",
       "    .dataframe tbody tr th {\n",
       "        vertical-align: top;\n",
       "    }\n",
       "\n",
       "    .dataframe thead th {\n",
       "        text-align: right;\n",
       "    }\n",
       "</style>\n",
       "<table border=\"1\" class=\"dataframe\">\n",
       "  <thead>\n",
       "    <tr style=\"text-align: right;\">\n",
       "      <th></th>\n",
       "      <th>Process</th>\n",
       "      <th>Replicate</th>\n",
       "      <th>Gene_tree</th>\n",
       "      <th>Species_Tree</th>\n",
       "      <th>Duplication</th>\n",
       "      <th>NNI</th>\n",
       "      <th>DLCILS</th>\n",
       "      <th>Loss</th>\n",
       "      <th>Hemiplasy</th>\n",
       "      <th>RHemiplasy</th>\n",
       "    </tr>\n",
       "  </thead>\n",
       "  <tbody>\n",
       "    <tr>\n",
       "      <th>0</th>\n",
       "      <td>True Process</td>\n",
       "      <td>0</td>\n",
       "      <td>(((A,A),A),(B,C));</td>\n",
       "      <td>(A,(B,C));</td>\n",
       "      <td>2</td>\n",
       "      <td>0</td>\n",
       "      <td>0</td>\n",
       "      <td>0</td>\n",
       "      <td>0</td>\n",
       "      <td>0</td>\n",
       "    </tr>\n",
       "    <tr>\n",
       "      <th>1</th>\n",
       "      <td>DLCpar</td>\n",
       "      <td>0</td>\n",
       "      <td>(((A,A),A),(B,C));</td>\n",
       "      <td>(A,(B,C));</td>\n",
       "      <td>2</td>\n",
       "      <td>0</td>\n",
       "      <td>0</td>\n",
       "      <td>0</td>\n",
       "      <td>0</td>\n",
       "      <td>0</td>\n",
       "    </tr>\n",
       "    <tr>\n",
       "      <th>2</th>\n",
       "      <td>Our_algorithm_ite</td>\n",
       "      <td>0</td>\n",
       "      <td>(((A,A),A),(B,C));</td>\n",
       "      <td>(A,(B,C));</td>\n",
       "      <td>2</td>\n",
       "      <td>0</td>\n",
       "      <td>0</td>\n",
       "      <td>0</td>\n",
       "      <td>0</td>\n",
       "      <td>0</td>\n",
       "    </tr>\n",
       "    <tr>\n",
       "      <th>3</th>\n",
       "      <td>Our_algorithm_recu</td>\n",
       "      <td>0</td>\n",
       "      <td>(((A,A),A),(B,C));</td>\n",
       "      <td>(A,(B,C));</td>\n",
       "      <td>2</td>\n",
       "      <td>0</td>\n",
       "      <td>0</td>\n",
       "      <td>0</td>\n",
       "      <td>0</td>\n",
       "      <td>0</td>\n",
       "    </tr>\n",
       "    <tr>\n",
       "      <th>4</th>\n",
       "      <td>True Process</td>\n",
       "      <td>1</td>\n",
       "      <td>((B,B),B);</td>\n",
       "      <td>(A,(B,C));</td>\n",
       "      <td>2</td>\n",
       "      <td>1</td>\n",
       "      <td>1</td>\n",
       "      <td>2</td>\n",
       "      <td>0</td>\n",
       "      <td>2</td>\n",
       "    </tr>\n",
       "    <tr>\n",
       "      <th>...</th>\n",
       "      <td>...</td>\n",
       "      <td>...</td>\n",
       "      <td>...</td>\n",
       "      <td>...</td>\n",
       "      <td>...</td>\n",
       "      <td>...</td>\n",
       "      <td>...</td>\n",
       "      <td>...</td>\n",
       "      <td>...</td>\n",
       "      <td>...</td>\n",
       "    </tr>\n",
       "    <tr>\n",
       "      <th>3275</th>\n",
       "      <td>Our_algorithm_recu</td>\n",
       "      <td>997</td>\n",
       "      <td>(A,B);</td>\n",
       "      <td>(A,(B,C));</td>\n",
       "      <td>0</td>\n",
       "      <td>0</td>\n",
       "      <td>0</td>\n",
       "      <td>1</td>\n",
       "      <td>0</td>\n",
       "      <td>0</td>\n",
       "    </tr>\n",
       "    <tr>\n",
       "      <th>3276</th>\n",
       "      <td>True Process</td>\n",
       "      <td>999</td>\n",
       "      <td>((B,C),(A,C));</td>\n",
       "      <td>(A,(B,C));</td>\n",
       "      <td>1</td>\n",
       "      <td>2</td>\n",
       "      <td>2</td>\n",
       "      <td>0</td>\n",
       "      <td>0</td>\n",
       "      <td>0</td>\n",
       "    </tr>\n",
       "    <tr>\n",
       "      <th>3277</th>\n",
       "      <td>DLCpar</td>\n",
       "      <td>999</td>\n",
       "      <td>((B,C),(A,C));</td>\n",
       "      <td>(A,(B,C));</td>\n",
       "      <td>1</td>\n",
       "      <td>0</td>\n",
       "      <td>0</td>\n",
       "      <td>2</td>\n",
       "      <td>0</td>\n",
       "      <td>0</td>\n",
       "    </tr>\n",
       "    <tr>\n",
       "      <th>3278</th>\n",
       "      <td>Our_algorithm_ite</td>\n",
       "      <td>999</td>\n",
       "      <td>((B,C),(A,C));</td>\n",
       "      <td>(A,(B,C));</td>\n",
       "      <td>1</td>\n",
       "      <td>2</td>\n",
       "      <td>0</td>\n",
       "      <td>0</td>\n",
       "      <td>0</td>\n",
       "      <td>0</td>\n",
       "    </tr>\n",
       "    <tr>\n",
       "      <th>3279</th>\n",
       "      <td>Our_algorithm_recu</td>\n",
       "      <td>999</td>\n",
       "      <td>((B,C),(A,C));</td>\n",
       "      <td>(A,(B,C));</td>\n",
       "      <td>1</td>\n",
       "      <td>2</td>\n",
       "      <td>0</td>\n",
       "      <td>0</td>\n",
       "      <td>0</td>\n",
       "      <td>0</td>\n",
       "    </tr>\n",
       "  </tbody>\n",
       "</table>\n",
       "<p>3280 rows × 10 columns</p>\n",
       "</div>"
      ],
      "text/plain": [
       "                 Process  Replicate           Gene_tree Species_Tree  \\\n",
       "0           True Process          0  (((A,A),A),(B,C));   (A,(B,C));   \n",
       "1                 DLCpar          0  (((A,A),A),(B,C));   (A,(B,C));   \n",
       "2      Our_algorithm_ite          0  (((A,A),A),(B,C));   (A,(B,C));   \n",
       "3     Our_algorithm_recu          0  (((A,A),A),(B,C));   (A,(B,C));   \n",
       "4           True Process          1          ((B,B),B);   (A,(B,C));   \n",
       "...                  ...        ...                 ...          ...   \n",
       "3275  Our_algorithm_recu        997              (A,B);   (A,(B,C));   \n",
       "3276        True Process        999      ((B,C),(A,C));   (A,(B,C));   \n",
       "3277              DLCpar        999      ((B,C),(A,C));   (A,(B,C));   \n",
       "3278   Our_algorithm_ite        999      ((B,C),(A,C));   (A,(B,C));   \n",
       "3279  Our_algorithm_recu        999      ((B,C),(A,C));   (A,(B,C));   \n",
       "\n",
       "      Duplication  NNI  DLCILS  Loss  Hemiplasy  RHemiplasy  \n",
       "0               2    0       0     0          0           0  \n",
       "1               2    0       0     0          0           0  \n",
       "2               2    0       0     0          0           0  \n",
       "3               2    0       0     0          0           0  \n",
       "4               2    1       1     2          0           2  \n",
       "...           ...  ...     ...   ...        ...         ...  \n",
       "3275            0    0       0     1          0           0  \n",
       "3276            1    2       2     0          0           0  \n",
       "3277            1    0       0     2          0           0  \n",
       "3278            1    2       0     0          0           0  \n",
       "3279            1    2       0     0          0           0  \n",
       "\n",
       "[3280 rows x 10 columns]"
      ]
     },
     "execution_count": 25,
     "metadata": {},
     "output_type": "execute_result"
    }
   ],
   "source": [
    "df"
   ]
  },
  {
   "cell_type": "code",
   "execution_count": 14,
   "id": "4b8c91a1",
   "metadata": {},
   "outputs": [],
   "source": [
    "df1= df[['Replicate','Gene_tree','Duplication','NNI','Loss']][(df.Process == 'Our_algorithm_ite')]\n",
    "df2=df[['Replicate','Gene_tree','Duplication','NNI','Loss']][(df.Process == 'Our_algorithm_recu')]\n",
    "\n",
    "df1.set_index('Replicate',inplace=True)\n",
    "df2.set_index('Replicate',inplace=True)\n",
    "\n",
    "df2= df2.compare(df1).astype('category')"
   ]
  },
  {
   "cell_type": "code",
   "execution_count": 15,
   "id": "d410347b",
   "metadata": {},
   "outputs": [
    {
     "data": {
      "text/html": [
       "<div>\n",
       "<style scoped>\n",
       "    .dataframe tbody tr th:only-of-type {\n",
       "        vertical-align: middle;\n",
       "    }\n",
       "\n",
       "    .dataframe tbody tr th {\n",
       "        vertical-align: top;\n",
       "    }\n",
       "\n",
       "    .dataframe thead tr th {\n",
       "        text-align: left;\n",
       "    }\n",
       "\n",
       "    .dataframe thead tr:last-of-type th {\n",
       "        text-align: right;\n",
       "    }\n",
       "</style>\n",
       "<table border=\"1\" class=\"dataframe\">\n",
       "  <thead>\n",
       "    <tr>\n",
       "      <th>Replicate</th>\n",
       "    </tr>\n",
       "  </thead>\n",
       "  <tbody>\n",
       "  </tbody>\n",
       "</table>\n",
       "</div>"
      ],
      "text/plain": [
       "Empty DataFrame\n",
       "Columns: []\n",
       "Index: []"
      ]
     },
     "execution_count": 15,
     "metadata": {},
     "output_type": "execute_result"
    }
   ],
   "source": [
    "df2"
   ]
  },
  {
   "cell_type": "code",
   "execution_count": null,
   "id": "33b4f15d",
   "metadata": {},
   "outputs": [],
   "source": []
  },
  {
   "cell_type": "code",
   "execution_count": 16,
   "id": "84d2a60d",
   "metadata": {},
   "outputs": [
    {
     "data": {
      "text/html": [
       "<div>\n",
       "<style scoped>\n",
       "    .dataframe tbody tr th:only-of-type {\n",
       "        vertical-align: middle;\n",
       "    }\n",
       "\n",
       "    .dataframe tbody tr th {\n",
       "        vertical-align: top;\n",
       "    }\n",
       "\n",
       "    .dataframe thead th {\n",
       "        text-align: right;\n",
       "    }\n",
       "</style>\n",
       "<table border=\"1\" class=\"dataframe\">\n",
       "  <thead>\n",
       "    <tr style=\"text-align: right;\">\n",
       "      <th></th>\n",
       "      <th>Process</th>\n",
       "      <th>Replicate</th>\n",
       "      <th>Gene_tree</th>\n",
       "      <th>Species_Tree</th>\n",
       "      <th>Duplication</th>\n",
       "      <th>NNI</th>\n",
       "      <th>DLCILS</th>\n",
       "      <th>Loss</th>\n",
       "      <th>Hemiplasy</th>\n",
       "      <th>RHemiplasy</th>\n",
       "    </tr>\n",
       "  </thead>\n",
       "  <tbody>\n",
       "    <tr>\n",
       "      <th>3056</th>\n",
       "      <td>True Process</td>\n",
       "      <td>933</td>\n",
       "      <td>((B,B),C);</td>\n",
       "      <td>(A,(B,C));</td>\n",
       "      <td>1</td>\n",
       "      <td>0</td>\n",
       "      <td>0</td>\n",
       "      <td>1</td>\n",
       "      <td>0</td>\n",
       "      <td>1</td>\n",
       "    </tr>\n",
       "    <tr>\n",
       "      <th>3057</th>\n",
       "      <td>DLCpar</td>\n",
       "      <td>933</td>\n",
       "      <td>((B,B),C);</td>\n",
       "      <td>(A,(B,C));</td>\n",
       "      <td>1</td>\n",
       "      <td>0</td>\n",
       "      <td>0</td>\n",
       "      <td>0</td>\n",
       "      <td>0</td>\n",
       "      <td>0</td>\n",
       "    </tr>\n",
       "    <tr>\n",
       "      <th>3058</th>\n",
       "      <td>Our_algorithm_ite</td>\n",
       "      <td>933</td>\n",
       "      <td>((B,B),C);</td>\n",
       "      <td>(A,(B,C));</td>\n",
       "      <td>1</td>\n",
       "      <td>0</td>\n",
       "      <td>0</td>\n",
       "      <td>1</td>\n",
       "      <td>0</td>\n",
       "      <td>0</td>\n",
       "    </tr>\n",
       "    <tr>\n",
       "      <th>3059</th>\n",
       "      <td>Our_algorithm_recu</td>\n",
       "      <td>933</td>\n",
       "      <td>((B,B),C);</td>\n",
       "      <td>(A,(B,C));</td>\n",
       "      <td>1</td>\n",
       "      <td>0</td>\n",
       "      <td>0</td>\n",
       "      <td>1</td>\n",
       "      <td>0</td>\n",
       "      <td>0</td>\n",
       "    </tr>\n",
       "  </tbody>\n",
       "</table>\n",
       "</div>"
      ],
      "text/plain": [
       "                 Process  Replicate   Gene_tree Species_Tree  Duplication  \\\n",
       "3056        True Process        933  ((B,B),C);   (A,(B,C));            1   \n",
       "3057              DLCpar        933  ((B,B),C);   (A,(B,C));            1   \n",
       "3058   Our_algorithm_ite        933  ((B,B),C);   (A,(B,C));            1   \n",
       "3059  Our_algorithm_recu        933  ((B,B),C);   (A,(B,C));            1   \n",
       "\n",
       "      NNI  DLCILS  Loss  Hemiplasy  RHemiplasy  \n",
       "3056    0       0     1          0           1  \n",
       "3057    0       0     0          0           0  \n",
       "3058    0       0     1          0           0  \n",
       "3059    0       0     1          0           0  "
      ]
     },
     "execution_count": 16,
     "metadata": {},
     "output_type": "execute_result"
    }
   ],
   "source": [
    "df[(df.Replicate == 933)]"
   ]
  },
  {
   "cell_type": "code",
   "execution_count": null,
   "id": "3ac8e083",
   "metadata": {},
   "outputs": [],
   "source": []
  },
  {
   "cell_type": "code",
   "execution_count": null,
   "id": "8b285ae5",
   "metadata": {},
   "outputs": [],
   "source": []
  },
  {
   "cell_type": "code",
   "execution_count": 26,
   "id": "b60d94c4",
   "metadata": {},
   "outputs": [],
   "source": [
    "True_Duplication = pd.DataFrame(list(df[(df.Process == \"True Process\")]['Duplication']),columns=['Duplication'])\n",
    "TRUE_NNI = pd.DataFrame(list(df[(df.Process == \"True Process\")]['NNI']),columns=['NNI'])\n",
    "TRUE_Loss = pd.DataFrame(list(df[(df.Process == \"True Process\")]['Loss']),columns=['Loss'])\n",
    "True_DLCILS= pd.DataFrame(list(df[(df.Process == \"True Process\")]['DLCILS']),columns=['DLCILS'])\n",
    "concat_true = pd.concat([True_Duplication,TRUE_Loss],axis=1)"
   ]
  },
  {
   "cell_type": "code",
   "execution_count": 32,
   "id": "7c676a58",
   "metadata": {},
   "outputs": [],
   "source": [
    "O_Duplication = pd.DataFrame(list(df[(df.Process == \"Our_algorithm_ite\")]['Duplication']),columns=['Duplication'])\n",
    "O_NNI = pd.DataFrame(list(df[(df.Process == \"Our_algorithm_ite\")]['NNI']),columns=['NNI'])\n",
    "O_Loss = pd.DataFrame(list(df[(df.Process == \"Our_algorithm_ite\")]['Loss']),columns=['Loss'])\n",
    "concat_O = pd.concat([O_Duplication,O_Loss],axis=1)"
   ]
  },
  {
   "cell_type": "code",
   "execution_count": 33,
   "id": "1aa70e79",
   "metadata": {},
   "outputs": [],
   "source": [
    "ETE3_Duplication = pd.DataFrame(list(df[(df.Process == \"DLCpar\")]['Duplication']),columns=['Duplication'])\n",
    "ETE3_NNI = pd.DataFrame(list(df[(df.Process == \"DLCpar\")]['NNI']),columns=['NNI'])\n",
    "ETE3_Loss = pd.DataFrame(list(df[(df.Process == \"DLCpar\")]['Loss']),columns=['Loss'])\n",
    "ETE3_DLCILS = pd.DataFrame(list(df[(df.Process == \"DLCpar\")]['DLCILS']),columns=['DLCILS'])\n",
    "concat_ETE3 = pd.concat([ETE3_Duplication,ETE3_Loss],axis=1)"
   ]
  },
  {
   "cell_type": "code",
   "execution_count": 34,
   "id": "91bc8ed0",
   "metadata": {},
   "outputs": [
    {
     "name": "stdout",
     "output_type": "stream",
     "text": [
      "820\n"
     ]
    }
   ],
   "source": [
    "print(len(True_Duplication))"
   ]
  },
  {
   "cell_type": "code",
   "execution_count": 35,
   "id": "17533a43",
   "metadata": {},
   "outputs": [
    {
     "name": "stdout",
     "output_type": "stream",
     "text": [
      "820\n"
     ]
    }
   ],
   "source": [
    "print(len(O_Duplication))"
   ]
  },
  {
   "cell_type": "code",
   "execution_count": 36,
   "id": "27ebb900",
   "metadata": {},
   "outputs": [
    {
     "name": "stdout",
     "output_type": "stream",
     "text": [
      "820\n"
     ]
    }
   ],
   "source": [
    "print(len(ETE3_Duplication))"
   ]
  },
  {
   "cell_type": "code",
   "execution_count": 37,
   "id": "51ce7791",
   "metadata": {},
   "outputs": [],
   "source": [
    "True_Duplication['Replicate']=[i for i in range(820)]\n",
    "O_Duplication['Replicate']=[i for i in range(820)]\n",
    "ETE3_Duplication['Replicate']=[i for i in range(820)]\n"
   ]
  },
  {
   "cell_type": "code",
   "execution_count": null,
   "id": "616fd1a2",
   "metadata": {},
   "outputs": [],
   "source": []
  },
  {
   "cell_type": "code",
   "execution_count": 38,
   "id": "c1b324df",
   "metadata": {},
   "outputs": [],
   "source": [
    "true_reconils_dups= pd.DataFrame(concat_O-concat_true)\n",
    "val =['reconcILS' for i in range(820)]\n",
    "true_reconils_dups['Algorithm']=val\n",
    "#true_reconils_dups['Replicate']=[i for i in range(99)]"
   ]
  },
  {
   "cell_type": "code",
   "execution_count": 39,
   "id": "ab1f7e5c",
   "metadata": {},
   "outputs": [],
   "source": [
    "true_ete3_dups= pd.DataFrame((concat_ETE3-concat_true))\n",
    "val =['DLCpar' for i in range(820)]\n",
    "true_ete3_dups['Algorithm']=val\n",
    "\n",
    "#true_ete3_dups['Replicate']=[i for i in range(99)]"
   ]
  },
  {
   "cell_type": "code",
   "execution_count": null,
   "id": "956a5718",
   "metadata": {},
   "outputs": [],
   "source": []
  },
  {
   "cell_type": "code",
   "execution_count": 40,
   "id": "0027b5ab",
   "metadata": {},
   "outputs": [
    {
     "data": {
      "text/html": [
       "<div>\n",
       "<style scoped>\n",
       "    .dataframe tbody tr th:only-of-type {\n",
       "        vertical-align: middle;\n",
       "    }\n",
       "\n",
       "    .dataframe tbody tr th {\n",
       "        vertical-align: top;\n",
       "    }\n",
       "\n",
       "    .dataframe thead th {\n",
       "        text-align: right;\n",
       "    }\n",
       "</style>\n",
       "<table border=\"1\" class=\"dataframe\">\n",
       "  <thead>\n",
       "    <tr style=\"text-align: right;\">\n",
       "      <th></th>\n",
       "      <th>Duplication</th>\n",
       "      <th>Loss</th>\n",
       "      <th>Algorithm</th>\n",
       "    </tr>\n",
       "  </thead>\n",
       "  <tbody>\n",
       "    <tr>\n",
       "      <th>0</th>\n",
       "      <td>0</td>\n",
       "      <td>0</td>\n",
       "      <td>reconcILS</td>\n",
       "    </tr>\n",
       "    <tr>\n",
       "      <th>1</th>\n",
       "      <td>0</td>\n",
       "      <td>0</td>\n",
       "      <td>reconcILS</td>\n",
       "    </tr>\n",
       "    <tr>\n",
       "      <th>2</th>\n",
       "      <td>0</td>\n",
       "      <td>0</td>\n",
       "      <td>reconcILS</td>\n",
       "    </tr>\n",
       "    <tr>\n",
       "      <th>3</th>\n",
       "      <td>-1</td>\n",
       "      <td>0</td>\n",
       "      <td>reconcILS</td>\n",
       "    </tr>\n",
       "    <tr>\n",
       "      <th>4</th>\n",
       "      <td>0</td>\n",
       "      <td>0</td>\n",
       "      <td>reconcILS</td>\n",
       "    </tr>\n",
       "    <tr>\n",
       "      <th>...</th>\n",
       "      <td>...</td>\n",
       "      <td>...</td>\n",
       "      <td>...</td>\n",
       "    </tr>\n",
       "    <tr>\n",
       "      <th>815</th>\n",
       "      <td>0</td>\n",
       "      <td>0</td>\n",
       "      <td>reconcILS</td>\n",
       "    </tr>\n",
       "    <tr>\n",
       "      <th>816</th>\n",
       "      <td>0</td>\n",
       "      <td>0</td>\n",
       "      <td>reconcILS</td>\n",
       "    </tr>\n",
       "    <tr>\n",
       "      <th>817</th>\n",
       "      <td>-3</td>\n",
       "      <td>-3</td>\n",
       "      <td>reconcILS</td>\n",
       "    </tr>\n",
       "    <tr>\n",
       "      <th>818</th>\n",
       "      <td>0</td>\n",
       "      <td>0</td>\n",
       "      <td>reconcILS</td>\n",
       "    </tr>\n",
       "    <tr>\n",
       "      <th>819</th>\n",
       "      <td>0</td>\n",
       "      <td>0</td>\n",
       "      <td>reconcILS</td>\n",
       "    </tr>\n",
       "  </tbody>\n",
       "</table>\n",
       "<p>820 rows × 3 columns</p>\n",
       "</div>"
      ],
      "text/plain": [
       "     Duplication  Loss  Algorithm\n",
       "0              0     0  reconcILS\n",
       "1              0     0  reconcILS\n",
       "2              0     0  reconcILS\n",
       "3             -1     0  reconcILS\n",
       "4              0     0  reconcILS\n",
       "..           ...   ...        ...\n",
       "815            0     0  reconcILS\n",
       "816            0     0  reconcILS\n",
       "817           -3    -3  reconcILS\n",
       "818            0     0  reconcILS\n",
       "819            0     0  reconcILS\n",
       "\n",
       "[820 rows x 3 columns]"
      ]
     },
     "execution_count": 40,
     "metadata": {},
     "output_type": "execute_result"
    }
   ],
   "source": [
    "true_reconils_dups"
   ]
  },
  {
   "cell_type": "code",
   "execution_count": 41,
   "id": "bc923384",
   "metadata": {},
   "outputs": [
    {
     "data": {
      "text/html": [
       "<div>\n",
       "<style scoped>\n",
       "    .dataframe tbody tr th:only-of-type {\n",
       "        vertical-align: middle;\n",
       "    }\n",
       "\n",
       "    .dataframe tbody tr th {\n",
       "        vertical-align: top;\n",
       "    }\n",
       "\n",
       "    .dataframe thead th {\n",
       "        text-align: right;\n",
       "    }\n",
       "</style>\n",
       "<table border=\"1\" class=\"dataframe\">\n",
       "  <thead>\n",
       "    <tr style=\"text-align: right;\">\n",
       "      <th></th>\n",
       "      <th>Duplication</th>\n",
       "      <th>Loss</th>\n",
       "      <th>Algorithm</th>\n",
       "    </tr>\n",
       "  </thead>\n",
       "  <tbody>\n",
       "    <tr>\n",
       "      <th>0</th>\n",
       "      <td>0</td>\n",
       "      <td>0</td>\n",
       "      <td>DLCpar</td>\n",
       "    </tr>\n",
       "    <tr>\n",
       "      <th>1</th>\n",
       "      <td>0</td>\n",
       "      <td>-2</td>\n",
       "      <td>DLCpar</td>\n",
       "    </tr>\n",
       "    <tr>\n",
       "      <th>2</th>\n",
       "      <td>0</td>\n",
       "      <td>0</td>\n",
       "      <td>DLCpar</td>\n",
       "    </tr>\n",
       "    <tr>\n",
       "      <th>3</th>\n",
       "      <td>-1</td>\n",
       "      <td>0</td>\n",
       "      <td>DLCpar</td>\n",
       "    </tr>\n",
       "    <tr>\n",
       "      <th>4</th>\n",
       "      <td>0</td>\n",
       "      <td>0</td>\n",
       "      <td>DLCpar</td>\n",
       "    </tr>\n",
       "    <tr>\n",
       "      <th>...</th>\n",
       "      <td>...</td>\n",
       "      <td>...</td>\n",
       "      <td>...</td>\n",
       "    </tr>\n",
       "    <tr>\n",
       "      <th>815</th>\n",
       "      <td>0</td>\n",
       "      <td>0</td>\n",
       "      <td>DLCpar</td>\n",
       "    </tr>\n",
       "    <tr>\n",
       "      <th>816</th>\n",
       "      <td>0</td>\n",
       "      <td>0</td>\n",
       "      <td>DLCpar</td>\n",
       "    </tr>\n",
       "    <tr>\n",
       "      <th>817</th>\n",
       "      <td>-3</td>\n",
       "      <td>-1</td>\n",
       "      <td>DLCpar</td>\n",
       "    </tr>\n",
       "    <tr>\n",
       "      <th>818</th>\n",
       "      <td>0</td>\n",
       "      <td>0</td>\n",
       "      <td>DLCpar</td>\n",
       "    </tr>\n",
       "    <tr>\n",
       "      <th>819</th>\n",
       "      <td>0</td>\n",
       "      <td>2</td>\n",
       "      <td>DLCpar</td>\n",
       "    </tr>\n",
       "  </tbody>\n",
       "</table>\n",
       "<p>820 rows × 3 columns</p>\n",
       "</div>"
      ],
      "text/plain": [
       "     Duplication  Loss Algorithm\n",
       "0              0     0    DLCpar\n",
       "1              0    -2    DLCpar\n",
       "2              0     0    DLCpar\n",
       "3             -1     0    DLCpar\n",
       "4              0     0    DLCpar\n",
       "..           ...   ...       ...\n",
       "815            0     0    DLCpar\n",
       "816            0     0    DLCpar\n",
       "817           -3    -1    DLCpar\n",
       "818            0     0    DLCpar\n",
       "819            0     2    DLCpar\n",
       "\n",
       "[820 rows x 3 columns]"
      ]
     },
     "execution_count": 41,
     "metadata": {},
     "output_type": "execute_result"
    }
   ],
   "source": [
    "true_ete3_dups"
   ]
  },
  {
   "cell_type": "code",
   "execution_count": 42,
   "id": "e5e55926",
   "metadata": {},
   "outputs": [],
   "source": [
    "val=0\n",
    "for i in list(true_reconils_dups['Duplication']):\n",
    "    if i!=0:\n",
    "        val=val+1"
   ]
  },
  {
   "cell_type": "code",
   "execution_count": 43,
   "id": "6d570d71",
   "metadata": {},
   "outputs": [
    {
     "data": {
      "text/plain": [
       "293"
      ]
     },
     "execution_count": 43,
     "metadata": {},
     "output_type": "execute_result"
    }
   ],
   "source": [
    "val"
   ]
  },
  {
   "cell_type": "code",
   "execution_count": 44,
   "id": "e9e08490",
   "metadata": {},
   "outputs": [
    {
     "data": {
      "text/html": [
       "<div>\n",
       "<style scoped>\n",
       "    .dataframe tbody tr th:only-of-type {\n",
       "        vertical-align: middle;\n",
       "    }\n",
       "\n",
       "    .dataframe tbody tr th {\n",
       "        vertical-align: top;\n",
       "    }\n",
       "\n",
       "    .dataframe thead th {\n",
       "        text-align: right;\n",
       "    }\n",
       "</style>\n",
       "<table border=\"1\" class=\"dataframe\">\n",
       "  <thead>\n",
       "    <tr style=\"text-align: right;\">\n",
       "      <th></th>\n",
       "      <th>Algorithm</th>\n",
       "      <th>variable</th>\n",
       "      <th>value</th>\n",
       "    </tr>\n",
       "  </thead>\n",
       "  <tbody>\n",
       "    <tr>\n",
       "      <th>0</th>\n",
       "      <td>reconcILS</td>\n",
       "      <td>Duplication</td>\n",
       "      <td>0</td>\n",
       "    </tr>\n",
       "    <tr>\n",
       "      <th>1</th>\n",
       "      <td>reconcILS</td>\n",
       "      <td>Duplication</td>\n",
       "      <td>0</td>\n",
       "    </tr>\n",
       "    <tr>\n",
       "      <th>2</th>\n",
       "      <td>reconcILS</td>\n",
       "      <td>Duplication</td>\n",
       "      <td>0</td>\n",
       "    </tr>\n",
       "    <tr>\n",
       "      <th>3</th>\n",
       "      <td>reconcILS</td>\n",
       "      <td>Duplication</td>\n",
       "      <td>-1</td>\n",
       "    </tr>\n",
       "    <tr>\n",
       "      <th>4</th>\n",
       "      <td>reconcILS</td>\n",
       "      <td>Duplication</td>\n",
       "      <td>0</td>\n",
       "    </tr>\n",
       "    <tr>\n",
       "      <th>...</th>\n",
       "      <td>...</td>\n",
       "      <td>...</td>\n",
       "      <td>...</td>\n",
       "    </tr>\n",
       "    <tr>\n",
       "      <th>3275</th>\n",
       "      <td>DLCpar</td>\n",
       "      <td>Loss</td>\n",
       "      <td>0</td>\n",
       "    </tr>\n",
       "    <tr>\n",
       "      <th>3276</th>\n",
       "      <td>DLCpar</td>\n",
       "      <td>Loss</td>\n",
       "      <td>0</td>\n",
       "    </tr>\n",
       "    <tr>\n",
       "      <th>3277</th>\n",
       "      <td>DLCpar</td>\n",
       "      <td>Loss</td>\n",
       "      <td>-1</td>\n",
       "    </tr>\n",
       "    <tr>\n",
       "      <th>3278</th>\n",
       "      <td>DLCpar</td>\n",
       "      <td>Loss</td>\n",
       "      <td>0</td>\n",
       "    </tr>\n",
       "    <tr>\n",
       "      <th>3279</th>\n",
       "      <td>DLCpar</td>\n",
       "      <td>Loss</td>\n",
       "      <td>2</td>\n",
       "    </tr>\n",
       "  </tbody>\n",
       "</table>\n",
       "<p>3280 rows × 3 columns</p>\n",
       "</div>"
      ],
      "text/plain": [
       "      Algorithm     variable  value\n",
       "0     reconcILS  Duplication      0\n",
       "1     reconcILS  Duplication      0\n",
       "2     reconcILS  Duplication      0\n",
       "3     reconcILS  Duplication     -1\n",
       "4     reconcILS  Duplication      0\n",
       "...         ...          ...    ...\n",
       "3275     DLCpar         Loss      0\n",
       "3276     DLCpar         Loss      0\n",
       "3277     DLCpar         Loss     -1\n",
       "3278     DLCpar         Loss      0\n",
       "3279     DLCpar         Loss      2\n",
       "\n",
       "[3280 rows x 3 columns]"
      ]
     },
     "execution_count": 44,
     "metadata": {},
     "output_type": "execute_result"
    }
   ],
   "source": [
    "new =pd.concat([true_reconils_dups,true_ete3_dups],axis=0)\n",
    "pd.melt(new, id_vars =['Algorithm'])"
   ]
  },
  {
   "cell_type": "code",
   "execution_count": 45,
   "id": "00406bb1",
   "metadata": {},
   "outputs": [
    {
     "data": {
      "image/png": "[encoded data removed]",
      "text/plain": [
       "<Figure size 432x288 with 1 Axes>"
      ]
     },
     "metadata": {},
     "output_type": "display_data"
    }
   ],
   "source": [
    "#ax =sns.boxplot(x=\"variable\", y=\"value\",hue=\"Algorithm\", data=pd.melt(new, id_vars =['Algorithm']))\n",
    "sns.violinplot(x=\"variable\", y=\"value\",hue=\"Algorithm\", data=pd.melt(new, id_vars =['Algorithm']))\n",
    "\n",
    "plt.xlabel(\"Events\")\n",
    "plt.legend(bbox_to_anchor=(0.3,0.3))\n",
    "plt.ylabel(\"Infere - True\")\n",
    "plt.savefig('box_plot.jpg', dpi=500)\n"
   ]
  },
  {
   "cell_type": "code",
   "execution_count": 46,
   "id": "043ae090",
   "metadata": {},
   "outputs": [],
   "source": [
    "from folium.plugins import HeatMap\n",
    "import folium\n",
    "df1= df[['Replicate','Duplication']][(df.Process == 'DLCpar')]\n",
    "df2=df[['Replicate','Duplication']][(df.Process == 'True Process')]\n",
    "\n",
    "df1.set_index('Replicate',inplace=True)\n",
    "df2.set_index('Replicate',inplace=True)\n",
    "\n",
    "df2= df1.compare(df2).astype('category')\n",
    "df2  = df2['Duplication']\n",
    "CrosstabResult = pd.crosstab(index=df2['self'], columns=df2['other'])\n",
    "\n",
    "ax1 = HeatMap(CrosstabResult, radius = 10, gradient={1000: 'blue', 3000: 'lime', 5000: 'red'})\n",
    "\n",
    "plt.show()"
   ]
  },
  {
   "cell_type": "code",
   "execution_count": 47,
   "id": "727456ad",
   "metadata": {},
   "outputs": [
    {
     "data": {
      "text/html": [
       "<div>\n",
       "<style scoped>\n",
       "    .dataframe tbody tr th:only-of-type {\n",
       "        vertical-align: middle;\n",
       "    }\n",
       "\n",
       "    .dataframe tbody tr th {\n",
       "        vertical-align: top;\n",
       "    }\n",
       "\n",
       "    .dataframe thead th {\n",
       "        text-align: right;\n",
       "    }\n",
       "</style>\n",
       "<table border=\"1\" class=\"dataframe\">\n",
       "  <thead>\n",
       "    <tr style=\"text-align: right;\">\n",
       "      <th></th>\n",
       "      <th>Duplication</th>\n",
       "    </tr>\n",
       "    <tr>\n",
       "      <th>Replicate</th>\n",
       "      <th></th>\n",
       "    </tr>\n",
       "  </thead>\n",
       "  <tbody>\n",
       "    <tr>\n",
       "      <th>0</th>\n",
       "      <td>2</td>\n",
       "    </tr>\n",
       "    <tr>\n",
       "      <th>1</th>\n",
       "      <td>2</td>\n",
       "    </tr>\n",
       "    <tr>\n",
       "      <th>2</th>\n",
       "      <td>0</td>\n",
       "    </tr>\n",
       "    <tr>\n",
       "      <th>3</th>\n",
       "      <td>2</td>\n",
       "    </tr>\n",
       "    <tr>\n",
       "      <th>4</th>\n",
       "      <td>0</td>\n",
       "    </tr>\n",
       "    <tr>\n",
       "      <th>...</th>\n",
       "      <td>...</td>\n",
       "    </tr>\n",
       "    <tr>\n",
       "      <th>994</th>\n",
       "      <td>0</td>\n",
       "    </tr>\n",
       "    <tr>\n",
       "      <th>995</th>\n",
       "      <td>0</td>\n",
       "    </tr>\n",
       "    <tr>\n",
       "      <th>996</th>\n",
       "      <td>3</td>\n",
       "    </tr>\n",
       "    <tr>\n",
       "      <th>997</th>\n",
       "      <td>0</td>\n",
       "    </tr>\n",
       "    <tr>\n",
       "      <th>999</th>\n",
       "      <td>1</td>\n",
       "    </tr>\n",
       "  </tbody>\n",
       "</table>\n",
       "<p>820 rows × 1 columns</p>\n",
       "</div>"
      ],
      "text/plain": [
       "           Duplication\n",
       "Replicate             \n",
       "0                    2\n",
       "1                    2\n",
       "2                    0\n",
       "3                    2\n",
       "4                    0\n",
       "...                ...\n",
       "994                  0\n",
       "995                  0\n",
       "996                  3\n",
       "997                  0\n",
       "999                  1\n",
       "\n",
       "[820 rows x 1 columns]"
      ]
     },
     "execution_count": 47,
     "metadata": {},
     "output_type": "execute_result"
    }
   ],
   "source": [
    "df1"
   ]
  },
  {
   "cell_type": "code",
   "execution_count": 48,
   "id": "de229606",
   "metadata": {},
   "outputs": [
    {
     "ename": "ValueError",
     "evalue": "Can only compare identically-labeled DataFrame objects",
     "output_type": "error",
     "traceback": [
      "\u001b[0;31m---------------------------------------------------------------------------\u001b[0m",
      "\u001b[0;31mValueError\u001b[0m                                Traceback (most recent call last)",
      "Input \u001b[0;32mIn [48]\u001b[0m, in \u001b[0;36m<cell line: 7>\u001b[0;34m()\u001b[0m\n\u001b[1;32m      4\u001b[0m df1\u001b[38;5;241m.\u001b[39mset_index(\u001b[38;5;124m'\u001b[39m\u001b[38;5;124mReplicate\u001b[39m\u001b[38;5;124m'\u001b[39m,inplace\u001b[38;5;241m=\u001b[39m\u001b[38;5;28;01mTrue\u001b[39;00m)\n\u001b[1;32m      5\u001b[0m df2\u001b[38;5;241m.\u001b[39mset_index(\u001b[38;5;124m'\u001b[39m\u001b[38;5;124mReplicate\u001b[39m\u001b[38;5;124m'\u001b[39m,inplace\u001b[38;5;241m=\u001b[39m\u001b[38;5;28;01mTrue\u001b[39;00m)\n\u001b[0;32m----> 7\u001b[0m df2\u001b[38;5;241m=\u001b[39m \u001b[43mdf1\u001b[49m\u001b[38;5;241;43m.\u001b[39;49m\u001b[43mcompare\u001b[49m\u001b[43m(\u001b[49m\u001b[43mdf2\u001b[49m\u001b[43m)\u001b[49m\u001b[38;5;241m.\u001b[39mastype(\u001b[38;5;124m'\u001b[39m\u001b[38;5;124mcategory\u001b[39m\u001b[38;5;124m'\u001b[39m)\n\u001b[1;32m      8\u001b[0m df2  \u001b[38;5;241m=\u001b[39m df2[\u001b[38;5;124m'\u001b[39m\u001b[38;5;124mLoss\u001b[39m\u001b[38;5;124m'\u001b[39m]\n\u001b[1;32m      9\u001b[0m CrosstabResult \u001b[38;5;241m=\u001b[39m pd\u001b[38;5;241m.\u001b[39mcrosstab(index\u001b[38;5;241m=\u001b[39mdf2[\u001b[38;5;124m'\u001b[39m\u001b[38;5;124mself\u001b[39m\u001b[38;5;124m'\u001b[39m], columns\u001b[38;5;241m=\u001b[39mdf2[\u001b[38;5;124m'\u001b[39m\u001b[38;5;124mother\u001b[39m\u001b[38;5;124m'\u001b[39m])\n",
      "File \u001b[0;32m~/anaconda3/lib/python3.9/site-packages/pandas/core/frame.py:7193\u001b[0m, in \u001b[0;36mDataFrame.compare\u001b[0;34m(self, other, align_axis, keep_shape, keep_equal)\u001b[0m\n\u001b[1;32m   7080\u001b[0m \u001b[38;5;129m@doc\u001b[39m(\n\u001b[1;32m   7081\u001b[0m     _shared_docs[\u001b[38;5;124m\"\u001b[39m\u001b[38;5;124mcompare\u001b[39m\u001b[38;5;124m\"\u001b[39m],\n\u001b[1;32m   7082\u001b[0m \u001b[38;5;250m    \u001b[39m\u001b[38;5;124;03m\"\"\"\u001b[39;00m\n\u001b[0;32m   (...)\u001b[0m\n\u001b[1;32m   7191\u001b[0m     keep_equal: \u001b[38;5;28mbool\u001b[39m \u001b[38;5;241m=\u001b[39m \u001b[38;5;28;01mFalse\u001b[39;00m,\n\u001b[1;32m   7192\u001b[0m ) \u001b[38;5;241m-\u001b[39m\u001b[38;5;241m>\u001b[39m DataFrame:\n\u001b[0;32m-> 7193\u001b[0m     \u001b[38;5;28;01mreturn\u001b[39;00m \u001b[38;5;28;43msuper\u001b[39;49m\u001b[43m(\u001b[49m\u001b[43m)\u001b[49m\u001b[38;5;241;43m.\u001b[39;49m\u001b[43mcompare\u001b[49m\u001b[43m(\u001b[49m\n\u001b[1;32m   7194\u001b[0m \u001b[43m        \u001b[49m\u001b[43mother\u001b[49m\u001b[38;5;241;43m=\u001b[39;49m\u001b[43mother\u001b[49m\u001b[43m,\u001b[49m\n\u001b[1;32m   7195\u001b[0m \u001b[43m        \u001b[49m\u001b[43malign_axis\u001b[49m\u001b[38;5;241;43m=\u001b[39;49m\u001b[43malign_axis\u001b[49m\u001b[43m,\u001b[49m\n\u001b[1;32m   7196\u001b[0m \u001b[43m        \u001b[49m\u001b[43mkeep_shape\u001b[49m\u001b[38;5;241;43m=\u001b[39;49m\u001b[43mkeep_shape\u001b[49m\u001b[43m,\u001b[49m\n\u001b[1;32m   7197\u001b[0m \u001b[43m        \u001b[49m\u001b[43mkeep_equal\u001b[49m\u001b[38;5;241;43m=\u001b[39;49m\u001b[43mkeep_equal\u001b[49m\u001b[43m,\u001b[49m\n\u001b[1;32m   7198\u001b[0m \u001b[43m    \u001b[49m\u001b[43m)\u001b[49m\n",
      "File \u001b[0;32m~/anaconda3/lib/python3.9/site-packages/pandas/core/generic.py:8640\u001b[0m, in \u001b[0;36mNDFrame.compare\u001b[0;34m(self, other, align_axis, keep_shape, keep_equal)\u001b[0m\n\u001b[1;32m   8635\u001b[0m     cls_self, cls_other \u001b[38;5;241m=\u001b[39m \u001b[38;5;28mtype\u001b[39m(\u001b[38;5;28mself\u001b[39m)\u001b[38;5;241m.\u001b[39m\u001b[38;5;18m__name__\u001b[39m, \u001b[38;5;28mtype\u001b[39m(other)\u001b[38;5;241m.\u001b[39m\u001b[38;5;18m__name__\u001b[39m\n\u001b[1;32m   8636\u001b[0m     \u001b[38;5;28;01mraise\u001b[39;00m \u001b[38;5;167;01mTypeError\u001b[39;00m(\n\u001b[1;32m   8637\u001b[0m         \u001b[38;5;124mf\u001b[39m\u001b[38;5;124m\"\u001b[39m\u001b[38;5;124mcan only compare \u001b[39m\u001b[38;5;124m'\u001b[39m\u001b[38;5;132;01m{\u001b[39;00mcls_self\u001b[38;5;132;01m}\u001b[39;00m\u001b[38;5;124m'\u001b[39m\u001b[38;5;124m (not \u001b[39m\u001b[38;5;124m'\u001b[39m\u001b[38;5;132;01m{\u001b[39;00mcls_other\u001b[38;5;132;01m}\u001b[39;00m\u001b[38;5;124m'\u001b[39m\u001b[38;5;124m) with \u001b[39m\u001b[38;5;124m'\u001b[39m\u001b[38;5;132;01m{\u001b[39;00mcls_self\u001b[38;5;132;01m}\u001b[39;00m\u001b[38;5;124m'\u001b[39m\u001b[38;5;124m\"\u001b[39m\n\u001b[1;32m   8638\u001b[0m     )\n\u001b[0;32m-> 8640\u001b[0m mask \u001b[38;5;241m=\u001b[39m \u001b[38;5;241m~\u001b[39m((\u001b[38;5;28;43mself\u001b[39;49m\u001b[43m \u001b[49m\u001b[38;5;241;43m==\u001b[39;49m\u001b[43m \u001b[49m\u001b[43mother\u001b[49m) \u001b[38;5;241m|\u001b[39m (\u001b[38;5;28mself\u001b[39m\u001b[38;5;241m.\u001b[39misna() \u001b[38;5;241m&\u001b[39m other\u001b[38;5;241m.\u001b[39misna()))\n\u001b[1;32m   8641\u001b[0m keys \u001b[38;5;241m=\u001b[39m [\u001b[38;5;124m\"\u001b[39m\u001b[38;5;124mself\u001b[39m\u001b[38;5;124m\"\u001b[39m, \u001b[38;5;124m\"\u001b[39m\u001b[38;5;124mother\u001b[39m\u001b[38;5;124m\"\u001b[39m]\n\u001b[1;32m   8643\u001b[0m \u001b[38;5;28;01mif\u001b[39;00m \u001b[38;5;129;01mnot\u001b[39;00m keep_equal:\n",
      "File \u001b[0;32m~/anaconda3/lib/python3.9/site-packages/pandas/core/ops/common.py:70\u001b[0m, in \u001b[0;36m_unpack_zerodim_and_defer.<locals>.new_method\u001b[0;34m(self, other)\u001b[0m\n\u001b[1;32m     66\u001b[0m             \u001b[38;5;28;01mreturn\u001b[39;00m \u001b[38;5;28mNotImplemented\u001b[39m\n\u001b[1;32m     68\u001b[0m other \u001b[38;5;241m=\u001b[39m item_from_zerodim(other)\n\u001b[0;32m---> 70\u001b[0m \u001b[38;5;28;01mreturn\u001b[39;00m \u001b[43mmethod\u001b[49m\u001b[43m(\u001b[49m\u001b[38;5;28;43mself\u001b[39;49m\u001b[43m,\u001b[49m\u001b[43m \u001b[49m\u001b[43mother\u001b[49m\u001b[43m)\u001b[49m\n",
      "File \u001b[0;32m~/anaconda3/lib/python3.9/site-packages/pandas/core/arraylike.py:40\u001b[0m, in \u001b[0;36mOpsMixin.__eq__\u001b[0;34m(self, other)\u001b[0m\n\u001b[1;32m     38\u001b[0m \u001b[38;5;129m@unpack_zerodim_and_defer\u001b[39m(\u001b[38;5;124m\"\u001b[39m\u001b[38;5;124m__eq__\u001b[39m\u001b[38;5;124m\"\u001b[39m)\n\u001b[1;32m     39\u001b[0m \u001b[38;5;28;01mdef\u001b[39;00m \u001b[38;5;21m__eq__\u001b[39m(\u001b[38;5;28mself\u001b[39m, other):\n\u001b[0;32m---> 40\u001b[0m     \u001b[38;5;28;01mreturn\u001b[39;00m \u001b[38;5;28;43mself\u001b[39;49m\u001b[38;5;241;43m.\u001b[39;49m\u001b[43m_cmp_method\u001b[49m\u001b[43m(\u001b[49m\u001b[43mother\u001b[49m\u001b[43m,\u001b[49m\u001b[43m \u001b[49m\u001b[43moperator\u001b[49m\u001b[38;5;241;43m.\u001b[39;49m\u001b[43meq\u001b[49m\u001b[43m)\u001b[49m\n",
      "File \u001b[0;32m~/anaconda3/lib/python3.9/site-packages/pandas/core/frame.py:6931\u001b[0m, in \u001b[0;36mDataFrame._cmp_method\u001b[0;34m(self, other, op)\u001b[0m\n\u001b[1;32m   6928\u001b[0m \u001b[38;5;28;01mdef\u001b[39;00m \u001b[38;5;21m_cmp_method\u001b[39m(\u001b[38;5;28mself\u001b[39m, other, op):\n\u001b[1;32m   6929\u001b[0m     axis \u001b[38;5;241m=\u001b[39m \u001b[38;5;241m1\u001b[39m  \u001b[38;5;66;03m# only relevant for Series other case\u001b[39;00m\n\u001b[0;32m-> 6931\u001b[0m     \u001b[38;5;28mself\u001b[39m, other \u001b[38;5;241m=\u001b[39m \u001b[43mops\u001b[49m\u001b[38;5;241;43m.\u001b[39;49m\u001b[43malign_method_FRAME\u001b[49m\u001b[43m(\u001b[49m\u001b[38;5;28;43mself\u001b[39;49m\u001b[43m,\u001b[49m\u001b[43m \u001b[49m\u001b[43mother\u001b[49m\u001b[43m,\u001b[49m\u001b[43m \u001b[49m\u001b[43maxis\u001b[49m\u001b[43m,\u001b[49m\u001b[43m \u001b[49m\u001b[43mflex\u001b[49m\u001b[38;5;241;43m=\u001b[39;49m\u001b[38;5;28;43;01mFalse\u001b[39;49;00m\u001b[43m,\u001b[49m\u001b[43m \u001b[49m\u001b[43mlevel\u001b[49m\u001b[38;5;241;43m=\u001b[39;49m\u001b[38;5;28;43;01mNone\u001b[39;49;00m\u001b[43m)\u001b[49m\n\u001b[1;32m   6933\u001b[0m     \u001b[38;5;66;03m# See GH#4537 for discussion of scalar op behavior\u001b[39;00m\n\u001b[1;32m   6934\u001b[0m     new_data \u001b[38;5;241m=\u001b[39m \u001b[38;5;28mself\u001b[39m\u001b[38;5;241m.\u001b[39m_dispatch_frame_op(other, op, axis\u001b[38;5;241m=\u001b[39maxis)\n",
      "File \u001b[0;32m~/anaconda3/lib/python3.9/site-packages/pandas/core/ops/__init__.py:289\u001b[0m, in \u001b[0;36malign_method_FRAME\u001b[0;34m(left, right, axis, flex, level)\u001b[0m\n\u001b[1;32m    287\u001b[0m             left, right \u001b[38;5;241m=\u001b[39m left\u001b[38;5;241m.\u001b[39malign(right, join\u001b[38;5;241m=\u001b[39m\u001b[38;5;124m\"\u001b[39m\u001b[38;5;124mouter\u001b[39m\u001b[38;5;124m\"\u001b[39m, level\u001b[38;5;241m=\u001b[39mlevel, copy\u001b[38;5;241m=\u001b[39m\u001b[38;5;28;01mFalse\u001b[39;00m)\n\u001b[1;32m    288\u001b[0m         \u001b[38;5;28;01melse\u001b[39;00m:\n\u001b[0;32m--> 289\u001b[0m             \u001b[38;5;28;01mraise\u001b[39;00m \u001b[38;5;167;01mValueError\u001b[39;00m(\n\u001b[1;32m    290\u001b[0m                 \u001b[38;5;124m\"\u001b[39m\u001b[38;5;124mCan only compare identically-labeled DataFrame objects\u001b[39m\u001b[38;5;124m\"\u001b[39m\n\u001b[1;32m    291\u001b[0m             )\n\u001b[1;32m    292\u001b[0m \u001b[38;5;28;01melif\u001b[39;00m \u001b[38;5;28misinstance\u001b[39m(right, ABCSeries):\n\u001b[1;32m    293\u001b[0m     \u001b[38;5;66;03m# axis=1 is default for DataFrame-with-Series op\u001b[39;00m\n\u001b[1;32m    294\u001b[0m     axis \u001b[38;5;241m=\u001b[39m left\u001b[38;5;241m.\u001b[39m_get_axis_number(axis) \u001b[38;5;28;01mif\u001b[39;00m axis \u001b[38;5;129;01mis\u001b[39;00m \u001b[38;5;129;01mnot\u001b[39;00m \u001b[38;5;28;01mNone\u001b[39;00m \u001b[38;5;28;01melse\u001b[39;00m \u001b[38;5;241m1\u001b[39m\n",
      "\u001b[0;31mValueError\u001b[0m: Can only compare identically-labeled DataFrame objects"
     ]
    }
   ],
   "source": [
    "df1= df[['Replicate','Loss']][(df.Process == 'Our_algorithm')]\n",
    "df2=df[['Replicate','Loss']][(df.Process == 'True Process')]\n",
    "\n",
    "df1.set_index('Replicate',inplace=True)\n",
    "df2.set_index('Replicate',inplace=True)\n",
    "\n",
    "df2= df1.compare(df2).astype('category')\n",
    "df2  = df2['Loss']\n",
    "CrosstabResult = pd.crosstab(index=df2['self'], columns=df2['other'])\n",
    "ax1 = sns.heatmap(CrosstabResult, cbar=0, linewidths=2,vmax=1, vmin=0, square=True, cmap='Blues')\n",
    "plt.show()"
   ]
  },
  {
   "cell_type": "code",
   "execution_count": null,
   "id": "59fd410a",
   "metadata": {},
   "outputs": [],
   "source": [
    "df1= df[['Replicate','Loss']][(df.Process == 'Our_algorithm')]\n",
    "df2=df[['Replicate','Loss']][(df.Process == 'DLCpar')]\n",
    "\n",
    "df1.set_index('Replicate',inplace=True)\n",
    "df2.set_index('Replicate',inplace=True)\n",
    "\n",
    "df2= df1.compare(df2).astype('category')\n",
    "df2  = df2['Loss']\n",
    "CrosstabResult = pd.crosstab(index=df2['self'], columns=df2['other'])\n",
    "ax1 = sns.heatmap(CrosstabResult, cbar=0, linewidths=2,vmax=1, vmin=0, square=True, cmap='Blues')\n",
    "plt.show()"
   ]
  },
  {
   "cell_type": "code",
   "execution_count": null,
   "id": "2bf817b6",
   "metadata": {},
   "outputs": [],
   "source": [
    "df[['Replicate','Process','Duplication']][(df.Process == 'Our_algorithm')]"
   ]
  },
  {
   "cell_type": "code",
   "execution_count": null,
   "id": "6667b12d",
   "metadata": {},
   "outputs": [],
   "source": []
  },
  {
   "cell_type": "code",
   "execution_count": null,
   "id": "2655ab03",
   "metadata": {},
   "outputs": [],
   "source": []
  },
  {
   "cell_type": "code",
   "execution_count": 49,
   "id": "f44eed83",
   "metadata": {},
   "outputs": [
    {
     "data": {
      "image/png": "[encoded data removed]",
      "text/plain": [
       "<Figure size 432x288 with 1 Axes>"
      ]
     },
     "metadata": {},
     "output_type": "display_data"
    },
    {
     "data": {
      "text/plain": [
       "<Figure size 432x288 with 0 Axes>"
      ]
     },
     "metadata": {},
     "output_type": "display_data"
    }
   ],
   "source": [
    "import seaborn as sns\n",
    "import numpy as np\n",
    "import matplotlib.pyplot as plt\n",
    "plt.style.use('ggplot')\n",
    "\n",
    "result1 =pd.concat([True_Duplication['Duplication'],O_Duplication['Duplication']], ignore_index=True,axis=1)\n",
    "result11=result1.groupby([0,1]).size().reset_index(name='Count')\n",
    "result12 =pd.concat([True_Duplication['Duplication'],ETE3_Duplication['Duplication']], ignore_index=True,axis=1)\n",
    "result22=result12.groupby([0,1]).size().reset_index(name='Count')\n",
    "#sns.lmplot(x=result1[0], y=result1[1], data=result1);\n",
    "x = [0,1, 2, 3, 4, 5]\n",
    "y = [0,1, 2, 3, 4, 5]\n",
    "\n",
    "# Create the line\n",
    "line = plt.plot(x, y, '--',color='g')\n",
    "\n",
    "sns.scatterplot(data=result11, x=0, y=1, size=\"Count\", legend=False, sizes=(20, 2000), alpha=0.8)\n",
    "sns.scatterplot(data=result22, x=0, y=1, size=\"Count\", legend=False, sizes=(10, 1000), alpha=0.8)\n",
    "\n",
    "# show the graph\n",
    "\n",
    "ax=sns.regplot(x=result1[0], y=result1[1], data=result1,marker=\".\", fit_reg=True, scatter_kws={'alpha':1}, ci=None, label='reconcILS')\n",
    "ax=sns.regplot(x=result12[0], y=result12[1], data=result12, marker=\".\",fit_reg=True,scatter_kws={'alpha':1}, ci=None, label='DLCpar')\n",
    "\n",
    "\n",
    "\n",
    "\n",
    "plt.xlabel(\"True Duplication\")\n",
    "plt.ylabel(\"Infered Duplication\")\n",
    "# Show the plot\n",
    "ax.set_xlim(-0.2, 5.2)\n",
    "ax.set_ylim(-0.2, 5.2)\n",
    "\n",
    "plt.legend(bbox_to_anchor=(0.28,1))\n",
    "\n",
    "plt.savefig('regex_dups.png', dpi=500)\n",
    "\n",
    "plt.show()\n",
    "plt.clf()"
   ]
  },
  {
   "cell_type": "code",
   "execution_count": 50,
   "id": "3c918623",
   "metadata": {},
   "outputs": [
    {
     "data": {
      "image/png": "[encoded data removed]",
      "text/plain": [
       "<Figure size 432x288 with 1 Axes>"
      ]
     },
     "metadata": {},
     "output_type": "display_data"
    },
    {
     "data": {
      "text/plain": [
       "<Figure size 432x288 with 0 Axes>"
      ]
     },
     "metadata": {},
     "output_type": "display_data"
    }
   ],
   "source": [
    "import seaborn as sns\n",
    "import numpy as np\n",
    "import matplotlib.pyplot as plt\n",
    "\n",
    "\n",
    "result1 =pd.concat([TRUE_Loss['Loss'],O_Loss['Loss']], ignore_index=True,axis=1)\n",
    "result11=result1.groupby([0,1]).size().reset_index(name='Count')\n",
    "\n",
    "result12 =pd.concat([TRUE_Loss['Loss'],ETE3_Loss['Loss']], ignore_index=True,axis=1)\n",
    "#sns.lmplot(x=result1[0], y=result1[1], data=result1);\n",
    "result22=result12.groupby([0,1]).size().reset_index(name='Count')\n",
    "sns.scatterplot(data=result11, x=0, y=1, size=\"Count\", legend=False, sizes=(20, 2000), alpha=0.8)\n",
    "sns.scatterplot(data=result22, x=0, y=1, size=\"Count\", legend=False, sizes=(10, 1000), alpha=0.8)\n",
    "x = [0,1, 2, 3, 4, 5]\n",
    "y = [0,1, 2, 3, 4, 5]\n",
    "\n",
    "# Create the line\n",
    "line = plt.plot(x, y, '--',color='g')\n",
    "ax=sns.regplot(x=result1[0], y=result1[1], data=result1,marker=\".\", fit_reg=True, scatter_kws={'alpha':1}, ci=None, label='reconcILS')\n",
    "ax=sns.regplot(x=result12[0], y=result12[1], data=result12, marker=\".\",fit_reg=True,scatter_kws={'alpha':1}, ci=None, label='DLCpar')\n",
    "\n",
    "\n",
    "\n",
    "plt.xlabel(\"True Loss\")\n",
    "plt.ylabel(\"Infered Loss\")\n",
    "# Show the plot\n",
    "ax.set_xlim(-0.2, 5.2)\n",
    "ax.set_ylim(-0.2, 5.2)\n",
    "\n",
    "plt.legend(bbox_to_anchor=(0.28,1))\n",
    "\n",
    "plt.savefig('regex_loss.png', dpi=500)\n",
    "\n",
    "plt.show()\n",
    "plt.clf()"
   ]
  },
  {
   "cell_type": "code",
   "execution_count": 120,
   "id": "50727417",
   "metadata": {},
   "outputs": [],
   "source": [
    "r =result1.astype('category')"
   ]
  },
  {
   "cell_type": "code",
   "execution_count": 121,
   "id": "8425dc5c",
   "metadata": {},
   "outputs": [
    {
     "data": {
      "text/html": [
       "<div>\n",
       "<style scoped>\n",
       "    .dataframe tbody tr th:only-of-type {\n",
       "        vertical-align: middle;\n",
       "    }\n",
       "\n",
       "    .dataframe tbody tr th {\n",
       "        vertical-align: top;\n",
       "    }\n",
       "\n",
       "    .dataframe thead th {\n",
       "        text-align: right;\n",
       "    }\n",
       "</style>\n",
       "<table border=\"1\" class=\"dataframe\">\n",
       "  <thead>\n",
       "    <tr style=\"text-align: right;\">\n",
       "      <th></th>\n",
       "      <th>0</th>\n",
       "      <th>1</th>\n",
       "    </tr>\n",
       "  </thead>\n",
       "  <tbody>\n",
       "    <tr>\n",
       "      <th>0</th>\n",
       "      <td>0</td>\n",
       "      <td>0</td>\n",
       "    </tr>\n",
       "    <tr>\n",
       "      <th>1</th>\n",
       "      <td>2</td>\n",
       "      <td>2</td>\n",
       "    </tr>\n",
       "    <tr>\n",
       "      <th>2</th>\n",
       "      <td>0</td>\n",
       "      <td>0</td>\n",
       "    </tr>\n",
       "    <tr>\n",
       "      <th>3</th>\n",
       "      <td>1</td>\n",
       "      <td>1</td>\n",
       "    </tr>\n",
       "    <tr>\n",
       "      <th>4</th>\n",
       "      <td>0</td>\n",
       "      <td>0</td>\n",
       "    </tr>\n",
       "    <tr>\n",
       "      <th>...</th>\n",
       "      <td>...</td>\n",
       "      <td>...</td>\n",
       "    </tr>\n",
       "    <tr>\n",
       "      <th>815</th>\n",
       "      <td>0</td>\n",
       "      <td>0</td>\n",
       "    </tr>\n",
       "    <tr>\n",
       "      <th>816</th>\n",
       "      <td>0</td>\n",
       "      <td>0</td>\n",
       "    </tr>\n",
       "    <tr>\n",
       "      <th>817</th>\n",
       "      <td>3</td>\n",
       "      <td>0</td>\n",
       "    </tr>\n",
       "    <tr>\n",
       "      <th>818</th>\n",
       "      <td>1</td>\n",
       "      <td>1</td>\n",
       "    </tr>\n",
       "    <tr>\n",
       "      <th>819</th>\n",
       "      <td>0</td>\n",
       "      <td>0</td>\n",
       "    </tr>\n",
       "  </tbody>\n",
       "</table>\n",
       "<p>820 rows × 2 columns</p>\n",
       "</div>"
      ],
      "text/plain": [
       "     0  1\n",
       "0    0  0\n",
       "1    2  2\n",
       "2    0  0\n",
       "3    1  1\n",
       "4    0  0\n",
       "..  .. ..\n",
       "815  0  0\n",
       "816  0  0\n",
       "817  3  0\n",
       "818  1  1\n",
       "819  0  0\n",
       "\n",
       "[820 rows x 2 columns]"
      ]
     },
     "execution_count": 121,
     "metadata": {},
     "output_type": "execute_result"
    }
   ],
   "source": [
    "r"
   ]
  },
  {
   "cell_type": "code",
   "execution_count": 122,
   "id": "3ebb3e45",
   "metadata": {},
   "outputs": [
    {
     "data": {
      "image/png": "[encoded data removed]",
      "text/plain": [
       "<Figure size 432x288 with 1 Axes>"
      ]
     },
     "metadata": {},
     "output_type": "display_data"
    }
   ],
   "source": [
    "import pandas as pd\n",
    "import numpy as np\n",
    "import seaborn as sns\n",
    "import matplotlib.pyplot as plt\n",
    "\n",
    "df = pd.DataFrame(np.random.randn(50).reshape(10,5))\n",
    "corr = df.corr()\n",
    "\n",
    "ax1 = sns.heatmap(corr, cbar=0, linewidths=2,vmax=1, vmin=0, square=True, cmap='Blues')\n",
    "plt.show()"
   ]
  },
  {
   "cell_type": "code",
   "execution_count": null,
   "id": "5d69079d",
   "metadata": {},
   "outputs": [],
   "source": []
  },
  {
   "cell_type": "code",
   "execution_count": 32,
   "id": "878338d4",
   "metadata": {},
   "outputs": [
    {
     "data": {
      "text/plain": [
       "array([[0, 0, 0, 0, 0, 0, 0, 0, 0, 0, 0, 0, 0, 0, 0, 0, 0, 0, 0, 0, 0, 0,\n",
       "        0, 0, 0, 0, 0, 0, 0, 0, 0, 0, 0, 0, 0, 0, 0, 0, 0, 0, 0, 0, 0, 0,\n",
       "        0, 0, 0, 0, 0, 0, 0, 0, 0, 0, 0, 0, 0, 0, 0, 0, 0, 0, 0, 0, 0, 0,\n",
       "        0, 0, 0, 0, 0, 0, 0, 0, 0, 0, 0, 0, 0, 0, 0, 0, 0, 0, 0, 0, 0, 0,\n",
       "        0, 0, 0, 0, 0, 0, 0, 0, 0, 0, 0, 0],\n",
       "       [0, 0, 0, 0, 0, 0, 0, 0, 0, 0, 0, 0, 0, 0, 0, 0, 0, 0, 0, 0, 0, 0,\n",
       "        0, 0, 0, 0, 0, 2, 0, 0, 0, 0, 0, 0, 0, 0, 0, 0, 0, 0, 0, 0, 0, 0,\n",
       "        0, 0, 0, 0, 0, 0, 0, 0, 0, 0, 0, 1, 0, 0, 0, 0, 1, 0, 0, 0, 0, 0,\n",
       "        0, 0, 0, 0, 0, 0, 0, 1, 0, 0, 0, 0, 0, 0, 0, 0, 0, 0, 0, 0, 0, 0,\n",
       "        0, 0, 0, 0, 0, 0, 0, 0, 0, 0, 0, 0]])"
      ]
     },
     "execution_count": 32,
     "metadata": {},
     "output_type": "execute_result"
    }
   ],
   "source": [
    "np.array([list(result1[0]), list(result1[1])])"
   ]
  },
  {
   "cell_type": "code",
   "execution_count": null,
   "id": "f72d744b",
   "metadata": {},
   "outputs": [],
   "source": []
  },
  {
   "cell_type": "code",
   "execution_count": 51,
   "id": "5ce33453",
   "metadata": {},
   "outputs": [
    {
     "data": {
      "image/png": "[encoded data removed]",
      "text/plain": [
       "<Figure size 432x288 with 1 Axes>"
      ]
     },
     "metadata": {},
     "output_type": "display_data"
    },
    {
     "data": {
      "text/plain": [
       "<Figure size 432x288 with 0 Axes>"
      ]
     },
     "metadata": {},
     "output_type": "display_data"
    }
   ],
   "source": [
    "import seaborn as sns\n",
    "import numpy as np\n",
    "import matplotlib.pyplot as plt\n",
    "\n",
    "\n",
    "\n",
    "\n",
    "\n",
    "\n",
    "result1 =pd.concat([TRUE_NNI['NNI'],O_NNI['NNI']], ignore_index=True,axis=1)\n",
    "result11=result1.groupby([0,1]).size().reset_index(name='Count')\n",
    "result12 =pd.concat([True_DLCILS['DLCILS'],ETE3_DLCILS['DLCILS']], ignore_index=True,axis=1)\n",
    "#sns.lmplot(x=result1[0], y=result1[1], data=result1);\n",
    "result22=result12.groupby([0,1]).size().reset_index(name='Count')\n",
    "x = [0,1, 2, 3, 4, 5]\n",
    "y = [0,1, 2, 3, 4, 5]\n",
    "\n",
    "# Create the line\n",
    "line = plt.plot(x, y, '--',color='g')\n",
    "#sns.lmplot(x=result1[0], y=result1[1], data=result1);\n",
    "sns.scatterplot(data=result11, x=0, y=1, size=\"Count\", legend=False, sizes=(20, 2000), alpha=0.8)\n",
    "sns.scatterplot(data=result22, x=0, y=1, size=\"Count\", legend=False, sizes=(10, 1000), alpha=0.8)\n",
    "\n",
    "ax=sns.regplot(x=result1[0], y=result1[1], data=result1,marker=\".\", fit_reg=True, scatter_kws={'alpha':1}, ci=None, label='reconcILS')\n",
    "ax=sns.regplot(x=result12[0], y=result12[1], data=result12, marker=\".\",fit_reg=True,scatter_kws={'alpha':1}, ci=None, label='DLCpar')\n",
    "\n",
    "\n",
    "\n",
    "plt.xlabel(\"True NNI\")\n",
    "plt.ylabel(\"Infered NNI\")\n",
    "# Show the plot\n",
    "ax.set_xlim(-0.2, 5.2)\n",
    "ax.set_ylim(-0.2, 5.2)\n",
    "\n",
    "plt.legend(bbox_to_anchor=(0.28,1))\n",
    "\n",
    "plt.savefig('regex_NNI.png', dpi=500)\n",
    "\n",
    "plt.show()\n",
    "plt.clf()"
   ]
  },
  {
   "cell_type": "code",
   "execution_count": 223,
   "id": "f11c9c9b",
   "metadata": {},
   "outputs": [
    {
     "data": {
      "image/png": "[encoded data removed]",
      "text/plain": [
       "<Figure size 432x288 with 1 Axes>"
      ]
     },
     "metadata": {
      "needs_background": "light"
     },
     "output_type": "display_data"
    },
    {
     "data": {
      "image/png": "[encoded data removed]",
      "text/plain": [
       "<Figure size 432x288 with 1 Axes>"
      ]
     },
     "metadata": {
      "needs_background": "light"
     },
     "output_type": "display_data"
    }
   ],
   "source": [
    "import seaborn as sns\n",
    "\n",
    "\n",
    "\n",
    "result1 =pd.concat([TRUE_Loss,O_Loss.rename(columns={'b':'a'})], ignore_index=True,axis=1)\n",
    "result2 =pd.concat([TRUE_Loss,ETE3_Loss.rename(columns={'b':'a'})], ignore_index=True,axis=1)\n",
    "sns.scatterplot(data=result1,x=1,y=0)\n",
    "plt.xlabel(\"True Duplications\")\n",
    "plt.ylabel(\"Infered Duplications reconcILS\")\n",
    "# Show the plot\n",
    "plt.show()\n",
    "plt.clf()\n",
    "\n",
    "sns.scatterplot(data=result2,x=1,y=0)\n",
    "plt.xlabel(\"True Duplications\")\n",
    "plt.ylabel(\"Infered Duplications LCA\")\n",
    "plt.show()"
   ]
  },
  {
   "cell_type": "code",
   "execution_count": 224,
   "id": "dffb763a",
   "metadata": {},
   "outputs": [
    {
     "data": {
      "image/png": "[encoded data removed]",
      "text/plain": [
       "<Figure size 432x288 with 1 Axes>"
      ]
     },
     "metadata": {
      "needs_background": "light"
     },
     "output_type": "display_data"
    }
   ],
   "source": [
    "import seaborn as sns\n",
    "\n",
    "\n",
    "\n",
    "result =pd.concat([TRUE_Loss,O_Loss.rename(columns={'b':'a'})], ignore_index=True,axis=1)\n",
    "sns.scatterplot(data=result,x=1,y=0)\n",
    " \n",
    "# Show the plot\n",
    "plt.show()"
   ]
  },
  {
   "cell_type": "code",
   "execution_count": 52,
   "id": "c8e5c2cd",
   "metadata": {},
   "outputs": [],
   "source": [
    "from scipy.stats import spearmanr\n",
    "rho, p = spearmanr(pd.DataFrame(list(df[(df.Process == \"True Process\")]['Loss']),columns=['NNI']),pd.DataFrame(list(df[(df.Process == \"DLCpar\")]['Loss']),columns=['NNI']))"
   ]
  },
  {
   "cell_type": "code",
   "execution_count": 53,
   "id": "f1b3a738",
   "metadata": {},
   "outputs": [
    {
     "data": {
      "text/plain": [
       "0.12289481267821467"
      ]
     },
     "execution_count": 53,
     "metadata": {},
     "output_type": "execute_result"
    }
   ],
   "source": [
    "rho"
   ]
  },
  {
   "cell_type": "code",
   "execution_count": 55,
   "id": "8c59b23b",
   "metadata": {},
   "outputs": [],
   "source": [
    "from scipy.stats import spearmanr\n",
    "rho, p = spearmanr(pd.DataFrame(list(df[(df.Process == \"True Process\")]['Loss']),columns=['NNI']),pd.DataFrame(list(df[(df.Process == \"Our_algorithm_ite\")]['Loss']),columns=['NNI']))"
   ]
  },
  {
   "cell_type": "code",
   "execution_count": 56,
   "id": "5405facf",
   "metadata": {},
   "outputs": [
    {
     "data": {
      "text/plain": [
       "0.5283406309065378"
      ]
     },
     "execution_count": 56,
     "metadata": {},
     "output_type": "execute_result"
    }
   ],
   "source": [
    "rho"
   ]
  },
  {
   "cell_type": "code",
   "execution_count": 57,
   "id": "b833987e",
   "metadata": {},
   "outputs": [],
   "source": [
    "from scipy.stats import spearmanr\n",
    "rho, p = spearmanr(pd.DataFrame(list(df[(df.Process == \"True Process\")]['Duplication']),columns=['NNI']),pd.DataFrame(list(df[(df.Process == \"DLCpar\")]['Duplication']),columns=['NNI']))"
   ]
  },
  {
   "cell_type": "code",
   "execution_count": 62,
   "id": "1b33334f",
   "metadata": {},
   "outputs": [
    {
     "data": {
      "text/plain": [
       "0.8578591520209818"
      ]
     },
     "execution_count": 62,
     "metadata": {},
     "output_type": "execute_result"
    }
   ],
   "source": [
    "rho"
   ]
  },
  {
   "cell_type": "code",
   "execution_count": 63,
   "id": "c2d2b9a7",
   "metadata": {},
   "outputs": [],
   "source": [
    "from scipy.stats import spearmanr\n",
    "rho, p = spearmanr(pd.DataFrame(list(df[(df.Process == \"True Process\")]['Duplication']),columns=['NNI']),pd.DataFrame(list(df[(df.Process == \"Our_algorithm_ite\")]['Duplication']),columns=['NNI']))"
   ]
  },
  {
   "cell_type": "code",
   "execution_count": 64,
   "id": "0ca84fa7",
   "metadata": {},
   "outputs": [],
   "source": [
    "from scipy.stats import spearmanr\n",
    "rho, p = spearmanr(pd.DataFrame(list(df[(df.Process == \"True Process\")]['Duplication']),columns=['NNI']),pd.DataFrame(list(df[(df.Process == \"Our_algorithm_ite\")]['Duplication']),columns=['NNI']))"
   ]
  },
  {
   "cell_type": "code",
   "execution_count": 65,
   "id": "d4f578f7",
   "metadata": {},
   "outputs": [
    {
     "data": {
      "text/plain": [
       "0.8578591520209818"
      ]
     },
     "execution_count": 65,
     "metadata": {},
     "output_type": "execute_result"
    }
   ],
   "source": [
    "rho"
   ]
  },
  {
   "cell_type": "code",
   "execution_count": 66,
   "id": "4edf35dd",
   "metadata": {},
   "outputs": [],
   "source": [
    "from scipy.stats import spearmanr\n",
    "rho, p = spearmanr(pd.DataFrame(list(df[(df.Process == \"True Process\")]['DLCILS']),columns=['NNI']),pd.DataFrame(list(df[(df.Process == \"DLCpar\")]['DLCILS']),columns=['NNI']))"
   ]
  },
  {
   "cell_type": "code",
   "execution_count": 134,
   "id": "e29bff96",
   "metadata": {},
   "outputs": [
    {
     "data": {
      "text/plain": [
       "0.4389436241210259"
      ]
     },
     "execution_count": 134,
     "metadata": {},
     "output_type": "execute_result"
    }
   ],
   "source": [
    "rho"
   ]
  },
  {
   "cell_type": "code",
   "execution_count": 67,
   "id": "72f97d0b",
   "metadata": {},
   "outputs": [],
   "source": [
    "from scipy.stats import spearmanr\n",
    "rho, p = spearmanr(pd.DataFrame(list(df[(df.Process == \"True Process\")]['NNI']),columns=['NNI']),pd.DataFrame(list(df[(df.Process == \"Our_algorithm_recu\")]['NNI']),columns=['NNI']))"
   ]
  },
  {
   "cell_type": "code",
   "execution_count": 68,
   "id": "ee6268e7",
   "metadata": {},
   "outputs": [
    {
     "data": {
      "text/plain": [
       "0.5427944276016681"
      ]
     },
     "execution_count": 68,
     "metadata": {},
     "output_type": "execute_result"
    }
   ],
   "source": [
    "rho"
   ]
  },
  {
   "cell_type": "code",
   "execution_count": null,
   "id": "382a2058",
   "metadata": {},
   "outputs": [],
   "source": []
  },
  {
   "cell_type": "code",
   "execution_count": null,
   "id": "25ebc1bc",
   "metadata": {},
   "outputs": [],
   "source": []
  },
  {
   "cell_type": "code",
   "execution_count": null,
   "id": "7f5d4a7a",
   "metadata": {},
   "outputs": [],
   "source": []
  }
 ],
 "metadata": {
  "kernelspec": {
   "display_name": "Python 3 (ipykernel)",
   "language": "python",
   "name": "python3"
  },
  "language_info": {
   "codemirror_mode": {
    "name": "ipython",
    "version": 3
   },
   "file_extension": ".py",
   "mimetype": "text/x-python",
   "name": "python",
   "nbconvert_exporter": "python",
   "pygments_lexer": "ipython3",
   "version": "3.9.12"
  }
 },
 "nbformat": 4,
 "nbformat_minor": 5
}
