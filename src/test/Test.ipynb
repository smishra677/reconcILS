{
 "cells": [
  {
   "cell_type": "code",
   "execution_count": 194,
   "id": "c64fb931",
   "metadata": {},
   "outputs": [],
   "source": [
    "import pandas as pd\n",
    "import seaborn as sns\n",
    "import matplotlib.pyplot as plt"
   ]
  },
  {
   "cell_type": "code",
   "execution_count": 354,
   "id": "4567ea5e",
   "metadata": {},
   "outputs": [],
   "source": [
    "from collections import Counter"
   ]
  },
  {
   "cell_type": "code",
   "execution_count": 393,
   "id": "4ade3847",
   "metadata": {},
   "outputs": [],
   "source": [
    "df = pd.read_csv('8_22_1_result.csv')"
   ]
  },
  {
   "cell_type": "code",
   "execution_count": 394,
   "id": "b60d94c4",
   "metadata": {},
   "outputs": [],
   "source": [
    "True_Duplication = pd.DataFrame(list(df[(df.Process == \"True Process\")]['Duplication']),columns=['Duplication'])\n",
    "TRUE_NNI = pd.DataFrame(list(df[(df.Process == \"True Process\")]['NNI']),columns=['NNI'])\n",
    "TRUE_Loss = pd.DataFrame(list(df[(df.Process == \"True Process\")]['Loss']),columns=['Loss'])\n",
    "concat_true = pd.concat([True_Duplication,TRUE_Loss],axis=1)"
   ]
  },
  {
   "cell_type": "code",
   "execution_count": 395,
   "id": "7c676a58",
   "metadata": {},
   "outputs": [],
   "source": [
    "O_Duplication = pd.DataFrame(list(df[(df.Process == \"Our_algorithm\")]['Duplication']),columns=['Duplication'])\n",
    "O_NNI = pd.DataFrame(list(df[(df.Process == \"Our_algorithm\")]['NNI']),columns=['NNI'])\n",
    "O_Loss = pd.DataFrame(list(df[(df.Process == \"Our_algorithm\")]['Loss']),columns=['Loss'])\n",
    "concat_O = pd.concat([O_Duplication,O_Loss],axis=1)"
   ]
  },
  {
   "cell_type": "code",
   "execution_count": 396,
   "id": "1aa70e79",
   "metadata": {},
   "outputs": [],
   "source": [
    "ETE3_Duplication = pd.DataFrame(list(df[(df.Process == \"DLCpar\")]['Duplication']),columns=['Duplication'])\n",
    "ETE3_NNI = pd.DataFrame(list(df[(df.Process == \"DLCpar\")]['NNI']),columns=['NNI'])\n",
    "ETE3_Loss = pd.DataFrame(list(df[(df.Process == \"DLCpar\")]['Loss']),columns=['Loss'])\n",
    "concat_ETE3 = pd.concat([ETE3_Duplication,ETE3_Loss],axis=1)"
   ]
  },
  {
   "cell_type": "code",
   "execution_count": 397,
   "id": "91bc8ed0",
   "metadata": {},
   "outputs": [
    {
     "name": "stdout",
     "output_type": "stream",
     "text": [
      "86\n"
     ]
    }
   ],
   "source": [
    "print(len(True_Duplication))"
   ]
  },
  {
   "cell_type": "code",
   "execution_count": 398,
   "id": "17533a43",
   "metadata": {},
   "outputs": [
    {
     "name": "stdout",
     "output_type": "stream",
     "text": [
      "86\n"
     ]
    }
   ],
   "source": [
    "print(len(O_Duplication))"
   ]
  },
  {
   "cell_type": "code",
   "execution_count": 399,
   "id": "27ebb900",
   "metadata": {},
   "outputs": [
    {
     "name": "stdout",
     "output_type": "stream",
     "text": [
      "86\n"
     ]
    }
   ],
   "source": [
    "print(len(ETE3_Duplication))"
   ]
  },
  {
   "cell_type": "code",
   "execution_count": 401,
   "id": "51ce7791",
   "metadata": {},
   "outputs": [],
   "source": [
    "True_Duplication['Replicate']=[i for i in range(86)]\n",
    "O_Duplication['Replicate']=[i for i in range(86)]\n",
    "ETE3_Duplication['Replicate']=[i for i in range(86)]\n"
   ]
  },
  {
   "cell_type": "code",
   "execution_count": null,
   "id": "616fd1a2",
   "metadata": {},
   "outputs": [],
   "source": []
  },
  {
   "cell_type": "code",
   "execution_count": 402,
   "id": "c1b324df",
   "metadata": {},
   "outputs": [],
   "source": [
    "true_reconils_dups= pd.DataFrame(concat_true-concat_O)\n",
    "val =['reconcILS' for i in range(86)]\n",
    "true_reconils_dups['Algorithm']=val\n",
    "#true_reconils_dups['Replicate']=[i for i in range(99)]"
   ]
  },
  {
   "cell_type": "code",
   "execution_count": 403,
   "id": "ab1f7e5c",
   "metadata": {},
   "outputs": [],
   "source": [
    "true_ete3_dups= pd.DataFrame((concat_true-concat_ETE3))\n",
    "val =['DLCpar' for i in range(86)]\n",
    "true_ete3_dups['Algorithm']=val\n",
    "\n",
    "#true_ete3_dups['Replicate']=[i for i in range(99)]"
   ]
  },
  {
   "cell_type": "code",
   "execution_count": null,
   "id": "956a5718",
   "metadata": {},
   "outputs": [],
   "source": []
  },
  {
   "cell_type": "code",
   "execution_count": 404,
   "id": "0027b5ab",
   "metadata": {},
   "outputs": [
    {
     "data": {
      "text/html": [
       "<div>\n",
       "<style scoped>\n",
       "    .dataframe tbody tr th:only-of-type {\n",
       "        vertical-align: middle;\n",
       "    }\n",
       "\n",
       "    .dataframe tbody tr th {\n",
       "        vertical-align: top;\n",
       "    }\n",
       "\n",
       "    .dataframe thead th {\n",
       "        text-align: right;\n",
       "    }\n",
       "</style>\n",
       "<table border=\"1\" class=\"dataframe\">\n",
       "  <thead>\n",
       "    <tr style=\"text-align: right;\">\n",
       "      <th></th>\n",
       "      <th>Duplication</th>\n",
       "      <th>Loss</th>\n",
       "      <th>Algorithm</th>\n",
       "    </tr>\n",
       "  </thead>\n",
       "  <tbody>\n",
       "    <tr>\n",
       "      <th>0</th>\n",
       "      <td>1</td>\n",
       "      <td>1</td>\n",
       "      <td>reconcILS</td>\n",
       "    </tr>\n",
       "    <tr>\n",
       "      <th>1</th>\n",
       "      <td>0</td>\n",
       "      <td>0</td>\n",
       "      <td>reconcILS</td>\n",
       "    </tr>\n",
       "    <tr>\n",
       "      <th>2</th>\n",
       "      <td>2</td>\n",
       "      <td>2</td>\n",
       "      <td>reconcILS</td>\n",
       "    </tr>\n",
       "    <tr>\n",
       "      <th>3</th>\n",
       "      <td>0</td>\n",
       "      <td>0</td>\n",
       "      <td>reconcILS</td>\n",
       "    </tr>\n",
       "    <tr>\n",
       "      <th>4</th>\n",
       "      <td>1</td>\n",
       "      <td>1</td>\n",
       "      <td>reconcILS</td>\n",
       "    </tr>\n",
       "    <tr>\n",
       "      <th>...</th>\n",
       "      <td>...</td>\n",
       "      <td>...</td>\n",
       "      <td>...</td>\n",
       "    </tr>\n",
       "    <tr>\n",
       "      <th>81</th>\n",
       "      <td>1</td>\n",
       "      <td>1</td>\n",
       "      <td>reconcILS</td>\n",
       "    </tr>\n",
       "    <tr>\n",
       "      <th>82</th>\n",
       "      <td>1</td>\n",
       "      <td>1</td>\n",
       "      <td>reconcILS</td>\n",
       "    </tr>\n",
       "    <tr>\n",
       "      <th>83</th>\n",
       "      <td>0</td>\n",
       "      <td>0</td>\n",
       "      <td>reconcILS</td>\n",
       "    </tr>\n",
       "    <tr>\n",
       "      <th>84</th>\n",
       "      <td>1</td>\n",
       "      <td>1</td>\n",
       "      <td>reconcILS</td>\n",
       "    </tr>\n",
       "    <tr>\n",
       "      <th>85</th>\n",
       "      <td>1</td>\n",
       "      <td>1</td>\n",
       "      <td>reconcILS</td>\n",
       "    </tr>\n",
       "  </tbody>\n",
       "</table>\n",
       "<p>86 rows × 3 columns</p>\n",
       "</div>"
      ],
      "text/plain": [
       "    Duplication  Loss  Algorithm\n",
       "0             1     1  reconcILS\n",
       "1             0     0  reconcILS\n",
       "2             2     2  reconcILS\n",
       "3             0     0  reconcILS\n",
       "4             1     1  reconcILS\n",
       "..          ...   ...        ...\n",
       "81            1     1  reconcILS\n",
       "82            1     1  reconcILS\n",
       "83            0     0  reconcILS\n",
       "84            1     1  reconcILS\n",
       "85            1     1  reconcILS\n",
       "\n",
       "[86 rows x 3 columns]"
      ]
     },
     "execution_count": 404,
     "metadata": {},
     "output_type": "execute_result"
    }
   ],
   "source": [
    "true_reconils_dups"
   ]
  },
  {
   "cell_type": "code",
   "execution_count": 405,
   "id": "bc923384",
   "metadata": {},
   "outputs": [
    {
     "data": {
      "text/html": [
       "<div>\n",
       "<style scoped>\n",
       "    .dataframe tbody tr th:only-of-type {\n",
       "        vertical-align: middle;\n",
       "    }\n",
       "\n",
       "    .dataframe tbody tr th {\n",
       "        vertical-align: top;\n",
       "    }\n",
       "\n",
       "    .dataframe thead th {\n",
       "        text-align: right;\n",
       "    }\n",
       "</style>\n",
       "<table border=\"1\" class=\"dataframe\">\n",
       "  <thead>\n",
       "    <tr style=\"text-align: right;\">\n",
       "      <th></th>\n",
       "      <th>Duplication</th>\n",
       "      <th>Loss</th>\n",
       "      <th>Algorithm</th>\n",
       "    </tr>\n",
       "  </thead>\n",
       "  <tbody>\n",
       "    <tr>\n",
       "      <th>0</th>\n",
       "      <td>1</td>\n",
       "      <td>1</td>\n",
       "      <td>DLCpar</td>\n",
       "    </tr>\n",
       "    <tr>\n",
       "      <th>1</th>\n",
       "      <td>0</td>\n",
       "      <td>0</td>\n",
       "      <td>DLCpar</td>\n",
       "    </tr>\n",
       "    <tr>\n",
       "      <th>2</th>\n",
       "      <td>2</td>\n",
       "      <td>3</td>\n",
       "      <td>DLCpar</td>\n",
       "    </tr>\n",
       "    <tr>\n",
       "      <th>3</th>\n",
       "      <td>0</td>\n",
       "      <td>1</td>\n",
       "      <td>DLCpar</td>\n",
       "    </tr>\n",
       "    <tr>\n",
       "      <th>4</th>\n",
       "      <td>2</td>\n",
       "      <td>2</td>\n",
       "      <td>DLCpar</td>\n",
       "    </tr>\n",
       "    <tr>\n",
       "      <th>...</th>\n",
       "      <td>...</td>\n",
       "      <td>...</td>\n",
       "      <td>...</td>\n",
       "    </tr>\n",
       "    <tr>\n",
       "      <th>81</th>\n",
       "      <td>1</td>\n",
       "      <td>1</td>\n",
       "      <td>DLCpar</td>\n",
       "    </tr>\n",
       "    <tr>\n",
       "      <th>82</th>\n",
       "      <td>1</td>\n",
       "      <td>1</td>\n",
       "      <td>DLCpar</td>\n",
       "    </tr>\n",
       "    <tr>\n",
       "      <th>83</th>\n",
       "      <td>0</td>\n",
       "      <td>0</td>\n",
       "      <td>DLCpar</td>\n",
       "    </tr>\n",
       "    <tr>\n",
       "      <th>84</th>\n",
       "      <td>1</td>\n",
       "      <td>1</td>\n",
       "      <td>DLCpar</td>\n",
       "    </tr>\n",
       "    <tr>\n",
       "      <th>85</th>\n",
       "      <td>1</td>\n",
       "      <td>2</td>\n",
       "      <td>DLCpar</td>\n",
       "    </tr>\n",
       "  </tbody>\n",
       "</table>\n",
       "<p>86 rows × 3 columns</p>\n",
       "</div>"
      ],
      "text/plain": [
       "    Duplication  Loss Algorithm\n",
       "0             1     1    DLCpar\n",
       "1             0     0    DLCpar\n",
       "2             2     3    DLCpar\n",
       "3             0     1    DLCpar\n",
       "4             2     2    DLCpar\n",
       "..          ...   ...       ...\n",
       "81            1     1    DLCpar\n",
       "82            1     1    DLCpar\n",
       "83            0     0    DLCpar\n",
       "84            1     1    DLCpar\n",
       "85            1     2    DLCpar\n",
       "\n",
       "[86 rows x 3 columns]"
      ]
     },
     "execution_count": 405,
     "metadata": {},
     "output_type": "execute_result"
    }
   ],
   "source": [
    "true_ete3_dups"
   ]
  },
  {
   "cell_type": "code",
   "execution_count": 406,
   "id": "e5e55926",
   "metadata": {},
   "outputs": [],
   "source": [
    "val=0\n",
    "for i in list(true_reconils_dups['Duplication']):\n",
    "    if i!=0:\n",
    "        val=val+1"
   ]
  },
  {
   "cell_type": "code",
   "execution_count": 407,
   "id": "6d570d71",
   "metadata": {},
   "outputs": [
    {
     "data": {
      "text/plain": [
       "29"
      ]
     },
     "execution_count": 407,
     "metadata": {},
     "output_type": "execute_result"
    }
   ],
   "source": [
    "val"
   ]
  },
  {
   "cell_type": "code",
   "execution_count": 408,
   "id": "e9e08490",
   "metadata": {},
   "outputs": [
    {
     "data": {
      "text/html": [
       "<div>\n",
       "<style scoped>\n",
       "    .dataframe tbody tr th:only-of-type {\n",
       "        vertical-align: middle;\n",
       "    }\n",
       "\n",
       "    .dataframe tbody tr th {\n",
       "        vertical-align: top;\n",
       "    }\n",
       "\n",
       "    .dataframe thead th {\n",
       "        text-align: right;\n",
       "    }\n",
       "</style>\n",
       "<table border=\"1\" class=\"dataframe\">\n",
       "  <thead>\n",
       "    <tr style=\"text-align: right;\">\n",
       "      <th></th>\n",
       "      <th>Algorithm</th>\n",
       "      <th>variable</th>\n",
       "      <th>value</th>\n",
       "    </tr>\n",
       "  </thead>\n",
       "  <tbody>\n",
       "    <tr>\n",
       "      <th>0</th>\n",
       "      <td>reconcILS</td>\n",
       "      <td>Duplication</td>\n",
       "      <td>1</td>\n",
       "    </tr>\n",
       "    <tr>\n",
       "      <th>1</th>\n",
       "      <td>reconcILS</td>\n",
       "      <td>Duplication</td>\n",
       "      <td>0</td>\n",
       "    </tr>\n",
       "    <tr>\n",
       "      <th>2</th>\n",
       "      <td>reconcILS</td>\n",
       "      <td>Duplication</td>\n",
       "      <td>2</td>\n",
       "    </tr>\n",
       "    <tr>\n",
       "      <th>3</th>\n",
       "      <td>reconcILS</td>\n",
       "      <td>Duplication</td>\n",
       "      <td>0</td>\n",
       "    </tr>\n",
       "    <tr>\n",
       "      <th>4</th>\n",
       "      <td>reconcILS</td>\n",
       "      <td>Duplication</td>\n",
       "      <td>1</td>\n",
       "    </tr>\n",
       "    <tr>\n",
       "      <th>...</th>\n",
       "      <td>...</td>\n",
       "      <td>...</td>\n",
       "      <td>...</td>\n",
       "    </tr>\n",
       "    <tr>\n",
       "      <th>339</th>\n",
       "      <td>DLCpar</td>\n",
       "      <td>Loss</td>\n",
       "      <td>1</td>\n",
       "    </tr>\n",
       "    <tr>\n",
       "      <th>340</th>\n",
       "      <td>DLCpar</td>\n",
       "      <td>Loss</td>\n",
       "      <td>1</td>\n",
       "    </tr>\n",
       "    <tr>\n",
       "      <th>341</th>\n",
       "      <td>DLCpar</td>\n",
       "      <td>Loss</td>\n",
       "      <td>0</td>\n",
       "    </tr>\n",
       "    <tr>\n",
       "      <th>342</th>\n",
       "      <td>DLCpar</td>\n",
       "      <td>Loss</td>\n",
       "      <td>1</td>\n",
       "    </tr>\n",
       "    <tr>\n",
       "      <th>343</th>\n",
       "      <td>DLCpar</td>\n",
       "      <td>Loss</td>\n",
       "      <td>2</td>\n",
       "    </tr>\n",
       "  </tbody>\n",
       "</table>\n",
       "<p>344 rows × 3 columns</p>\n",
       "</div>"
      ],
      "text/plain": [
       "     Algorithm     variable  value\n",
       "0    reconcILS  Duplication      1\n",
       "1    reconcILS  Duplication      0\n",
       "2    reconcILS  Duplication      2\n",
       "3    reconcILS  Duplication      0\n",
       "4    reconcILS  Duplication      1\n",
       "..         ...          ...    ...\n",
       "339     DLCpar         Loss      1\n",
       "340     DLCpar         Loss      1\n",
       "341     DLCpar         Loss      0\n",
       "342     DLCpar         Loss      1\n",
       "343     DLCpar         Loss      2\n",
       "\n",
       "[344 rows x 3 columns]"
      ]
     },
     "execution_count": 408,
     "metadata": {},
     "output_type": "execute_result"
    }
   ],
   "source": [
    "new =pd.concat([true_reconils_dups,true_ete3_dups],axis=0)\n",
    "pd.melt(new, id_vars =['Algorithm'])"
   ]
  },
  {
   "cell_type": "code",
   "execution_count": 409,
   "id": "00406bb1",
   "metadata": {},
   "outputs": [
    {
     "data": {
      "image/png": "[encoded data removed]",
      "text/plain": [
       "<Figure size 432x288 with 1 Axes>"
      ]
     },
     "metadata": {
      "needs_background": "light"
     },
     "output_type": "display_data"
    }
   ],
   "source": [
    "ax =sns.boxplot(x=\"variable\", y=\"value\",hue=\"Algorithm\", data=pd.melt(new, id_vars =['Algorithm']))\n",
    "plt.xlabel(\"Events\")\n",
    "plt.legend(bbox_to_anchor=(0.3,0.3))\n",
    "plt.ylabel(\"True - Infered\")\n",
    "plt.savefig('box_plot.png', dpi=500)\n"
   ]
  },
  {
   "cell_type": "code",
   "execution_count": 410,
   "id": "2bf817b6",
   "metadata": {},
   "outputs": [
    {
     "data": {
      "text/html": [
       "<div>\n",
       "<style scoped>\n",
       "    .dataframe tbody tr th:only-of-type {\n",
       "        vertical-align: middle;\n",
       "    }\n",
       "\n",
       "    .dataframe tbody tr th {\n",
       "        vertical-align: top;\n",
       "    }\n",
       "\n",
       "    .dataframe thead th {\n",
       "        text-align: right;\n",
       "    }\n",
       "</style>\n",
       "<table border=\"1\" class=\"dataframe\">\n",
       "  <thead>\n",
       "    <tr style=\"text-align: right;\">\n",
       "      <th></th>\n",
       "      <th>Duplication</th>\n",
       "      <th>Loss</th>\n",
       "      <th>Algorithm</th>\n",
       "    </tr>\n",
       "  </thead>\n",
       "  <tbody>\n",
       "    <tr>\n",
       "      <th>0</th>\n",
       "      <td>1</td>\n",
       "      <td>1</td>\n",
       "      <td>DLCpar</td>\n",
       "    </tr>\n",
       "    <tr>\n",
       "      <th>1</th>\n",
       "      <td>0</td>\n",
       "      <td>0</td>\n",
       "      <td>DLCpar</td>\n",
       "    </tr>\n",
       "    <tr>\n",
       "      <th>2</th>\n",
       "      <td>2</td>\n",
       "      <td>3</td>\n",
       "      <td>DLCpar</td>\n",
       "    </tr>\n",
       "    <tr>\n",
       "      <th>3</th>\n",
       "      <td>0</td>\n",
       "      <td>1</td>\n",
       "      <td>DLCpar</td>\n",
       "    </tr>\n",
       "    <tr>\n",
       "      <th>4</th>\n",
       "      <td>2</td>\n",
       "      <td>2</td>\n",
       "      <td>DLCpar</td>\n",
       "    </tr>\n",
       "    <tr>\n",
       "      <th>...</th>\n",
       "      <td>...</td>\n",
       "      <td>...</td>\n",
       "      <td>...</td>\n",
       "    </tr>\n",
       "    <tr>\n",
       "      <th>81</th>\n",
       "      <td>1</td>\n",
       "      <td>1</td>\n",
       "      <td>DLCpar</td>\n",
       "    </tr>\n",
       "    <tr>\n",
       "      <th>82</th>\n",
       "      <td>1</td>\n",
       "      <td>1</td>\n",
       "      <td>DLCpar</td>\n",
       "    </tr>\n",
       "    <tr>\n",
       "      <th>83</th>\n",
       "      <td>0</td>\n",
       "      <td>0</td>\n",
       "      <td>DLCpar</td>\n",
       "    </tr>\n",
       "    <tr>\n",
       "      <th>84</th>\n",
       "      <td>1</td>\n",
       "      <td>1</td>\n",
       "      <td>DLCpar</td>\n",
       "    </tr>\n",
       "    <tr>\n",
       "      <th>85</th>\n",
       "      <td>1</td>\n",
       "      <td>2</td>\n",
       "      <td>DLCpar</td>\n",
       "    </tr>\n",
       "  </tbody>\n",
       "</table>\n",
       "<p>86 rows × 3 columns</p>\n",
       "</div>"
      ],
      "text/plain": [
       "    Duplication  Loss Algorithm\n",
       "0             1     1    DLCpar\n",
       "1             0     0    DLCpar\n",
       "2             2     3    DLCpar\n",
       "3             0     1    DLCpar\n",
       "4             2     2    DLCpar\n",
       "..          ...   ...       ...\n",
       "81            1     1    DLCpar\n",
       "82            1     1    DLCpar\n",
       "83            0     0    DLCpar\n",
       "84            1     1    DLCpar\n",
       "85            1     2    DLCpar\n",
       "\n",
       "[86 rows x 3 columns]"
      ]
     },
     "execution_count": 410,
     "metadata": {},
     "output_type": "execute_result"
    }
   ],
   "source": [
    "true_ete3_dups"
   ]
  },
  {
   "cell_type": "code",
   "execution_count": null,
   "id": "2655ab03",
   "metadata": {},
   "outputs": [],
   "source": []
  },
  {
   "cell_type": "code",
   "execution_count": 411,
   "id": "f44eed83",
   "metadata": {},
   "outputs": [
    {
     "data": {
      "image/png": "[encoded data removed]",
      "text/plain": [
       "<Figure size 432x288 with 1 Axes>"
      ]
     },
     "metadata": {
      "needs_background": "light"
     },
     "output_type": "display_data"
    },
    {
     "data": {
      "text/plain": [
       "<Figure size 432x288 with 0 Axes>"
      ]
     },
     "metadata": {},
     "output_type": "display_data"
    }
   ],
   "source": [
    "import seaborn as sns\n",
    "import numpy as np\n",
    "import matplotlib.pyplot as plt\n",
    "\n",
    "\n",
    "result1 =pd.concat([True_Duplication['Duplication'],O_Duplication['Duplication']], ignore_index=True,axis=1)\n",
    "\n",
    "result12 =pd.concat([True_Duplication['Duplication'],ETE3_Duplication['Duplication']], ignore_index=True,axis=1)\n",
    "#sns.lmplot(x=result1[0], y=result1[1], data=result1);\n",
    "\n",
    "ax=sns.regplot(x=result1[0], y=result1[1], data=result1,marker=\"D\", fit_reg=True, scatter_kws={'alpha':1}, ci=None, label='reconcILS')\n",
    "ax=sns.regplot(x=result12[0], y=result12[1], data=result12, marker=\"1\",fit_reg=True,scatter_kws={'alpha':1}, ci=None, label='DLCpar')\n",
    "#ax=sns.regplot(x=list(range(98)), y=list(range(98)), data=result12, marker=\"1\",fit_reg=True,scatter_kws={'alpha':1}, ci=None, label='ETE3')\n",
    "\n",
    "\n",
    "\n",
    "plt.xlabel(\"True Duplication\")\n",
    "plt.ylabel(\"Infered Duplication\")\n",
    "# Show the plot\n",
    "ax.set_xlim(-0.2, 5.2)\n",
    "ax.set_ylim(-0.2, 5.2)\n",
    "\n",
    "plt.legend(bbox_to_anchor=(0.28,1))\n",
    "\n",
    "plt.savefig('regex_dups.png', dpi=500)\n",
    "\n",
    "plt.show()\n",
    "plt.clf()"
   ]
  },
  {
   "cell_type": "code",
   "execution_count": 412,
   "id": "3c918623",
   "metadata": {},
   "outputs": [
    {
     "data": {
      "image/png": "[encoded data removed]",
      "text/plain": [
       "<Figure size 432x288 with 1 Axes>"
      ]
     },
     "metadata": {
      "needs_background": "light"
     },
     "output_type": "display_data"
    },
    {
     "data": {
      "text/plain": [
       "<Figure size 432x288 with 0 Axes>"
      ]
     },
     "metadata": {},
     "output_type": "display_data"
    }
   ],
   "source": [
    "import seaborn as sns\n",
    "import numpy as np\n",
    "import matplotlib.pyplot as plt\n",
    "\n",
    "\n",
    "result1 =pd.concat([TRUE_Loss['Loss'],O_Loss['Loss']], ignore_index=True,axis=1)\n",
    "\n",
    "result12 =pd.concat([TRUE_Loss['Loss'],ETE3_Loss['Loss']], ignore_index=True,axis=1)\n",
    "#sns.lmplot(x=result1[0], y=result1[1], data=result1);\n",
    "\n",
    "ax=sns.regplot(x=result1[0], y=result1[1], data=result1,marker=\"D\", fit_reg=True, scatter_kws={'alpha':1}, ci=None, label='reconcILS')\n",
    "ax=sns.regplot(x=result12[0], y=result12[1], data=result12, marker=\"1\",fit_reg=True,scatter_kws={'alpha':1}, ci=None, label='DLCpar')\n",
    "\n",
    "\n",
    "\n",
    "plt.xlabel(\"True Loss\")\n",
    "plt.ylabel(\"Infered Loss\")\n",
    "# Show the plot\n",
    "ax.set_xlim(-0.2, 5.2)\n",
    "ax.set_ylim(-0.2, 5.2)\n",
    "\n",
    "plt.legend(bbox_to_anchor=(0.28,1))\n",
    "\n",
    "plt.savefig('regex_loss.png', dpi=500)\n",
    "\n",
    "plt.show()\n",
    "plt.clf()"
   ]
  },
  {
   "cell_type": "code",
   "execution_count": 413,
   "id": "5ce33453",
   "metadata": {},
   "outputs": [
    {
     "data": {
      "image/png": "[encoded data removed]",
      "text/plain": [
       "<Figure size 432x288 with 1 Axes>"
      ]
     },
     "metadata": {
      "needs_background": "light"
     },
     "output_type": "display_data"
    },
    {
     "data": {
      "text/plain": [
       "<Figure size 432x288 with 0 Axes>"
      ]
     },
     "metadata": {},
     "output_type": "display_data"
    }
   ],
   "source": [
    "import seaborn as sns\n",
    "import numpy as np\n",
    "import matplotlib.pyplot as plt\n",
    "\n",
    "\n",
    "result1 =pd.concat([TRUE_NNI['NNI'],O_NNI['NNI']], ignore_index=True,axis=1)\n",
    "\n",
    "result12 =pd.concat([TRUE_NNI['NNI'],ETE3_NNI['NNI']], ignore_index=True,axis=1)\n",
    "#sns.lmplot(x=result1[0], y=result1[1], data=result1);\n",
    "\n",
    "ax=sns.regplot(x=result1[0], y=result1[1], data=result1,marker=\"D\", fit_reg=True, scatter_kws={'alpha':1}, ci=None, label='reconcILS')\n",
    "ax=sns.regplot(x=result12[0], y=result12[1], data=result12, marker=\"1\",fit_reg=True,scatter_kws={'alpha':1}, ci=None, label='DLCpar')\n",
    "\n",
    "\n",
    "\n",
    "plt.xlabel(\"True NNI\")\n",
    "plt.ylabel(\"Infered NNI\")\n",
    "# Show the plot\n",
    "ax.set_xlim(-0.2, 5.2)\n",
    "ax.set_ylim(-0.2, 5.2)\n",
    "\n",
    "plt.legend(bbox_to_anchor=(0.28,1))\n",
    "\n",
    "plt.savefig('regex_NNI.png', dpi=500)\n",
    "\n",
    "plt.show()\n",
    "plt.clf()"
   ]
  },
  {
   "cell_type": "code",
   "execution_count": 414,
   "id": "f11c9c9b",
   "metadata": {},
   "outputs": [
    {
     "data": {
      "image/png": "[encoded data removed]",
      "text/plain": [
       "<Figure size 432x288 with 1 Axes>"
      ]
     },
     "metadata": {
      "needs_background": "light"
     },
     "output_type": "display_data"
    },
    {
     "data": {
      "image/png": "[encoded data removed]",
      "text/plain": [
       "<Figure size 432x288 with 1 Axes>"
      ]
     },
     "metadata": {
      "needs_background": "light"
     },
     "output_type": "display_data"
    }
   ],
   "source": [
    "import seaborn as sns\n",
    "\n",
    "\n",
    "\n",
    "result1 =pd.concat([TRUE_Loss,O_Loss.rename(columns={'b':'a'})], ignore_index=True,axis=1)\n",
    "result2 =pd.concat([TRUE_Loss,ETE3_Loss.rename(columns={'b':'a'})], ignore_index=True,axis=1)\n",
    "sns.scatterplot(data=result1,x=1,y=0)\n",
    "plt.xlabel(\"True Duplications\")\n",
    "plt.ylabel(\"Infered Duplications reconcILS\")\n",
    "# Show the plot\n",
    "plt.show()\n",
    "plt.clf()\n",
    "\n",
    "sns.scatterplot(data=result2,x=1,y=0)\n",
    "plt.xlabel(\"True Duplications\")\n",
    "plt.ylabel(\"Infered Duplications LCA\")\n",
    "plt.show()"
   ]
  },
  {
   "cell_type": "code",
   "execution_count": 415,
   "id": "dffb763a",
   "metadata": {},
   "outputs": [
    {
     "data": {
      "image/png": "[encoded data removed]",
      "text/plain": [
       "<Figure size 432x288 with 1 Axes>"
      ]
     },
     "metadata": {
      "needs_background": "light"
     },
     "output_type": "display_data"
    }
   ],
   "source": [
    "import seaborn as sns\n",
    "\n",
    "\n",
    "\n",
    "result =pd.concat([TRUE_Loss,O_Loss.rename(columns={'b':'a'})], ignore_index=True,axis=1)\n",
    "sns.scatterplot(data=result,x=1,y=0)\n",
    " \n",
    "# Show the plot\n",
    "plt.show()"
   ]
  },
  {
   "cell_type": "code",
   "execution_count": 422,
   "id": "c8e5c2cd",
   "metadata": {},
   "outputs": [],
   "source": [
    "from scipy.stats import spearmanr\n",
    "rho, p = spearmanr(pd.DataFrame(list(df[(df.Process == \"True Process\")]['Loss']),columns=['NNI']),pd.DataFrame(list(df[(df.Process == \"DLCpar\")]['Loss']),columns=['NNI']))"
   ]
  },
  {
   "cell_type": "code",
   "execution_count": 423,
   "id": "f1b3a738",
   "metadata": {},
   "outputs": [
    {
     "data": {
      "text/plain": [
       "0.11008923064064378"
      ]
     },
     "execution_count": 423,
     "metadata": {},
     "output_type": "execute_result"
    }
   ],
   "source": [
    "rho"
   ]
  },
  {
   "cell_type": "code",
   "execution_count": 424,
   "id": "8c59b23b",
   "metadata": {},
   "outputs": [],
   "source": [
    "from scipy.stats import spearmanr\n",
    "rho, p = spearmanr(pd.DataFrame(list(df[(df.Process == \"True Process\")]['Loss']),columns=['NNI']),pd.DataFrame(list(df[(df.Process == \"Our_algorithm\")]['Loss']),columns=['NNI']))"
   ]
  },
  {
   "cell_type": "code",
   "execution_count": 425,
   "id": "5405facf",
   "metadata": {},
   "outputs": [
    {
     "data": {
      "text/plain": [
       "0.664907561997481"
      ]
     },
     "execution_count": 425,
     "metadata": {},
     "output_type": "execute_result"
    }
   ],
   "source": [
    "rho"
   ]
  },
  {
   "cell_type": "code",
   "execution_count": 426,
   "id": "b833987e",
   "metadata": {},
   "outputs": [],
   "source": [
    "from scipy.stats import spearmanr\n",
    "rho, p = spearmanr(pd.DataFrame(list(df[(df.Process == \"True Process\")]['Duplication']),columns=['NNI']),pd.DataFrame(list(df[(df.Process == \"DLCpar\")]['Duplication']),columns=['NNI']))"
   ]
  },
  {
   "cell_type": "code",
   "execution_count": 427,
   "id": "1b33334f",
   "metadata": {},
   "outputs": [
    {
     "data": {
      "text/plain": [
       "0.8760157606349658"
      ]
     },
     "execution_count": 427,
     "metadata": {},
     "output_type": "execute_result"
    }
   ],
   "source": [
    "rho"
   ]
  },
  {
   "cell_type": "code",
   "execution_count": 428,
   "id": "c2d2b9a7",
   "metadata": {},
   "outputs": [],
   "source": [
    "from scipy.stats import spearmanr\n",
    "rho, p = spearmanr(pd.DataFrame(list(df[(df.Process == \"True Process\")]['Duplication']),columns=['NNI']),pd.DataFrame(list(df[(df.Process == \"Our_algorithm\")]['Duplication']),columns=['NNI']))"
   ]
  },
  {
   "cell_type": "code",
   "execution_count": 429,
   "id": "d4f578f7",
   "metadata": {},
   "outputs": [
    {
     "data": {
      "text/plain": [
       "0.8784062800285037"
      ]
     },
     "execution_count": 429,
     "metadata": {},
     "output_type": "execute_result"
    }
   ],
   "source": [
    "rho"
   ]
  },
  {
   "cell_type": "code",
   "execution_count": 430,
   "id": "4edf35dd",
   "metadata": {},
   "outputs": [],
   "source": [
    "from scipy.stats import spearmanr\n",
    "rho, p = spearmanr(pd.DataFrame(list(df[(df.Process == \"True Process\")]['NNI']),columns=['NNI']),pd.DataFrame(list(df[(df.Process == \"DLCpar\")]['NNI']),columns=['NNI']))"
   ]
  },
  {
   "cell_type": "code",
   "execution_count": 431,
   "id": "e29bff96",
   "metadata": {},
   "outputs": [
    {
     "data": {
      "text/plain": [
       "0.31991734803514504"
      ]
     },
     "execution_count": 431,
     "metadata": {},
     "output_type": "execute_result"
    }
   ],
   "source": [
    "rho"
   ]
  },
  {
   "cell_type": "code",
   "execution_count": 432,
   "id": "72f97d0b",
   "metadata": {},
   "outputs": [],
   "source": [
    "from scipy.stats import spearmanr\n",
    "rho, p = spearmanr(pd.DataFrame(list(df[(df.Process == \"True Process\")]['NNI']),columns=['NNI']),pd.DataFrame(list(df[(df.Process == \"Our_algorithm\")]['NNI']),columns=['NNI']))"
   ]
  },
  {
   "cell_type": "code",
   "execution_count": 433,
   "id": "ee6268e7",
   "metadata": {},
   "outputs": [
    {
     "data": {
      "text/plain": [
       "0.40379757421287094"
      ]
     },
     "execution_count": 433,
     "metadata": {},
     "output_type": "execute_result"
    }
   ],
   "source": [
    "rho"
   ]
  },
  {
   "cell_type": "code",
   "execution_count": null,
   "id": "382a2058",
   "metadata": {},
   "outputs": [],
   "source": []
  },
  {
   "cell_type": "code",
   "execution_count": null,
   "id": "25ebc1bc",
   "metadata": {},
   "outputs": [],
   "source": []
  },
  {
   "cell_type": "code",
   "execution_count": null,
   "id": "7f5d4a7a",
   "metadata": {},
   "outputs": [],
   "source": []
  }
 ],
 "metadata": {
  "kernelspec": {
   "display_name": "Python 3 (ipykernel)",
   "language": "python",
   "name": "python3"
  },
  "language_info": {
   "codemirror_mode": {
    "name": "ipython",
    "version": 3
   },
   "file_extension": ".py",
   "mimetype": "text/x-python",
   "name": "python",
   "nbconvert_exporter": "python",
   "pygments_lexer": "ipython3",
   "version": "3.9.12"
  }
 },
 "nbformat": 4,
 "nbformat_minor": 5
}
